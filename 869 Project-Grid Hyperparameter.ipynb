{
 "cells": [
  {
   "cell_type": "code",
   "execution_count": 108,
   "id": "06f1550b",
   "metadata": {},
   "outputs": [
    {
     "name": "stdout",
     "output_type": "stream",
     "text": [
      "Best parameters found:  {'classifier__criterion': 'gini', 'classifier__max_depth': 3, 'classifier__min_samples_leaf': 4, 'classifier__min_samples_split': 2}\n",
      "Validation Accuracy: 0.7694656488549618\n",
      "Validation Precision: 0.781055900621118\n",
      "Validation Recall: 0.9805068226120858\n",
      "Validation F1-score: 0.8694900605012965\n"
     ]
    }
   ],
   "source": [
    "import pandas as pd\n",
    "from sklearn.tree import DecisionTreeClassifier, plot_tree\n",
    "from sklearn.metrics import accuracy_score, precision_score, recall_score, f1_score, ConfusionMatrixDisplay\n",
    "import matplotlib.pyplot as plt\n",
    "from sklearn.preprocessing import OneHotEncoder, StandardScaler\n",
    "from sklearn.compose import ColumnTransformer\n",
    "from sklearn.model_selection import train_test_split\n",
    "from sklearn.tree import DecisionTreeClassifier\n",
    "from sklearn.model_selection import GridSearchCV, train_test_split\n",
    "from sklearn.preprocessing import OneHotEncoder, StandardScaler\n",
    "from sklearn.compose import ColumnTransformer\n",
    "from sklearn.pipeline import Pipeline\n",
    "\n",
    "train_data = pd.read_excel(\"merged_data_final_training.xlsx\")\n",
    "test_data = pd.read_excel(\"merged_data_final_testing.xlsx\")\n",
    "\n",
    "\n",
    "# Define categorical and numerical columns\n",
    "categorical_columns = ['bank_account_type', 'bank_name_clients', 'employment_status_clients', 'level_of_education_clients']\n",
    "numerical_columns = ['loannumber', 'loanamount', 'totaldue', 'termdays', 'average_loannumber', 'average_loanamount', 'on_time_rate', 'referred_or_not', 'age']\n",
    "\n",
    "# Fill missing values for categorical columns with 'Unknown'\n",
    "for col in categorical_columns:\n",
    "    train_data[col].fillna('Unknown', inplace=True)\n",
    "    test_data[col].fillna('Unknown', inplace=True)\n",
    "\n",
    "# Fill missing values for numerical columns with the median\n",
    "for col in numerical_columns:\n",
    "    train_data[col].fillna(train_data[col].median(), inplace=True)\n",
    "    test_data[col].fillna(test_data[col].median(), inplace=True)\n",
    "\n",
    "# Separate features and target variable in training data\n",
    "X_train = train_data.drop(columns=['customerid', 'good_bad_flag'])\n",
    "y_train = train_data['good_bad_flag'].map({'Good': 1, 'Bad': 0})\n",
    "\n",
    "# Separate features in test data (excluding 'customerid')\n",
    "X_test = test_data.drop(columns=['customerid'])\n",
    "\n",
    "# Define the preprocessing steps\n",
    "preprocessor = ColumnTransformer(\n",
    "    transformers=[\n",
    "        ('num', StandardScaler(), numerical_columns),\n",
    "        ('cat', OneHotEncoder(handle_unknown='ignore'), categorical_columns)\n",
    "    ])\n",
    "\n",
    "# Create a pipeline that first transforms the data then fits the model\n",
    "pipeline = Pipeline(steps=[\n",
    "    ('preprocessor', preprocessor),\n",
    "    ('classifier', DecisionTreeClassifier(random_state=42))\n",
    "])\n",
    "\n",
    "# Define the hyperparameter grid\n",
    "param_grid = {\n",
    "    'classifier__max_depth': [3, 5, 7, 10, None],\n",
    "    'classifier__min_samples_split': [2, 5, 10],\n",
    "    'classifier__min_samples_leaf': [1, 2, 4],\n",
    "    'classifier__criterion': ['gini', 'entropy']\n",
    "}\n",
    "\n",
    "# Initialize Grid Search with cross-validation\n",
    "grid_search = GridSearchCV(pipeline, param_grid, cv=5, scoring='f1', n_jobs=-1)\n",
    "\n",
    "# Fit the Grid Search to the training data\n",
    "grid_search.fit(X_train, y_train)\n",
    "\n",
    "# Best parameters from the Grid Search\n",
    "best_params = grid_search.best_params_\n",
    "print(\"Best parameters found: \", best_params)\n",
    "\n",
    "# Train the final model with the best parameters\n",
    "best_dt = grid_search.best_estimator_\n",
    "\n",
    "\n",
    "# If you have a validation set or labeled training set, you can evaluate the model:\n",
    "# Split the training data into training and validation sets for evaluation (optional)\n",
    "X_train_split, X_val_split, y_train_split, y_val_split = train_test_split(X_train, y_train, test_size=0.2, random_state=42)\n",
    "best_dt.fit(X_train_split, y_train_split)\n",
    "y_val_pred = best_dt.predict(X_val_split)\n",
    "\n",
    "# Evaluate the final model on validation set (optional)\n",
    "accuracy_dt = accuracy_score(y_val_split, y_val_pred)\n",
    "precision_dt = precision_score(y_val_split, y_val_pred)\n",
    "recall_dt = recall_score(y_val_split, y_val_pred)\n",
    "f1_dt = f1_score(y_val_split, y_val_pred)\n",
    "\n",
    "print(f\"Validation Accuracy: {accuracy_dt}\")\n",
    "print(f\"Validation Precision: {precision_dt}\")\n",
    "print(f\"Validation Recall: {recall_dt}\")\n",
    "print(f\"Validation F1-score: {f1_dt}\")\n"
   ]
  },
  {
   "cell_type": "code",
   "execution_count": 112,
   "id": "2504b1c4",
   "metadata": {},
   "outputs": [],
   "source": [
    "y_pred_dt = best_dt.predict(X_test)"
   ]
  },
  {
   "cell_type": "code",
   "execution_count": 114,
   "id": "d733bd6e",
   "metadata": {},
   "outputs": [],
   "source": [
    "# Save predictions to a CSV file\n",
    "predictions = pd.DataFrame({'customerid': test_data['customerid'], 'predicted_good_bad_flag': y_pred_dt})\n",
    "predictions['predicted_good_bad_flag'] = predictions['predicted_good_bad_flag'].map({1: 'Good', 0: 'Bad'})\n",
    "predictions.to_csv('predictions2.csv', index=False)"
   ]
  },
  {
   "cell_type": "code",
   "execution_count": null,
   "id": "3d107488",
   "metadata": {},
   "outputs": [],
   "source": []
  }
 ],
 "metadata": {
  "kernelspec": {
   "display_name": "Python 3 (ipykernel)",
   "language": "python",
   "name": "python3"
  },
  "language_info": {
   "codemirror_mode": {
    "name": "ipython",
    "version": 3
   },
   "file_extension": ".py",
   "mimetype": "text/x-python",
   "name": "python",
   "nbconvert_exporter": "python",
   "pygments_lexer": "ipython3",
   "version": "3.11.5"
  }
 },
 "nbformat": 4,
 "nbformat_minor": 5
}
