{
 "cells": [
  {
   "cell_type": "code",
   "execution_count": 2,
   "id": "80edde43",
   "metadata": {},
   "outputs": [],
   "source": [
    "import pandas as pd\n",
    "import numpy as np\n",
    "from datetime import date, timedelta\n",
    "\n",
    "import matplotlib.pyplot as plt\n",
    "import seaborn as sns\n",
    "from random import sample\n",
    "from sklearn.ensemble import RandomForestClassifier\n",
    "from sklearn.metrics import accuracy_score\n",
    "from sklearn.model_selection import train_test_split"
   ]
  },
  {
   "cell_type": "markdown",
   "id": "8d6d3526",
   "metadata": {},
   "source": [
    "# Load traning data sets"
   ]
  },
  {
   "cell_type": "code",
   "execution_count": 3,
   "id": "4ae32d9b",
   "metadata": {},
   "outputs": [],
   "source": [
    "train_demo = pd.read_csv('traindemographics.csv')\n",
    "train_prevloan = pd.read_csv('trainprevloans.csv')\n",
    "train_perf = pd.read_csv('trainperf.csv')\n",
    "\n",
    "test_demo = pd.read_csv('testdemographics.csv')\n",
    "test_prevloan = pd.read_csv('testprevloans.csv')\n",
    "test_perf = pd.read_csv('testperf.csv')\n"
   ]
  },
  {
   "cell_type": "code",
   "execution_count": 4,
   "id": "9da6400b",
   "metadata": {},
   "outputs": [
    {
     "name": "stdout",
     "output_type": "stream",
     "text": [
      "<class 'pandas.core.frame.DataFrame'>\n",
      "RangeIndex: 4346 entries, 0 to 4345\n",
      "Data columns (total 9 columns):\n",
      " #   Column                      Non-Null Count  Dtype  \n",
      "---  ------                      --------------  -----  \n",
      " 0   customerid                  4346 non-null   object \n",
      " 1   birthdate                   4346 non-null   object \n",
      " 2   bank_account_type           4346 non-null   object \n",
      " 3   longitude_gps               4346 non-null   float64\n",
      " 4   latitude_gps                4346 non-null   float64\n",
      " 5   bank_name_clients           4346 non-null   object \n",
      " 6   bank_branch_clients         51 non-null     object \n",
      " 7   employment_status_clients   3698 non-null   object \n",
      " 8   level_of_education_clients  587 non-null    object \n",
      "dtypes: float64(2), object(7)\n",
      "memory usage: 305.7+ KB\n",
      "None\n"
     ]
    },
    {
     "data": {
      "text/html": [
       "<div>\n",
       "<style scoped>\n",
       "    .dataframe tbody tr th:only-of-type {\n",
       "        vertical-align: middle;\n",
       "    }\n",
       "\n",
       "    .dataframe tbody tr th {\n",
       "        vertical-align: top;\n",
       "    }\n",
       "\n",
       "    .dataframe thead th {\n",
       "        text-align: right;\n",
       "    }\n",
       "</style>\n",
       "<table border=\"1\" class=\"dataframe\">\n",
       "  <thead>\n",
       "    <tr style=\"text-align: right;\">\n",
       "      <th></th>\n",
       "      <th>customerid</th>\n",
       "      <th>birthdate</th>\n",
       "      <th>bank_account_type</th>\n",
       "      <th>longitude_gps</th>\n",
       "      <th>latitude_gps</th>\n",
       "      <th>bank_name_clients</th>\n",
       "      <th>bank_branch_clients</th>\n",
       "      <th>employment_status_clients</th>\n",
       "      <th>level_of_education_clients</th>\n",
       "    </tr>\n",
       "  </thead>\n",
       "  <tbody>\n",
       "    <tr>\n",
       "      <th>0</th>\n",
       "      <td>8a858e135cb22031015cbafc76964ebd</td>\n",
       "      <td>1973-10-10 00:00:00.000000</td>\n",
       "      <td>Savings</td>\n",
       "      <td>3.319219</td>\n",
       "      <td>6.528604</td>\n",
       "      <td>GT Bank</td>\n",
       "      <td>NaN</td>\n",
       "      <td>NaN</td>\n",
       "      <td>NaN</td>\n",
       "    </tr>\n",
       "    <tr>\n",
       "      <th>1</th>\n",
       "      <td>8a858e275c7ea5ec015c82482d7c3996</td>\n",
       "      <td>1986-01-21 00:00:00.000000</td>\n",
       "      <td>Savings</td>\n",
       "      <td>3.325598</td>\n",
       "      <td>7.119403</td>\n",
       "      <td>Sterling Bank</td>\n",
       "      <td>NaN</td>\n",
       "      <td>Permanent</td>\n",
       "      <td>NaN</td>\n",
       "    </tr>\n",
       "    <tr>\n",
       "      <th>2</th>\n",
       "      <td>8a858e5b5bd99460015bdc95cd485634</td>\n",
       "      <td>1987-04-01 00:00:00.000000</td>\n",
       "      <td>Savings</td>\n",
       "      <td>5.746100</td>\n",
       "      <td>5.563174</td>\n",
       "      <td>Fidelity Bank</td>\n",
       "      <td>NaN</td>\n",
       "      <td>NaN</td>\n",
       "      <td>NaN</td>\n",
       "    </tr>\n",
       "    <tr>\n",
       "      <th>3</th>\n",
       "      <td>8a858efd5ca70688015cabd1f1e94b55</td>\n",
       "      <td>1991-07-19 00:00:00.000000</td>\n",
       "      <td>Savings</td>\n",
       "      <td>3.362850</td>\n",
       "      <td>6.642485</td>\n",
       "      <td>GT Bank</td>\n",
       "      <td>NaN</td>\n",
       "      <td>Permanent</td>\n",
       "      <td>NaN</td>\n",
       "    </tr>\n",
       "    <tr>\n",
       "      <th>4</th>\n",
       "      <td>8a858e785acd3412015acd48f4920d04</td>\n",
       "      <td>1982-11-22 00:00:00.000000</td>\n",
       "      <td>Savings</td>\n",
       "      <td>8.455332</td>\n",
       "      <td>11.971410</td>\n",
       "      <td>GT Bank</td>\n",
       "      <td>NaN</td>\n",
       "      <td>Permanent</td>\n",
       "      <td>NaN</td>\n",
       "    </tr>\n",
       "  </tbody>\n",
       "</table>\n",
       "</div>"
      ],
      "text/plain": [
       "                         customerid                   birthdate  \\\n",
       "0  8a858e135cb22031015cbafc76964ebd  1973-10-10 00:00:00.000000   \n",
       "1  8a858e275c7ea5ec015c82482d7c3996  1986-01-21 00:00:00.000000   \n",
       "2  8a858e5b5bd99460015bdc95cd485634  1987-04-01 00:00:00.000000   \n",
       "3  8a858efd5ca70688015cabd1f1e94b55  1991-07-19 00:00:00.000000   \n",
       "4  8a858e785acd3412015acd48f4920d04  1982-11-22 00:00:00.000000   \n",
       "\n",
       "  bank_account_type  longitude_gps  latitude_gps bank_name_clients  \\\n",
       "0           Savings       3.319219      6.528604           GT Bank   \n",
       "1           Savings       3.325598      7.119403     Sterling Bank   \n",
       "2           Savings       5.746100      5.563174     Fidelity Bank   \n",
       "3           Savings       3.362850      6.642485           GT Bank   \n",
       "4           Savings       8.455332     11.971410           GT Bank   \n",
       "\n",
       "  bank_branch_clients employment_status_clients level_of_education_clients  \n",
       "0                 NaN                       NaN                        NaN  \n",
       "1                 NaN                 Permanent                        NaN  \n",
       "2                 NaN                       NaN                        NaN  \n",
       "3                 NaN                 Permanent                        NaN  \n",
       "4                 NaN                 Permanent                        NaN  "
      ]
     },
     "execution_count": 4,
     "metadata": {},
     "output_type": "execute_result"
    }
   ],
   "source": [
    "print(train_demo.info())\n",
    "train_demo.head()"
   ]
  },
  {
   "cell_type": "code",
   "execution_count": 5,
   "id": "ebde041e",
   "metadata": {
    "scrolled": true
   },
   "outputs": [
    {
     "data": {
      "text/plain": [
       "0"
      ]
     },
     "execution_count": 5,
     "metadata": {},
     "output_type": "execute_result"
    }
   ],
   "source": [
    "train_demo.birthdate.isna().sum()"
   ]
  },
  {
   "cell_type": "code",
   "execution_count": 6,
   "id": "44cb7d45",
   "metadata": {},
   "outputs": [
    {
     "name": "stdout",
     "output_type": "stream",
     "text": [
      "level_of_education_clients\n",
      "Graduate         420\n",
      "Secondary         89\n",
      "Post-Graduate     68\n",
      "Primary           10\n",
      "Name: count, dtype: int64\n",
      "3759\n"
     ]
    }
   ],
   "source": [
    "print(train_demo.level_of_education_clients.value_counts())\n",
    "print(train_demo.level_of_education_clients.isna().sum())"
   ]
  },
  {
   "cell_type": "code",
   "execution_count": 7,
   "id": "21a9ccdb",
   "metadata": {},
   "outputs": [
    {
     "name": "stdout",
     "output_type": "stream",
     "text": [
      "employment_status_clients\n",
      "Permanent        3146\n",
      "Self-Employed     348\n",
      "Student           142\n",
      "Unemployed         57\n",
      "Retired             4\n",
      "Contract            1\n",
      "Name: count, dtype: int64\n",
      "648\n",
      "employment_status_clients\n",
      "Permanent        3146\n",
      "Unknown           648\n",
      "Self-Employed     348\n",
      "Student           142\n",
      "Unemployed         57\n",
      "Retired             4\n",
      "Contract            1\n",
      "Name: count, dtype: int64\n",
      "0\n"
     ]
    }
   ],
   "source": [
    "print(train_demo.employment_status_clients.value_counts())\n",
    "print(train_demo.employment_status_clients.isna().sum())\n",
    "\n",
    "train_demo['employment_status_clients'].replace(np.nan, \"Unknown\", inplace = True)\n",
    "test_demo['employment_status_clients'].replace(np.nan, \"Unknown\", inplace = True)\n",
    "\n",
    "print(train_demo.employment_status_clients.value_counts())\n",
    "print(train_demo.employment_status_clients.isna().sum())"
   ]
  },
  {
   "cell_type": "code",
   "execution_count": 8,
   "id": "b453b04e",
   "metadata": {},
   "outputs": [
    {
     "name": "stdout",
     "output_type": "stream",
     "text": [
      "bank_account_type\n",
      "Savings    3425\n",
      "Other       865\n",
      "Current      56\n",
      "Name: count, dtype: int64\n",
      "0\n"
     ]
    }
   ],
   "source": [
    "print(train_demo.bank_account_type.value_counts())\n",
    "print(train_demo.bank_account_type.isna().sum())"
   ]
  },
  {
   "cell_type": "code",
   "execution_count": 9,
   "id": "3e7abd58",
   "metadata": {},
   "outputs": [],
   "source": [
    "def demo_features(train_demo):\n",
    "    train_demo_cols = train_demo[['customerid']].copy(deep = True)\n",
    "    train_demo_cols['age'] =  date.today().year - pd.DatetimeIndex(train_demo['birthdate']).year\n",
    "    train_demo_cols = pd.concat([train_demo_cols, pd.get_dummies(train_demo['bank_account_type'], 'bank_account_type')], axis=1)\n",
    "    train_demo_cols = pd.concat([train_demo_cols, pd.get_dummies(train_demo['employment_status_clients'], 'employment_status_clients')], axis=1)\n",
    "\n",
    "    return train_demo_cols\n",
    "\n",
    "train_demo_cols = demo_features(train_demo)"
   ]
  },
  {
   "cell_type": "code",
   "execution_count": 10,
   "id": "16fbbb51",
   "metadata": {},
   "outputs": [
    {
     "name": "stdout",
     "output_type": "stream",
     "text": [
      "<class 'pandas.core.frame.DataFrame'>\n",
      "RangeIndex: 18183 entries, 0 to 18182\n",
      "Data columns (total 12 columns):\n",
      " #   Column           Non-Null Count  Dtype  \n",
      "---  ------           --------------  -----  \n",
      " 0   customerid       18183 non-null  object \n",
      " 1   systemloanid     18183 non-null  int64  \n",
      " 2   loannumber       18183 non-null  int64  \n",
      " 3   approveddate     18183 non-null  object \n",
      " 4   creationdate     18183 non-null  object \n",
      " 5   loanamount       18183 non-null  float64\n",
      " 6   totaldue         18183 non-null  float64\n",
      " 7   termdays         18183 non-null  int64  \n",
      " 8   closeddate       18183 non-null  object \n",
      " 9   referredby       1026 non-null   object \n",
      " 10  firstduedate     18183 non-null  object \n",
      " 11  firstrepaiddate  18183 non-null  object \n",
      "dtypes: float64(2), int64(3), object(7)\n",
      "memory usage: 1.7+ MB\n",
      "None\n"
     ]
    },
    {
     "data": {
      "text/html": [
       "<div>\n",
       "<style scoped>\n",
       "    .dataframe tbody tr th:only-of-type {\n",
       "        vertical-align: middle;\n",
       "    }\n",
       "\n",
       "    .dataframe tbody tr th {\n",
       "        vertical-align: top;\n",
       "    }\n",
       "\n",
       "    .dataframe thead th {\n",
       "        text-align: right;\n",
       "    }\n",
       "</style>\n",
       "<table border=\"1\" class=\"dataframe\">\n",
       "  <thead>\n",
       "    <tr style=\"text-align: right;\">\n",
       "      <th></th>\n",
       "      <th>customerid</th>\n",
       "      <th>systemloanid</th>\n",
       "      <th>loannumber</th>\n",
       "      <th>approveddate</th>\n",
       "      <th>creationdate</th>\n",
       "      <th>loanamount</th>\n",
       "      <th>totaldue</th>\n",
       "      <th>termdays</th>\n",
       "      <th>closeddate</th>\n",
       "      <th>referredby</th>\n",
       "      <th>firstduedate</th>\n",
       "      <th>firstrepaiddate</th>\n",
       "    </tr>\n",
       "  </thead>\n",
       "  <tbody>\n",
       "    <tr>\n",
       "      <th>0</th>\n",
       "      <td>8a2a81a74ce8c05d014cfb32a0da1049</td>\n",
       "      <td>301682320</td>\n",
       "      <td>2</td>\n",
       "      <td>2016-08-15 18:22:40.000000</td>\n",
       "      <td>2016-08-15 17:22:32.000000</td>\n",
       "      <td>10000.0</td>\n",
       "      <td>13000.0</td>\n",
       "      <td>30</td>\n",
       "      <td>2016-09-01 16:06:48.000000</td>\n",
       "      <td>NaN</td>\n",
       "      <td>2016-09-14 00:00:00.000000</td>\n",
       "      <td>2016-09-01 15:51:43.000000</td>\n",
       "    </tr>\n",
       "    <tr>\n",
       "      <th>1</th>\n",
       "      <td>8a2a81a74ce8c05d014cfb32a0da1049</td>\n",
       "      <td>301883808</td>\n",
       "      <td>9</td>\n",
       "      <td>2017-04-28 18:39:07.000000</td>\n",
       "      <td>2017-04-28 17:38:53.000000</td>\n",
       "      <td>10000.0</td>\n",
       "      <td>13000.0</td>\n",
       "      <td>30</td>\n",
       "      <td>2017-05-28 14:44:49.000000</td>\n",
       "      <td>NaN</td>\n",
       "      <td>2017-05-30 00:00:00.000000</td>\n",
       "      <td>2017-05-26 00:00:00.000000</td>\n",
       "    </tr>\n",
       "    <tr>\n",
       "      <th>2</th>\n",
       "      <td>8a2a81a74ce8c05d014cfb32a0da1049</td>\n",
       "      <td>301831714</td>\n",
       "      <td>8</td>\n",
       "      <td>2017-03-05 10:56:25.000000</td>\n",
       "      <td>2017-03-05 09:56:19.000000</td>\n",
       "      <td>20000.0</td>\n",
       "      <td>23800.0</td>\n",
       "      <td>30</td>\n",
       "      <td>2017-04-26 22:18:56.000000</td>\n",
       "      <td>NaN</td>\n",
       "      <td>2017-04-04 00:00:00.000000</td>\n",
       "      <td>2017-04-26 22:03:47.000000</td>\n",
       "    </tr>\n",
       "    <tr>\n",
       "      <th>3</th>\n",
       "      <td>8a8588f35438fe12015444567666018e</td>\n",
       "      <td>301861541</td>\n",
       "      <td>5</td>\n",
       "      <td>2017-04-09 18:25:55.000000</td>\n",
       "      <td>2017-04-09 17:25:42.000000</td>\n",
       "      <td>10000.0</td>\n",
       "      <td>11500.0</td>\n",
       "      <td>15</td>\n",
       "      <td>2017-04-24 01:35:52.000000</td>\n",
       "      <td>NaN</td>\n",
       "      <td>2017-04-24 00:00:00.000000</td>\n",
       "      <td>2017-04-24 00:48:43.000000</td>\n",
       "    </tr>\n",
       "    <tr>\n",
       "      <th>4</th>\n",
       "      <td>8a85890754145ace015429211b513e16</td>\n",
       "      <td>301941754</td>\n",
       "      <td>2</td>\n",
       "      <td>2017-06-17 09:29:57.000000</td>\n",
       "      <td>2017-06-17 08:29:50.000000</td>\n",
       "      <td>10000.0</td>\n",
       "      <td>11500.0</td>\n",
       "      <td>15</td>\n",
       "      <td>2017-07-14 21:18:43.000000</td>\n",
       "      <td>NaN</td>\n",
       "      <td>2017-07-03 00:00:00.000000</td>\n",
       "      <td>2017-07-14 21:08:35.000000</td>\n",
       "    </tr>\n",
       "  </tbody>\n",
       "</table>\n",
       "</div>"
      ],
      "text/plain": [
       "                         customerid  systemloanid  loannumber  \\\n",
       "0  8a2a81a74ce8c05d014cfb32a0da1049     301682320           2   \n",
       "1  8a2a81a74ce8c05d014cfb32a0da1049     301883808           9   \n",
       "2  8a2a81a74ce8c05d014cfb32a0da1049     301831714           8   \n",
       "3  8a8588f35438fe12015444567666018e     301861541           5   \n",
       "4  8a85890754145ace015429211b513e16     301941754           2   \n",
       "\n",
       "                 approveddate                creationdate  loanamount  \\\n",
       "0  2016-08-15 18:22:40.000000  2016-08-15 17:22:32.000000     10000.0   \n",
       "1  2017-04-28 18:39:07.000000  2017-04-28 17:38:53.000000     10000.0   \n",
       "2  2017-03-05 10:56:25.000000  2017-03-05 09:56:19.000000     20000.0   \n",
       "3  2017-04-09 18:25:55.000000  2017-04-09 17:25:42.000000     10000.0   \n",
       "4  2017-06-17 09:29:57.000000  2017-06-17 08:29:50.000000     10000.0   \n",
       "\n",
       "   totaldue  termdays                  closeddate referredby  \\\n",
       "0   13000.0        30  2016-09-01 16:06:48.000000        NaN   \n",
       "1   13000.0        30  2017-05-28 14:44:49.000000        NaN   \n",
       "2   23800.0        30  2017-04-26 22:18:56.000000        NaN   \n",
       "3   11500.0        15  2017-04-24 01:35:52.000000        NaN   \n",
       "4   11500.0        15  2017-07-14 21:18:43.000000        NaN   \n",
       "\n",
       "                 firstduedate             firstrepaiddate  \n",
       "0  2016-09-14 00:00:00.000000  2016-09-01 15:51:43.000000  \n",
       "1  2017-05-30 00:00:00.000000  2017-05-26 00:00:00.000000  \n",
       "2  2017-04-04 00:00:00.000000  2017-04-26 22:03:47.000000  \n",
       "3  2017-04-24 00:00:00.000000  2017-04-24 00:48:43.000000  \n",
       "4  2017-07-03 00:00:00.000000  2017-07-14 21:08:35.000000  "
      ]
     },
     "execution_count": 10,
     "metadata": {},
     "output_type": "execute_result"
    }
   ],
   "source": [
    "print(train_prevloan.info())\n",
    "train_prevloan.head()\n"
   ]
  },
  {
   "cell_type": "code",
   "execution_count": 11,
   "id": "e46ea2e0",
   "metadata": {},
   "outputs": [
    {
     "data": {
      "text/plain": [
       "customerid             0\n",
       "systemloanid           0\n",
       "loannumber             0\n",
       "approveddate           0\n",
       "creationdate           0\n",
       "loanamount             0\n",
       "totaldue               0\n",
       "termdays               0\n",
       "closeddate             0\n",
       "referredby         17157\n",
       "firstduedate           0\n",
       "firstrepaiddate        0\n",
       "dtype: int64"
      ]
     },
     "execution_count": 11,
     "metadata": {},
     "output_type": "execute_result"
    }
   ],
   "source": [
    "train_prevloan.isin([np.nan]).sum()"
   ]
  },
  {
   "cell_type": "code",
   "execution_count": 12,
   "id": "e2064925",
   "metadata": {},
   "outputs": [
    {
     "data": {
      "text/html": [
       "<div>\n",
       "<style scoped>\n",
       "    .dataframe tbody tr th:only-of-type {\n",
       "        vertical-align: middle;\n",
       "    }\n",
       "\n",
       "    .dataframe tbody tr th {\n",
       "        vertical-align: top;\n",
       "    }\n",
       "\n",
       "    .dataframe thead th {\n",
       "        text-align: right;\n",
       "    }\n",
       "</style>\n",
       "<table border=\"1\" class=\"dataframe\">\n",
       "  <thead>\n",
       "    <tr style=\"text-align: right;\">\n",
       "      <th></th>\n",
       "      <th>customerid</th>\n",
       "      <th>avg_loanamount</th>\n",
       "      <th>total_missed_first_due_date</th>\n",
       "      <th>total_closed_loan_late</th>\n",
       "      <th>average_termdays</th>\n",
       "    </tr>\n",
       "  </thead>\n",
       "  <tbody>\n",
       "    <tr>\n",
       "      <th>0</th>\n",
       "      <td>8a1088a0484472eb01484669e3ce4e0b</td>\n",
       "      <td>10000.000000</td>\n",
       "      <td>1</td>\n",
       "      <td>1</td>\n",
       "      <td>15.000000</td>\n",
       "    </tr>\n",
       "    <tr>\n",
       "      <th>1</th>\n",
       "      <td>8a1a1e7e4f707f8b014f797718316cad</td>\n",
       "      <td>17500.000000</td>\n",
       "      <td>1</td>\n",
       "      <td>1</td>\n",
       "      <td>37.500000</td>\n",
       "    </tr>\n",
       "    <tr>\n",
       "      <th>2</th>\n",
       "      <td>8a1a32fc49b632520149c3b8fdf85139</td>\n",
       "      <td>12857.142857</td>\n",
       "      <td>1</td>\n",
       "      <td>1</td>\n",
       "      <td>19.285714</td>\n",
       "    </tr>\n",
       "    <tr>\n",
       "      <th>3</th>\n",
       "      <td>8a1eb5ba49a682300149c3c068b806c7</td>\n",
       "      <td>16250.000000</td>\n",
       "      <td>1</td>\n",
       "      <td>0</td>\n",
       "      <td>33.750000</td>\n",
       "    </tr>\n",
       "    <tr>\n",
       "      <th>4</th>\n",
       "      <td>8a1edbf14734127f0147356fdb1b1eb2</td>\n",
       "      <td>10000.000000</td>\n",
       "      <td>0</td>\n",
       "      <td>0</td>\n",
       "      <td>22.500000</td>\n",
       "    </tr>\n",
       "    <tr>\n",
       "      <th>...</th>\n",
       "      <td>...</td>\n",
       "      <td>...</td>\n",
       "      <td>...</td>\n",
       "      <td>...</td>\n",
       "      <td>...</td>\n",
       "    </tr>\n",
       "    <tr>\n",
       "      <th>4354</th>\n",
       "      <td>8a858fff5a28d297015a33bc2e845305</td>\n",
       "      <td>16666.666667</td>\n",
       "      <td>0</td>\n",
       "      <td>0</td>\n",
       "      <td>35.000000</td>\n",
       "    </tr>\n",
       "    <tr>\n",
       "      <th>4355</th>\n",
       "      <td>8a858fff5a36fe68015a37f8550a02a2</td>\n",
       "      <td>15000.000000</td>\n",
       "      <td>0</td>\n",
       "      <td>1</td>\n",
       "      <td>27.500000</td>\n",
       "    </tr>\n",
       "    <tr>\n",
       "      <th>4356</th>\n",
       "      <td>8a858fff5a36fe68015a3ac5851618ab</td>\n",
       "      <td>10000.000000</td>\n",
       "      <td>0</td>\n",
       "      <td>0</td>\n",
       "      <td>30.000000</td>\n",
       "    </tr>\n",
       "    <tr>\n",
       "      <th>4357</th>\n",
       "      <td>8a858fff5a36fe68015a3b8dcb8a3843</td>\n",
       "      <td>13333.333333</td>\n",
       "      <td>0</td>\n",
       "      <td>0</td>\n",
       "      <td>22.500000</td>\n",
       "    </tr>\n",
       "    <tr>\n",
       "      <th>4358</th>\n",
       "      <td>8a858fff5c79144c015c7bdbfc086ce1</td>\n",
       "      <td>10000.000000</td>\n",
       "      <td>0</td>\n",
       "      <td>0</td>\n",
       "      <td>30.000000</td>\n",
       "    </tr>\n",
       "  </tbody>\n",
       "</table>\n",
       "<p>4359 rows × 5 columns</p>\n",
       "</div>"
      ],
      "text/plain": [
       "                            customerid  avg_loanamount  \\\n",
       "0     8a1088a0484472eb01484669e3ce4e0b    10000.000000   \n",
       "1     8a1a1e7e4f707f8b014f797718316cad    17500.000000   \n",
       "2     8a1a32fc49b632520149c3b8fdf85139    12857.142857   \n",
       "3     8a1eb5ba49a682300149c3c068b806c7    16250.000000   \n",
       "4     8a1edbf14734127f0147356fdb1b1eb2    10000.000000   \n",
       "...                                ...             ...   \n",
       "4354  8a858fff5a28d297015a33bc2e845305    16666.666667   \n",
       "4355  8a858fff5a36fe68015a37f8550a02a2    15000.000000   \n",
       "4356  8a858fff5a36fe68015a3ac5851618ab    10000.000000   \n",
       "4357  8a858fff5a36fe68015a3b8dcb8a3843    13333.333333   \n",
       "4358  8a858fff5c79144c015c7bdbfc086ce1    10000.000000   \n",
       "\n",
       "      total_missed_first_due_date  total_closed_loan_late  average_termdays  \n",
       "0                               1                       1         15.000000  \n",
       "1                               1                       1         37.500000  \n",
       "2                               1                       1         19.285714  \n",
       "3                               1                       0         33.750000  \n",
       "4                               0                       0         22.500000  \n",
       "...                           ...                     ...               ...  \n",
       "4354                            0                       0         35.000000  \n",
       "4355                            0                       1         27.500000  \n",
       "4356                            0                       0         30.000000  \n",
       "4357                            0                       0         22.500000  \n",
       "4358                            0                       0         30.000000  \n",
       "\n",
       "[4359 rows x 5 columns]"
      ]
     },
     "execution_count": 12,
     "metadata": {},
     "output_type": "execute_result"
    }
   ],
   "source": [
    "def prevloan_features(train_prevloan):\n",
    "    train_prevloan_cols = train_prevloan.copy(deep = True)\n",
    "\n",
    "    train_prevloan_cols['firstrepaiddate'] = pd.to_datetime(train_prevloan_cols['firstrepaiddate']) \n",
    "    train_prevloan_cols['firstduedate'] = pd.to_datetime(train_prevloan_cols['firstduedate'])\n",
    "    train_prevloan_cols['missed_first_due_date'] = train_prevloan_cols['firstrepaiddate'].dt.date > train_prevloan_cols['firstduedate'].dt.date\n",
    "\n",
    "    train_prevloan_cols['closeddate'] = pd.to_datetime(train_prevloan_cols['closeddate'])\n",
    "    train_prevloan_cols['approveddate'] = pd.to_datetime(train_prevloan_cols['approveddate'])\n",
    "    train_prevloan_cols['termdays_td'] = pd.to_timedelta(train_prevloan_cols['termdays'], unit= 'days')\n",
    "    train_prevloan_cols['finalduedate'] = train_prevloan_cols['approveddate'] + train_prevloan_cols['termdays_td']\n",
    "    train_prevloan_cols['closed_loan_late'] = train_prevloan_cols['closeddate'].dt.date > train_prevloan_cols['finalduedate'].dt.date\n",
    "\n",
    "    train_prevloan_cols_grp = train_prevloan_cols[['customerid','loanamount', 'missed_first_due_date', 'closed_loan_late', 'termdays']]\n",
    "\n",
    "    train_prevloan_cols_grp_cols = train_prevloan_cols_grp.groupby('customerid', as_index = False).agg({'loanamount':'mean', 'missed_first_due_date': 'sum', 'closed_loan_late':'sum', 'termdays':'mean'})\n",
    "    train_prevloan_cols_grp_cols.rename( columns = {'loanamount': 'avg_loanamount', 'missed_first_due_date': 'total_missed_first_due_date', 'closed_loan_late':'total_closed_loan_late', 'termdays':'average_termdays'}   , inplace = True)\n",
    "\n",
    "    return train_prevloan_cols_grp_cols\n",
    "\n",
    "train_prevloan_cols_grp_cols = prevloan_features(train_prevloan)\n",
    "train_prevloan_cols_grp_cols"
   ]
  },
  {
   "cell_type": "code",
   "execution_count": null,
   "id": "b5139c51",
   "metadata": {},
   "outputs": [],
   "source": []
  },
  {
   "cell_type": "code",
   "execution_count": 13,
   "id": "b65b38ef",
   "metadata": {},
   "outputs": [
    {
     "name": "stdout",
     "output_type": "stream",
     "text": [
      "<class 'pandas.core.frame.DataFrame'>\n",
      "RangeIndex: 4368 entries, 0 to 4367\n",
      "Data columns (total 10 columns):\n",
      " #   Column         Non-Null Count  Dtype  \n",
      "---  ------         --------------  -----  \n",
      " 0   customerid     4368 non-null   object \n",
      " 1   systemloanid   4368 non-null   int64  \n",
      " 2   loannumber     4368 non-null   int64  \n",
      " 3   approveddate   4368 non-null   object \n",
      " 4   creationdate   4368 non-null   object \n",
      " 5   loanamount     4368 non-null   float64\n",
      " 6   totaldue       4368 non-null   float64\n",
      " 7   termdays       4368 non-null   int64  \n",
      " 8   referredby     587 non-null    object \n",
      " 9   good_bad_flag  4368 non-null   object \n",
      "dtypes: float64(2), int64(3), object(5)\n",
      "memory usage: 341.4+ KB\n",
      "None\n"
     ]
    },
    {
     "data": {
      "text/html": [
       "<div>\n",
       "<style scoped>\n",
       "    .dataframe tbody tr th:only-of-type {\n",
       "        vertical-align: middle;\n",
       "    }\n",
       "\n",
       "    .dataframe tbody tr th {\n",
       "        vertical-align: top;\n",
       "    }\n",
       "\n",
       "    .dataframe thead th {\n",
       "        text-align: right;\n",
       "    }\n",
       "</style>\n",
       "<table border=\"1\" class=\"dataframe\">\n",
       "  <thead>\n",
       "    <tr style=\"text-align: right;\">\n",
       "      <th></th>\n",
       "      <th>customerid</th>\n",
       "      <th>systemloanid</th>\n",
       "      <th>loannumber</th>\n",
       "      <th>approveddate</th>\n",
       "      <th>creationdate</th>\n",
       "      <th>loanamount</th>\n",
       "      <th>totaldue</th>\n",
       "      <th>termdays</th>\n",
       "      <th>referredby</th>\n",
       "      <th>good_bad_flag</th>\n",
       "    </tr>\n",
       "  </thead>\n",
       "  <tbody>\n",
       "    <tr>\n",
       "      <th>0</th>\n",
       "      <td>8a2a81a74ce8c05d014cfb32a0da1049</td>\n",
       "      <td>301994762</td>\n",
       "      <td>12</td>\n",
       "      <td>2017-07-25 08:22:56.000000</td>\n",
       "      <td>2017-07-25 07:22:47.000000</td>\n",
       "      <td>30000.0</td>\n",
       "      <td>34500.0</td>\n",
       "      <td>30</td>\n",
       "      <td>NaN</td>\n",
       "      <td>Good</td>\n",
       "    </tr>\n",
       "    <tr>\n",
       "      <th>1</th>\n",
       "      <td>8a85886e54beabf90154c0a29ae757c0</td>\n",
       "      <td>301965204</td>\n",
       "      <td>2</td>\n",
       "      <td>2017-07-05 17:04:41.000000</td>\n",
       "      <td>2017-07-05 16:04:18.000000</td>\n",
       "      <td>15000.0</td>\n",
       "      <td>17250.0</td>\n",
       "      <td>30</td>\n",
       "      <td>NaN</td>\n",
       "      <td>Good</td>\n",
       "    </tr>\n",
       "    <tr>\n",
       "      <th>2</th>\n",
       "      <td>8a8588f35438fe12015444567666018e</td>\n",
       "      <td>301966580</td>\n",
       "      <td>7</td>\n",
       "      <td>2017-07-06 14:52:57.000000</td>\n",
       "      <td>2017-07-06 13:52:51.000000</td>\n",
       "      <td>20000.0</td>\n",
       "      <td>22250.0</td>\n",
       "      <td>15</td>\n",
       "      <td>NaN</td>\n",
       "      <td>Good</td>\n",
       "    </tr>\n",
       "    <tr>\n",
       "      <th>3</th>\n",
       "      <td>8a85890754145ace015429211b513e16</td>\n",
       "      <td>301999343</td>\n",
       "      <td>3</td>\n",
       "      <td>2017-07-27 19:00:41.000000</td>\n",
       "      <td>2017-07-27 18:00:35.000000</td>\n",
       "      <td>10000.0</td>\n",
       "      <td>11500.0</td>\n",
       "      <td>15</td>\n",
       "      <td>NaN</td>\n",
       "      <td>Good</td>\n",
       "    </tr>\n",
       "    <tr>\n",
       "      <th>4</th>\n",
       "      <td>8a858970548359cc0154883481981866</td>\n",
       "      <td>301962360</td>\n",
       "      <td>9</td>\n",
       "      <td>2017-07-03 23:42:45.000000</td>\n",
       "      <td>2017-07-03 22:42:39.000000</td>\n",
       "      <td>40000.0</td>\n",
       "      <td>44000.0</td>\n",
       "      <td>30</td>\n",
       "      <td>NaN</td>\n",
       "      <td>Good</td>\n",
       "    </tr>\n",
       "  </tbody>\n",
       "</table>\n",
       "</div>"
      ],
      "text/plain": [
       "                         customerid  systemloanid  loannumber  \\\n",
       "0  8a2a81a74ce8c05d014cfb32a0da1049     301994762          12   \n",
       "1  8a85886e54beabf90154c0a29ae757c0     301965204           2   \n",
       "2  8a8588f35438fe12015444567666018e     301966580           7   \n",
       "3  8a85890754145ace015429211b513e16     301999343           3   \n",
       "4  8a858970548359cc0154883481981866     301962360           9   \n",
       "\n",
       "                 approveddate                creationdate  loanamount  \\\n",
       "0  2017-07-25 08:22:56.000000  2017-07-25 07:22:47.000000     30000.0   \n",
       "1  2017-07-05 17:04:41.000000  2017-07-05 16:04:18.000000     15000.0   \n",
       "2  2017-07-06 14:52:57.000000  2017-07-06 13:52:51.000000     20000.0   \n",
       "3  2017-07-27 19:00:41.000000  2017-07-27 18:00:35.000000     10000.0   \n",
       "4  2017-07-03 23:42:45.000000  2017-07-03 22:42:39.000000     40000.0   \n",
       "\n",
       "   totaldue  termdays referredby good_bad_flag  \n",
       "0   34500.0        30        NaN          Good  \n",
       "1   17250.0        30        NaN          Good  \n",
       "2   22250.0        15        NaN          Good  \n",
       "3   11500.0        15        NaN          Good  \n",
       "4   44000.0        30        NaN          Good  "
      ]
     },
     "execution_count": 13,
     "metadata": {},
     "output_type": "execute_result"
    }
   ],
   "source": [
    "print(train_perf.info())\n",
    "train_perf.head()"
   ]
  },
  {
   "cell_type": "code",
   "execution_count": null,
   "id": "1dcb1f74",
   "metadata": {},
   "outputs": [],
   "source": []
  },
  {
   "cell_type": "code",
   "execution_count": 14,
   "id": "2ff49417",
   "metadata": {},
   "outputs": [
    {
     "data": {
      "text/plain": [
       "customerid          0\n",
       "systemloanid        0\n",
       "loannumber          0\n",
       "approveddate        0\n",
       "creationdate        0\n",
       "loanamount          0\n",
       "totaldue            0\n",
       "termdays            0\n",
       "referredby       3781\n",
       "good_bad_flag       0\n",
       "dtype: int64"
      ]
     },
     "execution_count": 14,
     "metadata": {},
     "output_type": "execute_result"
    }
   ],
   "source": [
    "train_perf.isin([np.nan]).sum()"
   ]
  },
  {
   "cell_type": "code",
   "execution_count": 15,
   "id": "eaeb2265",
   "metadata": {},
   "outputs": [
    {
     "data": {
      "text/plain": [
       "good_bad_ind\n",
       "1    3416\n",
       "0     952\n",
       "Name: count, dtype: int64"
      ]
     },
     "execution_count": 15,
     "metadata": {},
     "output_type": "execute_result"
    }
   ],
   "source": [
    "train_perf['good_bad_ind'] = np.where(train_perf['good_bad_flag']==\"Good\", 1, 0)\n",
    "train_perf['good_bad_ind'].value_counts()"
   ]
  },
  {
   "cell_type": "code",
   "execution_count": 16,
   "id": "ea242569",
   "metadata": {},
   "outputs": [],
   "source": [
    "def perf_features(train_perf, train = True):\n",
    "    if train:\n",
    "        train_perf['good_bad_ind'] = np.where(train_perf['good_bad_flag']==\"Good\", 1, 0)\n",
    "        train_perf_cols = train_perf[['customerid', 'loannumber', 'loanamount', 'termdays', 'good_bad_ind']]\n",
    "    else:\n",
    "        train_perf_cols = train_perf[['customerid', 'loannumber', 'loanamount', 'termdays']]\n",
    "    return train_perf_cols\n",
    "\n",
    "\n",
    "train_perf_cols = perf_features(train_perf, train = True)"
   ]
  },
  {
   "cell_type": "code",
   "execution_count": null,
   "id": "164560fc",
   "metadata": {},
   "outputs": [],
   "source": []
  },
  {
   "cell_type": "code",
   "execution_count": 17,
   "id": "34616a4d",
   "metadata": {},
   "outputs": [
    {
     "data": {
      "text/html": [
       "<div>\n",
       "<style scoped>\n",
       "    .dataframe tbody tr th:only-of-type {\n",
       "        vertical-align: middle;\n",
       "    }\n",
       "\n",
       "    .dataframe tbody tr th {\n",
       "        vertical-align: top;\n",
       "    }\n",
       "\n",
       "    .dataframe thead th {\n",
       "        text-align: right;\n",
       "    }\n",
       "</style>\n",
       "<table border=\"1\" class=\"dataframe\">\n",
       "  <thead>\n",
       "    <tr style=\"text-align: right;\">\n",
       "      <th></th>\n",
       "      <th>customerid</th>\n",
       "      <th>loannumber</th>\n",
       "      <th>loanamount</th>\n",
       "      <th>termdays</th>\n",
       "      <th>good_bad_ind</th>\n",
       "      <th>age</th>\n",
       "      <th>bank_account_type_Current</th>\n",
       "      <th>bank_account_type_Other</th>\n",
       "      <th>bank_account_type_Savings</th>\n",
       "      <th>employment_status_clients_Contract</th>\n",
       "      <th>employment_status_clients_Permanent</th>\n",
       "      <th>employment_status_clients_Retired</th>\n",
       "      <th>employment_status_clients_Self-Employed</th>\n",
       "      <th>employment_status_clients_Student</th>\n",
       "      <th>employment_status_clients_Unemployed</th>\n",
       "      <th>employment_status_clients_Unknown</th>\n",
       "      <th>avg_loanamount</th>\n",
       "      <th>total_missed_first_due_date</th>\n",
       "      <th>total_closed_loan_late</th>\n",
       "      <th>average_termdays</th>\n",
       "    </tr>\n",
       "  </thead>\n",
       "  <tbody>\n",
       "    <tr>\n",
       "      <th>0</th>\n",
       "      <td>8a2a81a74ce8c05d014cfb32a0da1049</td>\n",
       "      <td>12</td>\n",
       "      <td>30000.0</td>\n",
       "      <td>30</td>\n",
       "      <td>1</td>\n",
       "      <td>52</td>\n",
       "      <td>False</td>\n",
       "      <td>True</td>\n",
       "      <td>False</td>\n",
       "      <td>False</td>\n",
       "      <td>True</td>\n",
       "      <td>False</td>\n",
       "      <td>False</td>\n",
       "      <td>False</td>\n",
       "      <td>False</td>\n",
       "      <td>False</td>\n",
       "      <td>18181.818182</td>\n",
       "      <td>3</td>\n",
       "      <td>4</td>\n",
       "      <td>30.0</td>\n",
       "    </tr>\n",
       "    <tr>\n",
       "      <th>1</th>\n",
       "      <td>8a8588f35438fe12015444567666018e</td>\n",
       "      <td>7</td>\n",
       "      <td>20000.0</td>\n",
       "      <td>15</td>\n",
       "      <td>1</td>\n",
       "      <td>40</td>\n",
       "      <td>False</td>\n",
       "      <td>True</td>\n",
       "      <td>False</td>\n",
       "      <td>False</td>\n",
       "      <td>True</td>\n",
       "      <td>False</td>\n",
       "      <td>False</td>\n",
       "      <td>False</td>\n",
       "      <td>False</td>\n",
       "      <td>False</td>\n",
       "      <td>10000.000000</td>\n",
       "      <td>1</td>\n",
       "      <td>1</td>\n",
       "      <td>17.5</td>\n",
       "    </tr>\n",
       "    <tr>\n",
       "      <th>2</th>\n",
       "      <td>8a85890754145ace015429211b513e16</td>\n",
       "      <td>3</td>\n",
       "      <td>10000.0</td>\n",
       "      <td>15</td>\n",
       "      <td>1</td>\n",
       "      <td>47</td>\n",
       "      <td>False</td>\n",
       "      <td>False</td>\n",
       "      <td>True</td>\n",
       "      <td>False</td>\n",
       "      <td>True</td>\n",
       "      <td>False</td>\n",
       "      <td>False</td>\n",
       "      <td>False</td>\n",
       "      <td>False</td>\n",
       "      <td>False</td>\n",
       "      <td>10000.000000</td>\n",
       "      <td>2</td>\n",
       "      <td>2</td>\n",
       "      <td>22.5</td>\n",
       "    </tr>\n",
       "    <tr>\n",
       "      <th>3</th>\n",
       "      <td>8a858970548359cc0154883481981866</td>\n",
       "      <td>9</td>\n",
       "      <td>40000.0</td>\n",
       "      <td>30</td>\n",
       "      <td>1</td>\n",
       "      <td>38</td>\n",
       "      <td>False</td>\n",
       "      <td>True</td>\n",
       "      <td>False</td>\n",
       "      <td>False</td>\n",
       "      <td>True</td>\n",
       "      <td>False</td>\n",
       "      <td>False</td>\n",
       "      <td>False</td>\n",
       "      <td>False</td>\n",
       "      <td>False</td>\n",
       "      <td>18750.000000</td>\n",
       "      <td>0</td>\n",
       "      <td>0</td>\n",
       "      <td>37.5</td>\n",
       "    </tr>\n",
       "    <tr>\n",
       "      <th>4</th>\n",
       "      <td>8a858e095c59b91b015c5e5cea3719bc</td>\n",
       "      <td>3</td>\n",
       "      <td>10000.0</td>\n",
       "      <td>30</td>\n",
       "      <td>1</td>\n",
       "      <td>35</td>\n",
       "      <td>False</td>\n",
       "      <td>False</td>\n",
       "      <td>True</td>\n",
       "      <td>False</td>\n",
       "      <td>True</td>\n",
       "      <td>False</td>\n",
       "      <td>False</td>\n",
       "      <td>False</td>\n",
       "      <td>False</td>\n",
       "      <td>False</td>\n",
       "      <td>10000.000000</td>\n",
       "      <td>0</td>\n",
       "      <td>0</td>\n",
       "      <td>22.5</td>\n",
       "    </tr>\n",
       "    <tr>\n",
       "      <th>...</th>\n",
       "      <td>...</td>\n",
       "      <td>...</td>\n",
       "      <td>...</td>\n",
       "      <td>...</td>\n",
       "      <td>...</td>\n",
       "      <td>...</td>\n",
       "      <td>...</td>\n",
       "      <td>...</td>\n",
       "      <td>...</td>\n",
       "      <td>...</td>\n",
       "      <td>...</td>\n",
       "      <td>...</td>\n",
       "      <td>...</td>\n",
       "      <td>...</td>\n",
       "      <td>...</td>\n",
       "      <td>...</td>\n",
       "      <td>...</td>\n",
       "      <td>...</td>\n",
       "      <td>...</td>\n",
       "      <td>...</td>\n",
       "    </tr>\n",
       "    <tr>\n",
       "      <th>3267</th>\n",
       "      <td>8a858e395cb1d4d9015cb2115b1d13d7</td>\n",
       "      <td>2</td>\n",
       "      <td>10000.0</td>\n",
       "      <td>15</td>\n",
       "      <td>0</td>\n",
       "      <td>45</td>\n",
       "      <td>False</td>\n",
       "      <td>False</td>\n",
       "      <td>True</td>\n",
       "      <td>False</td>\n",
       "      <td>False</td>\n",
       "      <td>False</td>\n",
       "      <td>False</td>\n",
       "      <td>False</td>\n",
       "      <td>False</td>\n",
       "      <td>True</td>\n",
       "      <td>10000.000000</td>\n",
       "      <td>0</td>\n",
       "      <td>1</td>\n",
       "      <td>15.0</td>\n",
       "    </tr>\n",
       "    <tr>\n",
       "      <th>3268</th>\n",
       "      <td>8a858ee85cf400f5015cf44ab1c42d5c</td>\n",
       "      <td>2</td>\n",
       "      <td>10000.0</td>\n",
       "      <td>30</td>\n",
       "      <td>0</td>\n",
       "      <td>35</td>\n",
       "      <td>False</td>\n",
       "      <td>False</td>\n",
       "      <td>True</td>\n",
       "      <td>False</td>\n",
       "      <td>True</td>\n",
       "      <td>False</td>\n",
       "      <td>False</td>\n",
       "      <td>False</td>\n",
       "      <td>False</td>\n",
       "      <td>False</td>\n",
       "      <td>10000.000000</td>\n",
       "      <td>0</td>\n",
       "      <td>0</td>\n",
       "      <td>30.0</td>\n",
       "    </tr>\n",
       "    <tr>\n",
       "      <th>3269</th>\n",
       "      <td>8a858f365b2547f3015b284597147c94</td>\n",
       "      <td>3</td>\n",
       "      <td>10000.0</td>\n",
       "      <td>15</td>\n",
       "      <td>0</td>\n",
       "      <td>35</td>\n",
       "      <td>False</td>\n",
       "      <td>False</td>\n",
       "      <td>True</td>\n",
       "      <td>False</td>\n",
       "      <td>True</td>\n",
       "      <td>False</td>\n",
       "      <td>False</td>\n",
       "      <td>False</td>\n",
       "      <td>False</td>\n",
       "      <td>False</td>\n",
       "      <td>10000.000000</td>\n",
       "      <td>1</td>\n",
       "      <td>1</td>\n",
       "      <td>15.0</td>\n",
       "    </tr>\n",
       "    <tr>\n",
       "      <th>3270</th>\n",
       "      <td>8a858f935ca09667015ca0ee3bc63f51</td>\n",
       "      <td>2</td>\n",
       "      <td>10000.0</td>\n",
       "      <td>30</td>\n",
       "      <td>0</td>\n",
       "      <td>34</td>\n",
       "      <td>False</td>\n",
       "      <td>False</td>\n",
       "      <td>True</td>\n",
       "      <td>False</td>\n",
       "      <td>True</td>\n",
       "      <td>False</td>\n",
       "      <td>False</td>\n",
       "      <td>False</td>\n",
       "      <td>False</td>\n",
       "      <td>False</td>\n",
       "      <td>10000.000000</td>\n",
       "      <td>0</td>\n",
       "      <td>0</td>\n",
       "      <td>30.0</td>\n",
       "    </tr>\n",
       "    <tr>\n",
       "      <th>3271</th>\n",
       "      <td>8a858fd458639fcc015868eb14b542ad</td>\n",
       "      <td>8</td>\n",
       "      <td>30000.0</td>\n",
       "      <td>30</td>\n",
       "      <td>0</td>\n",
       "      <td>36</td>\n",
       "      <td>False</td>\n",
       "      <td>False</td>\n",
       "      <td>True</td>\n",
       "      <td>False</td>\n",
       "      <td>False</td>\n",
       "      <td>False</td>\n",
       "      <td>False</td>\n",
       "      <td>False</td>\n",
       "      <td>False</td>\n",
       "      <td>True</td>\n",
       "      <td>18571.428571</td>\n",
       "      <td>0</td>\n",
       "      <td>0</td>\n",
       "      <td>30.0</td>\n",
       "    </tr>\n",
       "  </tbody>\n",
       "</table>\n",
       "<p>3272 rows × 20 columns</p>\n",
       "</div>"
      ],
      "text/plain": [
       "                            customerid  loannumber  loanamount  termdays  \\\n",
       "0     8a2a81a74ce8c05d014cfb32a0da1049          12     30000.0        30   \n",
       "1     8a8588f35438fe12015444567666018e           7     20000.0        15   \n",
       "2     8a85890754145ace015429211b513e16           3     10000.0        15   \n",
       "3     8a858970548359cc0154883481981866           9     40000.0        30   \n",
       "4     8a858e095c59b91b015c5e5cea3719bc           3     10000.0        30   \n",
       "...                                ...         ...         ...       ...   \n",
       "3267  8a858e395cb1d4d9015cb2115b1d13d7           2     10000.0        15   \n",
       "3268  8a858ee85cf400f5015cf44ab1c42d5c           2     10000.0        30   \n",
       "3269  8a858f365b2547f3015b284597147c94           3     10000.0        15   \n",
       "3270  8a858f935ca09667015ca0ee3bc63f51           2     10000.0        30   \n",
       "3271  8a858fd458639fcc015868eb14b542ad           8     30000.0        30   \n",
       "\n",
       "      good_bad_ind  age  bank_account_type_Current  bank_account_type_Other  \\\n",
       "0                1   52                      False                     True   \n",
       "1                1   40                      False                     True   \n",
       "2                1   47                      False                    False   \n",
       "3                1   38                      False                     True   \n",
       "4                1   35                      False                    False   \n",
       "...            ...  ...                        ...                      ...   \n",
       "3267             0   45                      False                    False   \n",
       "3268             0   35                      False                    False   \n",
       "3269             0   35                      False                    False   \n",
       "3270             0   34                      False                    False   \n",
       "3271             0   36                      False                    False   \n",
       "\n",
       "      bank_account_type_Savings  employment_status_clients_Contract  \\\n",
       "0                         False                               False   \n",
       "1                         False                               False   \n",
       "2                          True                               False   \n",
       "3                         False                               False   \n",
       "4                          True                               False   \n",
       "...                         ...                                 ...   \n",
       "3267                       True                               False   \n",
       "3268                       True                               False   \n",
       "3269                       True                               False   \n",
       "3270                       True                               False   \n",
       "3271                       True                               False   \n",
       "\n",
       "      employment_status_clients_Permanent  employment_status_clients_Retired  \\\n",
       "0                                    True                              False   \n",
       "1                                    True                              False   \n",
       "2                                    True                              False   \n",
       "3                                    True                              False   \n",
       "4                                    True                              False   \n",
       "...                                   ...                                ...   \n",
       "3267                                False                              False   \n",
       "3268                                 True                              False   \n",
       "3269                                 True                              False   \n",
       "3270                                 True                              False   \n",
       "3271                                False                              False   \n",
       "\n",
       "      employment_status_clients_Self-Employed  \\\n",
       "0                                       False   \n",
       "1                                       False   \n",
       "2                                       False   \n",
       "3                                       False   \n",
       "4                                       False   \n",
       "...                                       ...   \n",
       "3267                                    False   \n",
       "3268                                    False   \n",
       "3269                                    False   \n",
       "3270                                    False   \n",
       "3271                                    False   \n",
       "\n",
       "      employment_status_clients_Student  employment_status_clients_Unemployed  \\\n",
       "0                                 False                                 False   \n",
       "1                                 False                                 False   \n",
       "2                                 False                                 False   \n",
       "3                                 False                                 False   \n",
       "4                                 False                                 False   \n",
       "...                                 ...                                   ...   \n",
       "3267                              False                                 False   \n",
       "3268                              False                                 False   \n",
       "3269                              False                                 False   \n",
       "3270                              False                                 False   \n",
       "3271                              False                                 False   \n",
       "\n",
       "      employment_status_clients_Unknown  avg_loanamount  \\\n",
       "0                                 False    18181.818182   \n",
       "1                                 False    10000.000000   \n",
       "2                                 False    10000.000000   \n",
       "3                                 False    18750.000000   \n",
       "4                                 False    10000.000000   \n",
       "...                                 ...             ...   \n",
       "3267                               True    10000.000000   \n",
       "3268                              False    10000.000000   \n",
       "3269                              False    10000.000000   \n",
       "3270                              False    10000.000000   \n",
       "3271                               True    18571.428571   \n",
       "\n",
       "      total_missed_first_due_date  total_closed_loan_late  average_termdays  \n",
       "0                               3                       4              30.0  \n",
       "1                               1                       1              17.5  \n",
       "2                               2                       2              22.5  \n",
       "3                               0                       0              37.5  \n",
       "4                               0                       0              22.5  \n",
       "...                           ...                     ...               ...  \n",
       "3267                            0                       1              15.0  \n",
       "3268                            0                       0              30.0  \n",
       "3269                            1                       1              15.0  \n",
       "3270                            0                       0              30.0  \n",
       "3271                            0                       0              30.0  \n",
       "\n",
       "[3272 rows x 20 columns]"
      ]
     },
     "execution_count": 17,
     "metadata": {},
     "output_type": "execute_result"
    }
   ],
   "source": [
    "def merge_sets(train_perf_cols, train_demo_cols, train_prevloan_cols_grp_cols):\n",
    "    \n",
    "    train = pd.merge(train_perf_cols, train_demo_cols, how ='inner', left_on='customerid', right_on='customerid')\n",
    "    train = pd.merge(train, train_prevloan_cols_grp_cols, how ='inner', left_on='customerid', right_on='customerid')\n",
    "    return train\n",
    "\n",
    "train = merge_sets(train_perf_cols, train_demo_cols, train_prevloan_cols_grp_cols)\n",
    "train"
   ]
  },
  {
   "cell_type": "code",
   "execution_count": 18,
   "id": "9df7be9d",
   "metadata": {},
   "outputs": [
    {
     "data": {
      "text/plain": [
       "customerid                                  object\n",
       "loannumber                                   int64\n",
       "loanamount                                 float64\n",
       "termdays                                     int64\n",
       "good_bad_ind                                 int32\n",
       "age                                          int32\n",
       "bank_account_type_Current                     bool\n",
       "bank_account_type_Other                       bool\n",
       "bank_account_type_Savings                     bool\n",
       "employment_status_clients_Contract            bool\n",
       "employment_status_clients_Permanent           bool\n",
       "employment_status_clients_Retired             bool\n",
       "employment_status_clients_Self-Employed       bool\n",
       "employment_status_clients_Student             bool\n",
       "employment_status_clients_Unemployed          bool\n",
       "employment_status_clients_Unknown             bool\n",
       "avg_loanamount                             float64\n",
       "total_missed_first_due_date                  int64\n",
       "total_closed_loan_late                       int64\n",
       "average_termdays                           float64\n",
       "dtype: object"
      ]
     },
     "execution_count": 18,
     "metadata": {},
     "output_type": "execute_result"
    }
   ],
   "source": [
    "train.dtypes"
   ]
  },
  {
   "cell_type": "code",
   "execution_count": 19,
   "id": "793f0778",
   "metadata": {},
   "outputs": [
    {
     "data": {
      "text/plain": [
       "customerid                                 0\n",
       "loannumber                                 0\n",
       "loanamount                                 0\n",
       "termdays                                   0\n",
       "good_bad_ind                               0\n",
       "age                                        0\n",
       "bank_account_type_Current                  0\n",
       "bank_account_type_Other                    0\n",
       "bank_account_type_Savings                  0\n",
       "employment_status_clients_Contract         0\n",
       "employment_status_clients_Permanent        0\n",
       "employment_status_clients_Retired          0\n",
       "employment_status_clients_Self-Employed    0\n",
       "employment_status_clients_Student          0\n",
       "employment_status_clients_Unemployed       0\n",
       "employment_status_clients_Unknown          0\n",
       "avg_loanamount                             0\n",
       "total_missed_first_due_date                0\n",
       "total_closed_loan_late                     0\n",
       "average_termdays                           0\n",
       "dtype: int64"
      ]
     },
     "execution_count": 19,
     "metadata": {},
     "output_type": "execute_result"
    }
   ],
   "source": [
    "train.isin([np.nan]).sum()"
   ]
  },
  {
   "cell_type": "code",
   "execution_count": 20,
   "id": "5a9023bd",
   "metadata": {},
   "outputs": [
    {
     "data": {
      "text/plain": [
       "Index(['customerid', 'loannumber', 'loanamount', 'termdays', 'good_bad_ind',\n",
       "       'age', 'bank_account_type_Current', 'bank_account_type_Other',\n",
       "       'bank_account_type_Savings', 'employment_status_clients_Contract',\n",
       "       'employment_status_clients_Permanent',\n",
       "       'employment_status_clients_Retired',\n",
       "       'employment_status_clients_Self-Employed',\n",
       "       'employment_status_clients_Student',\n",
       "       'employment_status_clients_Unemployed',\n",
       "       'employment_status_clients_Unknown', 'avg_loanamount',\n",
       "       'total_missed_first_due_date', 'total_closed_loan_late',\n",
       "       'average_termdays'],\n",
       "      dtype='object')"
      ]
     },
     "execution_count": 20,
     "metadata": {},
     "output_type": "execute_result"
    }
   ],
   "source": [
    "\n",
    "train.columns"
   ]
  },
  {
   "cell_type": "code",
   "execution_count": null,
   "id": "9ebd0de0",
   "metadata": {},
   "outputs": [],
   "source": []
  },
  {
   "cell_type": "code",
   "execution_count": 21,
   "id": "6d40a0c8",
   "metadata": {},
   "outputs": [],
   "source": [
    "data = train.copy(deep = True)"
   ]
  },
  {
   "cell_type": "code",
   "execution_count": 22,
   "id": "375e63c3",
   "metadata": {},
   "outputs": [
    {
     "name": "stdout",
     "output_type": "stream",
     "text": [
      "bank_account_type_Current      46\n",
      "bank_account_type_Other       653\n",
      "bank_account_type_Savings    2573\n",
      "dtype: int64\n",
      "Current that default:  0.10869565217391308\n",
      "Other that default:  0.13476263399693722\n",
      "Savings that default:  0.2405752040419743\n"
     ]
    }
   ],
   "source": [
    "# How many of each account type are there\n",
    "\n",
    "print(data[['bank_account_type_Current','bank_account_type_Other','bank_account_type_Savings']].sum())\n",
    "\n",
    "# What percent in each category default\n",
    "curr = data[data['bank_account_type_Current']==1]\n",
    "print('Current that default: ', 1-curr['good_bad_ind'].mean())\n",
    "\n",
    "other = data[data['bank_account_type_Other']==1]\n",
    "print('Other that default: ', 1-other['good_bad_ind'].mean())\n",
    "\n",
    "savings = data[data['bank_account_type_Savings']==1]\n",
    "print('Savings that default: ', 1-savings['good_bad_ind'].mean())"
   ]
  },
  {
   "cell_type": "code",
   "execution_count": 23,
   "id": "73d0a994",
   "metadata": {},
   "outputs": [
    {
     "name": "stdout",
     "output_type": "stream",
     "text": [
      "employment_status_clients_Contract            1\n",
      "employment_status_clients_Permanent        2343\n",
      "employment_status_clients_Retired             4\n",
      "employment_status_clients_Self-Employed     277\n",
      "employment_status_clients_Student           111\n",
      "employment_status_clients_Unemployed         43\n",
      "dtype: int64\n",
      "Perm that default:  0.0\n",
      "Perm that default:  0.20486555697823305\n",
      "Retired that default:  0.0\n",
      "Self that default:  0.16245487364620936\n",
      "Student that default:  0.2702702702702703\n",
      "Unemp that default:  0.16279069767441856\n"
     ]
    }
   ],
   "source": [
    "# How many of each category type are there\n",
    "\n",
    "print(data[['employment_status_clients_Contract',\n",
    "            'employment_status_clients_Permanent',\n",
    "            'employment_status_clients_Retired',\n",
    "            'employment_status_clients_Self-Employed',\n",
    "            'employment_status_clients_Student',\n",
    "            'employment_status_clients_Unemployed']].sum())\n",
    "\n",
    "# What percent in each category default\n",
    "cont = data[data['employment_status_clients_Contract']==1]\n",
    "print('Perm that default: ', 1-cont['good_bad_ind'].mean())\n",
    "\n",
    "perm = data[data['employment_status_clients_Permanent']==1]\n",
    "print('Perm that default: ', 1-perm['good_bad_ind'].mean())\n",
    "\n",
    "ret = data[data['employment_status_clients_Retired']==1]\n",
    "print('Retired that default: ', 1-ret['good_bad_ind'].mean())\n",
    "\n",
    "self = data[data['employment_status_clients_Self-Employed']==1]\n",
    "print('Self that default: ', 1-self['good_bad_ind'].mean())\n",
    "\n",
    "stud = data[data['employment_status_clients_Student']==1]\n",
    "print('Student that default: ', 1-stud['good_bad_ind'].mean())\n",
    "\n",
    "unemp = data[data['employment_status_clients_Unemployed']==1]\n",
    "print('Unemp that default: ', 1-unemp['good_bad_ind'].mean())"
   ]
  },
  {
   "cell_type": "code",
   "execution_count": null,
   "id": "7a162aaa",
   "metadata": {},
   "outputs": [],
   "source": []
  },
  {
   "cell_type": "code",
   "execution_count": 24,
   "id": "519ae934",
   "metadata": {},
   "outputs": [
    {
     "data": {
      "text/plain": [
       "<Axes: xlabel='good_bad_ind', ylabel='total_closed_loan_late'>"
      ]
     },
     "execution_count": 24,
     "metadata": {},
     "output_type": "execute_result"
    },
    {
     "data": {
      "image/png": "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",
      "text/plain": [
       "<Figure size 640x480 with 1 Axes>"
      ]
     },
     "metadata": {},
     "output_type": "display_data"
    }
   ],
   "source": [
    "sns.boxplot(data = data, y='total_closed_loan_late', x ='good_bad_ind')"
   ]
  },
  {
   "cell_type": "code",
   "execution_count": 25,
   "id": "42b53ad8",
   "metadata": {},
   "outputs": [
    {
     "data": {
      "text/plain": [
       "<Axes: xlabel='good_bad_ind', ylabel='loannumber'>"
      ]
     },
     "execution_count": 25,
     "metadata": {},
     "output_type": "execute_result"
    },
    {
     "data": {
      "image/png": "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",
      "text/plain": [
       "<Figure size 640x480 with 1 Axes>"
      ]
     },
     "metadata": {},
     "output_type": "display_data"
    }
   ],
   "source": [
    "sns.boxplot(data = data, y='loannumber', x ='good_bad_ind')"
   ]
  },
  {
   "cell_type": "code",
   "execution_count": 26,
   "id": "2ff0377e",
   "metadata": {},
   "outputs": [
    {
     "data": {
      "text/plain": [
       "<Axes: xlabel='good_bad_ind', ylabel='age'>"
      ]
     },
     "execution_count": 26,
     "metadata": {},
     "output_type": "execute_result"
    },
    {
     "data": {
      "image/png": "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",
      "text/plain": [
       "<Figure size 640x480 with 1 Axes>"
      ]
     },
     "metadata": {},
     "output_type": "display_data"
    }
   ],
   "source": [
    "sns.boxplot(data = data, y='age', x ='good_bad_ind')"
   ]
  },
  {
   "cell_type": "code",
   "execution_count": 27,
   "id": "f217dfc1",
   "metadata": {},
   "outputs": [
    {
     "name": "stderr",
     "output_type": "stream",
     "text": [
      "C:\\Users\\Rui\\AppData\\Local\\Temp\\ipykernel_17032\\1155726894.py:11: UserWarning: FixedFormatter should only be used together with FixedLocator\n",
      "  axs.set_xticklabels(['employment_status_clients_Contract',\n"
     ]
    },
    {
     "data": {
      "text/plain": [
       "<Axes: xlabel='employment_status', ylabel='age'>"
      ]
     },
     "execution_count": 27,
     "metadata": {},
     "output_type": "execute_result"
    },
    {
     "data": {
      "image/png": "iVBORw0KGgoAAAANSUhEUgAABM0AAAN0CAYAAACnSN/LAAAAOXRFWHRTb2Z0d2FyZQBNYXRwbG90bGliIHZlcnNpb24zLjcuMiwgaHR0cHM6Ly9tYXRwbG90bGliLm9yZy8pXeV/AAAACXBIWXMAAA9hAAAPYQGoP6dpAAEAAElEQVR4nOzdeVxU9eLG8ecwyAwoakLigpiVWmrWdcmiTa0s2ryYXQtyuZlpZrmUerU0NXPtkraZlpmWqNWNblm4lFdLScMtrevPLC20XHHBbUYZzu8PL3PhCF6XgTMDn/frxcuZc+A7j8MsZx7O9xzDNE1TAAAAAAAAAHxC7A4AAAAAAAAABBpKMwAAAAAAAMCC0gwAAAAAAACwoDQDAAAAAAAALCjNAAAAAAAAAAtKMwAAAAAAAMCC0gwAAAAAAACwCLU7QEnLy8vTH3/8ocjISBmGYXccAAAAAAAA2Mg0TR0+fFi1atVSSEjx+5OV+dLsjz/+UJ06deyOAQAAAAAAgACyfft2xcbGFru+zJdmkZGRkk7dEZUrV7Y5DQAAAAAAAOyUk5OjOnXq+Dqj4pT50ix/SmblypUpzQAAAAAAACBJ//MwXpwIAAAAAAAAALCgNAMAAAAAAAAsKM0AAAAAAAAAizJ/TLOz5fV6dfLkSbtjoBgVKlSQw+GwOwYAAAAAACgnyn1pZpqmdu3apYMHD9odBf9D1apVVaNGjf95oD4AAAAAAIALVe5Ls/zCrHr16oqIiKCQCUCmaerYsWPas2ePJKlmzZo2JwIAAAAAAGVduS7NvF6vrzCLioqyOw7OIDw8XJK0Z88eVa9enamaAAAAAACgRJXrEwHkH8MsIiLC5iQ4G/m/J449BwAAAAAASlq5Ls3yMSUzOPB7AgAAAAAApYXSDAAAAAAAALCgNAMAAAAAAAAsKM0C0CWXXKJJkyad1fcahqFPPvnE7xlGjBiha6655qy+t1u3bvrzn/98wbdZUv8XAAAAAACAc1Wuz54J/5g8ebJM07Q7BgAAAAAAgN9QmuGCValSxe4IAAAAAAAAfsX0zDM4fPiwkpOTVbFiRdWsWVMvv/yyWrdurX79+kmSDhw4oC5duuiiiy5SRESEEhIStGXLlkJj/OMf/1Djxo3ldDp1ySWX6O9//3uh9Xv27NG9996r8PBw1atXT7Nnzz7nnDt37lRCQoJvjA8//LDQ+sGDB6tBgwaKiIjQpZdeqmHDhunkyZOFvmfcuHGKiYlRZGSkunfvLrfbfda3b52e2bp1az311FMaNGiQqlWrpho1amjEiBGFfmbLli26+eab5XK51KhRIy1evPic/98AAAAAAAAlhdLsDAYMGKAVK1bo008/1eLFi/XNN99o7dq1vvXdunXT6tWr9emnn+rbb7+VaZq66667fIXUmjVr9Je//EUPPvigNm7cqBEjRmjYsGF69913C43x66+/asmSJfroo4/0xhtvaM+ePeeUc9iwYbr//vv1/fff6+GHH9ZDDz2kTZs2+dZHRkbq3Xff1b///W9NnjxZb731ll5++WXf+g8++EDPP/+8XnzxRa1evVo1a9bUG2+8cZ732ikzZ85UxYoVtWrVKk2YMEGjRo3yFWN5eXnq0KGDHA6HVq5cqTfffFODBw++oNsDAAAAAADwJ8Ms4wejysnJUZUqVXTo0CFVrly50Dq3261t27apXr16crlchdYdPnxYUVFRSk1NVceOHSVJhw4dUq1atdSjRw898cQTatCggVasWKH4+HhJUnZ2turUqaOZM2fqgQceUHJysvbu3atFixb5xh00aJA+//xz/fjjj/rpp5/UsGFDrVy5Uq1atZIk/d///Z+uvPJKvfzyy7492s7EMAz16tVLU6ZM8S277rrr1KxZs2KLr4kTJ2revHlavXq1JCk+Pl5XX331aWO43W6tX7/+f2bo1q2bDh486DuIf+vWreX1evXNN9/4vufaa69V27ZtNW7cOC1atEh33XWXfv31V8XGxkqSFixYoISEBKWlpRV7UoEz/b4AAAAAAADOxpm6ooLY06wYW7du1cmTJ3Xttdf6llWpUkUNGzaUJG3atEmhoaG+skuSoqKi1LBhQ99eXps2bdINN9xQaNwbbrhBW7Zskdfr9Y3RokUL3/orrrhCVatWPaes119//WnXC+5p9tFHH+nGG29UjRo1VKlSJQ0bNkxZWVm+9Zs2bSpyjAvRtGnTQtdr1qzp24Nu06ZNiouL8xVm/rg9AAAAAAAAf6I0K0b+DniGYRS5vLgd9EzT9P1MwcvWnz/TbfhD/pgrV67Ugw8+qISEBM2fP1/r1q3Ts88+qxMnTvj9NguqUKHCaXny8vIkFX3flcR9AAAAAAAAcL4ozYpx2WWXqUKFCvruu+98y3JycnwH+m/UqJFyc3O1atUq3/rs7Gz99NNPuvLKK33fs3z58kLjZmRkqEGDBnI4HLryyiuVm5vrmyYpSZs3b9bBgwfPKevKlStPu37FFVdIklasWKG6devq2WefVYsWLVS/fn399ttvhb7/yiuvLHKMktKoUSNlZWXpjz/+8C379ttvS+z2AAAAAAAAzhWlWTEiIyPVtWtXDRw4UP/617/0448/6pFHHlFISIgMw1D9+vXVvn179ejRQ8uXL/cdhL927dpq3769JOnpp5/WV199pRdeeEE//fSTZs6cqddee03PPPOMJKlhw4a688471aNHD61atUpr1qzRo48+qvDw8HPK+uGHH+qdd97RTz/9pOeff17fffed+vTpI0m6/PLLlZWVpblz5+qXX37RK6+8orS0tEI/37dvX73zzjuFxvjxxx/9cC8W7bbbblPDhg3VpUsXff/99/rmm2/07LPPltjtASheRkaGOnXqpIyMDLujAAAAAEBAoTQ7g5SUFF1//fW65557dNttt+mGG27QlVde6TsI/YwZM9S8eXPdc889uv7662Wapr744gvf1MRmzZrpgw8+0Ny5c9WkSRMNHz5co0aNUrdu3Xy3MWPGDNWpU0e33HKLOnTooMcee0zVq1c/p5wjR47U3Llz1bRpU82cOVOzZ89Wo0aNJEnt27dX//791adPH11zzTXKyMjQsGHDCv18p06dNHz4cA0ePFjNmzfXb7/9pscff/wC7rkzCwkJUVpamjwej6699lo9+uijevHFF0vs9gAUze12KyUlRbt371ZKSorcbrfdkQAAAAAgYHD2zHM4G+PRo0dVu3Zt/f3vf1f37t1LKjKKwdkzAf+aPn263n//fd/xFzt37qxHHnnE7lgAAAAAUKLO9uyZoaWYKeisW7dO//d//6drr71Whw4d0qhRoyTJN/0SAILVjh07lJqaWujkJqmpqWrXrl2hM9sCAAAACEymafpttohpmvJ4PJIkp9Ppt5P1uVyuoD7xH6XZ//DSSy9p8+bNCgsLU/PmzfXNN98oOjq6VG579uzZ6tmzZ5Hr6tatW6LHHSuoUqVKxa5LT0/XTTfdVCo5APiHaZqaPHlyscsnTJgQ1G9sAAAAQHngdruVkJBgd4wzSk9PP+fjtgcSSrMz+NOf/qQ1a9bYdvv33XefWrVqVeS6/OOmlYb169cXu6527dqllgOAf2RlZSkzM/O05V6vV5mZmcrKylLdunVtSAYAAAAAgYPSLIBFRkYqMjLS7hi6/PLL7Y4AwI/i4uLUsmVLrV27Vl6v17fc4XCoefPmiouLszEdAAAAgLPhcrmUnp7ul7HcbrcSExMlSWlpaX47jniwH4+c0gwAyhnDMNS3b1917dq1yOVMzQQAAAACn2EYJTL10eVyBfWUSn8KsTsAAKD0xcbGKikpyVeQGYahpKQkplwDAAAAwH9QmgFAOZWcnKyoqChJUnR0tJKSkmxOBAAAAACBg9IMAMopl8ulAQMGKCYmRv379w/64w0AAAAAgD9xTDObeL1emaZZardnGIYcDkep3R6A4BAfH6/4+Hi7YwAAAABAwKE0s4HX61WHjg/o0IH9pXabVS6qpo8/+pDiDAAAAAAA4CxQmtnANE0dOrBfh5t1kYxSmCFr5klrZ53Xnm1vvPGGJk6cqJ07d6px48aaNGmSbrrpphIICQAAAAAAEDg4ppmdjBAppBS+zrOYmzdvnvr166dnn31W69at00033aSEhARlZWX5+Y4AAAAAAAAILJRmKFZKSoq6d++uRx99VFdeeaUmTZqkOnXqaMqUKXZHAwAAAAAAKFGUZijSiRMntGbNGrVr167Q8nbt2ikjI8OmVP7Xp08ftW7dWn369LE7CgAAgG0yMjLUqVOnMrWdBwDAhaI0Q5H27dsnr9ermJiYQstjYmK0a9cum1L5V1ZWln744QdJ0g8//MC0UwAAUC653W6lpKRo9+7dSklJkdvttjsSAAABgdIMZ2QYRqHrpmmetixY9erV64zXAQAAyoPZs2crOztbkpSdna3U1FSbEwEAEBgozVCk6OhoORyO0/Yq27Nnz2l7nwWjOXPm6NixY4WWHTt2THPmzLEpEQAAQOnbsWOHUlNTfWdZN01Tqamp2rFjh83JAACwH6UZihQWFqbmzZtr8eLFhZYvXrxY8fHxNqXyj9zcXE2dOrXIdVOnTlVubm4pJwIAACh9pmlq8uTJxS7PL9IAACivKM3sZOZJeaXwZeadV7wBAwbo7bff1jvvvKNNmzapf//+ysrKCvppjLNmzbqg9QAAAGVBVlaWMjMz5fV6Cy33er3KzMzkeK8AgHIv1O4A5ZFhGKpyUTVpbemVM1UuqnbOxyLr1KmTsrOzNWrUKO3cuVNNmjTRF198obp165ZQytLRpUuXMxZjXbp0KcU0AAAA9oiLi1PLli21du3aQsWZw+FQ8+bNFRcXZ2M6AADsR2lmA4fDoY8/+rBUd3k3DEMOh+Ocf653797q3bt3CSSyT2hoqHr27FnkFM3HH39coaE8LQAAQNlnGIb69u2rrl27Frm8rJz8CQCA88X0TJs4HA6FhoaW2tf5FGZl2UMPPaSIiIhCyyIiItSpUyebEgEAAJS+2NhYJSUl+QoywzCUlJSk2rVr25wMAAD7UZqh3HrzzTfPeB0AAKA8SE5OVlRUlKRTZ1BPSkqyOREAAIGB0gzlVlxcnJo0aSJJatKkCcftAAAA5ZLL5dKAAQMUExOj/v37y+Vy2R0JAICAwMGbUK699tprdkcAAACwXXx8vOLj4+2OAQBAQGFPMwAAAAAAAMCC0gwAAAAAAACwoDQDAAAAAAAALCjNAAAAAAAAAAtKM5t4vV7l5uaW2pfX67X7vxyQRowYodatW2vEiBF2RwFskZGRoU6dOikjI8PuKAAAAAAQUDh7pg28Xq86PdBB+/YfKrXbjK5WRfM+/FgOh6PUbjPQ7d69W0uXLpUkLV26VLt371ZMTIy9oYBS5Ha7lZKSon379iklJUXNmjWTy+WyOxYAAAAABARKMxuYpql9+w/prVuy5TBK/va8ptRj2anbPVtff/21Jk6cqDVr1mjnzp1KS0vTn//855ILaYM+ffoUuv7kk0/qgw8+sCkNUPpmz56t7OxsSVJ2drZSU1P1yCOP2JwKAAAAAAID0zNt5DCk0JCS/zqfYu7o0aO6+uqr9dprr/n/Px4AFixYoL179xZatmfPHi1YsMCmREDp2rFjh1JTU31lummaSk1N1Y4dO2xOBgAAAACBgdIMRUpISNDo0aPVoUMHu6P4ndfr1cSJE4tcN3HiRI7/hjLPNE1Nnjy52OXnslcqAAAAAJRVlGYod+bPn19sMeb1ejV//vxSTgSUrqysLGVmZp72PPB6vcrMzFRWVpZNyQAAAAAgcFCaody55557ij0hQmhoqO65555STgSUrri4OLVs2fK054HD4dC1116ruLg4m5IBAAAAQOCgNEO543A4NHDgwCLXDRo0iDOMoswzDEN9+/YtdrlhlMIZSgAAAAAgwFGaoVy68847dfHFFxdaVr16dbVr186mREDpio2NVVJSkq8gMwxDSUlJql27ts3JAAAAACAwUJqh3LKeGfTVV1+1KQlgj+TkZEVFRUmSoqOjlZSUZHMiAAAAAAgclGY28ppSbl7Jf3nP40R4R44c0fr167V+/XpJ0rZt27R+/foydYDwmJgYtW7dWpLUunVrxcTE2BsIKGUul0sDBgxQTEyM+vfvL5fLZXckAAAAAAgYoXYHKI8Mw1B0tSrqsaz0bjO6WpVzOk7R6tWr1aZNG9/1AQMGSJK6du2qd99919/xbDNixAi7IwC2io+PV3x8vN0xAAAAACDgUJrZwOFwaN6HH8s0z2MXsPNkGMY5HeC+devWpZoPAAAAAAAgkFCa2YQzNAIAAAAAAAQujmkGAAAAAAAAWFCaAQAAAAAAABaUZmXE3r17tXnzZu3du9fuKEElIyNDnTp1UkZGht1R4Af8Ps8d9xkAQJKmT5+utm3bavr06XZHAQAgYFCaScrLy7M7wgXJzc3V/v37JUn79+9Xbm6uzYlKhr9/T263WykpKdq9e7dSUlLkdrv9Oj5KF7/Pc8d9BgCQpIMHD2r27NnKy8vT7NmzdfDgQbsjAQAQEGw/EcDvv/+uwYMHKz09XcePH1eDBg00ffp0NW/eXJJkmqZGjhypadOm6cCBA2rVqpVef/11NW7c+IJvOywsTCEhIfrjjz908cUXKywsTIZhXPC4pe2PP/4oVChlZWWpVq1aNibyL9M0deLECe3du1chISEKCwvzy7izZ89Wdna2JCk7O1upqal65JFH/DI2Sh+/z3PHfQYAkKRhw4b5tiXz8vI0fPhwvfLKKzanAgDAfraWZgcOHNANN9ygNm3aKD09XdWrV9cvv/yiqlWr+r5nwoQJSklJ0bvvvqsGDRpo9OjRuv3227V582ZFRkZe0O2HhISoXr162rlzp/74448L/N/Yw+Px6MCBA6ctz8nJkdPptCFRyYmIiFBcXJxCQi58B8kdO3YoNTVVpmlKOlXMpaamql27doqNjb3g8VG6+H2eO+4zAIAkrV69Whs3biy0bMOGDVq9erVatGhhUyoAAAKDYeZ/YrLB3/72N61YsULffPNNketN01StWrXUr18/DR48WNKpkigmJkbjx49Xz549T/sZj8cjj8fju56Tk6M6dero0KFDqly5crG3k5ubK6/X64f/VenJy8vTE088oaNHj562rmLFinr99df9UjAFAofDodDQUL/sCWiapgYNGqS1a9cW+p07HA41a9ZMEyZMCMo9Dssrfp/njvsMACCd2pb885//rJycnNPWVa5cWZ988kmZ2ZYEAJzZ8ePHlZCQIElKT09XeHi4zYlKVk5OjqpUqXLGrkiyeU+zTz/9VHfccYceeOABLVu2TLVr11bv3r3Vo0cPSdK2bdu0a9cutWvXzvczTqdTt9xyizIyMooszcaOHauRI0eeUw7DMFShQgVVqFDhwv5Dpezbb7/Vtm3bil3//fff6/rrry/FRMEhKytLmZmZpy33er3KzMxUVlaW6tata0MynA9+n+eO+wwAIEmrVq0qsjCTTn2YWLVqFduSAIByzdY/HW3dulVTpkxR/fr1tXDhQvXq1UtPPfWUZs2aJUnatWuXJCkmJqbQz8XExPjWWQ0ZMkSHDh3yfW3fvr1k/xM2atWqVbGNaJUqVdSqVatSThQc4uLi1LJlSzkcjkLLHQ6Hrr32WsXFxdmUDOeD3+e54z4DAEhsSwIA8L/YWprl5eWpWbNmGjNmjP70pz+pZ8+e6tGjh6ZMmVLo+6zThEzTLHbqkNPpVOXKlQt9lVUhISEaPnx4keuef/55dqcvhmEY6tu3b7HLmZYWXPh9njvuMwCAxLYkAAD/i63vhDVr1lSjRo0KLbvyyiuVlZUlSapRo4YknbZX2Z49e07b+6y8atGiha666qpCy5o2bapmzZrZlCg4xMbGKikpyVcOGIahpKQk1a5d2+ZkOB/8Ps8d9xkAQGJbEgCAM7G1NLvhhhu0efPmQst++ukn37F06tWrpxo1amjx4sW+9SdOnNCyZcsUHx9fqlkD2QsvvOD7S2BISIhGjRplc6LgkJycrKioKElSdHS0kpKSbE6EC8Hv89xxnwEAJLYlAQAojq2lWf/+/bVy5UqNGTNGP//8s1JTUzVt2jQ98cQTkk7t+dCvXz+NGTNGaWlp+uGHH9StWzdFRETw4a6AqlWrKjk5WSEhIUpOTlbVqlXtjhQUXC6XBgwYoJiYGPXv318ul8vuSLgA/D7PHfcZAEBiWxIAgOIYpmmadgaYP3++hgwZoi1btqhevXoaMGCA7+yZ0qnjl40cOVJTp07VgQMH1KpVK73++utq0qTJWY1/tqcRBQAAAAAAKI+OHz+uhIQESVJ6errCw8NtTlSyzrYrsr00K2mUZgAAAAAAAMWjNCsap8QBAAAAAAAALCjNAAAAAAAAAAtKMwAAAAAAAMCC0qyMyMjIUKdOnZSRkWF3lKDSpUsXtW7dWl26dLE7CgDAJryHAgAAoCiUZmWA2+1WSkqKdu/erZSUFLndbrsjBYUtW7YoKytLkpSVlaUtW7bYnAgAUNp4DwUAAEBxKM3KgNmzZys7O1uSlJ2drdTUVJsTBYfHH3/8jNcBAGUf76EAAAAoTqjdAXBhduzYodTUVJmmKUkyTVOpqalq166dYmNjbU4XuN58803l5uYWWpabm6s333xTvXr1sikV8L+Zpum3PWFM05TH45EkOZ1OGYbhl3FdLpffxgJKEu+hAAAAOBNKsyBmmqYmT55c7PIJEybwwbUIJ0+e1Ny5c4tcN3fuXHXv3l0VKlQo5VTA2XG73UpISLA7xhmlp6crPDzc7hjAGfEeCgAAgP+F6ZlBLCsrS5mZmfJ6vYWWe71eZWZm+o7XhcJeffXVC1oPAAh+vIcCAADgf2FPsyAWFxenli1bau3atYU2+h0Oh5o3b664uDgb0wWuJ598Up9++ukZ1wOByuVyKT093S9jud1uJSYmSpLS0tLkcrn8Mq6/xgFKEu+hAAAA+F8ozYKYYRjq27evunbtWuRyppUUrUKFCnrwwQeLnKKZlJTE1EwENMMwSmTqo8vlYkolyhXeQwEAAPC/MD0zyMXGxiopKcm3cW8YhpKSklS7dm2bkwW2Xr16KTS0cGccGhqqxx57zKZEAIDSxnsoAAAAzoTSrAxITk5WVFSUJCk6OlpJSUk2JwoOU6ZMOeN1AEDZx3soAAAAikNpVga4XC4NGDBAMTEx6t+/P8cTOkv169f3HbMmLi5O9evXtzkRAKC08R4KAACA4nBMszIiPj5e8fHxdscIOrNmzbI7AgDAZryHAgCA0mKaptxut90xTlMwUyDmk079sbO0jztLaQYAAAAAAFAK3G63EhIS7I5xRomJiXZHKFJ6enqpn7yM6ZkAAAAAAACABXuaAQAAAAAAlLLXbtwvp8O0O4YkyTSlE3mnLoeFSKU8C7JYHq+hPsur2Xb7lGYAAAAAAAClzOkw5XTYneK/AvN0SPaWikzPLCMyMjLUqVMnZWRk2B0lqPTp00etW7dWnz597I4CAABgm+nTp6tt27aaPn263VEAAAgYlGZlgNvtVkpKinbv3q2UlJSAPdNFoMnKytIPP/wgSfrhhx+UlZVlcyIAAIDSd/DgQc2ePVt5eXmaPXu2Dh48aHckAAACAqVZGTB79mxlZ2dLkrKzs5WammpzouDQq1evM14HAAAoD4YNG6a8vFMHssnLy9Pw4cNtTgQAQGCgNAtyO3bsUGpqqkzz1Dxf0zSVmpqqHTt22JwssM2ZM0fHjh0rtOzYsWOaM2eOTYkAAABK3+rVq7Vx48ZCyzZs2KDVq1fblAgAgMBBaRbETNPU5MmTi12eX6ShsNzcXE2dOrXIdVOnTlVubm4pJwIAACh9eXl5GjVqVJHrRo0a5dv7DACA8orSLIhlZWUpMzNTXq+30HKv16vMzEyO0VWMWbNmXdB6AACAsmDVqlXKyckpcl1OTo5WrVpVyokAAAgslGZBLC4uTi1btpTDUfgctQ6HQ9dee63i4uJsShbYunTpckHrAQAAyoJWrVqpcuXKRa6rUqWKWrVqVcqJAAAILJRmQcwwDPXt27fY5YZh2JAq8IWGhqpnz55Frnv88ccVGhpayokAAABKX0hISLEH/X/++ecVEsJHBQBA+cY7YZCLjY1VUlKSryAzDENJSUmqXbu2zckC20MPPaSIiIhCyyIiItSpUyebEgEAAJS+Fi1a6Kqrriq0rGnTpmrWrJlNiQAACByUZmVAcnKyoqKiJEnR0dFKSkqyOVFwePPNN894HQAAoDx44YUXfHuVhYSEFHtyAAAAyhtKszLA5XJpwIABiomJUf/+/eVyueyOFBTi4uLUpEkTSVKTJk04BhwAACiXqlatquTkZIWEhCg5OVlVq1a1OxIAAAGBgzeVEfHx8YqPj7c7RtB57bXX7I4AAABgu+7du6t79+52xwAAIKCwpxkAAAAAAABgQWkGAAAAAAAAWFCaAQAAAAAAABaUZgAAAAAAAIAFpVkZkZGRoU6dOikjI8PuKEGlY8eOat26tTp27Gh3FPgBzwMAAAAAgL9QmpUBbrdbKSkp2r17t1JSUuR2u+2OFBR++OEH7du3T5K0b98+/fDDDzYnwoXgeQAAAAAA8CdKszJg9uzZys7OliRlZ2crNTXV5kTB4cknnzzjdQQXngcAAAAAAH8KtTsALsyOHTuUmpoq0zQlSaZpKjU1Ve3atVNsbKzN6QLXxIkTffdZPtM0NXHiRA0cONCmVDhfPA8AAOWNaZp+26vaNE15PB5JktPplGEYfhnX5XL5bSwAAOxAaRbETNPU5MmTi10+YcIENlSKcOLECX3++edFrvv888/Vt29fhYWFlXIqnC+eBwCA8sjtdishIcHuGGeUnp6u8PBwu2MAAHDemJ4ZxLKyspSZmSmv11toudfrVWZmprKysmxKFtjGjh17QesRWHgeAAAAAABKAnuaBbG4uDi1bNlSa9euLVQYOBwONW/eXHFxcTamC1xDhgzRv/71rzOuR/DgeQAAKI9cLpfS09P9Mpbb7VZiYqIkKS0tTS6Xyy/j+mscAADsQmkWxAzDUN++fdW1a9cilzMlrWhhYWG6++67i5yiee+99zI1M8jwPAAAlEeGYZTI1EeXy8WUSgAA/oPpmUEuNjZWSUlJvmLAMAwlJSWpdu3aNicLbAMHDjytTDEMQ08//bRNiXAheB4AAAAAAPyN0qwMSE5OVlRUlCQpOjpaSUlJNicKDq+++uoZryO48DwAAAAAAPgTpVkZ4HK5NGDAAMXExKh///4cP+IsNWnSRNHR0ZJOlSxNmjSxOREuBM8DAAAAAIA/cUyzMiI+Pl7x8fF2xwg6H330kd0R4Ec8DwAAAAAA/sKeZgAAAAAAAIAFpRkAAAAAAABgQWkGAAAAAAAAWFCaAQAAAAAAABaUZmXE9OnT1bZtW02fPt3uKEGlY8eOat26tTp27Gh3FAAAAAAAEEAozcqAgwcPavbs2crLy9Ps2bN18OBBuyMFhR9++EH79u2TJO3bt08//PCDzYkAAAAAAECgoDQrA4YNG6a8vDxJUl5enoYPH25zouDw5JNPnvE6AAAAAAAovyjNgtzq1au1cePGQss2bNig1atX25QoOEycOFGmaRZaZpqmJk6caFMiAAAAAAAQSCjNglheXp5GjRpV5LpRo0b59j5DYSdOnNDnn39e5LrPP/9cJ06cKOVEAAAAAAAg0FCaBbFVq1YpJyenyHU5OTlatWpVKScKDmPHjr2g9QAAAAAAoOyjNAtirVq1UuXKlYtcV6VKFbVq1aqUEwWHIUOGXNB6AAAAAABQ9lGaBbGQkJBiD/r//PPPKySEX29RwsLCdPfddxe57t5771VYWFgpJwIAAAAAAIGGViXItWjRQldddVWhZU2bNlWzZs1sShQcBg4cKMMwCi0zDENPP/20TYkAAAAAAEAgoTQrA1544QXfXmUhISHFnhwAhb366qtnvA4AAAAAAMovSrMyoGrVqkpOTlZISIiSk5NVtWpVuyMFhSZNmig6OlqSFB0drSZNmticCAAAAAAABIpQuwPAP7p3767u3bvbHSPofPTRR3ZHAAAAAAAAAYg9zQAAAAAAAAALSjMAAAAAAADAgtIMAAAAAAAAsKA0AwAAAAAAACw4EQDKtXbt2unEiRMKCwvTokWL7I4DAAAAAAACBHuaodz6+uuvdeLECUnSiRMn9PXXX9ucCAAAAAAABApbS7MRI0bIMIxCXzVq1PCt79at22nrr7vuOhsToywZPnz4Ga8DAAAAAIDyy/bpmY0bN9aXX37pu+5wOAqtv/POOzVjxgzf9bCwsFLLVpJM05Tb7fbbWB6PR5LkdDplGIZfxnW5XH4bK9A89dRTxS5/5ZVXSjkNAAAAAAAINLaXZqGhoYX2LrNyOp1nXG/l8Xh8BZIk5eTkXFC+kuJ2u5WQkGB3jDNKT09XeHi43TH87vjx49qwYUOR6zZs2KDjx4+Xyf83AAAAAAA4e7Yf02zLli2qVauW6tWrpwcffFBbt24ttH7p0qWqXr26GjRooB49emjPnj1nHG/s2LGqUqWK76tOnTolGR9BqLi9zM52PQAAAAAAKPts3dOsVatWmjVrlho0aKDdu3dr9OjRio+P148//qioqCglJCTogQceUN26dbVt2zYNGzZMbdu21Zo1a+R0Ooscc8iQIRowYIDvek5OTkAWZy6XS+np6X4Zy+12KzExUZKUlpYml8vll3H9NU6geeWVV864lx/TMwEAAAAAgK2lWcHi4qqrrtL111+vyy67TDNnztSAAQPUqVMn3/omTZqoRYsWqlu3rj7//HN16NChyDGdTmexhVogMQyjRKYAulwuphb+D+Hh4WratGmRUzSvueYa7j8AAAAAAGD/9MyCKlasqKuuukpbtmwpcn3NmjVVt27dYtcDZ6u4vckmTZpUukEAAAAAAEBACqjSzOPxaNOmTapZs2aR67Ozs7V9+/Zi1wPnYtSoUWe8DgAAAAAAyi9bS7NnnnlGy5Yt07Zt27Rq1Sp17NhROTk56tq1q44cOaJnnnlG3377rX799VctXbpU9957r6Kjo33H7wIuxM0336ywsDBJUlhYmG6++WabEwEAAAAAgEBh6zHNduzYoYceekj79u3TxRdfrOuuu04rV65U3bp1dfz4cW3cuFGzZs3SwYMHVbNmTbVp00bz5s1TZGSknbFRhixatMjuCAAAAAAAIADZWprNnTu32HXh4eFauHBhKaYBAAAAAAAATgmoY5oBAAAAAAAAgYDSDAAAAAAAALCgNAMAAAAAAAAsKM1QrrVu3dr3BQAonzIyMtSpUydlZGTYHQUAAAABhNIM5dZ77713xusAgLLP7XYrJSVFu3fvVkpKitxut92RAAAAECAozVBuTZ8+/YzXAQBl3+zZs5WdnS1Jys7OVmpqqs2JAAAAEChC7Q4A2CExMbHY5WlpaaWcpvwyTdNve3WYpimPxyNJcjqdMgzDL+O6XC6/jQUgsOzYsUOpqakyTVPSqdeR1NRUtWvXTrGxsTanAwAAgN0ozVDuHDp0SAcOHChy3YEDB3To0CFVqVKllFOVT263WwkJCXbHOKP09HSFh4fbHQOAn5mmqcmTJxe7fMKECRTmAAAA5RzTM1HuJCUlXdB6AEDwy8rKUmZmprxeb6HlXq9XmZmZysrKsikZAAAAAgV7mqHcSU1NVfv27c+4HqXD5XIpPT3dL2O53W7ftNu0tDS5XC6/jOuvcQAElri4OLVs2VJr164tVJw5HA41b95ccXFxNqYDAABAIKA0Q7lTpUoVXXTRRUVO0axWrRpTM0uRYRglMvXR5XIxpRLAGRmGob59+6pr165FLmdqJgAAAJieiXKpuIP9f/zxx6WcBABgl9jYWCUlJfkKMsMwlJSUpNq1a9ucDAAAAIGA0gzlVvfu3c94HQBQ9iUnJysqKkqSFB0dzXEtAQAA4ENphnKrc+fOZ7wOACj7XC6XBgwYoJiYGPXv35/jGAIAAMCHY5qhXFu6dKndEQAANouPj1d8fLzdMQAAABBg2NMMAAAAAAAAsKA0AwAAAAAAACwozQAAAAAAAAALSjMAAAAAAADAgtIMAAAAAAAAsKA0AwAAAAAAACwozQAAAAAAAACLULsDAOfCNE253W6/jeXxeCRJTqdThmH4ZVyXy+W3sQAAKOt4bwcAAIGK0gxBxe12KyEhwe4YZ5Senq7w8HC7YwAAEBR4bwcAAIGK6ZkAAAAAAACABXuaIai4XC6lp6f7ZSy3263ExERJUlpamlwul1/G9dc4AACUB7y3AwCAQEVphqBiGEaJTI9wuVxMuwAAwAa8twMAgEDF9EwAAAAAAADAgtIMAAAAAAAAsKA0AwAAAAAAACwozQAAAAAAAAALSjMAAAAAAADAgtIMAAAAAAAAsKA0AwAAAAAAACwozQAAAAAAAAALSjMAAAAAAADAgtIMAAAAAAAAsKA0AwAAAAAAACwozQAAAAAAAAALSjMAAAAAAADAgtIMAAAAAAAAsKA0AwAAAAAAACwozQAAAAAAAAALSjMAAAAAAADAgtIMAAAAAAAAsKA0AwAAAAAAACxC7Q4AAAAAAABQHpim6bvs8doYJEgUvI8K3nelhdIMAAAAAACgFHg8Ht/lPsujbEwSfDwejyIiIkr1NpmeCQAAAAAAAFiwpxkAAAAAAEApcDqdvsuv3Zgtp8PGMEHA4/3vHnkF77vSQmkGAAAAAABQCgzD8F12OkRpdg4K3nelhemZAAAAAAAAgAWlGQAAAAAAAGBBaQYAAAAAAABYUJoBAAAAAAAAFpRmAAAAAAAAgAWlGQAAAAAAAGBBaQYAAAAAAABYUJoBAAAAAAAAFpRmAAAAAAAAgAWlGQAAAAAAAGBBaQYAAAAAAABYUJoBAAAAAAAAFpRmAAAAAAAAgAWlGQAAAAAAAGBBaQYAAAAAAABYUJoBAAAAAAAAFpRmAAAAAAAAgAWlGQAAAAAAAGBha2k2YsQIGYZR6KtGjRq+9aZpasSIEapVq5bCw8PVunVr/fjjjzYmBgAAAAAAQHlg+55mjRs31s6dO31fGzdu9K2bMGGCUlJS9NprrykzM1M1atTQ7bffrsOHD9uYGAAAAAAAAGVdqO0BQkML7V2WzzRNTZo0Sc8++6w6dOggSZo5c6ZiYmKUmpqqnj17Fjmex+ORx+PxXc/JySmZ4AAAAAAAACizbN/TbMuWLapVq5bq1aunBx98UFu3bpUkbdu2Tbt27VK7du183+t0OnXLLbcoIyOj2PHGjh2rKlWq+L7q1KlT4v8HAAAAAAAAlC22lmatWrXSrFmztHDhQr311lvatWuX4uPjlZ2drV27dkmSYmJiCv1MTEyMb11RhgwZokOHDvm+tm/fXqL/BwAAAAAAAJQ9tk7PTEhI8F2+6qqrdP311+uyyy7TzJkzdd1110mSDMMo9DOmaZ62rCCn0ymn01kygQEAAAAAAFAu2D49s6CKFSvqqquu0pYtW3zHObPuVbZnz57T9j4DAAAAAAAA/CmgSjOPx6NNmzapZs2aqlevnmrUqKHFixf71p84cULLli1TfHy8jSkBAAAAAABQ1tk6PfOZZ57Rvffeq7i4OO3Zs0ejR49WTk6OunbtKsMw1K9fP40ZM0b169dX/fr1NWbMGEVERCgpKcnO2AAAAAAAACjjbC3NduzYoYceekj79u3TxRdfrOuuu04rV65U3bp1JUmDBg3S8ePH1bt3bx04cECtWrXSokWLFBkZaWdsAAAAAAAAlHG2lmZz584943rDMDRixAiNGDGidAIBAAAAAAAACrBjmgEAAAAAAACBgNIMAAAAAAAAsKA0AwAAAAAAACwozQAAAAAAAAALSjMAAAAAAADAgtIMAAAAAAAAsKA0AwAAAAAAACwozQAAAAAAAAALSjMAAAAAAADAgtIMAAAAAAAAsKA0AwAAAAAAACwozQAAAAAAAAALSjMAAAAAAADAgtIMAAAAAAAAsKA0AwAAAAAAACwozQAAAAAAAAALSjMAAAAAAADAgtIMAAAAAAAAsKA0AwAAAAAAACwozQAAAACgDMnIyFCnTp2UkZFhdxQACGqUZgAAAABQRrjdbqWkpGj37t1KSUmR2+22OxIABC1KMwAAAAAoI2bPnq3s7GxJUnZ2tlJTU21OBADBi9IMAAAAAMqAHTt2KDU1VaZpSpJM01Rqaqp27NhhczIACE6UZgAAAAAQ5EzT1OTJk4tdnl+kAQDOHqUZAAAAAAS5rKwsZWZmyuv1Flru9XqVmZmprKwsm5IBQPCiNAMAAACAIBcXF6eWLVvK4XAUWu5wOHTttdcqLi7OpmQAELwozQAAAAAgyBmGob59+xa73DAMG1IBQHCjNAMAAACAMiA2NlZJSUm+gswwDCUlJal27do2JwOA4ERpBgAAAABlRHJysqKioiRJ0dHRSkpKsjkRAAQvSjMAAAAAKCNcLpcGDBigmJgY9e/fXy6Xy+5IABC0Qu0OAAAAAADwn/j4eMXHx9sdAwCCHnuaAQAAAAAAABaUZgAAAAAAAIAFpRkAAAAAAABgQWkGAAAAAAAAWFCaAQCAci0jI0OdOnVSRkaG3VEAAAAQQCjNAABAueV2u5WSkqLdu3crJSVFbrfb7kgAAAAIEJRmAACg3Jo9e7ays7MlSdnZ2UpNTbU5EQAAAAIFpRkAACiXduzYodTUVJmmKUkyTVOpqanasWOHzckAAAAQCCjNAABAuWOapiZPnlzs8vwiDQAAAOUXpRkAACh3srKylJmZKa/XW2i51+tVZmamsrKybEoGAACAQEFpBgAAyp24uDi1bNlSDoej0HKHw6Frr71WcXFxNiUDAABAoKA0AwAA5Y5hGOrbt2+xyw3DsCEVAAAAAgmlGQAAKJdiY2OVlJTkK8gMw1BSUpJq165tczIAAAAEAkozAABQbiUnJysqKkqSFB0draSkJJsTAQAAIFBQmgEAgHLL5XJpwIABiomJUf/+/eVyueyOBAAAgAARancAAAAAO8XHxys+Pt7uGAAAAAgw7GkGAAAAAAAAWFCaAQAAAAAAABaUZgAAAAAAAIAFpRkAAAAAAABgQWkGAAAAAAAAWFCaAQAAAAAAABaUZgAAAAAAAIBF6IX88M8//6xffvlFN998s8LDw2WapgzD8Fc2ACgTTNOU2+22O8ZpCmYKxHyS5HK5eF8BAhCva+eP1zUAAILHeZVm2dnZ6tSpk5YsWSLDMLRlyxZdeumlevTRR1W1alX9/e9/93dOAAhabrdbCQkJdsc4o8TERLsjFCk9PV3h4eF2xwBgweva+eN1DQCA4HFe0zP79++v0NBQZWVlKSIiwre8U6dOWrBggd/CAQAAAAAAAHY4rz3NFi1apIULFyo2NrbQ8vr16+u3337zSzAAKIteu3G/nA7T7hiSJNOUTuSduhwWIgXKbCGP11Cf5dXsjgHgLB255iGZIRd0xA//MU0pL/fU5ZDQgHlhM/JyVWn9HLtjAACAc3ReWzhHjx4ttIdZvn379snpdF5wKAAoq5wOU06H3Sn+y2V3gCIFRqkI4OyYIaGSo4LdMQoIszvAaXhVAwAgOJ3X9Mybb75Zs2bN8l03DEN5eXmaOHGi2rRp47dwAAAAAAAAgB3Oa0+ziRMnqnXr1lq9erVOnDihQYMG6ccff9T+/fu1YsUKf2cEAAAAAAAAStV57WnWqFEjbdiwQddee61uv/12HT16VB06dNC6det02WWX+TsjAAAAAAAAUKrO+6itNWrU0MiRI/2ZBQAAAAAAAAgI51WabdiwocjlhmHI5XIpLi6OEwIAAAAAAAAgaJ1XaXbNNdfI+M8pvE3z1PmAjAKn9K5QoYI6deqkqVOnyuUKzHOzAQAAAAAAAMU5r2OapaWlqX79+po2bZq+//57rV+/XtOmTVPDhg2Vmpqq6dOna8mSJXruuef8nRcAAAAAAAAocee1p9mLL76oyZMn64477vAta9q0qWJjYzVs2DB99913qlixop5++mm99NJLfgsLAAAAAAAAlIbz2tNs48aNqlu37mnL69atq40bN0o6NYVz586dF5YOAAAAAAAAsMF5lWZXXHGFxo0bpxMnTviWnTx5UuPGjdMVV1whSfr9998VExPjn5QAAAAAAABAKTqv0uz111/X/PnzFRsbq9tuu0233367YmNjNX/+fE2ZMkWStHXrVvXu3fusxxw7dqwMw1C/fv18y7p16ybDMAp9XXfddecTGQAAAAAAADhr53VMs/j4eP366696//339dNPP8k0TXXs2FFJSUmKjIyUJHXu3Pmsx8vMzNS0adPUtGnT09bdeeedmjFjhu96WFjY+UQGAAAAbOd2u+2OcJqCmQIxnyS5XC4ZhmF3DABAOXNepZkkVapUSTfffLMuueQS3zTNf/3rX5Kk++6776zHOXLkiJKTk/XWW29p9OjRp613Op2qUaPGWY/n8Xjk8Xh813Nycs76ZwEAAICSlJiYaHeEMwrUfOnp6QoPD7c7BgCgnDmv0mzr1q1KTEzUxo0bZRiGTNMs9Jcfr9d71mM98cQTuvvuu3XbbbcVWZotXbpU1atXV9WqVXXLLbfoxRdfVPXq1Ysdb+zYsRo5cuS5/YcAAAAAAACAAs6rNOvbt6/q1aunL7/8UpdeeqlWrVql/fv36+mnn9ZLL7101uPMnTtXa9euVWZmZpHrExIS9MADD6hu3bratm2bhg0bprZt22rNmjVyOp1F/syQIUM0YMAA3/WcnBzVqVPn3P6DAAAAQAl67cb9cjpMu2NIkkxTOpF36nJYiBQosyA9XkN9llezOwYAoBw7r9Ls22+/1ZIlS3TxxRcrJCREDodDN954o8aOHaunnnpK69at+59jbN++XX379tWiRYvkcrmK/J5OnTr5Ljdp0kQtWrRQ3bp19fnnn6tDhw5F/ozT6Sy2UAMAAAACgdNhyumwO8V/Fb01brfAKBUBAOXXeZ090+v1qlKlSpKk6Oho/fHHH5KkunXravPmzWc1xpo1a7Rnzx41b95coaGhCg0N1bJly/TKK68oNDS0yCmeNWvWVN26dbVly5bziQ0AAAAAAACclfPa06xJkybasGGDLr30UrVq1UoTJkxQWFiYpk2bpksvvfSsxrj11lu1cePGQsv++te/6oorrtDgwYPlcJz+p7fs7Gxt375dNWvWPJ/YAAAAAAAAwFk5r9Lsueee09GjRyVJo0eP1j333KObbrpJUVFRmjdv3lmNERkZqSZNmhRaVrFiRUVFRalJkyY6cuSIRowYofvvv181a9bUr7/+qqFDhyo6Ojpgz+oDAAAAAACAsuG8SrM77rjDd/nSSy/Vv//9b+3fv18XXXRRobNoXgiHw6GNGzdq1qxZOnjwoGrWrKk2bdpo3rx5ioyM9MttAAAAAAAAAEU5r9KsKNWqXfiZbZYuXeq7HB4eroULF17wmAAAAAAAAMC5Oq8TAQAAAAAAAABlGaUZAAAAAAAAYEFpBgAAAAAAAFhQmgEAAAAAAAAWlGYAAAAAAACABaUZAAAAAAAAYBFqdwAAAMoz0zTldrv9NpbH45EkOZ1OGYbhl3FdLpffxvIH7jMAAACUBkozAABs5Ha7lZCQYHeMM0pPT1d4eLjdMXy4zwAAAFAamJ4JAAAAAAAAWLCnGQAANnK5XEpPT/fLWG63W4mJiZKktLQ0uVwuv4zrr3H8hfsMAAAApYHSDAAAGxmGUSLT+FwuV5mdHsh9BgAAgNLA9EwAAAAAAADAgtIMAAAAAAAAsKA0AwAAAAAAACwozQAAAAAAAAALSjMAAAAAAADAgtIMAAAAAAAAsKA0AwAAAAAAACwozQAAAAAAAAALSjMAAAAAAADAgtIMAAAAAAAAsKA0AwAAAAAAACxC7Q4QTEzTlNvttjvGaQpmCsR8pmlKkgzDsDlJYYF+v0mSy+UKuPuN58G5C7Q8AAAAAID/jdLsHLjdbiUkJNgd44wSExPtjhCUAvV+S09PV3h4uN0xCuF5AAAAAAAoD5ieCQAAAAAAAFiwp9l5OnLNQzJDAuTuM00pL/fU5ZBQKUCm8xl5uaq0fk6hZa/duF9Oh2lTosJMUzqRd+pyWEjA3G3yeA31WV7N7hhnhefB/1bU8wAAAAAAEPgC5NNu8DFDQiVHBbtjFBBmd4DTFFWNOR2mnI5Sj1Isl90BihQYpeLZ4HnwvwXPbxMAAABAafJ4DQXKJ4ZA3qnETpRmAAAAAAAApSxYZhiVZxzTDAAAAAAAALBgTzMAAAAAAIBS4HK5lJ6ebneM07jdbiUmJkqS0tLS5HIF3sGM7MhEaQYAAAAAAFAKDMNQeHi43THOyOVyBXzG0sL0TAAAAAAAAMCC0gwAAAAAAACwoDQDAAAAAAAALCjNAAAAAAAAAAtKMwAAAAAAAMCC0gwAAAAAAACwoDQDAAAAAAAALCjNAAAAAAAAAAtKMwAAAAAAAMCC0gwAAAAAAACwoDQDAAAAAAAALCjNAAAAAAAAAAtKMwAAAAAAAMCC0gwAAAAAAACwoDQDAAAAAAAALCjNAAAAAAAAAAtKMwAAAAAAAMCC0gwAAAAAAACwoDQDAAAAAAAALCjNAAAAAAAAAAtKMwAAAAAAAMCC0gwAAAAAAACwoDQDAAAAAAAALELtDgAA5YnHa3eCwFfwPjJN074gAAAAAMo1SjMAKEV9lkfZHSGoeDweRURE2B0DAAAAQDnE9EwAAAAAAADAgj3NAKAUvXZjtpwOu1MENo/3v3vkOZ1Om9MAAAAAKK8ozQCgFDkdojQ7B4Zh2B0BAAAAQDnF9EwAAAAAAADAgtIMAAAAAAAAsKA0AwAAAAAAACwozQAAAAAAAAALSjMAAAAAAADAgtIMAAAAAAAAsKA0AwAAAAAAACwozQAAAAAAAAALSjMAAAAAAADAgtIMAAAAAAAAsAiY0mzs2LEyDEP9+vXzLTNNUyNGjFCtWrUUHh6u1q1b68cff7QvJAAAAAAAAMqFULsDSFJmZqamTZumpk2bFlo+YcIEpaSk6N1331WDBg00evRo3X777dq8ebMiIyNtSgsAAFC+mab53yvek/YFCRZF3Ecerw05gkzB+6jQYw74D9M05Xa7/TaWx+ORJDmdThmG4ZdxXS6X38YCUPpsL82OHDmi5ORkvfXWWxo9erRvuWmamjRpkp599ll16NBBkjRz5kzFxMQoNTVVPXv2LHI8j8fje7GTpJycnJL9DwAAAJQzBbe1Ir+fa2OS4NVneZTdEYKKx+NRRESE3TEQYNxutxISEuyOcUbp6ekKDw+3OwaA82T79MwnnnhCd999t2677bZCy7dt26Zdu3apXbt2vmVOp1O33HKLMjIyih1v7NixqlKliu+rTp06JZYdAAAAAAAAZZOte5rNnTtXa9euVWZm5mnrdu3aJUmKiYkptDwmJka//fZbsWMOGTJEAwYM8F3PycmhOAMAAPAjp9Ppu3z46gclRwUb0wQB78nT9sh77cZsOR025QkSHu9/98gr+JgD8rlcLqWnp/tlLLfbrcTERElSWlqaXC6XX8b11zgA7GFbabZ9+3b17dtXixYtOuMLiXX+t2maZ5wT7nQ6eVMFAAAoQYW2xRwVKM3Og9MhSrNzwDGhUBTDMEpk6qPL5WJKJQBJNk7PXLNmjfbs2aPmzZsrNDRUoaGhWrZsmV555RWFhob69jDL3+Ms3549e07b+wwAAAAAAADwJ9tKs1tvvVUbN27U+vXrfV8tWrRQcnKy1q9fr0svvVQ1atTQ4sWLfT9z4sQJLVu2TPHx8XbFBgAAAAAAQDlg2/TMyMhINWnSpNCyihUrKioqyre8X79+GjNmjOrXr6/69etrzJgxioiIUFJSkh2RAQAAAAAAUE7YeiKA/2XQoEE6fvy4evfurQMHDqhVq1ZatGiRIiMj7Y4GAAAAAACAMiygSrOlS5cWum4YhkaMGKERI0bYkgcAAAAAAADlk23HNAMAAAAAAAACFaUZAAAAAAAAYEFpBgAAAAAAAFhQmgEAAAAAAAAWlGYAAAAAAACABaUZAAAAAAAAYBFqd4BgYprmf694T9oXJFgUcR95vDbkCDIF76NCj7kAwfPgHHEfAZJOvXa43W67Y5ymYKZAzCdJLpdLhmHYHQNACfLna6RpmvJ4PJIkp9Ppt9cPXosAlEeUZucg/81HkiK/n2tjkuDVZ3mU3RGCisfjUUREhN0xCuF5AOB8uN1uJSQk2B3jjBITE+2OUKT09HSFh4fbHQNACQqG10heiwCUR0zPBAAAAAAAACzY0+wcOJ1O3+XDVz8oOSrYmCYIeE+etifSazdmy+mwKU+Q8Hj/u0dewcdcoOB5cI6KeB4A5d1rN+6X0xEY089NUzqRd+pyWIgUKDOPPF5DfZZXszsGgFLicrmUnp7ul7Hcbrdvz9m0tDS5XC6/jOuvcQAgmFCanYNCc/gdFSgLzoPTIUqzcxCIx43geQDgQjkdZkC9FwTmx8DAKBUBlA7DMEpk6qPL5WJKJQBcAKZnAgAAAAAAABaUZgAAAAAAAIAFpRkAAAAAAABgQWkGAAAAAAAAWFCaAQAAAAAAABaUZgAAAAAAAIAFpRkAAAAAAABgQWkGAAAAAAAAWFCaAQAAAAAAABaUZgAAAAAAAIAFpRkAAAAAAABgQWkGAAAAAAAAWFCaAQAAAAAAABaUZgAAAAAAAIAFpRkAAAAAAABgQWkGAAAAAAAAWFCaAQAAAAAAABaUZgAAAAAAAIAFpRkAAAAAAABgQWkGAAAAAAAAWFCaAQAAAAAAABaUZgAAAAAAAIAFpRkAAAAAAABgQWkGAAAAAAAAWFCaAQAAAAAAABaUZgAAAAAAAIAFpRkAAAAAAABgEWp3AAAoTzxeQ5JpdwxJkmlKJ/JOXQ4LkQzD3jz5Tt1Hgc00TbndbrtjnKZgpkDLF2h5ALvxfvC/BcP7AQCgbKM0A4BS1Gd5NbsjwA/cbrcSEhLsjnFGiYmJdkcAcAa8HwAAEPiYngkAAAAAAABYsKcZAJSStLQ0uVwuu2P4uN1u395IgZYtXyBmsjpyzUMyQwLk7dQ0pbzcU5dDQgNmjpWRl6tK6+fYHQMICIH4esv7AQAARQuQrXwAKPtcLpfCw8PtjlGkQM4W6MyQUMlRwe4YBYTZHeA0gXHUJiAwBPrrbaDnAwCgNDE9EwAAAAAAALCgNAMAAAAAAAAsKM0AAAAAAAAAC0ozAAAAAAAAwILSDAAAAAAAALCgNAMAAAAAAAAsKM0AAAAAAAAAC0ozAAAAAAAAwILSDAAAAAAAALCgNAMAAAAAAAAsKM0AAAAAAAAAi1C7A6B88XgNSabdMSRJpimdyDt1OSxEMgx78+Q7dR8BQNnl8dqdIPAVvI9MMzDeN4tj5OUGyDu7Tr255+WeuhwSGjBv7kZ+JgAAEFQozVCq+iyvZncEAIDN+iyPsjtCUPF4PIqIiLA7RrEqrZ9jdwQAAIASwfRMAAAAAAAAwII9zVAq0tLS5HK57I5RiNvtVmJioqTAzCcpIDMBwIV67cZsOR12pwhsHu9/98hzOp02pzmdy+VSenq63TFOw3s7AADwJ0ozlAqXy6Xw8HC7YxQr0PMBQFnidIjS7BwYAXJcroIMwwj4903e2wEAwIVieiYAAAAAAABgQWkGAAAAAAAAWFCaAQAAAAAAABaUZgAAAAAAAIAFpRkAAAAAAABgQWkGAAAAAAAAWFCaAQAAAAAAABaUZgAAAAAAAIAFpRkAAAAAAABgQWkGAAAAAAAAWNhamk2ZMkVNmzZV5cqVVblyZV1//fVKT0/3re/WrZsMwyj0dd1119mYGAAAAAAAAOVBqJ03Hhsbq3Hjxunyyy+XJM2cOVPt27fXunXr1LhxY0nSnXfeqRkzZvh+JiwszJasVkZerky7Q+QzTSkv99TlkFDJMOzN8x9GfiYAAAAAAIAgY2tpdu+99xa6/uKLL2rKlClauXKlrzRzOp2qUaPGWY/p8Xjk8Xh813NycvwT1qLS+jklMi4AAAAAAADsFzDHNPN6vZo7d66OHj2q66+/3rd86dKlql69uho0aKAePXpoz549Zxxn7NixqlKliu+rTp06JR0dAAAAAAAAZYyte5pJ0saNG3X99dfL7XarUqVKSktLU6NGjSRJCQkJeuCBB1S3bl1t27ZNw4YNU9u2bbVmzRo5nc4ixxsyZIgGDBjgu56Tk+O34szlchU65lqgcLvdSkxMlCSlpaXJ5XLZnOh0gZgJAAAAAACgOLaXZg0bNtT69et18OBB/eMf/1DXrl21bNkyNWrUSJ06dfJ9X5MmTdSiRQvVrVtXn3/+uTp06FDkeE6ns9hC7UIZhqHw8PASGdtfXC5XwGcEAAAAAAAIdLaXZmFhYb4TAbRo0UKZmZmaPHmypk6detr31qxZU3Xr1tWWLVtKOyYAAAAAAADKkYA5plk+0zQLHci/oOzsbG3fvl01a9Ys5VQAAAAAAAAoT2zd02zo0KFKSEhQnTp1dPjwYc2dO1dLly7VggULdOTIEY0YMUL333+/atasqV9//VVDhw5VdHS07/hdAAAAAAAAQEmwtTTbvXu3OnfurJ07d6pKlSpq2rSpFixYoNtvv13Hjx/Xxo0bNWvWLB08eFA1a9ZUmzZtNG/ePEVGRtoZGwAAAAAAAGWcraXZ9OnTi10XHh6uhQsXlmIaAAAAAAAA4JSAO6YZAAAAAAAAYDdKMwAAAAAAAMCC0gwAAAAAAACwoDQDAAAAAAAALCjNAAAAAAAAAAtKMwAAAAAAAMAi1O4AAIKXkZcr0+4Q+UxTyss9dTkkVDIMe/P8h5GfCWWKaRZ45HtP2hckWFjuI4/XkALk1cM0pRN5py6HhQTMS8d/7iMAgcw0TbndbrtjnKZgpkDMl/8eagTKC+5/BPr9Jkkulyvg7jegrKM0A3DeKq2fY3cEwBYej8d3OfL7uTYmCU59llezOwIAXDC3262EhAS7Y5xRYmKi3RGCUqDeb+np6QoPD7c7BlCuMD0TAAAAAAAAsGBPMwDnxOVyKT093e4Yp3G73b6/Cqalpcnlctmc6HSBmAnnx+l0+i4fvvpByVHBxjRBwHvSt0fexx9/HFB/Jee1A4A/HLnmIZkhAfLRKoAPWWGdpfDajfvldDBd/0w8XoM9tAEbBcgrO4BgYRhGQH3gLYrL5Qr4jAhuhY4n4qhAaXYOwsPDA/b5yWsHgPNlhoQG2HtBmN0BTlNUNeZ0mHI6Sj1KsQLzTxSBUSoC5RXTMwEAAAAAAAALSjMAAAAAAADAgtIMAAAAAAAAsKA0AwAAAAAAACwozQAAAAAAAAALSjMAAAAAAADAgtIMAAAAAAAAsKA0AwAAAAAAACwozQAAAAAAAAALSjMAAAAAAADAgtIMAAAAAAAAsAi1OwAAAAAAAADOjWmacrvdfhmr4Dj+GlOSXC6XDMPw23iljdIMAAAAAAAgyLjdbiUkJPh93MTERL+NlZ6ervDwcL+NV9qYngkAAAAAAABYsKcZAAAAAABAkHG5XEpPT/fLWKZpyuPxSJKcTqffplS6XC6/jGMXSjMAAAAAAIAgYxiGX6c+RkRE+G2ssoLpmQAAAAAAAIAFpRkAAAAAAABgQWkGAAAAAAAAWFCaAQAAAAAAABaUZgAAAAAAAIAFpRkAAAAAAABgQWkGAAAAAAAAWFCaAQAAAAAAABaUZgAAAAAAAIAFpRkAAAAAAABgQWkGAAAAAAAAWITaHQAAgGBm5OXKtDtEPtOU8nJPXQ4JlQzD3jz/YeRnAoAyxDQLvPp7T9oXJFhwHwEIQpRmAABcgErr59gdAQBgA4/H47sc+f1cG5MAAEoK0zMBAAAAAAAAC/Y0AwDgHLlcLqWnp9sd4zRut1uJiYmSpLS0NLlcLpsTnS4QMwHA+XA6nb7Lh69+UHJUsDFNEPCeZI88AEGH0gwAgHNkGIbCw8PtjnFGLpcr4DMCQDAzCh430lGB0gwAyiCmZwIAAAAAAAAWlGYAAAAAAACABaUZAAAAAAAAYEFpBgAAAAAAAFhQmgEAAAAAAAAWlGYAAAAAAACABaUZAAAAAAAAYEFpBgAAAAAAAFhQmgEAAAAAAAAWlGYAAAAAAACABaUZAAAAAAAAYBFqdwAAAAAAQPnj8dqdIPAVvI9M07QvCFBOUZoBAAAAAEpdn+VRdkcIKh6PRxEREXbHAMoVpmcCAAAAAAAAFuxpBgAAAAAoda/dmC2nw+4Ugc3j/e8eeU6n0+Y0QPlDaQYAAAAAKHVOhyjNzoFhGHZHAModpmcCAAAAAAAAFpRmAAAAAAAAgAWlGQAAAAAAAGBBaQYAAAAAAABYUJoBAAAAAAAAFpRmAAAAAAAAgAWlGQAAAAAAAGARancAAAAAAAhmRl6uTLtD5DNNKS/31OWQUMkw7M3zH0Z+JgAIIpRmAAAAAHABKq2fY3cEAEAJYHomAAAAAAAAYGHrnmZTpkzRlClT9Ouvv0qSGjdurOHDhyshIUGSZJqmRo4cqWnTpunAgQNq1aqVXn/9dTVu3NjG1AAAAADKO5fLpfT0dLtjnMbtdisxMVGSlJaWJpfLZXOiwgrmA4BAZ2tpFhsbq3Hjxunyyy+XJM2cOVPt27fXunXr1LhxY02YMEEpKSl699131aBBA40ePVq33367Nm/erMjISDujAwDgF6Zpyu12+2WsguP4a0zp1AdDI0COiQMAgcIwDIWHh9sd44xcLldAZ/R4DSlAjgZnmtKJvFOXw0IC5lBw/7mPANjF1tLs3nvvLXT9xRdf1JQpU7Ry5Uo1atRIkyZN0rPPPqsOHTpIOlWqxcTEKDU1VT179ixyTI/HI4/H47uek5NTcv8BAAAukNvt9u1h7U/+/Ct+enp6QH/oAgAEpz7Lq9kdAQDOKGCOaeb1ejV37lwdPXpU119/vbZt26Zdu3apXbt2vu9xOp265ZZblJGRUew4Y8eOVZUqVXxfderUKY34AAAAAAAAKENsP3vmxo0bdf3118vtdqtSpUpKS0tTo0aNfMVYTExMoe+PiYnRb7/9Vux4Q4YM0YABA3zXc3JyKM4AAAHLn8fEMU3Tt7e10+n025TKQDseDgAgeHEsuPMXiJmAss720qxhw4Zav369Dh48qH/84x/q2rWrli1b5ltv3eA3TfOMHwKcTqecTmeJ5QUAwJ/8fUyciIgIv40FAIC/cSw4AMHE9umZYWFhuvzyy9WiRQuNHTtWV199tSZPnqwaNWpIknbt2lXo+/fs2XPa3mcAAAAAAACAP9lemlnlTy2pV6+eatSoocWLF/vWnThxQsuWLVN8fLyNCQEAAAAAAFDW2To9c+jQoUpISFCdOnV0+PBhzZ07V0uXLtWCBQtkGIb69eunMWPGqH79+qpfv77GjBmjiIgIJSUl2RkbAAAAAAAAZZytpdnu3bvVuXNn7dy5U1WqVFHTpk21YMEC3X777ZKkQYMG6fjx4+rdu7cOHDigVq1aadGiRYqMjLQzNgAAAAAAAMo4W0uz6dOnn3G9YRgaMWKERowYUTqBAAAAAAAAAAXgMc0AAAAAAAAAu1GaAQAAAAAAABaUZgAAAAAAAIAFpRkAAAAAAABgQWkGAAAAAAAAWFCaAQAAAAAAABahdgcor0zTlNvt9stYBcfx15iS5HK5ZBiG38YDrHgenDvuM4DnQVnD7/P8cL8BAFDyKM1s4na7lZCQ4PdxExMT/TZWenq6wsPD/TYeYMXz4NxxnwE8D8oafp/nh/sNAICSx/RMAAAAAAAAwII9zWzicrmUnp7ul7FM05TH45EkOZ1Ov+0G73K5/DIOUByeB+eO+wzgeVDW8Ps8P9xvAACUPEozmxiG4dfd1SMiIvw2FlBaeB6cO+4zgOdBWcPv8/xwvwEAUPKYngkAAAAAAABYUJoBAAAAAAAAFpRmAAAAAAAAgAWlGQAAAAAAAGBBaQYAAAAAAABYUJoBAAAAAAAAFpRmAAAAAAAAgAWlGQAAAAAAAGBBaQYAAAAAAABYUJoBAAAAAAAAFpRmAAAAAAAAgEWo3QGAc2Gaptxut1/GKjiOv8aUJJfLJcMw/DYeAAAAyja2cc8P9xuAkmaYpmnaHaIk5eTkqEqVKjp06JAqV65sdxxcoOPHjyshIcHuGGeUnp6u8PBwu2MAAAAgSLCNe3643wCcr7PtipieCQAAAAAAAFiwpxmCij93wTZNUx6PR5LkdDr9tts0u2ADAADgXLCNe3643wCcr7PtijimGYKKYRh+3b05IiLCb2MBAAAA54Nt3PPD/QagpDE9EwAAAAAAALCgNAMAAAAAAAAsKM0AAAAAAAAAC0ozAAAAAAAAwILSDAAAAAAAALCgNAMAAAAAAAAsKM0AAAAAAAAAC0ozAAAAAAAAwILSDAAAAAAAALCgNAMAAAAAAAAsKM0AAAAAAAAAC0ozAAAAAAAAwILSDAAAAAAAALCgNAMAAAAAAAAsKM0AAAAAAAAAC0ozAAAAAAAAwILSDAAAAAAAALCgNAMAAAAAAAAsKM0AAAAAAAAAC0ozAAAAAAAAwILSDAAAAAAAALCgNAMAAAAAAAAsKM0AAAAAAAAAC0ozAAAAAAAAwCLU7gAlzTRNSVJOTo7NSQAAAAAAAGC3/I4ovzMqTpkvzQ4fPixJqlOnjs1JAAAAAAAAECgOHz6sKlWqFLveMP9XrRbk8vLy9McffygyMlKGYdgdp1zKyclRnTp1tH37dlWuXNnuOIAteB6gvOM5APA8ACSeB4DE8yAQmKapw4cPq1atWgoJKf7IZWV+T7OQkBDFxsbaHQOSKleuzAsCyj2eByjveA4APA8AiecBIPE8sNuZ9jDLx4kAAAAAAAAAAAtKMwAAAAAAAMCC0gwlzul06vnnn5fT6bQ7CmAbngco73gOADwPAInnASDxPAgmZf5EAAAAAAAAAMC5Yk8zAAAAAAAAwILSDAAAAAAAALCgNAMAAAAAAAAsKM0AAAAAAAAAC0ozAAAAAAAAwILSDChDCp4MlxPjojzgcQ6cHa/Xa3cEIKD88ssvdkcA/CIvL0/SqW0itotQnuTk5JTK7VCaAWWE1+uVYRi+6wUvA2VV/uPc4/HYnAQIXH/5y1/0xBNPKDc31+4oQEAYNWqUHn74Ya1evdruKMAFOXnypEJCTn2kP3jwINv/KDcee+wx3XLLLdq7d2+J3xalGVAGfPnll9q0aZMkqV+/furXr5+9gYAS9vXXX+u7776TJA0cOFDvvfcef10FinH33XdrxowZeu6553Ty5Em74wC2u/zyy1W5cmWNHDnS914CBJu0tDTNnz9fktS3b1/df//9vMaj3Hjqqad04MABPfzwwyVenBkmnzKAoGWapjwej+rVq6fatWurUaNG+uyzz/TNN9+oSZMmdscDSsSOHTvUuXNnhYeHKyoqSnPnztWaNWvUtGlTu6MBAcfr9crhcOjDDz9UcnKyBg4cqGHDhsnlctkdDbDV/PnzNX36dOXm5uqFF17QNddcY3ck4Jw88MAD+uc//6mEhAR98803+vrrr9n+R7mQm5ur0NBQ/fTTT7rzzjt1xRVX6J133lGNGjVK5PbY0wwIYoZhyOVyaefOndq6davmzZunt956izdMlGmxsbEaOnSofvjhB82dO1fvvvuumjZt6jumB4BT8gszSWrcuLH69u2rsWPHasKECeyNgHKp4PtEZGSkoqOj9e2332rIkCFav369fcGA8/Dhhx/q0ksv1RdffKHhw4ez/Y9yIS8vT6GhoZKkP/74Q08++aQWLFigJ598Unv27CmR26Q0A4Kc2+3W1q1bVbVqVUVFRenll18utOFXcAORHUsRzAo+lqOjoxUbG6vmzZvrgw8+0Lfffus7pgePc+CU/MJs0KBBSkxM1KFDh9S8eXONHDlSw4YNozhDuZP/PtG/f3/16NFDlSpVUtu2bbVu3To9++yzHOMMQcPtduvIkSOqU6eO2rZtq5EjR+rjjz/WiRMnJHFyMJRd+a/jgwcPVpcuXXTw4EF17NhRS5Ys0cMPP1wixRnTM4EglJeX53vBKOjkyZOqX7++atSooalTp6pp06YcEBRlQsHH/PLly1WrVi3VqFFDy5cv10svvaQKFSpo2LBhuu6663w/c/z4cYWHh9sVGQgIixcv1v33368FCxYoPj5eR48e1dy5c9WrVy8988wzGjlypMLCwuyOCZSaVatWqUOHDpo7d65uuukmSVJqaqqmTZumiIgIjRs3jun+CEgFt4UK7kksnTrhy6JFizRjxgzdfffdvtf1vXv36uKLL7YlL1BS1q5dq3bt2ik1NVXt2rWTaZpavXq1EhMT1bhxY82aNUsxMTF+uz32NAOCjGmavjfMjz76SGPHjtWSJUu0fft2VahQQevWrdOuXbvUu3dvrVmzRidOnNB9992nYcOG2ZwcOD8FH/NDhgzRww8/rOXLl8vhcKhdu3bq06ePcnNzNWbMGH377beSpA4dOujjjz+2MzYQEA4fPqyYmBhdddVVkqSKFSuqe/fuSklJ0fjx4/X3v/9dbrfb5pRA6Tp69KicTqfvelJSkrp27aolS5Zo6NChvvcSIFAU3BZ6++231bt3b7388stas2aNJOmDDz7QHXfcoUcffVRpaWn6/fffdd9996lXr152xgZKhNvtVkhIiBo2bOhb1rJlS7333ntatmyZnn76af3xxx9+uz32NAOCiGmavj3HBg8erLfffls1a9ZUdna22rdvr169eumaa67RgQMH1KpVKxmGodDQUBmGoXXr1qlChQo2/w+A8zd+/HilpKQoLS1NjRo1UtWqVX3rPv30U02dOlX//ve/FRUVpb179+rnn3/mMY9ypeB7RL4VK1bo5ptv1tdff60bbrjBt6fC+vXrdeONN+rYsWN69dVX9cQTT9iUGig5BZ8T+Ze///57dezYUaNHj1anTp0K7b1z9dVX6/Dhw+rYsaMmTJhgZ3TAp+DjeMSIEXr55Zd16623asWKFbr22mvVpUsXPfDAA5Kkzp07Kz09XdHR0XI6nVq9ejXbQghqRW3b7Nu3T5dddpleeOEFPfXUU77lv//+u2655RZt3bpVffr00SuvvOKXDKF+GQVAqch/wVi9erX+/e9/64svvlCrVq00ffp0vfPOO3rppZf09NNP609/+pMyMzP17rvvyuFwqFevXgoNDfWdaQQINseOHdOXX36pwYMHKz4+3rc8/zF93333qUaNGlq7dq3++OMPDR8+nMc8ypWCH/w9Ho/CwsKUm5urG264Qe3bt9ewYcM0fvx4tWzZUpIUFRWlLl26qH379rr11lvtjA6UiILPiaNHj8rj8ahatWq6+uqrdeONN6pv37665JJL1KpVK0nSrl271LBhQ919993q3LmzndGBQvK3/9etW6etW7fqiy++0A033KC1a9dq+PDhmjZtmvLy8tSpUye99957+uyzz5SXl6d77rlHDoeDbSEErYKv4wcOHFCFChWUl5en6OhoPfbYY5o1a5aioqKUnJwsSapUqZJuvvlmffjhh36dZs+eZkCQef/99/XJJ58oJCREqampvjfBmTNnatq0abr00kv19NNPn3bqdOuxD4BgsmfPHjVq1EivvvqqHnrooUJvom63WwcPHjztNNM85lFeFHw+TJo0SStXrtTevXt17bXXauDAgdq6dauef/55/f777+rbt6+ioqL0xhtv6MSJE/rqq69kGAYfqlCmFNwzYdy4cVq4cKG2b9+uJk2a6LnnnlOzZs3Uvn17fffdd3rkkUdUs2ZNffLJJzJNU1999ZVCQkKKPX4sYIf33ntPM2bM0MmTJ/XJJ58oKipK0qk/pI8YMUInTpxQjx49fHuc5WNbCMGq4Ov4mDFj9PXXX2vbtm1q1aqVHnvsMV1xxRUaOHCgVqxYoXbt2qlx48b68MMPdeTIEa1cuVIhISF+e/zzTgAEmZ9++knLly/X2rVrtWvXLt/yrl27qmfPnvrtt9/07LPPauvWrYV+jjdMBIuizvhUvXp1NWvWTB9//LEOHz7seyOUpDVr1mjKlCk6dOhQoXF4zKO8yP9g/7e//U0vvviibr75ZiUkJOjDDz/UfffdpxYtWuiZZ57RTTfdpD59+mjo0KE6duyYFi5cKMMwZJomhRnKlPwPWsOHD9fkyZPVuXNn/fOf/9SKFSvUv39/ZWdn67PPPlO3bt20evVqTZ8+XZGRkVq0aBGFGQJS1apVtX//fv3444/KzMz0LW/RooVGjhyp8PBwjR07VkuXLi30c2wLIVjlv44/99xzSklJ0aOPPqpx48Zp27Zt6tChgypWrKi//e1v6tevnxYtWqT33ntP4eHhWrFihe913F+Pf7aQgABW1EbbqFGjdPHFF+uVV17RxIkT9fTTTysuLk6S1KVLFx09elQbNmzQJZdcYkNi4MJYH/Ner1ehoaEyTVN33HGHUlNTlZKSoqFDh6pChQo6duyYxo4dq7y8PFWuXNnG5IC9NmzYoM8//1z//Oc/FR8fr/nz52vPnj165plnJElt2rRRmzZt9Le//U2hoaGqXr06e5ihTPv11181f/58vfPOO0pISNDy5ct17NgxdenSxXc2wfHjx+v48eM6efKkIiMjeU4gIBS1/X/vvfcqMjJSgwYN0ptvvqmIiAjdfPPNkqTmzZtryJAh+vjjj33LgLLgt99+0+LFi/Xhhx+qTZs2WrBggTZs2KCJEycqPDxcDRs2VMOGDdWjRw+dPHlS4eHhJfI6zvRMIEAVfMNcsmSJjh8/rsOHD+vBBx+UJP3973/X7Nmz1aZNG/Xr10916tTx/Wz+7qz8pRTBpODjdcqUKVqxYoUOHz6s++67T927d5fX69WQIUP01VdfyePx6Morr9TWrVt14sQJrV27VhUqVCjyYKFAWWR9rC9ZskQ9evTQL7/8ok8++USdO3fWxIkT1atXLx05ckSffvqp2rdvr4oVK/p+hvcIlCXWx/P//d//KTExUZs2bdJnn32mpKSk054T999/f6GzaPKcgN0KPgY/+ugj7dq1S3v27FHv3r1Vo0YN/etf/9LQoUMVGxurp556SjfddNMZxwCCScHH7smTJ7Vjxw7dcMMN+vHHH7V8+fJCr+PHjh3T+++/rzvuuEN169b1jVESnwV4NgEBquB0mx49emjkyJEaOHCgbrzxRv300096+umn9eCDD2rp0qV65ZVX9Ouvv/p+Nn+6DW+YCCbWKWYXXXSRrr76avXo0UMvvPCCHA6Hxo0bpzFjxuiuu+5StWrV1KFDB9+ZYXNzcynMUG7kP9Y3bdokSapYsaIuueQSTZs2TV26dNFLL72kXr16SZK+//57LVy4UL/99luhMXiPQFmS/3jeuHGjJKlatWrKzc1Vnz599PDDDxd6Tmzbtk1Tp04tNM2t4BiAXfIfg4MGDdIzzzyj9PR0LV++XJdddpk+++wztWnTRqNGjdLvv/+u1157TV9++WWxYwDBJv+xO3z4cE2ZMkU5OTm69NJL9cYbbxT6Y6Akbd68WV9++aV+//33QmOUyGcBE0DAev31182LL77YXLt2rWmapvnuu++ahmGYX375pe97xo0bZ9auXdt89dVX7YoJ+M3s2bPNevXqmStXrjRN0zQXLlxoGoZhGoZh9u3b18zLyyvy53Jzc0szJhAQUlNTzdtuu800TdM8duyY2bhxY9MwDHPChAm+7zl+/LiZkJBgdujQwfR6vXZFBUrFN998YxqGYWZmZpqmaZqDBg0yK1eubHbr1s33PcePHzfvuece86677uI5gYA0e/Zss0aNGub69etN0zTNL7/80jQMw/z4449937NgwQLzsssuM5999lm7YgJ+U3A7fv78+WZUVJS5bt060zRNMzk52TQMwxwyZIjve44ePWreddddZkJCQqm8jjNhHwhgW7ZsUb9+/fSnP/1JH3zwgfr27as33nhDt956qw4fPqzIyEgNHjxYtWrVUlJSkt1xgXNmnULgdrv19NNPq1WrVvr888+VnJyst956S2FhYeratauio6PVv3//QlPMJA50i/Lpkksu0VdffaVPPvlEf/7zn/XJJ5/o1ltv1WeffabQ0FBVrFhR8+bN0549e7Ru3ToOcI4yLzY2VjfffLM2bNigFi1a6C9/+Yt+++03ffPNN3r88cdVpUoVfffdd9q7d6/Wrl3LcwK2+/LLL3XbbbcVWvbHH3+oY8eOuvrqqzVv3jz16NFDb7zxhhITE3Xo0CFFRETojjvu0Pvvv6+WLVvalBy4cMeOHVNERIRvO37WrFnav3+/Bg4cqGuuuUaS9M4772j//v1699135Xa7VaFCBX333Xfat29fqb2Oc0wzIEB5vV7ddNNNat++vW666Sbdcccdvl1S8/Ly9Nxzz+myyy5T9+7dC/0M5QGC0cCBA3X99derTZs2OnjwoMLDw3XXXXcpOTlZTz/9tDZt2qT4+HgdOnRIkyZN0lNPPWV3ZKBU5W8Q5m+25Z8Vqk+fPjpw4IBef/11Va1aVdu3b1fv3r31+++/q3Llyrrsssv05ptv+qYwc4BzlBXFfUh66qmn9Nlnn+mXX35RSEiI/v3vf+tf//qXZsyYoXr16ikuLk7jx49XaGgozwnY6sMPP1SnTp301ltvFdqef+yxx3T48GE9+uijSkxM1Pjx4/X4449LOnVM4507d2rixIm+aWhs/yMY3XDDDerRo4e6desm6VSB1rRpU23dulXdu3fXW2+9Vej7//a3v2nTpk0yTVNXXnmlXnzxxVJ7HeddAggARW34ORwOPfzww5o6dapvXvcjjzwiSTpy5IjWr19f6OC1+T8DBAOzwEE6P/vsM7333ntKSEjQRRddpIsuukjff/+9PB6P7rjjDklSeHi4Hn74YSUmJnJmKJRL+e8R2dnZio6O9r3eN2/eXM8995wOHjyoqlWrqk6dOvrkk0907NgxhYaGKjw8XJIoB1Dm5D8nduzYoYsuusi3B/Lzzz+vZcuW6Y033lCfPn3UqFEjNWrUSI8//niRZ2cG7PLAAw9o8+bNevzxx2Waprp37y7DMNSxY0cNHDhQCQkJmjRpkq8wO3r0qL7++mvVq1ev0HGb2P5HMOrVq5f+8pe/SJI8Ho8iIiK0YsUKJSUladGiRdq4caOuuuoq32eGcePGnbYtU1qv4+yLDNisYGG2atUqLV68WDk5OZJONfCVKlXSVVdd5TsryNatW/XQQw8pOztbzz77rG25gQuRv7E3f/58LVy4UIMHD1bbtm1960NCQrRp0yZ9+eWXWrNmjZ544gn9/PPPatu2re+vSkB5M2fOHDVq1Egvv/yy1q9fL0n661//qiuvvFIDBw5UXl6epFMfoCIjI32FmWmalAMok+bMmaOmTZvqscce01dffaW8vDxFRUWpefPmWrJkie/7vF7vaQeHpmiAnbxeryTpueee06hRo9S7d2+lpqZKOvXHkKZNm+ryyy/XsWPHdODAAa1evVp/+ctftH37dr300kuSJCaMIRjlP247d+4sp9OpF154QWPGjNHBgwcVExOjuXPnKioqSsnJydq6dWuh127rtkxpvY5TmgE2K3iWnPzpaA0aNNA//vEPXX311Ro7dqyio6P18MMP65JLLtH999+vAwcOaPny5QoNDfW96QLBIP9DvXTqmH3Dhw/X+++/r5MnT0o69Ubq9Xp11VVX6aWXXtKAAQP04IMPas+ePfr0009930MBgPIgf8My/9+6detq0KBBevPNN9WzZ0917txZP/30k+677z7l5eX5zqJs/SDFWWVRVlgf2w899JBeeOEFVaxYUXfddZcefvhhzZkzRwMGDNCCBQt87xsOh4PnAQKGaZq+D/uTJk2Sw+FQbm6uevToobfffltRUVEaP368brrpJr311luqXbu2HnvsMbndbq1atcq3/c9jGsHI+rh1uVx64YUX9Pbbb+vQoUO6+OKLtXDhQjkcDiUmJmrr1q02Jf0vjmkG2KTg9LQlS5aof//+mjRpki6//HINHz5cn3/+uSZMmKBu3bpp586d+uWXX/Tvf/9bl112mVq3bu17g6U8QLDIyclR5cqVJZ06jsf999+vDz74QOPHj9eJEyf0wQcfqHHjxoWeGz/99JPvGAchISE85lFuFNwLOf9AufnLNm/erE2bNmnUqFGqXLmyjh07ptWrV2vChAl65plnbE4OlIyCz4kjR47o2LFjql69um/9kiVLNH/+fH3wwQeqXbu2fvnlF3Xo0EFTpkyRYRgc7B8BZ/jw4XrzzTf16quv6sCBA8rMzNTMmTP1+uuvq2fPnjp69KjvkCyXXHKJ6tevz7YQgtrXX3+tpk2bqmrVqho1apTq16+vhx56SJMmTdKAAQM0btw49ezZU1WqVNHevXuVkJCgHTt2aO3atapVq5ZtuSnNAJtNnTpVu3fvVm5urkaNGuVb/thjj+mTTz7RhAkT1LFjR1WqVKnQz3HQTwSTRYsW6cknn9Tq1as1fPhwzZkzR99//71iYmI0b948vfbaa4qJidHo0aN1xRVXyDRNmaZZ6EMOZzhDeVHwsf7yyy/rm2++0eHDh9WkSRMNGTKkUFGQlpam1atX69VXX1W9evX04YcfqkGDBnZFB0pEwT+mvPjii1qwYIGysrLUrFkz9erVS61bt5bT6dTJkyd17NgxjR8/XitXrlRmZqbWr1+vyy67zOb/AVDYoUOH1LZtW3Xt2tV3cqPc3FyNGDFC48eP11tvvaUuXbqctt3DthCC1W+//aYHHnhAUVFRqlevnqZNm6a1a9eqadOmkqSUlBQ988wzhYqzXbt2aciQIXr77bdt/dxLaQbY7JZbbtE333yjxMREzZs3r9Bfjnr16qXPPvtMQ4cO1SOPPOI7Pg0QbLKzs3XrrbcqOztbhw4dUkZGhpo0aeJb/9577+mdd95RdHS0Ro8erYYNGxb6kASUR0OGDNFbb72l/v376+eff9amTZu0c+dOffvtt6f9xfXLL79Uz5499corr+juu++2KTFQskaMGKHXXntNw4cPV+XKlTVlyhQ5HA49+uij6tKli28byjRN7d+/X507d1a9evX0yiuvKCQkhPcU2Ma6TbNnzx41bdpUL7zwgnr06KG8vDwZhqGjR4/q7rvv1vr16zVu3DjfSQCAsuDTTz9Vjx49dPjwYS1YsEA333yz3G63XC6XpFPF2cCBAzV+/Hh1795dF110ke9n7dxhhJoaKEUFO+r8YzstW7ZMDz30kBYtWqQFCxb4ju0kSW+++aZuvPFGLViwwPdiAgSjqKgo3Xjjjfr9999Vq1Yt354yBQ8G+sgjj+jAgQN6/PHHlZWVxYcblGubN2/Wxx9/rPfff1/PPvusZsyYoRkzZqh+/fq69dZbdejQIUn/fQ7ddtttuvbaa/XWW29xogyUCdnZ2b7LeXl52rFjhz7++GNNmTJFTz31lLp166avvvpKcXFxevPNN/Xzzz9L+u9B/6OionTNNddo+/btHNMMtst//O3evVuSVL16dd1+++2aNm2a/vjjD9/eY5UqVdJll12mWrVqac6cORzsH2VC/ufeqKgoVa5cWfXr19dLL72kvXv3yuVy6cSJE5KkAQMG6O9//7sGDRqkL774otAYdu5pRmkGlJL8vyBJpz7kFCzHZs+erZtvvlmPPvqovvrqq0IfeObNm6d//vOfMgyDN04EFevj9ZFHHtG//vUvRUZG6rbbbvOdESf/8d65c2d169ZNDRs2VGxsrB2RAVvcf//9mjZtWqFlhw4d0o4dO1S7dm3fsoYNG2rMmDGqUKGCFi9eLEmF3huOHz+uKlWqlF5woIQ888wzGjx4sLZv3y7p1EmTQkNDdeTIEd8HpxMnTqhSpUqaOXOmdu7c6TvzoMPh8D0njhw5ol9//VVHjx5lGwq2e/3115WYmKjMzExJp7Z7wsPDNXDgQO3bt0+GYcjj8Sg7O1tvvvmmli1bxvY/glp+WZZfCv/pT3/SihUrNGrUKO3du1ddu3bVvn37FBYW5nuc9+vXTx999JE6depkW24rSjOgFFiPT5OUlKT4+Hi9++67ysrKkiR9/vnnatasmf76179qyZIlhUq1kJCQQqUbEOgKPl537typvXv3qlmzZrrllls0f/58hYSE6M9//rN+++0333SaqVOn6qGHHtKUKVN8j3mgrPN4PKpdu7Z69+6t2bNn+5bXr19fl19+udLT031nSQ4JCVGTJk107Nix084mlZWVpS+++EJPPfUUB4hG0AsPD9e6dev0yiuv+IqzihUrKjQ0VF999ZUkKSwsTCdPnpTT6VTLli19e19Kp8rkbdu2aceOHZo5c6YqVqzINhRsd9tttykrK0sjRozQDz/8oHbt2umRRx7Rr7/+qiZNmuj+++9Xy5Yt9csvv+iGG26QYRhs/yNoFfz8u2DBAqWmpuqf//ynKlasqPbt2+uZZ57RoUOH9Ne//lXZ2dkyDEOPPPKI0tLS1KFDB4WGhgbMnvOUZkApyH/BGDp0qMaPH6/LL79c9913n5588km9+uqr+uGHHyRJX3zxhVq0aKE777xTa9euLXIMIBjkP16HDRum9u3b6+qrr9bEiRP1008/KSYmRosXL1ZoaKjuuOMOzZkzR7fffrtef/31QhuGPOZRHjidTo0dO1ZDhw5V586d9f7770uSIiIi1KxZM3322Wf65z//6ft+0zQVFRVV6DgfhmEoLi5O2dnZat68ean/HwB/yd/T4IUXXtCDDz6or776SpMmTdK2bdsUGRmpsWPH6u2339aYMWMkSRUqVFBeXp6ysrJUrVq1QmPVq1dPs2bN0p/+9KdS/38A1j/8maaphg0batmyZfrxxx81YMAAbdq0Sd26ddPbb7+tJ598UtWqVdOdd96p9evXKzQ0VF6vl20hBK38x+7gwYP16KOPasaMGRo0aJDuuusuLVy4UB06dNCTTz6pgwcPqmXLlmrbtq0WLVqke++91zdGoPwRkBMBAKXkww8/1N/+9jfNnTtXLVu21Jo1a9SyZUtVq1ZN999/v/r166crr7xS0qlpCePHj+fsmAg6Bf+qNGPGDA0dOlSjR4/W5s2bNWfOHCUkJOiJJ57Q1VdfrSNHjujee+/V4cOHVbVqVaWnp/s+ALGRiPLmyJEjGjdunMaMGaMZM2aoa9euys7OVnJysvbv368GDRqoZcuW+uSTT7Rv3z6tW7futI1JTp6BsqDge8D48eM1b948tWnTRv3791dsbKxefvllDRw4UO3atVNMTIy2bdumPXv2aMOGDYVOBMBzAYHgk08+0TXXXKNLLrnE97j8+eef1aZNG9WvX1+TJ0/WVVddddrP5ebmBkxhAJyvGTNm6LnnntOnn36q5s2ba9q0aerdu7c+++wzJST8P3v3HZdV+T9+/HXfbByIW9yaSblLKT/ujbk1zUBDTQG3JCKuHDjALSAyBETc4gYVHKnlCExx5PhS5mI4ApEhIHB+f/jjBGp9qk+JwPv5T3rf55zHdecZ13lf1/t99URRFM6ePcvBgwdJS0tj2bJlasD4bXoPlqCZEG9Abm4uoaGh3L17lwkTJnDgwAGGDx/OunXr0Gg0WFlZMXnyZIYPH84HH3yg7ve23TCE+LPOnz/P1q1b+eijjxgyZAjwoj7f/PnzadOmDePHj6d58+bAiyWoa9WqpdY3k06iKAleFxx++vQpbm5uLFmyhICAAEaMGEFiYiLe3t588803PH/+nJo1axIQEICenp48I0Sx8nsDJosXL2bnzp107tyZadOmUbVqVU6fPo27uzv6+vpUqFCB5cuXv5UvWqJkURSF3Nxc9Rx8/PgxlStX5tNPP2XFihXUrFlTDZz93//9Hx988AG9e/dmwoQJtG3btpBbL8Q/J+88nz59Os+ePcPd3Z3t27djZ2fHkiVLGDt2LGlpaWRlZRWYOQ9v5/uvvJkI8S94ueOn1Wpp2bIlLVu25NGjRyxevJjZs2fz+eefk5KSgpmZGe7u7tSqVatA0Oxtu2EI8WdERkbSoUMHdHR0eP/999XPP/vsMzQaDfPmzUOr1fLll19iYWFB7dq1gRfXjQTMREmQ/xlx584dnj17hrm5OWXLlmXRokXk5uYyatQoAEaMGMGMGTOYOXMm6enpGBsbAzILQRQv+a+Jc+fOoaenh0aj4YMPPmDmzJlotVq2bdsGwOTJk2nTpg0ff/xxgX6SXBOisMXFxamLt2zevJk+ffrw/fff07lzZ3R1dXFzc6NmzZoA1K5dm/fee48dO3ZQs2ZNCZqJIi//fVyj0ZCTk8PNmzdp164dFy5cYPTo0Sxbtgx7e3tyc3MJCAigTJkyDBs2rMC9+218/5UnixD/sPw3jISEBEqXLk3p0qUxMzMDICYmhqdPn9KsWTPgxQppAwYMoH379gwcOLDQ2i3EP8XCwoI1a9Ywffp0Tp06RZcuXahTpw4AQ4YMQaPRYG9vT7169bCwsFD3k5RMUVLkneszZsxg+/btPH78mPfffx8rKyu+/PJLlixZAsDo0aPR1dVl2LBhAGrATFEUCQ6IYkNRFPWamDp1Klu3biUrKwsjIyO6du1KYGAgzs7OKIrCzp070Wq1jB07lnr16hU4jlwTojBFRUXRtm1bjh07RmhoKAEBAbRu3ZpWrVpx7NgxOnToAMCSJUvUwcK2bdvi5eVVYMBciKLo0KFDHDt2jAcPHtC/f3969OhB6dKl6du3LxMmTCAzM5NNmzbx+eefA5Cens6BAwdo1apVkbh3v/0tFKKIyev4zZ07l61bt1KpUiUsLCxYtWoVAElJSTx+/Jhz586RnZ3N2rVref78OR4eHsDbOSVViN+TP0icv4aMra0tz549Y+nSpdSsWRNbW1tq1aoFwODBg6lQoYLagRSipMh/vQQFBREUFMTq1aupXr06vr6+bNmyhbi4OL7++mtcXFzQ19fniy++oGLFilhaWqrHkVpNorjI/9z45ptv2L9/Pzt27EBXV5e7d+8yfvx4+vfvz969e5kxYwYajQZPT09q167NhAkTCrn1QvzG1NQUW1tbevbsia6uLteuXaNatWpkZWVhYWHByZMn6d69O7/++ivvvfce165d49dff2XlypXqrBzp/4uiyM/Pj+nTp9O7d29Onz5NeHg406dPx8HBgW7dujFkyBAiIiKoVKkSz5494/79+0yaNInExETmz59f2M3/U6SmmRD/gq1bt+Lk5MSCBQu4cuUKR44coWbNmhw8eBB4Udh2+fLllCtXjsqVK3PixAn09PSkcK0oUvIHAHx9fYmMjESr1WJubs5XX30FwMqVK1m5ciUjRozAzs5OTUvII51EURKFhobyf//3fxgYGDB+/HjgxbXg4uLC3r17cXFxoU+fPiQnJ7Nz505GjBhRJEZihfi7du/eze7du6lYsSKrV69WP4+MjKRbt26MHz9eXTFz8+bNDB06VJ4d4q0QFxenZpMsX74cJycnSpcuzb59++jUqRO5ubnk5OSgp6fH5cuXcXFxISkpCVNTU7Zs2SL9f1GkBQQEYGdnx549e+jduzeKotCgQQOqVavGt99+C8CZM2fw9fVl8+bNVK9eHRMTE0xMTDh27FiRqc8qQTMh/gEv1zDbunUraWlpjB49moyMDCIiInB0dKROnTpEREQAcPXqVQwNDalXrx5arVZqcYgia/r06QQEBPDpp5/yyy+/cPPmTerWrcvx48cBWLVqFatXr6Zv377Mnj2bKlWqFHKLhSg8CQkJ1KpVi+zsbBwdHVm6dGmBF6b//Oc/1KxZk+3btxfYT54Rori6f/8+X375JVFRUVhaWrJlyxbgt0GV2bNnc+bMGfbs2YOJiYm6X1F40RLF265du1izZg0DBw5kypQp3Lhxg0ePHhESEkJQUBCbNm2id+/eBe7feff7vP/KvV0UVUeOHKFHjx6sWLECBwcH9fNWrVqRlJREaGgo5ubm6udnz54lLi6OihUr0q5duyL1/isFZIT4H+WvxeHv78+qVavw8fHhyZMnABgaGtKjRw+WL1/O3bt31RSbxo0b884776DVaqUAuiiyoqKi2Lp1Kzt37mTdunVqHY/bt2/Tq1cvABwcHLCzs+PevXtUrly5kFssxJv18thk1apViYyM5J133uHkyZPcv3+/wPcdO3YkNTWV58+fF/hcnhGiuMjNzS3w9xo1ajBv3jzat29PRESEGjDOC4hVqFCBxMTEV64BCZiJwuTv78+YMWPo06ePGhgwNzenXbt2TJw4kaFDhzJs2DAOHTqknrurV6/m2rVrAGrgTO7toqj6+OOPMTMzY+/evdy8eROATz/9lOvXr2NqasqYMWNo1qwZn376KceOHcPU1JRBgwbRoUOHIvf+KzPNhPgf5J9hNmvWLNzd3TE3Nyc2NpYaNWpw6tQpDA0NAcjKyiIiIoJhw4YxatQoVq5cWZhNF+JvURSFnJwc9SEXFhbGqFGj+PHHH6lYsSLwYkZMaGgozs7OeHt707FjR3Xf/KOrQhR3+Z8RycnJlC5dWn3Rv3DhApaWllhYWLBixQq15l/Hjh1p2LAhGzduLLR2C/FvyX9NxMbGUrp0aXX22Llz51i6dCkJCQmMHz8ea2trHj58yOeff07p0qXZu3evPDvEWyEsLIwRI0bg7e3NoEGDXrtNbGws8+fPZ9OmTcyZM4fjx48THx/PpUuXJOAriry8GWLJycm0aNECMzMzSpcuTVxcHGFhYZQrVw59fX02b97MsWPH2LVrF4MHD1b7NkXtXi5BMyH+AQkJCUyYMIE5c+ZQt25dLl++zBdffEGtWrU4evSoGmDIzMzk/PnzryyTLkRRcOzYMU6cOEFycjLjx4+nYcOGxMTE0LVrV5YtW8aQIUPUbe/evUuLFi1Yu3YtQ4cOVT+XgJkoiVxcXDh16hSpqanMmzcPCwsLTE1N+eGHH+jVqxe6uro0bNgQU1NTbt26xblz59DX15frRRRbX3/9NVu2bKFixYp88MEHeHl5AfDtt9+yfPlywsLCaNiwIU2aNCE+Pp7w8HAMDQ1fKYchRGFwcnIiNTUVT09P9XyMjo4mKiqKa9eu0bVrV7p06cKzZ89YtWoV+/bt45133mHbtm3o6enJeSyKhfyBszZt2nDt2jUOHTpEjx49Xtn2hx9+oEWLFkX2vC+arRaikOVPLQgMDKRJkyY8ePAAU1NTypYtS5s2bdi2bRt3796lW7du5OTkAGBgYECbNm3Q0dFRPxOiKAgICGDUqFFkZmbSpk0bGjZsCED58uVp1KgRW7duVQt+ApQpU4batWujr69f4DgSABAljY+PD56ennTt2hUTExNsbGwIDAzk4cOHfPjhhxw6dAhjY2NiYmKYOnUq58+fR19fn+fPn8v1IoqlHTt2sGHDBubOnUuHDh04e/YsnTt3BqBdu3bMnDmTXr16YWhoqK46aGhoSGZmZpF94RLFR25uLhcuXCA+Pl49HxcsWICjoyNz585l3759jBs3jsDAQExNTVmwYAHffvstISEh6OnpkZ2dLeexKBZ0dXXJzs7GxMSEs2fPUq9ePebNm8elS5fUbfLedz/88EO0Wm2Rff+VmWZC/EX5R/63bdvGRx99hJWVFZcuXeK7777jgw8+ULc7f/48VlZWGBgYcPnyZXlIiiJp165djBgxgoCAAAYPHqx+nnctXLhwgdGjR1OhQgU++ugjWrRowbp163j8+DE//PCDzKoUJcrLMwg8PT0pV64cw4YNA2DGjBls3bqVCRMm8MUXX1C5cmUuXrxIt27daNeuHcHBwZQqVUoCZqLYePma2LFjB0lJSdjZ2ZGVlcXRo0eZNm0alSpV4sSJEwCcOnUKDw8PHj16xLRp09QamUK8DYKCgpg5cyadOnUiJiaGR48eYWtry2effUbdunUZMGAA8fHxnDx5EgMDA3U/mWEmiqOXUzUrV66Mr68vTZs2Leym/WPkqhXiL8gfMFu2bBkjRozg2bNnbN++nTp16jBu3DhiY2OBFzNqWrZsyYYNG3jvvfdeKQYtRFGQkpJCYGAgEyZMKBAwg9+K2H7wwQcEBgby3nvvsWXLFtzc3DA2NiYqKkpmVYoSJf/CMLt27WLdunWcPn0aY2NjdZslS5bw+eef4+npSXBwMPHx8bRo0YKIiAgiIyPp168fT58+LayfIMQ/Kv814efnh5ubG+vWrSMxMREAfX19unXrxvLly/n111/p3LkziqLQvn17pk6dSpUqVZg1axZhYWGF+TOEKKBr1644Ozvz9OlT3nnnHY4dO8bkyZOpW7cuAK1bt6Z06dKvLHohATNRHOWfcXbx4kUSExPp378/P//8c2E37R8jM82E+BvOnTvH5s2b6du3L926dQNQUzErVKjAzp07qV69+iv7yfLooqi5d+8eH3zwAR4eHgVqk+V5+ZzOyMggLS2N8uXLy1LqokTJP6ji5OTEunXrqFWrFtevX6d///6sXr1aLfYPMHv2bJYtW8aGDRv4/PPPAYiMjMTa2ppvvvmGGjVqFMrvEOKfkn9WzezZs3F3d+f9998nLi4OU1NTvvvuO8qUKQPA8+fPOX78OMOGDWPIkCGsXbsWeFHjbP369SxYsIDatWsX2m8R4s/KyMigX79+NGjQAE9Pz8JujhBvTF6fPykpCVtbW7Zt21Zs3nsl3C3EX7R//35sbW0JCwtTX2pycnKoVasWR44cITExkaFDh3L37t1X9i0uNw5RcqSmpgJQtmxZ4MUDMT8dHR0eP37MpEmTuHPnDoaGhlSoUEGWUhclTl7A7OLFi9y+fZujR48SHR3N4sWLuXXrFp6enty/f1/dfuHChbi7uxeYwWlhYcHVq1clYCaKhbyAWUJCAj/99BOnTp3i2LFj7Ny5k8zMTLp160ZGRgYAenp6dO7cmQMHDuDu7q4eo127dvj4+EjATLx18uad5P03IyODX375hQEDBvDw4UNWr15d4Hshipr8MyXT0tL+6/Z5M85MTU3ZuXMnOjo6r7w3FFUSNBPiLzIzM8Pc3Jy4uDjCw8MB1BS0WrVqERERwZUrV1i8eHEht1SI/1316tXRarVs27YNePFAfDnd4PTp0/z666+UL1++wOdSk0mUNNu3b2fixImkpqbSrFkz9PT0cHZ25rPPPuPIkSOsWbOmQODMzs5O7WTmyV//Roii6OHDh+qffX19ady4MXfu3KFs2bKUKlUKCwsLtm7dypMnT+jUqVOBwFne6uL50/oNDQ3f+G8Q4r/J6+NoNBpSU1NxcXHBxsaGjIwMIiMj0dXVJScnR/pCokjKP1N47dq1eHp6cufOnf+638sTRIrL4LkEzYT4Ay8HBwBatmzJggUL6N+/Pxs3biQ4OBgoGDi7efOmmlogRFGVm5tL2bJlcXBwYPPmzbi4uAAFa3JkZmayceNGypYtS+nSpQurqUK8FWJjY3n69CnR0dFqzSZ4Ufz/s88+48SJEyxYsIBHjx4V2K+4dCqFWL9+PWPHjuXJkycA9OrVC3Nzcy5cuKCe9xqNhhYtWrBt2zaePn1Ko0aNyMrKKnAcmZkvipLk5GTeffddhg0bxtGjR9VVMuU8FkVVXl/fycmJ+fPnU7169VfO55dnUeYvUxEcHFxg1nBRJzXNhPgd+SPsGzZs4NatW9y6dYuJEyfy0UcfERMTw9y5c7l79y729vbqymj595MaZqI4+Omnn5gzZw4hISFMnjyZyZMno6+vz/Xr11m8eDEPHjzghx9+QFdXt8ADU4ji7PdWQdu4cSPLli3jvffeY+nSpdSpU0f9btasWcTFxREQECDXiSh2fH19sbe3Z+/evfTt21f9PD4+np49e6LRaNizZ0+BayIqKopVq1YRHBws/SXxVsh/b09LS6NUqVJ/ar/8NVylnqsoDvz9/fn6668JCwujefPmwItz+9GjR1SrVg34LVCWv//v7e2Nk5MTW7duLTYrH0vQTIj/Iu+i79GjB2lpaYSEhODq6srUqVO5fPkyS5cu5d69e1hbW2Nra1vYzRXiX3Hjxg28vb1Zt24dZcqUIS0tjUaNGlGpUiX279+Pnp6eBIlFiZH/pSo8PJzU1FRSUlKwsbFBo9GwYcMG/P39qVWrFosXLy5Qj+l1HUwhijofHx/Gjx9PSEgI/fv3Vz9//PgxFStWJD4+nh49eqCnp8euXbsKBM7yyDNEFLaXU9JSU1MZOnTof62pJ/dzURy8fB47Ozvz008/ERISQkxMDN988w1eXl7k5uZib2/PuHHjXtnPx8eH6dOn4+/vz6BBgwrld/wbJGgmxB8IDQ1l3LhxHDhwgGbNmnH+/HksLCzYvn27Wrz56tWrTJs2jTp16rBu3bpCbrEQ/57MzEzi4uI4ffo0OTk5NGnShObNm6PVamVUVZRIzs7ObN26lbp163Lz5k3q1KnD8uXLadOmDb6+vmzevJlatWoxf/586tWrp+4nL1iiONm8eTPDhw8nPDxcXVEcYPjw4bRt25Yvv/wSXV1d4uPjsbS0xMDAgK1bt1K/fv1CbLUQv8/JyYkNGzawcuVKOnbsWGBxlpfv3y+npCUlJTFp0qQ33mYh/hf3799Xz/M9e/bQp08flixZwv79+2nZsiVRUVHUrVuXmjVroq+vT3BwMGfPnqVGjRpqoNnX15dp06YREBBQrAJmAChCiN8VGBioDBw4UFEURdmyZYtSpkwZxcvLS1EURUlOTlZ++eUXRVEUJSYmRsnJySmsZgrxRuTm5r72czn3RUnk5+enVK1aVYmOjlYU5cUzQqPRKOHh4QW2MTc3V+bNm1dYzRTiX3X//n2ldu3aStu2bZWffvpJ/fzTTz9V6tWrp9y9e7fA9nFxcUqlSpWUkSNHvummCvGnrF+/XjEzM1MuXryofvb8+XMlLi5O/Xtefyh/v2jdunVKmTJllNDQ0DfWViH+Cd98843SuXNn5ZtvvlGmTJmiaDQa5cmTJ8rPP/+sTJkyRWnfvr3i4eGh/Pjjj4qiKEpYWJjSrl075ddff1WP4e3trRgaGiq7du0qrJ/xr5JpAUL8f0ePHuX06dM8fPiQPn360KlTJ1JSUoiLi+PIkSPY29vj5ubG2LFjAdi9ezfnzp1j6dKlvPPOO8Dv17gR4m30V+t25I2kKvnSywA550WJFBMTw/Dhw2nWrBlbt25l7NixrF27lu7du5Oamkrp0qUZPXo0lSpVonfv3oXdXCH+FdWrV2f+/PmsW7cONzc3nJ2dmTVrFjdu3ODYsWPUrFmzwEycatWqcePGDUxMTAq55UK8oLw0cywmJobWrVvTvHnz301JeznF3sfHB2dnZwIDA4tNDSdRcpiampKbm8uoUaN48uQJP/74IyYmJpiYmLBs2TKysrIwNjYGXmSdrFu3jnLlymFqagq8qFt56tQpNm3axMCBAwvzp/xr5E1HCF6s9jRkyBBOnjzJli1bsLa2xsfHh06dOpGZmUmPHj1YtGiRGjB79uwZu3fvJjs7mzJlyqjHkeCBKCr+7lLS+TuJGo1GUsxEiZObm4uiKFy8eJGyZcvyww8/YGtri6urK2PHjiU3NxcPDw/Wr18PQL9+/dTVlYUoLhRFUVcYt7GxYfz48Vy4cIGuXbsSFRXFiRMnqFOnDjk5OepzYtKkSZw8eZLy5cvLNSHeCvfv31fPzz179pCdnU2pUqW4c+cOY8eO5fPPP+fIkSN07tyZTz75hEWLFnH37l1yc3PV/Xx9fXFycip2NZxEyaAoCs2aNaNNmzbcv3+f999/n9jYWPV7rVaLsbExKSkpbNu2jb59+3L37l127dpVYDBkzZo1xfr8lzd8UeIFBARgb29PcHAwhw8fJikpiQ8//BAPDw+MjIwYPHgw77//PhcuXCAmJobw8HAGDRrEnTt38Pb2LjDjRoiiQpaSFuLPyQsM5NFqtWg0GoYNG4a3tzcfffQRa9euxd7eHoD09HROnTrF7du3C+wnBc5FcbB7927gxaCJVqtVnxPDhw/H0dERAwMDPvzwQx4+fAi8OO8VRcHS0pIjR47Qpk0b9VhyTYjCdOLECWxsbDhx4gQODg4MGjSItLQ0rK2tadu2LdeuXWPEiBHMnz+flStX0r59e+rXr0/p0qXVPpSPjw+TJ08mMDCwWAcMRPGT17fJu4d/9NFHhISEYGxszPLly9m/fz/w2/tCenq6Wtfshx9+QE9Pj+zsbHX/ihUrFsKveHMkPVOUaEeOHGH06NGsWLGCXr16kZ2dDcD06dMZPHgwOTk5TJ48GSMjI4KDg2nWrBnvvfceZmZmnD9/Hl1dXVntSRRZ/v7+bN68mYiIiNcuJZ0//UD5naWkhSjO8s/IPHXqFI8fP6Z169ZUqVKFDh060LJlS27evEmFChWAF2k9kydP5vHjx8ybN68QWy7EP69Dhw48efKEPn36oKuri0ajUV+8dHR0GDp0KIqisHz5cpYtW8a0adN477336NWrF7dv3+bKlSvSbxJvDUlJEyVV/r7N3bt3qVKlCt27d8fAwIBq1arh7OyMl5cXWq1WLS/x7bffMnv2bMqVK4dGoyEnJ6dELQAmq2eKEi0lJYX33nuPd955h1WrVtG0aVN0dHRYsWIFS5cu5fvvv1fTC7RaLdHR0VSvXp1KlSqh0WhkxUBRpLxct0OWkhbiz5k2bRobNmxAURSMjY2ZMWMGX375JVeuXGHFihUcOHAAU1NTTE1NKVOmDN988w16enoSHBDFxs6dO/nqq6/46aefMDAwICYmhgYNGqjPhxMnTmBqakqzZs3UmcjNmzfn8uXLPHnyhKtXr6ozE6TfJApb3nk7e/Zsli5dioWFBfPmzaNr167Ab0GFlJQUwsLCCAwMJCEhgfPnz6Onp6ce5/Hjx8V+ho0ovr7++mu2bduGkZERLVu2ZNGiRVStWpXz58/j7OwMQJcuXTh9+jSRkZEkJCSoM4xLWnkWSc8UJVZePbIff/yRe/fuYWdnx+PHj9m9ezezZ8/Gw8ODOnXqqA9OjUZD8+bNqVy5sjq6Kh0/UVRI3Q4h/rz8KZknTpzg22+/ZdeuXdy4cYM+ffrg4eHBmjVraNy4Mf7+/hw/fpwlS5bg6enJyZMn1eCABMxEcVGlShVKlSpFeHg406dPZ/r06SQnJ6PRaNizZw+dO3fm1q1bwItUzSlTprBv3z5yc3MlYCbeGpKSJkqy/HOldu3ahY+PDwsXLqRnz57cunWL/v37ExcXR8uWLVm2bBlmZmaEhoaSk5NDbGxsiQ2Ygcw0EyVcXgcuOTmZ5s2bk5OTw9OnT3Fzc8POzk5WwxTFwokTJ3BxcWHOnDns27ePNWvWkJSUxK+//oqHhwcXLlxg8ODBdO7cmffff5+DBw/i6urK3r17KV++PPBihtmUKVPYvHmzpCGIEiM4OJgffvgBXV1dli9frn4+depUDh06xMiRIxkxYgSVKlUqsJ/MMBPFRd65fO/ePebMmcN3333H3bt3uXr1Ku+++y4nTpygc+fOeHt7Y2trW6DfdOLECdq1a4eOjo4EzEShy39u3r59mypVqqDVajEwMCAqKgpnZ2f09PSYMGGCmpIWEhJCly5dCqSkyb1dFHW7d+/m5s2bVK1alZEjRwJw+PBhXF1dSU9PZ+/evZiZmZGUlIRGo8HExKTEZ1iVzF8txP+nq6tLdnY2JiYmXLp0ifbt25OVlUX79u0BSnREXRQfUrdDiD/n9OnTPH/+nI4dOwKoNf+6dOlCVlYW+vr6AKxYsQJ4EVR7+vQp06ZNo2zZsupx5KVKFAfTpk2jWbNmDB48mJo1a/L8+XPu3btHixYt+PHHH3n33XfR1dVlz5499OvXD3jRb8oLTuRdRyWt9o14O+UFzF6XktaqVSvc3NxwdnZm9erVXLlypUBKWl5tV7m3i6Lu8uXLzJs3j19++QUvLy/18x49eqDRaHB1dWXQoEGEhIRQvXp19fuSnmElU2hEiZcXOCtbtiynTp3C2NiYkSNHcvnyZQmYiSJPlpIW4s9JSEjAyckJV1dXTp06BbwYeR05ciQ3btxg06ZNpKWlqduvWLECCwsLbt++TZkyZQqr2UL8K7Kzs/nmm29Ys2YNBw4cAODDDz9k06ZN1K5dG3d3d0JCQmjbti39+vUrkNL88gx9CTSIwiQpaaIkezmp0NzcHAcHB2rWrImXlxcpKSnAixWRe/TowcyZM0lJSXllMaOSnnkl6ZlC/H/5UzVbtWpFdnY2R44coX79+oXdNCH+sryR/rz/HjhwAEVR8PT0RKvVMm7cOPr27atu/+DBA5YuXUpaWhqenp5qMFlHR0c6iqLECA0Nxd3dHWNjYyZOnEiXLl0A+Oyzz7h69SpOTk4MHjxYnZkJvHaFWSGKsrznRmZmJv379ychIQEXFxcsLS3R1dUlOjqa+fPn8+TJE2xtbfn8888L7CfE20hS0kRJk/+enJ2dTUpKipp9EhISgpubG7Vq1WLjxo0FBv8iIyP58MMPZcAjHwmaCZFP3oMxKSkJW1tbtm3bJjcMUeRI3Q4h/pr818yhQ4dYtmwZZcuWfW3gzNnZmYEDB1KqVKnX7i9EcZD3DMjMzKRv3748fvwYZ2dn+vbti4GBgZrik5yczJgxYxg6dGhhN1mI33X58mWGDRumpqQNHz4ceDHoERERgaurKxkZGa9NSZN7uyiK8p+7bm5unD59mujoaIYOHcqAAQNo3bo1mzZtwtPTEzMzMzZu3Ejp0qULHEPeBX4jQTNRrOW/YaSlpRV4yfk9L48oyQiTKKpkKWkh/tjz58/R09MDXg2cLV++nDJlyjB16lTatWsHgLW1NeHh4QQHB9OzZ89Ca7cQ/5bXBQkyMjLo06cPiYmJzJgxgz59+qiBswULFvB///d/rFixgm7duhVSq4Uo6OV+TFZWFps3b2bZsmWYmJgQERFRYGbNkSNHcHBwoHXr1vj5+RVGk4X4V8yePZv169czf/58qlevzqhRo2jevDlbt26lbNmybNu2jXXr1qGrq0t4eDhGRkaF3eS3koTORbGVv+O3du1aPD09uXPnzn/d7+WIugTMRFEhdTuE+PP2799P7969SUxMBH4rYA7Qs2dPHB0defz4MRs2bCAuLg54sTDA+PHj6d69e6G1W4h/S/5+0/Xr1/m///s/rl69iqGhIQcOHKBSpUosWbKEAwcOkJmZSdOmTZkxYwa9e/dWZ2QKUdhyc3PVfkx2djZJSUno6+tjY2PDvHnzyMrK4osvvlBrOQF069aNgIAAvL29C6vZQvzPcnJyCvz9+vXr7Nu3j+3bt2NnZ0flypVJTk7GysqKChUqoKenh5WVFTY2Npibm2NgYFBILX/7yUwzUew5OTmxYcMGVq5cSceOHalRo4b63csBgvx/Dw4OJikpiUmTJr3xNgvxv5C6HUL8dxcvXqR9+/Z07dqVgIAAdbXY/IGDHTt2MGbMGI4dO0bLli0L7C9pC6I4yd//+frrr9m/fz/Pnj0jPT0dOzs7Zs+eTWZmJv369ePXX3/F2dmZXr16YWhoqB5DrglR2CQlTZRUX375JdbW1nTu3Fn97Mcff8TKyopLly4REhLCyJEjWbZsGfb29qSlpXH8+HEsLS3RarVotVo0Go2kJP8O+T8iijV/f382b95MREQEw4YNo0aNGmRnZxMfHw+gFm+Ggh1Gb29vxo8fL4sAiCInr87M4sWLCwTAevTowYwZMyhVqhSDBg0iNjYWU1NTtYZZSV9KWpQ8LVq04PTp05w9exYbG5sCM87yRmuHDBlCxYoVuXjx4iv7y0uVKE7y+j+LFy/Gy8sLd3d3zpw5wyeffMLXX3/NpUuXMDAwYN++fVSsWBEHBwfOnj1b4BhyTYjClveyP3v2bFatWkWvXr3w8vJiw4YNzJ07l19//ZXPPvuM8ePHk5CQwCeffMKzZ88KHEPOY1HUZGRkoNVq1VISee+22dnZxMbG4ubmxpgxY3Bzc8Pe3h6AS5cu4e3tzZUrV9RFvxRFkYDZ75D/K6JYeXniZExMDK1bt6Z58+bExMTg6+tLy5Yt6dGjB15eXgCvrHrm4+ODs7MzgYGB9OrV643/BiH+CllKWoi/r2nTpoSHhxMZGcmIESNISkoCfntpunv3LhUqVKBWrVqF2Uwh/lV5z5GsrCzOnz+Pp6cn7du359tvv2Xnzp14eXnRrFkz0tPTMTAwYPfu3QwaNIj27dsXcsuFkJQ0UbLdu3cPQ0ND/Pz80NPTw9/fn+3bt5OVlUWzZs0YNGgQs2bN4ssvv2TcuHEAZGZmsmTJEnR1dWnevLl6LCnP8vskPVMUG/fv31dTL/fs2UOfPn1YsmQJ+/fvp2XLlkRFRVG3bl1q1qyJvr4+wcHBnD17lho1aqgBA19fX6ZNm0ZAQACDBg0qzJ8jxH8lS0kL8c+Ijo7G0tKS5s2bs2bNGmrUqEFmZiajRo3i6dOnHDlyRK4XUezExcVhZmam/j0xMZH33nuPkJAQsrOz6du3r5rKk5WVxcKFC/nkk0/4+OOP1X0klU0UJklJEyWZo6MjsbGxzJ8/n3fffZfnz5/z8ccfoygKc+fOpW/fvkRHRzN//nzOnDnDtGnTSE9P57vvviM+Pp6LFy+ip6cn5/+fIP93RLFw4sQJbGxsOHHiBA4ODgwaNIi0tDSsra1p27Yt165dY8SIEcyfP5+VK1fSvn176tevT+nSpdWbhI+PD5MnTyYwMFACZuKt93LdjoEDB9KsWTOcnJz4/vvvGTJkCA4ODsTHx2NjY0Nqaqq6r4WFBTo6Oq+MzgpRUjVv3pxvv/2WGzduMGDAACwsLPj0009JSEggPDxcrhdR7OzatYuhQ4fi4eGhfla+fHn69evHypUr6dOnD6tXr1ZTeR4/fkxUVBQ3b94scBwJmInCIilpoqSrVq0aMTExrFmzhuvXr6Onp8epU6eoWLEiLi4uhIaG0qJFC5YvX46trS3+/v5ERkZibm5OdHQ0enp6ZGdny/n/J8hMM1EsXLp0iSlTpnDnzh2ePHnC6dOnee+994AXD8+srCyMjY2BF1NSP/30UzQaDfv27UOj0RAfH4+joyMDBw6UgJkoUmQpaSH+d3kp+mlpaWzevJnU1FSqV6/Op59+io6OjiySIYoVf39/pk2bxowZM2jatCk9evRQv/Py8sLZ2ZkuXbrg7+9P+fLlSUxMZPjw4aSkpPDNN99IoEwUunv37lGzZk317/7+/pQqVYqBAweir6+PnZ0d/v7+TJkyheXLlwO/9f+1Wi179uyRQIEosvKXFfL19cXb25uPPvqICRMm0KhRI9LS0ujbty9Pnjxh7ty59OrVCx0dHZ4+fUrZsmXV48hM4T9PeoCiyFMUhWbNmtGmTRtOnz6NhYUFsbGxatBMq9VibGxMSkoKYWFhBAYGkpCQwPnz59UbTrVq1VizZg0VK1YszJ8ixB96+eGWv25Hhw4diIyMLFC3A8DKyor09HR++OEHqdshxO/QaDTk5ORQqlQpbG1tC3yXk5MjATNRbISFheHs7Iyfn99rBwnHjRtHcnIyAQEBdO3alcqVK/PkyROysrL4/vvv1VmX8qIlCsvrUtK8vLxQFAUjIyP69u2Lvb09Dx48YOPGjVSpUuWVlDStVispaaLIyh80s7W1JScnBz8/PwA1cLZ//3769u3LwoULycnJoVevXgUCZoqiyH38L5A7hSiycnNzgd+mY3/00UeEhIRgbGzM8uXL2b9/P/BbgfP09HS1rtkPP/ygTknN218CZuJt9uWXX3Ly5MkCn+V1+Dp06EBISAhdunRhzZo1jBgxgrS0NA4cOEBubi6jR4/Gx8dH7SQKURLkP9fT0tL+6/Z5ncf8KypLp1IUNydPnmTw4MEMGDBA/Sw6Oho/Pz8mT55MREQEM2bMwM/PjyFDhvDee+8xcuRIIiMj1X6TXBOiMElKmijJ8gd7T58+TW5uLmPHjsXOzo7vv/8eT09PfvzxR0qVKsX+/fspV64cX331FefOnStwHCn6/9fI0KkokvLfMO7evUuVKlXo3r07BgYGVKtWDWdnZ7y8vNBqtfTu3RuAb7/9ltmzZ1OuXDl1VoHMHhBFwevqdmg0mgJ1O1xdXV9bt6N69ep88MEH6n7SSRQlQf5nxNq1a0lNTWXo0KHUrl37D/fLP3orHUpR3OTm5nLhwgXKlCmjXh8LFizg1KlTXLt2DUNDQ3bv3s3s2bOxs7OjY8eOBfaXfpMoTHn356lTp1KmTBm8vb3Jzc1VZ9bs2bOHvn37Mm/ePBRFoVevXixcuBAnJ6dXUtLkPBZFUf5+/OzZs9m5cyezZ89m+PDh2NnZoSgKvr6+wG8zznbv3s3MmTNp06ZNYTa9yJOaZqJI+/rrr9m2bRtGRka0bNmSRYsWUbVqVc6fP4+zszMAXbp04fTp00RGRpKQkIBWqy3wYiTE20zqdgjx9zk5ObFhwwZWrlxJx44d1RWWgVeeA/n/HhwcTFJSEpMmTXrjbRbi3xQUFMTMmTPp1KkTMTExPHr0CFtbWz777DPq1q3LgAEDiI+P5+TJk5LSL94qL6dTrlu3Dj8/v9fWckpJSWHGjBn06tULfX19dR/p/4viwMXFBQ8PD3bu3Im5uTlVqlRRv/P29sbPz4+PP/6YMWPG0Lx5c/U7Sa3/+yTMLoqU/A+7Xbt24ePjg4eHBxcuXOD777+nf//+7N69m5YtW7Js2TJWrVpFaGgoZcuWJTY2VgJmokiRuh1C/H3+/v5s3ryZiIgItdOYnZ3No0ePqFatmrpqWv7/wosOp5OTE1u3bi3E1gvx7+jatStPnz7lyJEjvPPOO2zbto2qVauqi8S0bt2aiIgISeUXb5WXU9Jat27N2LFj0Wq1+Pj4AAVrOQ0YMICvvvqKChUq0L59e/U40v8XRV1iYiLh4eG4urrSoUMH9fO8BYvs7e3RarUsWLCAunXr0rx5c7WPIwGzv09mmokiaffu3dy8eZOqVasycuRIAA4fPoyrqyvp6ens3bsXMzMzkpKS0Gg0mJiYqOlsMiVbFBUrVqxg69at6ijqe++9R1paGgMGDCAxMZG5c+fSp08ffvrpJzZs2EBISAj169enXr16rFq1Cl1dXTnnRYnx8oCIs7MzP/30EyEhIcTExPDNN9/g5eVFbm4u9vb2jBs37pX9fHx8mD59Ov7+/rKSsihxMjIy6NevHw0aNMDT07OwmyMEUPAe/XJKGrwY6PD19S0w4yw1NZWZM2eyatUqCRSIYuXWrVs0bdqUkJAQLC0tC1wfz549Q1dXFz09PTVdWc7/f4YEzUSRc/nyZYYNG8Yvv/yCl5eX+tBUFIWIiAhcXV3JyMggJCSE6tWrq/vJbBtRVMhS0kL8Nffv31dTL/fs2UOfPn1YsmQJ+/fvp2XLluoiMDVr1kRfX5/g4GDOnj1LjRo11OeCr68v06ZNIyAgQAJmolh7eYZlRkYG8fHxjBs3joSEBKKiotDV1ZWZ+eKtIilpQrwIjHXs2JEOHTqwYMECDA0N1XP88OHDREdHqyWKQM7/f4pEEMRb7+W4rrm5OQ4ODtSsWRMvLy9SUlKAF1Oue/TowcyZM0lJSWHevHkF9pOAmSgq8p/ztra2jBkz5ndXxFm4cCH79+8nKytLlpIWJdKJEyewsbHhxIkTODg4MGjQINLS0rC2tqZt27Zcu3aNESNGMH/+fFauXEn79u2pX78+pUuXVp8LPj4+TJ48mcDAQAmYiWIv/2IXqampuLi4YGNjQ0ZGBpGRkejq6pKTkyMBM/HWeDklLS9glp2dDYC9vT12dnbs27ePo0ePAr/1paQvJIoTQ0NDLCwsiIiIYOfOncCLczwzM5O1a9cSFRVV4D1Czv9/hsw0E2+1/LPDsrOzSUlJwdTUlNzcXEJCQnBzc6NWrVps3LiRMmXKqPtFRkby4Ycfyo1CFDmvq9uRV7PDx8fnlRlnAwYMICYmhqCgoAJ1O4QoKS5dusSUKVO4c+cOT5484fTp07z33nvAi+dGVlYWxsbGwG+LZGg0Gvbt24dGoyE+Ph5HR0cGDhwoATNR4sTGxnL06FEyMzP58ssv0dHRkbR+8daRlDQhfpslnJWVhbW1NTExMVSqVImGDRty/vx5UlNTuXjxInp6ejJT+B8mU2/EWyt/8MDNzY2BAwfSrFkznJyc+P777xkyZAgODg7Ex8djY2NDamqquq+FhQU6Ojrk5OQUVvOF+MteXkp61KhRbN68GQA7OztsbW1fmXG2e/du+vTpI0tJixJJURSaNWtGmzZtuH//Pu+//z6xsbHq91qtFmNjY1JSUti2bRt9+/bl7t277Nq1S+1MVqtWjTVr1kjATBR5+Yv3p6Wl/al9qlevjrW1Nba2thIwE2+tatWq0ahRI44fP05GRgYajUbt4588eZIVK1YAMGDAAOn/i2Ir77zX19dny5YtjBs3jurVq5OQkED79u2Jjo5GT0+P7OxsCZj9w2SmmXjrzZ49m/Xr1zN//nyqV6/OqFGjaN68OVu3bqVs2bJs27aNdevWoaurS3h4uLoClBBFldTtEOKP5Q2q5P33wIEDKIqCp6cnWq2WcePG0bdvX3X7Bw8esHTpUtLS0vD09FQXydDR0ZGOpSgW8g80rl27ltTUVIYOHUrt2rX/cD+ZjSCKAkVRmDRpEt9++y1Tp05V6xnnzR7W19cnJCREzmVRIvxRf18GPv4d8n9UvFVevglcv36dffv2sX37djp06EBkZCTJyclYWVlRoUIFAKysrEhPT+eHH37AwMCgsJouxD9ClpIW4o/lDw7cvXuXKlWq0L17dwwMDKhWrRrOzs54eXmh1Wrp3bs3AN9++y2zZ8+mXLly6kitdCpFcZJ3TTg5ObFhwwZWrlz5yjPh5QBZ/r8HBweTlJTEpEmT3lyjhfgT8s7TFStWYG1tzYoVK9i4ceMrKWn5F7cQoqjJ37dJT09Xy0q8zu/19xVFkb7Nv0Rmmom3xpdffom1tTWdO3dWP/vxxx+xsrLi0qVLhISEMHLkSJYtW4a9vT1paWkcP34cS0tLtFotWq0WjUYjq2SKIk3qdgjx53z99dds27YNIyMjWrZsyaJFi6hatSrnz59XV47q0qULp0+fJjIykoSEBLRarbxUiWLL39+fr7/+mrCwMHUWcnZ2No8ePaJatWrAqytnwosZzE5OTmzdupVevXoVVvOF+F15g+rPnz8nMDCQM2fOkJqaSr169Vi8eLE6e1gCBqIoyv/uumLFCjIyMhg2bNhfmimcmZkpk0f+RRJZEG+FjIwMtFot7dq1A35b8SY7O5vY2Fjc3NwYM2YMbm5u2NvbAy+KP3t7e3PlyhU1xSZ/TSghiiKp2yHE6+Uf49u1axc+Pj4sXLiQnj17cuvWLfr3709cXBwtW7Zk2bJlmJmZERoaSk5ODrGxsRIwE8XOy+PeMTExtG7dmubNmxMTE4Ovry8tW7akR48eeHl5AbwSMPPx8cHZ2ZnAwEAJmIm3Vl5/R09PD1tbWzZs2EBISAhLly6VgJko8vLPFF6+fDlVqlR5pdzQy/f7/PfxzZs34+XlxfPnz99Mg0sgmWkmCt29e/eoWbOm+nd/f39KlSrFwIED0dfXx87ODn9/f6ZMmcLy5cuB32oYaLVa9uzZI4EyUWxI3Q4h/tju3bu5efMmVatWZeTIkQAcPnwYV1dX0tPT2bt3L2ZmZiQlJaHRaDAxMUGj0chLlShW7t+/T40aNQDYs2cPffr0YcmSJezfv5+WLVsSFRVF3bp1qVmzJvr6+gQHB3P27Flq1Kih9pl8fX2ZNm0aAQEBshCGKBR/JSXt98hgiCgONm7cyLRp0zh69ChNmjQBXmSYpKSkULlyZeC36+XlgY8JEyawf/9+evbsWWjtL+6k9ygKlaOjI7GxscyfP593332X58+f4+XlhaIoGBkZ0bdvX+zt7Xnw4AEbN26kSpUqpKen89133xEfH8/FixcLFIMWoiiTuh1C/LHLly8zb948fvnlF3XmDECPHj3QaDS4uroyaNAgQkJCqF69uvp9bm6uBMxEsXHixAlcXFyYM2cO+/btY82aNSQlJWFtbU1iYiIXLlxgxIgRdO7cmffff5+DBw9y5swZSpcurfaVfHx8mDJlCps3b2bgwIGF/ItESSQpaaIke7kf/+DBAzp06ECTJk24efMmEREReHh4ULlyZdq0aYOrq+trA2bTp09n+/btEjD7l0mUQRSqatWqERMTw5o1a7h+/Tp6enqcOnWKihUr4uLiQmhoKC1atGD58uXY2tri7+9PZGQk5ubmBZbVlYCZKA5kKWkhCnp5Mry5uTkODg7UrFkTLy8vUlJSgBfXTo8ePZg5cyYpKSnMmzevwH7yjBDFiampKbm5uYwaNYqgoCB+/PFHTExMqFevHsuWLePQoUNMmDCB999/n8zMTNatW0e5cuUwNTUFID4+nlOnTrFp0yYJmIlCIylpoiR7uR+fnp5OREQEX331FQMHDuTUqVNYW1vz8ccfc+jQIe7du1dgPx8fH5ycnPD395f7+Bsg6ZmiUOR/6Pn6+uLt7c1HH33EhAkTaNSoEWlpafTt25cnT54wd+5cevXqhY6ODk+fPqVs2bLqcf5oyV0hiipZSlqIgrMQsrOzSUlJUYMFISEhuLm5UatWLTZu3EiZMmXU/SIjI/nwww/l2SCKpbz+0+zZs1m6dCkWFhbMmzePrl27Ar9dNykpKYSFhREYGEhCQgLnz59HT09PPc7jx4+pWLFiYf0MIQBJSRMlm5ubGzdu3CAwMBCAyZMnc+fOHSwtLenSpQsNGjQgKioKOzs7du/eTZ06dQDw8/PDwcGBoKAgSa1/Q2ToVRSK/LFaW1tbxowZw/fff4+npyc//vgjpUqVYv/+/ZQrV46FCxeyf/9+srKyCgTMFEWRlyJRZOTm5qp/Tk9P/8NtZSlpUdLlD5i5ubkxcOBAmjVrhpOTE99//z1DhgzBwcGB+Ph4bGxsSE1NVfe1sLCQRTJEsZP3DMnrP3300UeEhIRgbGzM8uXL2b9/P0CB+lB5dc1++OEHdZZy3v4SMBOF4eW5Gi+npHl4eNCsWTMGDhzI9OnT1QW+JCVNFDc5OTmYmpqyceNGJkyYAMCaNWvYtGkT9vb2NGjQgMzMTObNm0fVqlWpVasWAMnJyYSFhREcHCwBszdIZpqJNy7/y9Dp06dp3bo1Wq0WHx8ffHx8XplxNmDAAGJiYggKCqJ9+/aF3Hoh/jqp2yHE3zN79mzWr1/P/PnzqV69OqNGjaJ58+Zs3bqVsmXLsm3bNtatW4euri7h4eGvpPYIURzkf4bcvn2bKlWqoNVqMTAwICoqCmdnZ/T09JgwYQK9e/cGICQkhC5dulCuXDk19V8GGsXbZv78+axatYpRo0YRHh7O+++/T+PGjUlJSSEiIoLQ0FA1WAC/paTJ4hWiqHndjMlnz54REhLCmDFjGD16NJ6ensCLwJifnx/Hjh0jPj6eqKgo9PT01Pt4amoqpUuXLsyfU+LIlAXxRuWNGMGLl6GdO3cye/Zshg8fjp2dHYqi4OvrC6AGznbv3s3MmTNp06ZNYTZdiL8tf92O4OBgXFxcXlu3I399g5frdjx8+JAJEyYUSK8Rojh5+aX++vXr7Nu3j+3bt9OhQwciIyNJTk7GysqKChUqAGBlZUV6ejo//PCDBJVFsZX3DPn666/Ztm0bRkZGtGzZkkWLFtGqVSvc3NxwdnZm9erVXLlyhdOnTxMZGUlCQoK6cIwEzMTbIn9K2ty5c0lMTOTWrVtMnDixQEra8ePHC8zS9/PzY+rUqZKSJoqkvPv4uXPnaN26NQBGRkZ8+umn5ObmYmdnh56eHqtWrcLExIS0tDRq1KjBgQMH0NXVLVCeRQJmhUARohAsWLBAqVSpknLixAklISGhwHfr1q1TPvjgA2XcuHHKxYsXC3yXnZ39BlspxD8nKChIqVy5snL58mX1s/T0dOXBgwfq33NychRFUZTc3Fz1M29vb0VXV1c5ePDgm2usEG/YqFGjlGPHjhX47OrVq0rTpk0VRVGUnTt3KqVLl1bWrVunKIqipKamKvv371eysrKU7Oxs9ZrJu4aEKA7yPwtCQkKUypUrK9u3b1emT5+udOzYUfnoo4+U2NhYRVEU5cKFC8rw4cOV//znP4qlpaWSlZX1yjGEKGzZ2dmKj4+PotVqlfHjx6ufp6SkqH/OyMhQPvnkE6Vnz57qPf3JkydKv379lN27d7/xNgvxv8jfLzlz5oyi0WiURYsWFdgmLS1NWbNmjaLRaJSvv/5a/Tzv/i3vv4VPZpqJNy4xMZHw8HBcXV3p0KGD+nleBN3e3h6tVsuCBQuoW7cuzZs3V2fdyEipKCoUWUpaiD8lIyMDrVZLu3btgN+unezsbGJjY3Fzc8PV1RU3Nzfs7e0BuHTpEt7e3lSvXp0PPvhA3U9WyRTFSd6zYPfu3fzf//0frq6uDBkyhCFDhnD48GFcXV3p378/e/fupUWLFqxZswaNRoOJiYl6DUkdTFGYXk5J09HRYfjw4RgZGTFmzBgAPD09KV269GtT0rRaLTk5OZiYmLBp0yaZYSOKlMTERMqXLw/AxYsXadiwIS4uLqxYsQIdHR2mT58OgLGxMZ07d6Z8+fK4uLhQunRppk2bJjOF3yLyJBVv3JMnT4iOjsbMzAz47QVJV1eXZ8+eoauri62tLZUqVaJv377Aq8vyCvG2+6OlpPPqdlhbW5OSksKhQ4cYP348tWrVemUp6YCAAFlKWhRb9+7do2bNmvj5+QHg7+9PqVKl1ML/gwYNYtasWUyZMoVx48YBL+r7LVmyBF1dXZo3b64eS54Toji6fPky8+bN45dffsHLy0v9vEePHmg0GlxdXRk0aBAhISFUr15d/T43N1cCZqLQSUqaKKmOHDlCUFAQS5YsYdmyZQQHBxMbG4udnR06OjosXrwYRVFwdnYGwMTEhAEDBjBkyBA6d+6sHkf6Nm8HeZqKN65atWo0atSI48eP07FjRwwNDdVaNidPniQ6OhpnZ2cGDBgAvFrnRoiiQup2CPH7HB0diY2NZf78+bz77rs8f/4cLy8vFEXByMiIvn37Ym9vz4MHD9i4cSNVqlQhPT2d7777jvj4eC5evIhWqy1QJF2Iou7lWcrm5uY4ODiwbNkyvLy86N+/P2XKlEGj0dCjRw+0Wi0ODg7MmzdPDT4Dck2IQpX/vnz27FnatGnDwoULmTlzJvAicDZ48GCSk5OZMmUKZcuWZf78+cydO1e9BnJyciTwK4qshw8fcvXqVXr16kVcXBznzp3D2NgYY2NjvvzySzQaDS4uLty/f5/u3bvj5eWFoaEhXbt2lZnCbyF5ooo3ztDQEAsLCyIiIti5cycAOjo6ZGZmsnbtWqKiogosSS0BM1EUyVLSQvyxatWqERMTw5o1a7h+/Tp6enqcOnWKihUr4uLiQmhoKC1atGD58uXY2tri7+9PZGQk5ubmREdHo6enR3Z2tgQHRLGRm5urBsyys7NJSkpCX18fGxsb5s2bR1ZWFl988QUpKSnqPt26dSMgIABvb+/CarYQBSQmJqr35ZdT0tzc3NTtXk5JW7ZsGYCkpIliwdrammbNmnH16lXatGlToK9SqVIlbG1tWbdunbooXnp6Ojt37lTPfwmYvV00Sv7ohBD/srzRo6ysLKytrYmJiaFSpUo0bNiQ8+fPk5qaysWLF9HT03tltFWIt5ksJS3En5P/GvH19cXb25uPPvpIXTE5LS2Nvn378uTJE+bOnUuvXr3Q0dHh6dOnlC1bVj2OzEIWxUn+mTlubm6cPn2a6Ohohg4dyoABA2jdujWbNm3C09MTMzMzNm7c+MpzQq4JUdh+LyUtPT2d9evXs2TJEmbMmKGmpN27d48FCxaoKWly/oriIDs7Gx0dHTw8PMjOzmb79u3qrOH8tbrhRdmilJQUatSoITPM3mLyLyLeqLzp1vr6+mzZsoXAwEDOnDlDQkIC7du3Z/Hixa/UMBCiKJC6HUL8Ofk7i7a2tuTk5KhpZXmBs/3799O3b18WLlxITk4OvXr1KhAwk1kIorjJe4bMnj2b9evXM3/+fGxtbRk1ahTR0dFs3bqVzz77DEVRWLduHZ988gnh4eEYGRmpx5BrQhQ2SUkTJVX+gY+8c3jSpEkAVKxYEXd3d1avXo2DgwPNmjUD4NixY3Tp0oVy5cqpx5Dz/+0kM81Eofij0VB5YIqi5L/V7QDUEdYpU6YwZ84c5s+fD1Cgboe87IiSIP/1cvr0aVq3bo1Wq8XHxwcfH59XZpwNGDCAmJgYgoKCaN++fSG3Xoh/1sv3/uvXrzNkyBA8PT3p0KEDkZGRtGvXDh8fH0aMGKHus379en744Qe8vb0lPVm8dWxsbAgODqZPnz4sX76cBg0aqN8lJSURGhqKo6MjVapUoVy5chw7dkwyTESRlr9vs2XLFq5du4a+vj6dOnVSVwYPDg7Gw8OD+vXrM2TIEPz8/Pj555+5ceOGnPdFgDxpxT8mfyHz9PT0P9z29wIEksMtihKp2yHEn6coSoHZNKNGjWLz5s0A2NnZYWtry/fff4+npyc//vgjpUqVYvfu3fTp04c2bdoUZtOF+Md9+eWXnDx5ssBneS9eHTp0ICQkhC5durBmzRpGjBhBWloaBw4cIDc3l9GjR+Pj46MuhCHE2yA7OxtFUfjwww9Zvnw5CQkJLFy4kOjoaODFM8DU1JThw4dz8+ZNwsLCOHnypFqfUgIHoqjK69tMnz4dBwcHbt26xYEDB5g9e7ZammX48OF89dVXPH78GGdnZ9LT07l69aqc90WERCfEPyJ/hH3FihVkZGQwbNgwateu/Yf75R9VyszMxMDA4F9vqxD/BFlKWoi/Ju9cd3FxwdfXl507d2Jubq5+b29vD7xYPdbLy4sxY8bQvHlz3N3dAanXJIqPjIwMtFqtOgMhry+UnZ1NbGwsbm5uuLq64ubmpl4Xly5dwtvbm+rVq/PBBx+o+8lMM1GYJCVNiBe8vb3ZsWMHYWFhtGzZkqCgIEaPHs3Tp0/JyMjA0dGRoUOH8p///IesrCzq1auHVquVDKsiQv6FxD8i74Hp5OREcHAwLi4uBepswKvLqOf/++bNm3n48CETJkxAT0/vzTVciL9J6nYI8dclJiYSHh6Oq6srHTp0UD/Pux7s7e3RarUsWLCAunXrFiiYKwEzURzcu3ePmjVrqnX8/P39KVWqFAMHDqRZs2YMGjSIWbNmMWXKFMaNGwe8GFRcsmQJurq6NG/eXD2WDLqIwvTfUtK++OILNBoNHh4euLq6/m5KmgR+RVGUd/7n5uaSk5PD3bt3sbe3p2XLluzduxcHBwfmzZtHdHQ0np6eGBgYMHHiRGrVqlXgGPIuUDTIv5L4x2zcuJGgoCCOHj1KkyZNgBerB6akpFC5cmU0Gs1rVxj08fFhwoQJ7N+/XwJmosiwtrYmIiJCrdvxuqWkzczMcHR05NSpU5QrV44DBw7IUtKiRHvy5AnR0dGYmZkBvw2e6Orq8uzZM3R1dbG1taVSpUr07dsXkMCAKD4cHR2JjY1l/vz5vPvuuzx//hwvLy8URcHIyIi+fftib2/PgwcP2LhxI1WqVCE9PZ3vvvuO+Ph4Ll68qL6kSaBBFLb8KWkbNmygS5cuxMTEcOzYMQYPHsyECRMYPnw4enp6+Pv74+zsTLVq1SQlTRR5SUlJmJqaAnDmzBnatm3LxIkTURSFW7duMWPGDObMmYODgwPfffcdffr0YeXKlZiamjJs2DD1OHIfLzrkX0r8bS+vIfHgwQM6dOhAkyZNuHnzJh4eHjRr1oyBAwcyffp0NY3g5YDZ9OnT2b59Oz179iyMnyHEXyZ1O4T4e6pVq0ajRo04fvw4GRkZ6kIYACdPnmTFihUADBgwAB0dHfU7IYqDatWqERMTw5o1a7h+/Tp6enqcOnWKihUr4uLiQmhoKC1atGD58uXY2tri7+9PZGQk5ubmREdHq88QedESb4v8KWlbtmxhwoQJnDlzBn9/f5YvXw7A0KFD8ff3JywsjOPHj6vnsRBFUWhoKJMmTSIuLo7JkyfTvn17fv31V6pUqYKZmRkXL15EX18fa2tr4MUEko4dOzJlyhSsrKwKufXi75KpDuJve/nFPz09nYiICL766ivCw8N5//33sba2JiUlhUOHDjF+/Hhq1apVIGDm5OREQEAAAwcOLIyfIMSfJnU7hPjfGRoaYmFhQUREBE2aNGH48OHo6OiQmZnJ2rVr0dfXLzCwIimZojjIO6enTp1KmTJl8Pb2Jjc3V10pds+ePfTt25d58+ahKAq9evVi4cKFODk5UbZsWfU4OTk58gwRhUpS0kRJp6urS0REBJcuXSIuLo6rV69SoUIFdZBPR0eHjIwMjh07hqWlJR4eHjRs2JBJkyapA4XStyl6NMrL04WE+Avc3Ny4ceMGgYGBAEyePJk7d+5gaWlJly5daNCgAVFRUdjZ2bF7927q1KkDvCj07ODgQFBQEIMGDSrEXyDEfydLSQvxv8sLHGRlZWFtbU1MTAyVKlWiYcOGnD9/ntTUVC5evIient4rNTCFKMpeTqdct24dfn5+fPTRR2rgLC0tjb59+5KSksKMGTPo1asX+vr66j5yTYjClj8l7bvvvqNt27bEx8ejKAoZGRn06tULW1vbAilp5cqVw8XFpUBKmhBFUV7IRKPRYGNjw+bNm+nduzerVq2ibt266na3b99m0qRJXLx4EXgxsB4ZGSl9myJOgmbib8vJycHf35+xY8cyduxYdUnd1NRUSpcuDbwoXjtw4EAURSE0NBStVktycjI2NjbY2NgwYMCAwvwJQvwlL9ftMDY2Vut2AGzbtg1/f3/u3r1LtWrVOHLkiNTpEyKfvBHW58+fExgYyJkzZ0hNTaVevXosXrwYXV1dWSRDFCv5A2anT5+mdevWaLVafHx88PHxeSVwNmDAAGJiYggKCqJ9+/aF3HohXggNDWX79u24ubnh5uaGh4cHjx49wtTUFK1Wy65du1iwYAFHjhyhcuXKHDlyBC8vLzp27MjEiRMlpVgUaS8PfGzYsIGMjAxcXV3p2LEjU6dOpUmTJmpQ7Pbt29y6dYuHDx8yePBgdHR0pG9TxMm/nPjTXi7ir6Ojw/DhwzEyMmLMmDEAeHp6Urp0aZKTk/Hz8+PYsWPEx8cTFRWFVqslJycHExMTNm3apAbWhCgKZClpIf53eXXK9PT0sLW1xdbWtsD3cr2I4iSvlivA7Nmz2blzJ7Nnz2b48OHY2dmhKAq+vr4AauBs9+7dzJw5kzZt2hRm04UoQFLSREmVP2Dm5eVFRkYGEyZMQF9fn9q1a2Nvb49Go8HR0ZFGjRoBcPPmTXr06KEeQ1Lriz4J+4s/Le+Gce7cOfUzIyMjPv30U3x8fFi/fj0ODg4AmJiYkJaWRo0aNTh//rxa9DPvgSkBM/G2y83NVf/7/Pnz363b8c477+Dp6YmHhwcAtWrV4p133lFrfshDUpQEedcLvKhv+Ud+78VJVpUVxU1eGo6Liwu+vr74+vrSvXt39Xt7e3tsbW2JjIzEy8uL6OhoSpcujbu7uyyEId4KiqKgKAqWlpZYWlpy7do12rZti5GREfDb/bx58+Y0bNgQJycnmjZtyr1791i8eLG6YrgEzERRlff+O23aNBYvXoyBgQGxsbEA9OzZEy8vL06cOMHixYvZsWMHvXv3xsbGRr12QOqzFgeSnin+q/wR9rNnz9KmTRsWLlzIzJkz1W3S09NZv349U6ZMYc6cOcyfPx/4rQaHjDCJokTqdgjx5+V/RqxYsYKMjAyGDRtG7dq1/3C//LU9MjMzMTAw+NfbKsSblpiYSN++fRk1ahSjRo1SP88/q9LX15cFCxYwZcoUHB0dpe6NeCtISpoQL/j5+TFnzhwOHDhAq1at1M/z+i5Hjx5l1qxZZGVlYWJiopZnkXt58SF3MfGHEhMTKV++PAAXL16kYcOGuLi4sGLFCnR0dJg+fToAxsbGdO7cmfLly+Pi4kLp0qWZNm2ajDCJIuf36nZUqVJFrdvxuqWkO3bsKEtJixIp76XKycmJ4OBgXFxc1FkIeV7uOOb/++bNm3n48CETJkyQGoCi2Hny5AnR0dGYmZkBv537urq6PHv2DF1dXWxtbalUqRJ9+/YFXl2dXIg3TVLShPjNhQsXGDBgAK1ateL69eucOXMGX19f0tPTWbFiBd27d8fc3Jznz59Tu3ZtKc9SDMm/pPhdR44cISgoiCVLlrBs2TKCg4OJjY3Fzs4OHR0dFi9ejKIoODs7Ay9SMgcMGMCQIUPo3Lmzehzp/ImiROp2CPHXbdy4kaCgII4ePUqTJk2AFwHllJQUKleujEajeaUuJoCPjw8TJkxg//79EjATxVK1atVo1KgRx48fp2PHjhgaGqrPiZMnTxIdHY2zs7O6MJI8Q8TbIH9K2tatW5kxYwaxsbHUrVtXTUmbMGECWVlZ9OvXj40bN3L+/Hni4+MB1NrHQhQH1atXx8vLi0qVKnH48GHMzMzo2rUrt27dYvjw4fz000/UqFFD3V7KsxQ/8q8pftfDhw+5evUqvXr1Ii4ujnPnzmFsbIyxsTFffvklGo0GFxcX7t+/T/fu3fHy8sLQ0JCuXbui0Wgkwi6KlLxM9by6HXlLSf9R3Q4nJycqVqzIrl27ZFalKFFenjn24MEDOnToQJMmTbh58yYRERF4eHhQuXJl2rRpg6ur62sDZtOnT2f79u307NmzsH6KEP8qQ0NDLCwsiIiIoEmTJgwfPhwdHR0yMzNZu3Yt+vr6Ba4LeYaIt4Wfnx/BwcGvTUnr1asXBgYGzJo1iyVLlmBiYsK9e/fUvpAQxUnv3r1JTk5m+/bt2NnZ0b17dxo3bkxERAQJCQlkZ2cX2F5Wiy1+pKaZ+EM2NjYEBwfTp08fli9fToMGDdTvkpKSCA0NxdHRkSpVqlCuXDmOHTsmOdyiyJG6HUL8b+bPn8+qVasYNWoU4eHhvP/++zRu3JiUlBQiIiIIDQ2lVq1a6vY+Pj44OTkREBDAoEGDCrHlQvx78p4ZWVlZWFtbExMTQ6VKlWjYsCHnz58nNTWVixcvSr9JvJXGjh0LwLp16343Je3+/fuSkiZKjJSUFMqUKQO8eHfICx7v2bNH7t/FnATNxGvlrXTp4eFBdnY227dvx9zcHAcHB5o3b16gc/fkyRNSUlKoUaOGzDATRc4f1e04dOgQ9vb2dO7cuUDdjvDw8FfqdsjsAFHSuLm5cePGDQIDAwGYPHkyd+7cwdLSki5dutCgQQOioqKws7Nj9+7d1KlTB3gxe8HBwYGgoCAJmIliL+/58Pz5cwIDAzlz5gypqanUq1ePxYsXo6urK/0m8VZauHAhXl5ejB49Wk1Ja9SoEbdu3eL48eP89NNPagABXh2AFKI4SktL4+jRo7i7u/Prr78SFRUlAx8lgDyhhSr/wy6v8zZp0iQAKlasiLu7O6tXr8bBwYFmzZoBcOzYMbp06UK5cuXUY0jHTxQlUrdDiL8uJycHU1NTNm7cSKlSpfD09GTNmjWkpqZSunRp4EUKz7x586hatao6yyw5OZmwsDCCg4PVGk5CFGc6Ojrk5OSgp6eHra0ttra2Bb6XgJl4W0lKmijuFEUhNzf3L/Xjb926xfnz56lTpw7h4eEy8FFCyEwzARQMmG3ZsoVr166hr69Pp06daNeuHQDBwcF4eHhQv359hgwZgp+fHz///DM3btyQyLoo0mQpaSH+2OuK+D979oyQkBDGjBnD6NGj8fT0BF4Exvz8/Dh27Bjx8fHqKGzejJv8gTUhiqr8/ab09HSMjY3/8jHkGSKKAklJE8VVXFycurJxaGgoTZo0oXbt2v91v4cPH1KpUiU0Gg3Pnz+XhYxKAAmJCuC30aHp06ezYcMGunTpQkxMDMeOHWPw4MFMmDCB4cOHo6enh7+/P87OzlSrVo2rV6/KA1MUebKUtBB/LO8Zce7cOVq3bg2AkZERn376Kbm5udjZ2aGnp8eqVaswMTEhLS2NGjVqcODAgVdGYSVgJoq6/AGzFStWkJGRwbBhw/7ry1b+IFneoIwQb7syZcq8NiUtr+i/vAeIoujs2bN88cUXbNq0iZCQEIKCgrh06dKf2rdy5crqnyVgVjLIG59QeXt7s2PHDsLCwmjZsiVBQUGMHj2ap0+fkpGRgaOjI0OHDuU///kPWVlZ1KtXT4IHoliQpaSFeL38wYGzZ8/Spk0bFi5cyMyZM4EXgbPBgweTnJzMlClTKFu2LPPnz2fu3Lnqy1ROTo5cL6JYybsmnJycCA4OxsXFRV1pOc/LwYT8f9+8eTMPHz5kwoQJ8sIl3jhJSRPiRer8f/7zH/r160dWVhaXLl2iWrVqf1ibL/99PCAgAENDQ6ysrN5ks0UhkTtdCZZ3U8jNzSUnJ4e7d+9ib29Py5Yt2bt3Lw4ODsybN4/o6Gg8PT0xMDBg4sSJBVZAk+CBKA6kbocQr0pMTKR8+fIAXLx4kYYNG+Li4sKKFSvQ0dFh+vTpABgbG9O5c2fKly+Pi4sLpUuXZtq0aeosBKn5J4qjjRs3EhQUxNGjR2nSpAnwImU5JSWFypUro9FoXpvW7OPjw4QJE9i/f78EzEShiI+P/8spaU2aNKFKlSqSkiaKDQsLC8LCwnj48CH169fn9u3b1KxZ85V7dp6X7+OOjo5s2rSpMJouCoHUNCuhkpKSMDU1BeC7776jbdu2xMfHoygKGRkZ9OrVC1tbWxwcHPjuu+/o06cP5cqVw8XFhWHDhhVy64X4d0jdDiFeOHLkCEFBQSxZsoRly5YRHBxMbGws6enprF+/niVLljBjxgycnZ0BuHfvHgsWLGDIkCF07txZAmWi2Hn5JWrZsmVERUWxY8cObt68SUREBB4eHlSuXJk2bdrg6ur6Svqaj48P06dPJyAggIEDBxbWTxEl2O+lpFWrVq2wmybEvy5vICMnJwetVsu3337Lo0ePCA0NJSoqihUrVtCjR48/nG2Wdx/39/eXFcBLEJkiVAKFhoayfft23NzccHNzw8PDg0ePHlGlShW0Wi27du1CX18fa2tr4MXIaceOHenYsaNMQRXFmtTtEOKFhw8fcvXqVXr16kVcXBznzp3D2NgYY2NjvvzySzQaDS4uLty/f5/u3bvj5eWFoaEhXbt2RaPRSNqOKHZevv+np6cTERHBV199RXh4OO+//z7W1takpKRw6NAhxo8fT61atQoEzJycnCRgJgqVpKSJkir/Of7gwQOMjIxo3749AFWrViUrK4upU6ei1Wrp1q0bAEFBQXTq1EnNsvL19VXv4xIwK1mkR1sC6erqEhERwaVLl4iLi+Pq1atUqFCBnJwc4MUDNSMjg2PHjmFpaYmHhwcNGzZk0qRJan0amUUgigKp2yHE32NtbU1ERATBwcH06dOnwMtUpUqVsLW1xczMDEdHR06dOkW5cuU4cOCAGmCW60UUR25ubty4cYPAwEDmzp1LYmIit27dYuLEiXTp0oUGDRoQFRXF8ePHyc3NVffz8/Nj6tSpBAUFyYuWKFSSkiZKqrx+zJw5c9i+fTs6Ojq0bNmS4OBg2rRpg46ODmvXrmXcuHFMmTKFsLAw7ty5w/DhwwHw9PTE2dmZjRs3ysBHCSTpmSVI3j+1RqPBxsaGzZs307t3b1atWkXdunXV7W7fvs2kSZO4ePEiABUrViQyMhI9PT2ZbSOKFFlKWoi/Ljs7Gx0dHTw8PMjOzmb79u2Ym5vj4OBA8+bNCzwHnjx5QkpKCjVq1JAZZqJYy8nJwd/fn7FjxzJ27Fg8PT0BSE1NVVeEzczMZODAgSiKQmhoKFqtluTkZGxsbLCxsWHAgAGF+RNECSUpaaIky39eBwUF4ezszKJFi0hKSmLlypW8++67hIaGUqpUKS5cuEBgYCARERE0aNCAPXv2oKenR2xsLA4ODgwaNIjPPvuskH+RKAwSNCshXn4QbtiwgYyMDFxdXenYsSNTp06lSZMm6svQ7du3uXXrFg8fPmTw4MHo6OjIy5AoUqRuhxB/3h+9LG3cuBF3d3caN26Mg4MDzZo1A+DYsWN06dLlTx1DiKLmdUX8nz17RkhICGPGjGH06NFq4Cw5ORk/Pz+OHTtGfHw8UVFR6OnpqTPz8wfWhHiT8t+X4+LiMDIyUmsanz59Gi8vLy5dusSqVav+MCVt2rRpkpImirSDBw+SmJiIRqNRSxBdvnyZ/v37U6tWLQ4ePIixsTG5ubkkJSVRvnx5dUEXjUZDYmIiFSpUKORfIQqLREBKgPwPTC8vLzIyMpgwYQL6+vrUrl0be3t7NBoNjo6ONGrUCICbN2/So0cP9Rg5OTkSMBNFitTtEOLPyX9NbNmyhWvXrqGvr0+nTp1o164dX3zxBRqNBg8PD1xdXRkyZAh+fn78/PPP3LhxQ71mJGAmipO88/ncuXO0bt0aACMjIz799FNyc3Oxs7NDT0+PVatWYWJiQlpaGjVq1ODAgQOvpPVLwEwUFklJE+JF6ZU+ffqgKApeXl7q502bNmXfvn3079+fPn36sGfPHsqWLasGx/L3jyRgVrJJD7cEyLvYp02bxuLFizEwMCA2NhaAnj174uXlxYkTJ1i8eDE7duygd+/e2NjYoCiKmtIpNcxEUWNhYUGdOnV4+PAhFSpU4Pbt2wDqzIGXvVy3Y/LkyZQqVepNNlmIQpH3jJg+fToODg7cunWLAwcOMHv2bHUmzfDhw/nqq694/Pgxzs7OpKenc/XqVUnXF8VO/lpkZ8+epU2bNixevFj9zMjIiMGDB7N06VLWrFnD3LlzAZg7dy6+vr7o6urKQKModPnP46CgINavX4+zszOjR4/m+PHjdOrUibS0ND7++GMcHBywtLTE3d0drVZLdHQ0Wq2W2NhYTp06hb+/vwTMRJHycj+/Vq1ahIWFUadOHQ4ePFjguyZNmrBv3z7Onj3L7NmzC3wng4Eij6RnlhB+fn7MmTOHAwcO0KpVK/XzzMxMDAwMOHr0KLNmzSIrKwsTExOOHDkiNcxEkSN1O4T4e7y9vXFzc2Pnzp20bNmSoKAgRo8eTePGjbG2tsbR0RGAu3fvkpWVRb169dBqtZK2L4qVxMREypcvD8DFixepXbs269atY+XKlTg5OTF9+nR126tXr9KxY0cSExNxc3Nj2rRpANJvEm8VSUkTJU3+Pv6zZ8/Izc1VB8EPHz7M0KFD+eSTT9iyZQvw2z371q1b1K5dWyaKiNeSnm4JceHCBQYMGECrVq24fv06Z86cwdfXl/T0dFasWEH37t0xNzfn+fPn1K5dW16GRJEjS0kL8eflXS+5ubnk5ORw9+5d7O3tadmyJXv37sXBwYF58+YRHR2Np6cnBgYGTJw4Ub1W8o4hzwhRXBw5coSgoCCWLFnCsmXLCA4OJjY2Fjs7O3R0dFi8eDGKouDs7AyAiYkJAwYMYMiQIXTu3Fk9jgTMxNtCUtJESZP/3HV1dSUyMpJLly4xePBgLC0tsbS0ZNu2bVhZWWFtbc3mzZvVe3a9evUA1FqUQuQnM81KiIULF+Ll5cXo0aM5fPgwZmZmNGrUiFu3bnH8+HF++uknypQpo24vBZ1FUfW6uh3woi7N2rVrOXfuXIG6HVeuXEGr1UrdDlFiJCUlqYWgv/vuO9q2bUt8fDyKopCRkUGvXr2wtbXFwcGB7777jj59+lCuXDlcXFwYNmxYIbdeiH/H5s2bWbZsGbm5ucTFxXH69GkaNmwIwKNHjwgICMDFxYURI0bQvXt3vLy8MDQ0ZM+ePbJyrHgrvDzLMTs7m6NHjzJu3DgaN27M/v37C2x/9epVLCwsGD16NO7u7m+6uUL8a2bNmoWPjw9r1qwhMzOTdevWkZWVxdGjR6lQoQJHjhzB2tqaVq1acejQocJurigC5OleQvTu3Zvk5GS2b9+OnZ0d3bt3p3HjxkRERJCQkEB2dnaB7SVgJoqKl5eSXr9+fYGlpDt16kRoaCgff/wx+vr6BAYG4u7uToMGDaRuhyhxQkND2b59O25ubri5ueHh4cGjR4+oUqUKWq2WXbt2oa+vr6bxPHv2jI4dO9KxY0dZFEMUa9bW1kRERBAcHEyfPn0K9IMqVaqEra0tZmZmODo6curUKcqVK8eBAwfQaDQoiiIBM1Gofi8lzdLSEi8vL4YOHYqVlVWBlLTGjRtz9epVateuXZhNF+Ifdf36dQ4dOsSePXto164dx48f58cff2Tt2rVUqlQJgB49erB+/Xq8vb1looj4U2SmWQmTkpKizijLzc2lV69eGBgYqCOlQhRVUrdDiP/u8OHD2NjYUKVKFeLi4jh16hTvv/++mo6wd+9epk+fzrx587C0tMTGxoaGDRuydOlSNBqNpC2IYik7OxsdHR08PDzIzs5m+/btmJub4+DgQPPmzQvM4Hny5AkpKSnUqFFDZpiJt8J/S0nr2LEjhw8fxsrKip49e7J58+ZXjiH3dlFcXLlyhYEDB3Lt2jUOHDiAjY0Ny5Ytw97envT0dPbt20fXrl3VABpIhpX47+TsKGHKlClDWloa+/bto1u3bsTHx7Nz5051pFSIoiivbscXX3xBSkqK+nle3Y579+7Rp08fnj59ilarpUKFCmrATKvVotFoJGAmirW81ZDzanpcu3aNtm3bYmRkBPy2QnLz5s1p2LAhTk5ONG3alHv37rF48WL1GSEvVaK4yL+6oK6uLhqNhkmTJvHVV18xfvx4fvzxR1avXs2lS5fUgNmxY8coV64cNWvWVJ8hEjAThS3vZX/WrFksX76cQYMGMWvWLI4dO8bkyZN59OgR3bt3Z+vWrYSHh9OzZ89XjiH3dlEUve7d9dmzZ+jr6+Pr68uoUaNwc3PD3t4egEuXLrF//37u379fYB8JmIn/RmaaFXGKopCbm/uXHnZXrlxhx44dxMXF4ePjg66uroyUiiJF6nYI8ee9PIK6YcMGMjIycHV1pWPHjkydOpUmTZqo19Xt27e5desWDx8+ZPDgwejo6MgzQhQr+a+JLVu2cO3aNfT19enUqRPt2rUDIDg4GA8PD+rXr8+QIUPw8/Pj559/5saNGzIzX7x1rl+/jrW1NWvWrFFT0nr37s3atWsZOXKkut3evXvx9vbm4MGDEigQRVr++3hGRgaGhobqd/369ePAgQMsWrSIGTNmAC+CaYMHD0ar1bJ37145/8VfIkGzIi4uLg4zMzPgRa2aJk2a/KnaBA8fPqRSpUpoNBqeP3+Onp7ev91UIf4RspS0EH9e/uvFy8uLjIwMJkyYgL6+PocOHcLe3p7OnTvj6OhIo0aNAAgPD6dHjx7qMSRtRxRX06dPZ8OGDXTp0oWYmBiMjY0ZPHgwEyZMAGDbtm34+/tz9+5dqlWrxpEjR6S/JN5KkpImSio3NzfCw8OpW7cunTt3xtramvj4eKysrLhx4waTJ08mKyuLU6dOkZCQwMWLF9HT05PzX/wlcqYUYWfPnqVDhw58//33TJs2jVGjRqGvr/+n9q1cubI6UiodQFFUvFy3w9ramqZNm+Ls7MyJEyfUpaQPHz6s1jXLv5S0jo4OOTk5hdZ+Id60vOtl2rRpLF68GAMDA2JjYwHo2bMnXl5enDhxgsWLF7Njxw569+6NjY2Nms4JkrYjiidvb2927NhBWFgYW7ZsYcKECZw5cwZ/f3+WL18OwNChQ/H39ycsLIzjx4+jp6f3ysJJQrxpkpImxAvu7u6sXLmSVq1a8csvv7B8+XKWLFlCtWrVOHz4MH379uXgwYOcPn2aRo0aER0drd7H5fwXf4XMNCvCIiMjWbt2LeHh4WRlZXHp0iVq1qz5h5Hz/GltAQEBGBoayopoosiRpaSF+PP8/PyYM2cOBw4coFWrVurnmZmZGBgYcPToUWbNmkVWVhYmJibqbJqX06CFKMry+ka5ubnk5OQwd+5cTExMmD59Onv37mXUqFFMnTqV6OhooqKimDp1KhMnTnztMYQoLJKSJkqyl+/BCxcupHnz5vTu3Zt79+7h6+vLzp07GTZsGLNnzwYgOTmZsmXLqv0ZKTch/g45Y4owCwsLwsLCePjwIfXr1+f27dvUrFkTrVb72ped/J/5+Pjg6OjIpk2bCqPpQvxtspS0EH/NhQsXGDBgAK1ateL69eucOXMGX19f0tPTWbFiBd27d8fc3Jznz59Tu3ZttFqtdCpFsZKUlISpqSkAZ86coW3btkycOBFFUbh16xYzZsxgzpw5ODg48N1339GnTx9WrlyJqakpw4YNU48jzxJR2PLOwdelpHl7e/P06VPc3d3RaDSvpKTlBY3lPBZFUf5zd//+/ejp6XH69Gk+/PBDAGrWrIm9vT0ajYYtW7agKApz5szBxMREPYaiKNK3EX+L3DWLmLzVnnJyclAUhS5durBz507atm3L2LFjCQ8PB14/dTt/wCyvjke/fv3eXOOF+AdkZ2eTkpLCxx9/zO7du+nXrx8rV65k5MiRpKens3XrVh49ekT//v05fPiw2kkUoqSqXr06+/bt4+uvv8bGxoYDBw7QtWtXGjduzPDhw0lJSaFGjRrUrVtXvV6kUymKi9DQUCZNmkRcXByTJ0+mffv2/Prrr1SpUgUzMzMuXryIvr6+mtL/7NkzOnbsyJQpU2QmvngrSUqaKGkURVHPXUdHR6ysrLC1teXEiROEhYWp21WvXh07OzuGDBnCqlWr2LBhQ4HjyOx58XdJr7gIyR9hf/DgAUZGRrRv3x6AqlWrkpWVxdSpU9FqtXTr1g2AoKAgOnXqRK1atQDw9fXFycmJgIAABg0aVDg/RIg/6XUzJvPX7Zg1a9Zr63aYm5sXKHYrnURRkvXu3Zvk5GS2b9+OnZ0d3bt3p3HjxkRERJCQkPBKjSa5XkRxoqurS0REBJcuXSIuLo6rV69SoUIFtb6ljo4OGRkZHDt2DEtLSzw8PGjYsCGTJk1Co9HIQhii0L08O+zp06f4+/sXSEkLCgoiJyeH2bNn4+PjIylpoljJO48TEhL4/vvvOX36NDo6Ohw+fJgFCxZQpkwZlixZArwInI0aNYoaNWowfPjwwmy2KEakplkRNGfOHLZv346Ojg4tW7YkODgYgHPnzrF27VrOnTvHlClTCAsL486dO1y5cgWtVounpyfOzs5s3LiRgQMHFvKvEOKPSd0OIf5ZKSkplClTBnhxffXq1QsDAwP27Nkjo6+i2Mnr3mo0GmxsbNi8eTO9e/dm1apV1K1bV93u9u3bTJo0iYsXLwJQsWJFIiMjpa6feCu8LiXN3d2dSZMm0bNnTwBiY2Px8fEhJCSEzz//nDlz5hQ4hpzHojhwdXXlyJEjmJmZ4evri5GREUlJSWzatIl58+Zha2urBs7yk4EP8U+QIYciIP8DMygoiPXr17No0SKSkpJYuXIlnTp1IjQ0lI8//hh9fX0CAwNxd3enQYMGREdHo9VqiY2N5dSpU/j7+0vATBQJUrdDiH9WmTJlSEtL4+jRo7i7u/Prr78SFRWFRqORlypRrLx8/+/UqROtW7fG1dWV+fPnM3XqVJo0aYKiKNSpUwd3d3du3brFw4cPGTx4MDo6OjIzRxS6l1PSvL29MTU15fHjx9SvX18NmuWlpGm1WlatWkXNmjUZMWKEehy5t4ui6OV+SeXKlbl48SIJCQnqvTmv7qRGo2HBggUkJyfj5eVV4DgSMBP/BJlpVoQcPHiQxMRENBqNWnvj8uXL9O/fn1q1anHw4EGMjY3Jzc0lKSmJ8uXLo9FoyM3NRaPRkJiYSIUKFQr5Vwjx57m7u7No0SJGjBhBVFQUSUlJDBkyhBkzZpCZmcmkSZO4fv06RkZGmJubs2LFCnR1deVlR5QIiqKQm5v7lzqEV65cYceOHcTFxeHj4yPXiyh28gfMvLy8yMjIYMKECejr63Po0CHs7e3p3Lkzjo6ONGrUCIDw8HB69OihHkNmJoi3SUJCAoMHD8bT07NAStr48eMLzKy5e/cuERERjBw5Us5fUWysXLmSli1b0r59e3bu3ImNjQ1jxoxhzZo16jZPnjzB29ubkydPcvDgQQkUi3+cBM2KiFu3btGgQQMURcHLy0ut4QQvXoL69+9PnTp12LNnD2XLllW/k9k2oiiRpaSF+PPi4uIwMzMDXhQ7b9KkCbVr1/6v+z18+JBKlSqh0Wh4/vw5enp6/3ZThXjjpk2bxtatW5kxYwaffPKJmpIZFhbGhAkT+M9//kO/fv3YuHEj58+fJz4+HpBZOeLtIilpoiRLTk7ms88+w9zcnNWrV5OZmcnu3bsZOXIkY8eOZdWqVeq2KSkplC5dWmbPi3+FRFPeUi/HMmvVqkVYWBh16tTh4MGDBb5r0qQJ+/bt4+zZs2ogIY8EzERR8XLdjkOHDqmFPuG3paSHDBnCli1bcHFxAcDExER9MMpS0qKkOHv2LB06dOD7779n2rRpjBo1Cn19/T+1b+XKldVrRgJmojjy8/MjODiYPXv2MH78eDVglpmZSa9evfDz8+Onn35iyZIlpKamcu/ePXnBEm+Fl/v/eSlpFy5ceCUlbf78+fj7+zNu3LhXjiMBM1EcmJiY0KlTJ/bu3UtKSgoGBgYMGjSIwMBAfHx8cHR0VLctU6aMBMzEv0beLt9C+YMHz549Izc3l1KlSmFpaYmXlxdDhw7FysqKLVu2AC8esI0bN+bq1at/apaBEG8bqdshxF+jo6OjzpTJysri0qVLVKtW7Q9nF+fvSAYEBGBoaIiVldWbbLYQb8SFCxcYMGAArVq14vr165w5cwZfX1/S09NZsWIF3bt3x9zcnOfPn1O7dm20Wq3MUhZvhbx7dF5K2qhRoyhTpgw2NjY4OjqqKWl5gbPU1FROnjwpgQJR5P1e/8XR0ZEdO3bg4uLC0qVL0dfXZ8iQIWg0GqysrKhVqxaTJk1St5frQPwbpHfwlsl/w3B1dSUyMpJLly4xePBgLC0tsbS0ZNu2bVhZWWFtbc3mzZvVm0O9evUAmZItih5ZSlqIv8bCwoKwsDAePnxI/fr1uX37NjVr1kSr1b725Sn/Z3mjs5s2bSqMpgvxr6tevTpeXl5UqlSJw4cPY2ZmRteuXbl16xbDhw/np59+okaNGur2ubm5EjATb43k5GQiIiK4e/cu7du3p2/fvvj7+zNy5Eh10BCgXLlyjB8/nunTp8sMG1Hk5b3/+vj40LRpU+rXr0/lypVRFIV+/fpx4sQJ0tPTMTY2RkdHh08//ZQKFSrQqVOnQm65KAmkptlbatasWfj4+LBmzRoyMzNZt24dWVlZHD16lAoVKnDkyBGsra1p1aoVhw4dKuzmCvE/k7odQvyxvEGVnJwctFot3377LY8ePSI0NJSoqChWrFhBjx49/nC2mY+PD9OnT8ff359Bgwa94V8gxJsRHR3N5s2b2b9/P3Z2dnTv3p3GjRsTERHBkiVL2L17N6ampoXdTCF+l5ubG+vWrePKlSuUKVOGrKwsdu3axZdffsm4ceNYvnx5ge0lYCaKg7S0NNq0aUNubi4GBgY4OzvTtWtXFEXhnXfeYeHChQXqeueRmcLi3yZn11vo+vXrHDp0iD179tCuXTuOHz/Ojz/+yNq1a6lUqRIAPXr0YP369Xh7e0uxf1EkyVLSQvx5+e/zDx48wMjIiPbt2wNQtWpVsrKymDp1Klqtlm7dugEQFBREp06dqFWrFgC+vr44OTkREBAgATNRrDVv3pzmzZvz9ddfU6ZMGeDFNbRq1SpMTEwoV65c4TZQiP9PUtJESfby+V+qVCmio6P55ptvOHToEGPHjqVp06a0b98eGxsb9u/fz+DBg6lQoUKB40jATPzbZKbZW+jKlSsMHDiQa9euceDAAWxsbFi2bBn29vakp6ezb98+unbtqgbQQFbJFEWXLCUtxJ83Z84ctm/fjo6ODi1btiQ4OBiAc+fOsXbtWs6dO8eUKVMICwvjzp07XLlyBa1Wi6enJ87OzmzcuJGBAwcW8q8Q4s1JS0vj6NGjuLu78+uvvxIVFYWenp7MzBFvlZdT0rKzs1m8eDEnTpwgNDQUY2Nj4MWMmm+++YZOnTpJoEAUafnfXb/55hsyMjLIysqiX79+6jbnz5/n4sWLuLm5ERcXx/Pnzzl16hStW7eWd1/xRknQrJC9rtMWGRnJyJEjGTduHLNmzWLx4sXqyjhnz57F3d0dJycnWrRoURhNFuIfI0tJC/HH8ncKg4KCcHZ2ZtGiRSQlJbFy5UreffddQkNDKVWqFBcuXCAwMJCIiAgaNGjAnj170NPTIzY2FgcHBwYNGsRnn31WyL9IiL9PURRyc3P/0gzjK1eusGPHDuLi4vDx8UFXV1dSecRbRVLSREk2bdo0tmzZgpGREfHx8bRu3Zp58+bxn//8R+3/ZGRksGfPHtavX49GoyEsLAwDA4NCbrkoSSRoVojyvwxlZGRgaGioftevXz8OHDjAokWLmDFjBvBiJc3Bgwej1WrZu3evRNdFsSB1O4T47w4ePEhiYiIajQZra2sALl++TP/+/alVqxYHDx7E2NiY3NxckpKSKF++PBqNhtzcXDQaDYmJia+kMwhR1MTFxWFmZgZAaGgoTZo0+VOrhj98+JBKlSqh0Wh4/vw5enp6/3ZThfhdvzdDJi8lbcOGDWpKWnJyMtevXyc4OFju4aLYWb9+PTNnzuTw4cNUqVKFzMxM+vfvj4mJCevWraNx48ZkZWWhr68PwN69e5k/fz579+79U/d+If4pEjR7C7i5uREeHk7dunXp3Lkz1tbWxMfHY2VlxY0bN5g8eTJZWVmcOnWKhIQELl68iJ6enkxLFUXK752vOTk5WFhY0KVLF5YuXap+tnPnTqysrFi9enWBuh1ClDS3bt2iQYMGKIqCl5dXgRkHV65coX///tSpU4c9e/ZQtmxZ9Tt5Roji5OzZs3zxxRds2rSJkJAQgoKCuHTpEtWqVSvspgnxp0lKmiipwsPDsbCwwNTUVB0Anzp1Knfv3mXnzp3qwl5JSUl8+OGHtG7dms2bNwO/DZgnJiby3nvvsXHjRnr06FHIv0iUJHLXLWTu7u6sXLmSVq1a8csvv7B8+XKWLFlCtWrVOHz4MH379uXgwYOcPn2aRo0aER0djZ6eHtnZ2fLQFEVK/qWkz549y8OHDwHUpaTPnz9Peno6gLqUdHh4uJqaLERJ8fJYVq1atQgLC6NOnTocPHiwwHdNmjRh3759nD17ltmzZxf4Tp4RojjR0dHhP//5D/369cPf358ffviBatWqkZub+7v75L+WAgIC2LJly5toqhC/K+++PG3aNIYNG8bEiROxsrKia9eufPfdd+Tm5tKyZUvGjBnD1atX8ff3p3379syZM4fMzEy5r4siydfXl0GDBrF9+3aSk5PVUivx8fE8efIEeHGPz8jIwNTUlGXLlnHixAnu379fIMNk9+7dZGZm0rBhw0L8NaIkkjvvG/Zy5+7p06f4+/vj5uZGUFAQvXv3JigoiIULF2JgYICPjw8HDhzg8OHDrFmzRmpxiCItLS2NdevWYWdnR69evdi1axdpaWlMmjSJy5cvs3HjRnVbXV1dunXrpp7zQpQEeemU8CIlPy0tDV1dXSwtLfHy8uLUqVNYWVmp2yuKQuPGjbl69WqBGoBCFDcWFhbUqVOHhw8fUqFCBW7fvg28CEK8Lmki/4uWj48PkydPplSpUm+yyUK81vr16wkKCuLAgQOcPHmSK1eu8PDhQ2bMmMG1a9cAyMrKwtDQkM8//5yJEyfy66+/kpCQUMgtF+LvsbW15YsvvmDlypVs2bKFpKQkNBoNX3zxBadPn2b9+vUAaqminJwcKlasSKlSpQqUZDEyMuLMmTPUqVOnMH6GKMEkPfMNyj+lev/+/ejp6eHu7s6kSZPo2bMnALGxsfj4+BASEsLnn3/OnDlzChxD6jmJokTqdgjx5+W/XlxdXYmMjOTSpUsMHjwYS0tLOnbsyOHDh7GysqJnz55q2kJ+eekNQhQHeddETk4OWq2Wb7/9lkePHhEaGkpUVBQrVqygR48ef5iy5uPjw/Tp0/H392fQoEFv+BeIkk5S0kRJl79fMnbsWI4cOcJXX32FlZUVhoaGzJkzh127djF16lRsbGxITk7Gzs4ORVEIDQ2V917xdlDEG5Gbm6v+eerUqUqpUqWUGjVqKIaGhsr48eMLbHv//n1l7ty5iqmpqRIYGPiGWyrEPyMnJ0f98/Hjx5WDBw8qe/fuLbBNVFSU4uvrq9SvX18xMjJSdHV1lTNnzryyvxAlycyZM5UKFSoomzZtUvz9/ZWWLVsqTZs2VR4+fKjk5OQohw8fVipUqKBYWloWdlOF+NfkfwbExsYqiYmJ6t+/++47xcrKSmnUqJESERGhfr5hwwblzp076t99fHyUsmXLKiEhIW+m0ULk4+Pjo5QqVUpZt26d8uTJE0VRXrwPfP7550rXrl3V7Z49e6YoiqKEhIQoZmZmyr179wq8N/j5+SkmJibKL7/88kbbL8Q/JSsrS/2znZ2dUq9ePcXLy0vJyMhQYmNjlTlz5ihGRkZK9erVlQYNGigffvihuo+8D4i3gQTN3rD4+Hilbdu2SnR0tHLlyhVl2bJlSpkyZRRnZ+cC2925c0fx8/NTsrOzC6mlQvwzHB0dFTMzM6V+/fqKsbGx0qVLF+Xbb78t8BB89uyZsmXLFqVz585Kly5dlIyMjEJssRCF59q1a0qLFi2UU6dOKYqiKMeOHVOMjIyUgICAAtvt2bNH6dGjh3QmRbE3e/ZspUGDBoq5ubkybNgw9fOzZ88qw4YNU9555x3F09NT6dmzp/L++++r14SHh4dSqlQpZdeuXYXVdCGUsWPHKg0aNFC8vLzUwO+hQ4cUIyMjxc/Pr8C227dvV5o2bVogQKwoirJp0yblxx9/fGNtFuKf8Ef9kzFjxih169ZVvLy81KDxTz/9pOzcuVMJDw9X33+fP3/+RtoqxH8j6ZlvkKurK0eOHMHMzAxfX1+MjIxISkpi06ZNzJs3D1tbW5YsWfLKfpJuI4oqWUpaiL/mypUrDBw4kGvXrnHgwAFsbGxYtmwZ9vb2pKens2/fPrp27UqlSpXUfWQ1NVGc5D+fg4KCcHZ2ZtGiRSQlJbFy5UreffddQkNDKVWqFBcuXCAwMJCIiAgaNGjAnj170NPTIzY2FgcHBwYNGsRnn31WyL9IlESSkiZKMiVfOSE/Pz8uXLhA1apVMTc3V+/JY8aM4dixY0ybNo0hQ4a8UppF3n/F20SCZv8i5aX6YwEBATg6OlKtWjV1FUyApKQkNm/ezIIFC/j000/x8vIqrCYL8bdJ3Q4h/pqXnxEAkZGRjBw5knHjxjFr1iwWL16sriB79uxZ3N3dcXJyokWLFoXRZCHemIMHD5KYmIhGo8Ha2hqAy5cv079/f2rVqsXBgwcxNjYmNzeXpKQkypcvj0ajURfTSExMlPqYolA9f/5c7evb29tz5MgRHB0dGTVqFL/++ive3t4sX76c8uXLY2xsTNmyZTl79ix6enoyGCKKrPx9mzlz5rB69Wq6du3KgwcPiImJYejQoXh4eABgZ2fHiRMnGDNmDPb29pQuXbowmy7E75K78b8o74axcuVKTp06xahRo/Dx8eGXX37B0dFR3c7U1JRhw4bx1Vdf8csvv7x2FSgh3maylLQQf03+VTIzMjLUzy0sLHjnnXeYOHEi06dPVwNmz549Y9GiRaSlpdGsWbNCabMQb8qtW7fo06cPX3zxBSkpKernTZs2Zd++fdy7d48+ffrw9OlTtFotFSpUUANmWq0WjUYjATNRKHJzc9U/5wXMALy9venSpQvLli0jICCA8uXLs2DBAq5cucLq1avx9PTk+++/R09Pj+zsbAmYiSIrr28TFRXFlStXOHjwIHv27CE0NJQVK1YQEBDAtGnTgBcLtXzwwQdERkbK6sbirSYzzf5lycnJfPbZZ5ibm7N69WoyMzPZvXs3I0eOZOzYsaxatUrdNiUlhdKlS6sBB5maLYqScePGcfToURwcHBg6dCimpqYcPnyYgQMH4u7uzujRo9Vtd+zYwaJFizhx4gSmpqbq55s3b6ZFixa8//77hfEThHjj3NzcCA8Pp27dunTu3Blra2vi4+OxsrLixo0bTJ48maysLE6dOkVCQgIXL16UWQii2Hm5z5Odnc3Ro0cZN24cjRs3Zv/+/QW2v3r1KhYWFowePRp3d/c33VwhXktS0oR4YePGjQQHB5OcnMzBgwepWLEi8GKQcP369Xh6erJlyxY++OAD4Le0fHn/FW8r6XH/y0xMTOjUqRN79+4lJSUFAwMDBg0aRGBgID4+PgVmnJUpU0YCZqLIycnJAcDLy4suXbqwYsUKtm7dypMnT+jYsSPjx49n8eLFrF27ltTUVGJjY9m4cSM1atSgXLlyBY5lbW0tATNRYri7u7Ny5UpatWrFL7/8wvLly1myZAnVqlXj8OHD9O3bl4MHD3L69GkaNWqkpvXLLARRnOSfdfns2TPS0tLQ1dXF0tISLy8vTp06hZWVlbq9oig0btyYq1evFhh4FKIwvZyS9tVXX5GQkEB4eDgTJkxg4sSJwItgWrdu3Vi9ejWBgYGkpqYWOI4EzERxYGBgQFxcHJcvX+b8+fPq54aGhrRp04YHDx6QlJSkfq7Vags8C4R428hMs3/Q74385+TkYGFhQZcuXVi6dKn62c6dO7GysmL16tVMmjTpTTdXiH+M1O0Q4r97+VxfuHAhzZs3p3fv3ty7dw9fX1927tzJsGHDmD17NvBitnLZsmXVjmR2dja6urqF0n4h/mn5rwlXV1ciIyO5dOkSgwcPxtLSko4dO3L48GGsrKzo2bOnWgczP5mZI94mUVFRLFq0iKlTp9KuXTsSExMJDQ1l7NixjBs3jmXLlgHw+eefk5OTw/bt2yVQIIq03+vHHz58GGdnZ2rVqsW0adNo164dAA8fPqRNmzYsW7aM/v37v+HWCvH3SNDsX+Dj40PTpk2pX78+lStXJjs7m8WLF3PixAlCQ0MxNjYGXrz8fPPNN3Tq1ElegkSR80fBLltbW44ePcq0adMYOXIkhoaG/Pzzz1y8eJGyZcvSpUsXdHR0JAAgSoz818v+/fvR09PD3d2dSZMm0bNnTwBiY2Px8fEhJCSEzz//nDlz5hQ4hsxCFsXVrFmz8PHxYc2aNWRmZrJu3TqysrI4evQoFSpU4MiRI1hbW9OqVSsOHTpU2M0V4rUkJU2UNPnP3b179/Ls2TPMzMzo0KEDAHv27GHJkiVotVqGDRtG1apVCQoK4tatW1y+fFkGPESRIW+r/7C0tDTWrVtHbm4uBgYGODs707VrVyZNmoS7uzsbN27E3t4eAF1dXbp16wbI7AFRtCiKogYAXle3w9fXlzFjxqgjqkOGDKF+/frUr19fPUZOTo6c86JEyH+9ODo64u3tjampKY8fP6Z+/fpq0Kx69erY2dmh1WpZtWoVNWvWZMSIEepx5KVKFEfXr1/n0KFD7Nmzh3bt2nH8+HF+/PFH1q5dS6VKlQDo0aMH69evx9vbW2Yni7dWXkrazz//zPnz57G0tAR+S0mbM2fOa1PS5HwWRVVev2T69OkEBASgq6tL1apVadeuHe7u7gwYMACtVsvs2bOZPHkyvXr1onnz5uzduxcdHR2ZKSyKDLlL/4/yr5IDUKpUKaKjo1mzZg2dOnVi7NixDBo0CHd3d2xsbNi/fz+//vrrK8eR4IEoKqRuhxB/Td71kpCQwPfff8/p06c5dOgQLi4ubNy4kRkzZqjbVq9enVGjRrF06VKGDx9eWE0W4o3Jzs4mJSWFjz/+mN27d9OvXz9WrlzJyJEjSU9PZ+vWrTx69Ij+/ftz+PBhNdAgRGF63Tn42WefsWLFCszNzfHy8uLbb79Vv6tevToVK1YssBosIAEzUSTlnf+KohAfH8+FCxf45ptvOHfuHFZWVnz77beMGjUKgH79+uHm5sYHH3xAtWrV6NWrFzo6OuTm5sq7gCgyJFLzP8g/OvTNN9+QkZFBVlYW/fr1o1OnTnTq1IkhQ4Zw8eLF/9fevcdVVef7H39tEdlbRbwmKd6rUcsbXvISopM9uuCJHAXDK0IiXcxC0Kb0RDaOGYiWHBPkpo7bUglNgVB7IHq08TJe8ChOPeyihpjjhcBABNbvD3+uA2qOWR1y834+Hj0ew97ftfyuPXuv9V2f9f18vsyfP5/8/HyuXLnCF198wYABA/R0Se5KN1tK+vq6HVarlaioKOLi4ggICGDPnj1Mnz69hnsuUnPeeecdtmzZQvv27XnggQew2Wy0bt0aFxcXIiMjAZg3bx4Abdu2NVeb1VNYcSQ3S0MrKSmhXr16xMfH88YbbzB//nxzRv6hQ4f45JNP6Ny5sznrDBRokJpVdfbw9SlpTzzxBCUlJcybN4+IiIhqKWn16tXjP/7jP2q49yK/TNX71/Pnz1NYWIiLiwtt2rTBzc2N0NBQrFYriYmJBAcHk5iYyFNPPcWlS5eIjo4mNjaWK1eumDXORO4Gqmn2K4iIiMBut2Oz2Th9+jQDBgwgMjKSgQMHmieV0tJS0tLSSEhIwGKxkJ6ejouLSw33XOTOqG6HyK1d/11PSkoiPDyce++911wFE+DChQusWrWKOXPmMGrUKJYsWVJTXRb5TVW90SotLcVqtZrv+fr6snHjRubOnWvOvCwpKcHPz486deqwfv16Bcrkd+enUtIANmzYwKxZszh69Cg+Pj706NGDyMhIpaSJw5g9ezarV6+mRYsWFBcXc/jwYfO9oqIili9fTnJyMm3btiUtLQ2ATZs2ERYWhre3N4sXL652HRD5PdNMs18oISGB5cuX8+mnn9KyZUsuX77MM888w5///Gc++OADHnroIcrKyrBarQQEBGCz2XjrrbcoKCigXbt2Nd19kTuiuh0it3YtYBYTE0OfPn0ICgrC1dWViRMnEh4eznvvvQdAkyZNGDduHMXFxeTk5CiwLA7r2vl//vz5ZGVl0aFDB/74xz8yduxYli5dyg8//MD777+PxWKhrKyM7du3U1BQwIEDB3QNkd+Fqg8ACwoKzJQ0V1dX1qxZg91uJygoiKSkJHx9fXF2dubNN99USpo4hKrnYLvdzrJly4iMjOTIkSPY7XZ8fX3ZsGEDAK6urgQGBlJcXMyxY8fM2t3Dhw/HycmJzp07K2AmdxWNPn6GrKwsMxBwbYJeXl4e3t7eeHp64u7uTseOHcnJyeG7774zU23q1atnth88eDD5+fkcO3asZg5C5GdS3Q6RO1NYWMjmzZv5+OOPAXj66adJTEwkLi6OV1991WzXuHFjXnzxRTIyMrBYLGgCuDiq999/n5iYGPr27cvXX39NdHQ08+bN49577+XTTz/l6aefJiMjg507d/Lggw+aszLLy8t1DZEadauUtHbt2hEaGkpQUBD79+8nODgYgKeeeooZM2Zw8OBBYmNj2bFjh77Hcte69t1NTU2lrKyMqKgoQkNDeffdd4mLiyM3N5eRI0ea7Rs2bMi0adNITk6mbt26lJeXA/Dkk0/SoUOHGjkGkTulmWa3KT4+nrCwMKKjowkICMDNzc0sfnjx4kXgamHz0tJSmjRpQlRUFC+//DKnTp2idevW5syBjz/+mMuXL/OHP/yhBo9G5PaobofInXNzc2Po0KF88MEHvP3227i6upoDyuDgYJycnIiOjgauPpWFm9d8ErlbXT877IcffiAxMZHhw4dz8uRJ4uPjWb58ORUVFcyaNYu4uDgKCwtp1KiR+TvQ6uLye3Dte3x9SpqbmxvwvzNrLBYLycnJjBgxgrS0NPz8/LDZbISFhWGz2ejbt69m2Mhd69SpUwQGBnLp0iUWLlwIgM1mw8fHB4AZM2bg5+fH2rVrzffg6thG53G5m+lxx20KCQlhwoQJxMTEYLfbuXDhAhaLhQkTJrBz504SEhIAzAthRUUFzZs3p0GDBtVugGw2G7t27aJ9+/Y1cRgiP0vVpaQnT55MWFgYr7zyCi+//DIAI0aM4I033uDSpUtMmzaNFStW0LNnT3Jzc826HSK1wU+t5hceHk6zZs14++23gaszj/39/UlKSiImJsasf3ONAmbiKKoGzD755BMyMzPZuXOnmZrWpk0bQkND8ff3x263m78RNzc383egGy2paVXP7ddS0sLDw+nTpw/5+fn4+vqa718LnPn5+eHm5mbOrBk+fDjvvfcer7/+ugJmcle5fmzj4eFBeno6np6erF271hzn22w2hg8fTnR0NJs2beKNN96otp3GNnK300IAt6Fqwc7nn3+eLVu2EBYWxpgxY7BarcyePZvU1FSmT5/OxIkTKSwsZMqUKRiGwaZNm3SikLvO9XU7JkyYwMKFC6vV7ejVqxdJSUkAZGRk8Oabb+Lp6cmkSZPo37+/6s9IrRQXF0f37t3p1KkT99xzD+Xl5fz1r39l27ZtbNq0ifr16wNXZ89kZ2czdOhQBQXE4VSdMRkeHs7SpUtp0qQJ//rXvwgODiY2NtZs+91337Fs2TIzdTMwMLCGei3y01JTUykqKsLJyYnx48dTUlJCeno6EREReHp6kpqaarYtKSnBarVisVg0U1LuWlXH8SkpKeTl5VFWVsbAgQNp2bIlISEhdOjQgczMTHObkpISdu/ejZeXl2r3iUNR0Ow2XblyxVztLDQ0lC1bthAeHk5QUBDnzp1j6dKlREdH07RpU+rXr0+jRo34/PPPcXZ2VvBA7ipVv6/nzp3j7NmzhIeHs2rVKtzc3CgqKiIlJYXExER69+5NYmIiAGvXriU6Opr777+fKVOmaClpqXUuXbrEoEGDqKysxMXFhddee41hw4ZhGAb33Xcff/nLXwgNDb1hO91UiaMqKCjAz8+P2NhYnJyc+PTTT5kzZw4vvviiWfcV4MSJE2zevJlJkybpRkt+d06dOkWXLl3MlLRp06YBmIGzGTNm0Lt3bzMl7Rql24sjmDFjBitWrGDMmDGcPHmS3NxcnnjiCUaNGsXo0aPp1asX6enpN2ynVWLFkShodgu3CnaFhISwdetWIiIimDRpElarlePHj3PgwAEaNWrEo48+ipOTk26G5K6lpaRFbu2nrhHZ2dlkZmaSkpJC9+7dGTx4MIWFheTl5bFy5UqaNWtWA70V+b/1zjvvsGXLFlq1akV8fDw2m40LFy7wt7/9jcjISEJCQqoFzq7RjZbUtJud27dv305YWBhWq5WcnBzzO1paWkpGRgZjx44lLCyMuXPn1kSXRX4Tmzdv5vnnn2f16tX069ePtWvXMn78eJKTkwkICOC///u/mThxIk2bNmXv3r013V2R34yiOT+hagH0ZcuWsX//ftzd3encuTOjR48mPj6eyZMnExUVBYC/vz+dOnWiU6dO5j4qKioUMJO7hpaSFrl9VX8v2dnZlJaWUlZWhq+vL0OHDmXo0KH4+/tz4MAB5s+fT35+PleuXOGLL75gwIABmoEsDuf6WTX33HMPBw4coKCgwBwLNWnShHHjxmGxWJgzZw6FhYUsWbKk2n4UMJOadKuUtJiYGEJCQhg+fLiZkma1WnnyySfJzMzUDHtxOPn5+bRt25Z+/fqxbt06goODWbRoEQEBAZSWllJRUUF8fDyxsbEa14hD00yzm6g68Js9ezaLFi1i2LBhnDlzhi+//JJnn32WxYsXAzBlyhS2bdvG5MmTCQ0NpWHDhjXZdZFfewtmZQAAHzNJREFUTHU7RG5fREQEdrsdm83G6dOnGTBgAJGRkQwcONAcPJaWlpKWlkZCQgIWi4X09HRcXFxquOciv42YmBj69OnD4MGDWbt2LRMnTmTy5Mm89957ZpuLFy+ydOlScnJyyMjIUAqb/O4oJU1qs2v3wnFxcWzbto0JEybg7+9PVFSUWWZiw4YN7Nmzh2nTpnHPPfcAt87SErmrGfKT9uzZY/j6+hrbt283DMMwzp07ZyxfvtyoX7++ER4ebrZ79tlnDT8/P6OysrKmuiryqzh58qTRsGFDw2KxGIsWLTJf//HHH421a9caHTp0MEaNGnXDdvruS220bNkyo0WLFsY//vEP49SpU8bx48eNbt26GY888ohx+PBhwzAM4/Lly2b7tLQ0o2fPnsY333xTU10W+U1dvHjRePzxx41p06YZhmEYpaWlht1uN1xcXIxXXnmlWtsffvjBvHboGiK/J1lZWUbHjh2N3bt3G4ZhGGvWrDFcXFwMu91uGIZh7Nixw+jYsaPRp0+fmuymyG/uyJEjhrOzs2GxWIzk5GTz9R9//NF4/PHHjaCgIJ2/pVZQKPgnrFixgtdff538/Hy6dOkCQNOmTfH392f+/Pls3LiR/fv3A7B69Wo+/PBDLBYLhibuyV1ES0mL3J6srCwuXLgAYJ7n8/Ly8Pb2xtPTE3d3dzp27EhOTg7fffedWaupXr16ZvvBgweTn5/PsWPHauYgRH5jbm5uDB06lPXr11NUVISLiwsjR44kOTmZuLg4wsPDzbaurq7muEnXEPk9ud2UNA8PjxvGUSKOpGvXriQmJmK1WsnLy2Pbtm1kZ2fj6+vL6dOniYuL0/2v1AoKmv0EFxcX8vPzyc3NZd++febrVquVQYMGcebMGfMGCqBOnTpUVlZq4Cd3jevrdsycOZNXX32VM2fOEBMTw7/+9S+GDx9utq9at2POnDk11W2R/3Px8fGMHDmSjz76iMLCQnOAePr0aS5evAhcrcNUWlpKkyZNiIqKYtu2bZw6dapaQODjjz/m8uXL/OEPf6jBoxH5dfxUsCA8PJxmzZrx9ttvA1cDx/7+/iQlJRETE8P7779frb3GTfJ7ce3G//Lly7i7u5OZmcmkSZN49913zZS0rKwsNm/eTLdu3UhLSzPH/yKOKiAggKSkJFatWsW4ceOIiIjAarWyb98+6tatS0VFhc7j4vAUNOPmA7/Ro0ezYMECOnfuzJIlS9ixY4f5XuvWrWnevDlFRUXVtlEOt9xNrn1fZ8yYwWuvvcaVK1c4deoUs2bNIjU1lWXLlnHo0CF8fHzMbWw2G0OGDMHJycmchSbi6EJCQpgwYQIxMTHY7XYuXLiAxWJhwoQJ7Ny5k4SEBABz8YuKigqaN29OgwYNqg0kbTYbu3bton379jVxGCK/qmvXkLi4OD7//HO+//574GrgwdfXl3379vHjjz8CV4PKo0aNIisrixdeeKHG+ixyK9fO115eXqSmpuLj48PixYvNgFlJSQkffPABBQUFtGjRwtxO439xZHXr1uXZZ5/lwIEDZGdnk5aWxoYNG3B2dqa8vFw1/KRWqPULAVSdBbB+/XpKSkpo1aoV3t7eAKSlpTFv3jzq1KnDuHHjcHd3Z/ny5Xz11Vfk5ubqRCF3NS0lLXJrVYs6P//882zZsoWwsDDGjBmD1Wpl9uzZpKamMn36dCZOnEhhYSFTpkzBMAw2bdqkp6/i0C5dusSgQYOorKzExcWF1157jWHDhmEYBvfddx9/+ctfzIBDVVo4Rn7vVq5cyZQpU5g6dSpPPvkkhmEwb948zpw5wz/+8Q/q1q2r1GKp1VT0X2qTWh80u2bmzJkkJSVRt25d3N3d8fLyMlMINmzYwKxZszh69Cg+Pj706NGDyMhIc7aNAmdyt0pJSWH58uVkZ2ezbt06goKCzDSE0tJSdu/eTXl5ObGxsaSmpuriKLXSlStXcHZ2BiA0NJQtW7YQHh5OUFAQ586dY+nSpURHR9O0aVPq169Po0aN+Pzzz3F2dtagUhzKT32fs7OzyczMJCUlhe7duzN48GAKCwvJy8tj5cqVNGvWrAZ6K3LnysvLWbdunVmHz93dnVatWpGamoqzs7PG/yIitUitDZpdG/gZhkFBQQETJkxg4cKFuLq6smbNGux2O7169SIpKQmAjIwM3nzzTTw9PZk0aRL9+/fXzZDctQwtJS1yS7f6roeEhLB161YiIiKYNGkSVquV48ePc+DAARo1asSjjz6Kk5OTZtOIQ6n6m8jOzqa0tJSysjJ8fX3NNvv27ePAgQPMnz+f/Px8rly5wvbt2xkwYICuH3JXOnv2LBcvXsRqteLh4YHFYtG5XUSklqmVQbOqA7dz585x9uxZwsPDWbVqFW5ubhQVFZGSkkJiYiK9e/cmMTERgLVr1xIdHc3999/PlClT8PLyqsnDEPnFjh49Ss+ePSkvLycpKYnAwEDgat2OESNG0Lp1axISEpR+ILVK1ZSbZcuWsX//ftzd3encuTOjR48GYPLkyXz22WdERETg7+9/w0wazUIQRxUREYHdbsdms3H69GkGDBhAZGQkAwcONMdWpaWlpKWlmdeP9PR0XFxcarjnIr+cgr8iIrVPrTzrX7vYzZ49m4cffphJkybx7bff4ubmBlxdBj0wMJDnnnuOgwcPMmLECAD8/PyYPXs2e/bsYcWKFZSWltbYMYj8GrSUtEh1VQNms2fPJiwsjIKCArKysnjppZeYOnUqcDWY9thjj7Fo0SKSk5MpLi6uth8FzMQRJSQksHz5cjZu3EhOTg6HDx/m+++/589//jNHjx4FoKysDKvVSkBAAFOnTuXcuXMUFBTUcM9Ffh0KmImI1D61am5x1adDdrudZcuWERkZyZEjR7Db7fj6+rJhwwbgfwNnxcXFHDt2zJyKPXz4cJycnOjcubO5UprI3SwgIABnZ2dztuW1uh1Vl5JWAEBqi2sBs71793L48GEyMjLw8vLi/PnzbNq0ieeffx6r1UpUVBRxcXEEBASwZ88epk+fXsM9F/l1ZWVl0a9fP5o0aWIGk/Py8vD29sbT09O8NuTk5NC7d2/mzZvHqlWrqFevntl+8ODB5Ofnc+zYMdq1a1fThyQiIiLys9XK9MzU1FSKiopwcnJi/PjxlJSUkJ6eTkREBJ6enqSmppptS0pKsFqtqmEgDk91O0SuWrFiBStXrqSwsJCMjAyaN28OXE05S0hIIDY2FrvdjqenJ1C9RqZSmcURxMfHExYWRnR0NAEBAbi5uWEYBmPHjuXs2bNs2bIFuPqbsFqtpKam8vLLL7N7925at25t/g4SEhIIDw/n4MGDtG/fvgaPSEREROTO1Lo5xqdOnSIwMJCgoCDOnz8PgM1mw8fHh6ioKA4cOICfn5/Z3mazmelpCh6II2vRogX3338/bdq0wWKxUFlZqe+81EouLi7k5+eTm5vLvn37zNetViuDBg3izJkzXLhwwXy9Tp06VFZWKmAmDiMkJIQJEyYQExOD3W7nwoULWCwWJkyYwM6dO0lISAAwZ9xXVFTQvHlzGjRoUO13YLPZ2LVrlwJmIiIictdy+KBZZWVltb89PDxIT0/H09OTtWvXUlFRAVwd2A0fPpzo6Gg2bdrEG2+8UW073QxJbaO6HVIbXH+NABg9ejQLFiygc+fOLFmyhB07dpjvtW7dmubNm1NUVFRtG/1exFFcGxctWbKERx99lAULFrB69WouXrzIkCFDePHFF/nrX//Kf/3Xf1FcXMx3333HihUr8PDwoHHjxtX2NXbsWLp27VoDRyEiIiLy63Do9MyqNcxSUlLIy8ujrKyMgQMH0rJlS0JCQujQoQOZmZnmNiUlJezevRsvLy/VcRIRcWBV0ynXr19PSUkJrVq1wtvbG4C0tDTmzZtHnTp1GDduHO7u7ixfvpyvvvqK3NxcXSPEYV25cgVnZ2cAQkND2bJlC+Hh4QQFBXHu3DmWLl1KdHQ0TZs2pX79+jRq1IjPP/8cZ2dnrS4oIiIiDsWhg2bXzJgxgxUrVjBmzBhOnjxJbm4uTzzxBKNGjWL06NH06tWL9PT0G7ZTAXQREcc3c+ZMkpKSqFu3Lu7u7nh5efH+++8DsGHDBmbNmsXRo0fx8fGhR48eREZG4uTkpGuEOJRbBbtCQkLYunUrERERTJo0CavVyvHjxzlw4ACNGjXi0UcfxcnJSXUwRURExOE4/Mhm8+bNpKam8sknn9CvXz/Wrl3Lxo0b6d+/P15eXqxZs4aJEyfSt29f9u7dW21b3QyJiDieqoX7CwoK2L9/P9nZ2bi6urJmzRrsdjtBQUEkJSXh6+uLs7Mzb775Jvfeey8+Pj44OTlRWVmpa4Q4DMMwzIDZsmXL2L9/P+7u7nTu3JnRo0cTHx/P5MmTiYqKAsDf359OnTrRqVMncx8VFRUKmImIiIjDcfj58/n5+bRt25Z+/fqxbt06goODWbRoEQEBAZSWllJRUUF8fDweHh43rW0jIiKOo+psmvPnz1NYWIiLiwtt2rShXbt2hIaGEhQUxP79+wkODgbgqaeeYsaMGRw8eJDY2Fh27Nih9DNxGFXTlGfPnk1YWBgFBQVkZWXx0ksvMXXqVOBqMO2xxx5j0aJFJCcnU1xcXG0/CiKLiIiII3LYR4LXBoGXL1/G3d2dzMxMJk2aRFRUFKGhoQBkZWWxZ88epk2bRlpaGnDr9AQREbm7XTu/z549m9WrV9OiRQuKi4txc3MDwNXVlcDAQCwWC8nJyYwYMYK0tDT8/Pyw2WyEhYVhs9no27evuXKgyN3sWsBs7969HD58mIyMDLy8vDh//jybNm3i+eefx2q1EhUVRVxcHAEBAezZs4fp06fXcM9FREREfnsOX9Ps6NGj9OzZk/LycpKSkggMDASuFvwfMWIErVu3JiEhQatjiog4sKoPROx2O2FhYURGRnLkyBHsdjuPPPIIGzZsMNsXFxcTGxvLsWPHSEhIMNPOMjMz6dy5Mx06dKiR4xD5LaxYsYKVK1dSWFhIRkYGzZs3B6C0tJSEhARiY2Ox2+14enoC1VOcNX4SERERR+bwU6q6du1KYmIiVquVvLw8tm3bRnZ2Nr6+vpw+fZq4uDgsFgsOHjsUEanVrgXMUlNTKSsrM2cdv/vuu8TFxZGbm8vIkSPN9g0bNmTatGkkJydTt25dysvLAXjyyScVMBOH4+LiQn5+Prm5uezbt8983Wq1MmjQIM6cOcOFCxfM1+vUqUNlZaUCZiIiIuLwHDY9s6qAgACcnZ0JDw9n1apVuLu706pVK/bt20fdunW1ApqISC1w6tQpAgMDuXTpEgsXLgTAZrPh4+MDXF1p2c/Pj7Vr15rvwdV0fxU4F0dxszIUo0ePxs3Njddee40lS5bQoEEDvLy8AGjdujXNmzenqKio2jYqZSEiIiK1gcOnZ1Z19uxZLl68iNVqxcPDA4vFouXRRUQc1M2CA9u3bycsLAyr1UpOTo75wKS0tJSMjAzGjh1LWFgYc+fOrYkui/ymqqZTrl+/npKSElq1aoW3tzcAaWlpzJs3jzp16jBu3Djc3d1Zvnw5X331Fbm5uXrAKCIiIrVOrQqaXU9F/0VEHFPV83tKSgp5eXmUlZUxcOBAWrZsSUhICB06dCAzM9PcpqSkhN27d+Pl5aXggDi0mTNnkpSURN26dXF3d8fLy4v3338fgA0bNjBr1iyOHj2Kj48PPXr0IDIyEicnJ83MFxERkVqnVkeMFDATEXFM187vM2bM4LXXXuPKlSucOnWKWbNmkZqayrJlyzh06JCZmglX0zGHDBliBgdEHEVlZSVwdabZ6dOn2b9/P9nZ2fz9739nzJgx7Nixg6CgIAB8fX2ZP38+np6e3Hvvvfj4+ODk5ERlZaUCZiIiIlLrKGokIiIOafPmzaSmpvLJJ58QExODv78/3377Lf3798fLy4s1a9Zw7Ngx+vbte8O2Cg6Io6g66/L8+fMUFhbi4uJCmzZtaNeuHaGhoQQFBbF//36Cg4MBeOqpp5gxYwYHDx4kNjaWHTt26EGjiIiI1Eoq5iUiIg4pPz+ftm3b0q9fP9atW0dwcDCLFi0iICCA0tJSKioqiI+PJzY2Vun64rCufa9nz57N6tWradGiBcXFxbi5uQHg6upKYGAgFouF5ORkRowYQVpaGn5+fthsNsLCwrDZbPTt2xer1VqThyIiIiLyf05BMxERcSjXip1fvnwZd3d3MjMzmTRpElFRUYSGhgKQlZXFnj17mDZtGmlpaYDqXIpjqfp9ttvtLFu2jMjISI4cOYLdbsfX15cNGzYA/xs4Ky4u5tixY+YiScOHD8fJyYnOnTsrYCYiIiK1Uq1eCEBERBzX0aNH6dmzJ+Xl5SQlJREYGAhcLfg/YsQIWrduTUJCgrmaoIgjSk1NpaioCCcnJ8aPH09JSQnp6elERETg6elJamqq2bakpASr1arVxUVERET+Pz1SFxERh9S1a1cSExOxWq3k5eWxbds2srOz8fX15fTp08TFxWGxWNCzI3FUp06dIjAwkKCgIM6fPw9cXfDCx8eHqKgoDhw4gJ+fn9neZrOZvwkFzEREREQ000xERBxYeXk569atIzw8HAB3d3datWpFamoqzs7OVFRUqOi/OIybpRhv376dsLAwrFYrOTk55ve9tLSUjIwMxo4dS1hYGHPnzq2JLouIiIj8riloJiIiDu/s2bNcvHgRq9WKh4eH0s/E4VQNmKWkpJCXl0dZWRkDBw6kZcuWhISE0KFDBzIzM81tSkpK2L17N15eXgoei4iIiNyEgmYiIlLrqOi/OKoZM2awYsUKxowZw8mTJ8nNzeWJJ55g1KhRjB49ml69epGenn7Ddpp1KSIiInIj3TGIiEito4CZOKLNmzeTmprKJ598QkxMDP7+/nz77bf0798fLy8v1qxZw7Fjx+jbt+8N2ypgJiIiInIj3TWIiIiIOID8/Hzatm1Lv379WLduHcHBwSxatIiAgABKS0upqKggPj4eDw8PKisra7q7IiIiIr97CpqJiIiI3MWuVdq4fPky7u7uZGZmMmnSJN59911CQ0MByMrKYvPmzXTr1o20tDTq1KmjwJmIiIjIv6GaZiIiIiIO4OjRo/Ts2ZPy8nKSkpIIDAwErhb8HzFiBK1btyYhIQGLxVKzHRURERG5S2immYiIiIgD6Nq1K4mJiVitVvLy8ti2bRvZ2dn4+vpy+vRp4uLisFgs6HmpiIiIyO3RTDMRERERB1FeXs66desIDw8HwN3dnVatWpGamoqzs7NWyRQRERH5GRQ0ExEREXEwZ8+e5eLFi1itVjw8PLBYLJSXl1O3bt2a7pqIiIjIXUNBMxEREREHV1lZSZ06qsohIiIi8nMoaCYiIiIiIiIiInIdPXIUERERERERERG5joJmIiIiIiIiIiIi11HQTERERERERERE5DoKmomIiIiIiIiIiFxHQTMREREREREREZHrKGgmIiIiIiIiIiJyHQXNRERERERERERErqOgmYiIiMhvoH379ixatKimuyEiIiIid0hBMxERERG5pcjISHr27Pmr7e9OA4pDhgzhlVde+dX6ISIiInIrCpqJiIiIiIiIiIhcR0EzERERcWiGYfDuu+/SsWNHbDYbPXr0YN26dQBs27YNi8VCVlYWvXr1wmaz8cc//pHvv/+ezMxMunTpQqNGjQgICODHH3809zlkyBBeeuklXnrpJRo3bkyzZs2YNWsWhmH8ZD9OnDiBr68vDRs2pFGjRvj7+3PmzBkAvvnmG+rUqcO+ffuqbbN48WLatWuHYRh33NdbHX/Vz+Czzz6jT58+1K9fn4EDB/LPf/4TgJSUFN566y0OHTqExWLBYrGQkpLybz/3yMhI2rZti4uLC61ateLll182P7tvv/2WV1991dwfwLlz5wgICMDDw4P69evTrVs3Vq9ebe4vMDCQnJwc3nvvPXO7b775hpSUFBo3blzt316/fr25X4BDhw4xdOhQXF1dadSoEb17977hsxYRERG5Xt2a7oCIiIjIb2nWrFl8/PHHfPDBB9x///1s376dcePG0aJFC7NNZGQksbGx1K9fH39/f/z9/XFxccFut1NcXMyIESNYvHgxM2fONLdZvnw5wcHB7N69m3379hESEkK7du2YPHnyDX0wDINnnnmGBg0akJOTQ3l5OS+88AKjR49m27ZttG/fnmHDhpGcnEyfPn3M7ZKTkwkMDKwWAPq5fb3V8Xt7e5v7feONN1iwYAEtWrQgNDSUoKAgdu7cyejRo/mf//kfPv30U7Zu3QqAm5vbLT/zdevWsXDhQj788EMefPBBCgoKOHToEAAff/wxPXr0ICQkpNpnVVpaSu/evZk5cyaNGjUiPT2d8ePH07FjRx5++GHee+89vvjiCx566CHmzJkDUO3/w1sZO3YsvXr14oMPPsDJyYmDBw/i7Ox8W9uKiIhILWaIiIiIOKji4mLDarUau3btqvZ6cHCwERAQYGRnZxuAsXXrVvO9efPmGYBx/Phx87UpU6YYjz/+uPm3t7e30aVLF6OystJ8bebMmUaXLl3Mv9u1a2csXLjQMAzD2Lx5s+Hk5GScOHHCfP/IkSMGYOzZs8cwDMP46KOPjCZNmhilpaWGYRjGwYMHDYvFYnz99deGYRh31Nd/d/w/td/09HQDMEpKSgzDMIw333zT6NGjx00/45tZsGCB8cADDxhlZWU3fb/qZ3MrTz31lDF9+nTzb29vb2PatGnV2iQnJxtubm7VXktLSzOqDnNdXV2NlJSU2+6/iIiIiGEYhtIzRURExGEdPXqU0tJSHnvsMRo2bGj+t2LFCo4fP2626969u/m/W7ZsSf369enYsWO1177//vtq++7fv3+1GWADBgzgyy+/pKKi4oZ+5OXl0aZNG9q0aWO+1rVrVxo3bkxeXh4AzzzzDHXr1iUtLQ2ApKQkhg4dSvv27avt6+f09XaP//r93nvvvQA3HPPt8vPzo6SkhI4dOzJ58mTS0tIoLy+/5TYVFRXMnTuX7t2706xZMxo2bMjmzZs5ceLEHfWhqrCwMJ577jmGDRvGO++8c8Oxi4iIiNyM0jNFRETEYVVWVgKQnp5O69atq73n4uJiBk+qpupZLJYbUvcsFou5rzthGEa1ANvNXq9Xrx7jx48nOTmZP/3pT9jt9puuMPlz+vrvjv9W+626/c/Vpk0b/vnPf7Jlyxa2bt3KCy+8QFRUFDk5OT+ZFrlgwQIWLlzIokWL6NatGw0aNOCVV16hrKzslv9WnTp1bqgld+XKlWp/R0ZGMmbMGNLT08nMzOTNN9/kww8/ZMSIEXd0fCIiIlI7KGgmIiIiDqtr1664uLhw4sSJavW7rvklM47+/ve/3/D3/fffj5OT0037ceLECU6ePGnONjt69CiFhYV06dLFbPfcc8/x0EMPsWTJEq5cucKf/vSnO+7ftX/3Vsd/u+rVq3fTGXS3YrPZePrpp3n66ad58cUX6dy5M4cPH8bT0/Om+9uxYwe+vr6MGzcOuBqw+/LLL6t9PjfbrkWLFhQVFXHp0iUaNGgAwMGDB2/ozwMPPMADDzzAq6++SkBAAMnJyQqaiYiIyC0paCYiIiIOy9XVlfDwcF599VUqKyt55JFH+OGHH9i1axcNGzakXbt2d7zvkydPEhYWxpQpU9i/fz+LFy9mwYIFN207bNgwunfvztixY1m0aJG5EIC3t3e1wv9dunShf//+zJw5k6CgIGw22x33D/798U+cOPG29tO+fXu+/vprDh48iIeHB66urjfMVKsqJSWFiooKHn74YerXr8/KlSux2Wzm592+fXu2b9/Os88+i4uLC82bN+e+++4jNTWVXbt20aRJE2JiYigoKKgWNGvfvj27d+/mm2++oWHDhjRt2tT8N15//XWmTp3Knj17qq3uWVJSQkREBKNGjaJDhw6cOnWKvXv3MnLkyDv7UEVERKTWUE0zERERcWhvv/02//mf/8m8efPo0qULjz/+OBs3bqRDhw6/aL8TJkygpKSEfv368eKLLzJ16lRCQkJu2tZisbB+/XqaNGnC4MGDGTZsGB07duSjjz66oW1wcDBlZWUEBQX9ov5d82sc/8iRI3niiScYOnQoLVq0YPXq1bds37hxY5YtW8agQYPo3r07n332GRs3bqRZs2YAzJkzh2+++YZOnTqZK2DOnj0bT09PHn/8cYYMGYK7uzvPPPNMtf2Gh4fj5ORE165dadGiBSdOnKBp06b87W9/IyMjg27durF69WoiIyPNbZycnDh37hwTJkzggQcewN/fnyeffJK33nrrto9fREREaieLcX0RCBERERG5pSFDhtCzZ8+b1hz7pebOncuHH37I4cOHf/V9i4iIiMjt00wzERERkd+B4uJi9u7dy+LFi3n55ZdrujsiIiIitZ6CZiIiIiK/Ay+99BKPPPII3t7ev1pq5m9l1apVNGzY8Kb/PfjggzXdPREREZFfhdIzRURERORnKSoq4syZMzd9z9nZ+RctsCAiIiLye6GgmYiIiIiIiIiIyHWUnikiIiIiIiIiInIdBc1ERERERERERESuo6CZiIiIiIiIiIjIdRQ0ExERERERERERuY6CZiIiIiIiIiIiItdR0ExEREREREREROQ6CpqJiIiIiIiIiIhc5/8BwPgZJfGhvW4AAAAASUVORK5CYII=",
      "text/plain": [
       "<Figure size 1500x800 with 1 Axes>"
      ]
     },
     "metadata": {},
     "output_type": "display_data"
    }
   ],
   "source": [
    "\n",
    "\n",
    "data[\"employment_status\"] = data[['employment_status_clients_Contract',\n",
    "            'employment_status_clients_Permanent',\n",
    "            'employment_status_clients_Retired',\n",
    "            'employment_status_clients_Self-Employed',\n",
    "            'employment_status_clients_Student',\n",
    "            'employment_status_clients_Unemployed']].idxmax(axis=1)\n",
    "\n",
    "\n",
    "\n",
    "fig, axs = plt.subplots(1,1,figsize=(15,8))\n",
    "axs.set_xticklabels(['employment_status_clients_Contract',\n",
    "            'employment_status_clients_Permanent',\n",
    "            'employment_status_clients_Retired',\n",
    "            'employment_status_clients_Self-Employed',\n",
    "            'employment_status_clients_Student',\n",
    "            'employment_status_clients_Unemployed'], rotation=45)\n",
    "sns.boxplot(data = data, y='age', x ='employment_status', hue = 'good_bad_ind')"
   ]
  },
  {
   "cell_type": "code",
   "execution_count": 28,
   "id": "3eb15d85",
   "metadata": {},
   "outputs": [
    {
     "data": {
      "text/plain": [
       "[Text(0, 0, 'employment_status_clients_Contract'),\n",
       " Text(1, 0, 'employment_status_clients_Permanent'),\n",
       " Text(2, 0, 'employment_status_clients_Retired'),\n",
       " Text(3, 0, 'employment_status_clients_Self-Employed'),\n",
       " Text(4, 0, 'employment_status_clients_Student'),\n",
       " Text(5, 0, 'employment_status_clients_Unemployed')]"
      ]
     },
     "execution_count": 28,
     "metadata": {},
     "output_type": "execute_result"
    },
    {
     "data": {
      "image/png": "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",
      "text/plain": [
       "<Figure size 1500x800 with 1 Axes>"
      ]
     },
     "metadata": {},
     "output_type": "display_data"
    }
   ],
   "source": [
    "fig, axs = plt.subplots(1,1,figsize=(15,8))\n",
    "gb = data[['termdays', 'employment_status', 'good_bad_ind']].groupby(['employment_status', 'termdays']).mean().reset_index()\n",
    "sns.barplot(data = gb, x= 'employment_status', y = 'good_bad_ind',  hue = 'termdays')\n",
    "\n",
    "axs.set_xticklabels(['employment_status_clients_Contract',\n",
    "            'employment_status_clients_Permanent',\n",
    "            'employment_status_clients_Retired',\n",
    "            'employment_status_clients_Self-Employed',\n",
    "            'employment_status_clients_Student',\n",
    "            'employment_status_clients_Unemployed'], rotation=45)"
   ]
  },
  {
   "cell_type": "code",
   "execution_count": 29,
   "id": "99c8a73b",
   "metadata": {},
   "outputs": [
    {
     "data": {
      "text/plain": [
       "<Axes: xlabel='termdays', ylabel='avg_loanamount'>"
      ]
     },
     "execution_count": 29,
     "metadata": {},
     "output_type": "execute_result"
    },
    {
     "data": {
      "image/png": "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",
      "text/plain": [
       "<Figure size 1500x800 with 1 Axes>"
      ]
     },
     "metadata": {},
     "output_type": "display_data"
    }
   ],
   "source": [
    "fig, axs = plt.subplots(1,1,figsize=(15,8))\n",
    "sns.boxplot(data = data, y='avg_loanamount', x ='termdays', hue = 'good_bad_ind')"
   ]
  },
  {
   "cell_type": "code",
   "execution_count": 30,
   "id": "e6007053",
   "metadata": {},
   "outputs": [
    {
     "data": {
      "text/html": [
       "<div>\n",
       "<style scoped>\n",
       "    .dataframe tbody tr th:only-of-type {\n",
       "        vertical-align: middle;\n",
       "    }\n",
       "\n",
       "    .dataframe tbody tr th {\n",
       "        vertical-align: top;\n",
       "    }\n",
       "\n",
       "    .dataframe thead th {\n",
       "        text-align: right;\n",
       "    }\n",
       "</style>\n",
       "<table border=\"1\" class=\"dataframe\">\n",
       "  <thead>\n",
       "    <tr style=\"text-align: right;\">\n",
       "      <th></th>\n",
       "      <th>good_bad_ind</th>\n",
       "    </tr>\n",
       "    <tr>\n",
       "      <th>termdays</th>\n",
       "      <th></th>\n",
       "    </tr>\n",
       "  </thead>\n",
       "  <tbody>\n",
       "    <tr>\n",
       "      <th>15</th>\n",
       "      <td>0.767883</td>\n",
       "    </tr>\n",
       "    <tr>\n",
       "      <th>30</th>\n",
       "      <td>0.783980</td>\n",
       "    </tr>\n",
       "    <tr>\n",
       "      <th>60</th>\n",
       "      <td>0.803653</td>\n",
       "    </tr>\n",
       "    <tr>\n",
       "      <th>90</th>\n",
       "      <td>0.857143</td>\n",
       "    </tr>\n",
       "  </tbody>\n",
       "</table>\n",
       "</div>"
      ],
      "text/plain": [
       "          good_bad_ind\n",
       "termdays              \n",
       "15            0.767883\n",
       "30            0.783980\n",
       "60            0.803653\n",
       "90            0.857143"
      ]
     },
     "execution_count": 30,
     "metadata": {},
     "output_type": "execute_result"
    }
   ],
   "source": [
    "data[[\"termdays\", 'good_bad_ind']].groupby(['termdays']).mean()"
   ]
  },
  {
   "cell_type": "code",
   "execution_count": null,
   "id": "31ea1449",
   "metadata": {},
   "outputs": [],
   "source": []
  },
  {
   "cell_type": "code",
   "execution_count": 31,
   "id": "d5645c44",
   "metadata": {},
   "outputs": [],
   "source": [
    "test_demo_cols = demo_features(test_demo)\n",
    "test_prevloan_cols_grp_cols = prevloan_features(test_prevloan)\n",
    "test_perf_cols = perf_features(test_perf, False)"
   ]
  },
  {
   "cell_type": "code",
   "execution_count": 32,
   "id": "43d2ac1f",
   "metadata": {},
   "outputs": [
    {
     "name": "stdout",
     "output_type": "stream",
     "text": [
      "<class 'pandas.core.frame.DataFrame'>\n",
      "RangeIndex: 1487 entries, 0 to 1486\n",
      "Data columns (total 12 columns):\n",
      " #   Column                                   Non-Null Count  Dtype \n",
      "---  ------                                   --------------  ----- \n",
      " 0   customerid                               1487 non-null   object\n",
      " 1   age                                      1487 non-null   int32 \n",
      " 2   bank_account_type_Current                1487 non-null   bool  \n",
      " 3   bank_account_type_Other                  1487 non-null   bool  \n",
      " 4   bank_account_type_Savings                1487 non-null   bool  \n",
      " 5   employment_status_clients_Contract       1487 non-null   bool  \n",
      " 6   employment_status_clients_Permanent      1487 non-null   bool  \n",
      " 7   employment_status_clients_Retired        1487 non-null   bool  \n",
      " 8   employment_status_clients_Self-Employed  1487 non-null   bool  \n",
      " 9   employment_status_clients_Student        1487 non-null   bool  \n",
      " 10  employment_status_clients_Unemployed     1487 non-null   bool  \n",
      " 11  employment_status_clients_Unknown        1487 non-null   bool  \n",
      "dtypes: bool(10), int32(1), object(1)\n",
      "memory usage: 32.1+ KB\n",
      "<class 'pandas.core.frame.DataFrame'>\n",
      "RangeIndex: 1442 entries, 0 to 1441\n",
      "Data columns (total 5 columns):\n",
      " #   Column                       Non-Null Count  Dtype  \n",
      "---  ------                       --------------  -----  \n",
      " 0   customerid                   1442 non-null   object \n",
      " 1   avg_loanamount               1442 non-null   float64\n",
      " 2   total_missed_first_due_date  1442 non-null   int64  \n",
      " 3   total_closed_loan_late       1442 non-null   int64  \n",
      " 4   average_termdays             1442 non-null   float64\n",
      "dtypes: float64(2), int64(2), object(1)\n",
      "memory usage: 56.5+ KB\n",
      "<class 'pandas.core.frame.DataFrame'>\n",
      "RangeIndex: 1450 entries, 0 to 1449\n",
      "Data columns (total 4 columns):\n",
      " #   Column      Non-Null Count  Dtype \n",
      "---  ------      --------------  ----- \n",
      " 0   customerid  1450 non-null   object\n",
      " 1   loannumber  1450 non-null   int64 \n",
      " 2   loanamount  1450 non-null   int64 \n",
      " 3   termdays    1450 non-null   int64 \n",
      "dtypes: int64(3), object(1)\n",
      "memory usage: 45.4+ KB\n"
     ]
    }
   ],
   "source": [
    "test_demo_cols.info()\n",
    "test_prevloan_cols_grp_cols.info()\n",
    "test_perf_cols .info()"
   ]
  },
  {
   "cell_type": "code",
   "execution_count": 33,
   "id": "da00d909",
   "metadata": {},
   "outputs": [],
   "source": [
    "def merge_sets1(test_perf_cols, test_demo_cols, test_prevloan_cols_grp_cols):\n",
    "    \n",
    "    test = pd.merge(test_perf_cols, test_demo_cols, how ='left', left_on='customerid', right_on='customerid')\n",
    "    test = pd.merge(test, test_prevloan_cols_grp_cols, how ='left', left_on='customerid', right_on='customerid')\n",
    "    return test\n",
    "\n",
    "test = merge_sets1(test_perf_cols, test_demo_cols, test_prevloan_cols_grp_cols)"
   ]
  },
  {
   "cell_type": "code",
   "execution_count": null,
   "id": "76d4a143",
   "metadata": {},
   "outputs": [],
   "source": []
  },
  {
   "cell_type": "code",
   "execution_count": 34,
   "id": "ad2399cc",
   "metadata": {},
   "outputs": [
    {
     "data": {
      "text/plain": [
       "Index(['customerid', 'loannumber', 'loanamount', 'termdays', 'age',\n",
       "       'bank_account_type_Current', 'bank_account_type_Other',\n",
       "       'bank_account_type_Savings', 'employment_status_clients_Contract',\n",
       "       'employment_status_clients_Permanent',\n",
       "       'employment_status_clients_Retired',\n",
       "       'employment_status_clients_Self-Employed',\n",
       "       'employment_status_clients_Student',\n",
       "       'employment_status_clients_Unemployed',\n",
       "       'employment_status_clients_Unknown', 'avg_loanamount',\n",
       "       'total_missed_first_due_date', 'total_closed_loan_late',\n",
       "       'average_termdays'],\n",
       "      dtype='object')"
      ]
     },
     "execution_count": 34,
     "metadata": {},
     "output_type": "execute_result"
    }
   ],
   "source": [
    "test.columns"
   ]
  },
  {
   "cell_type": "code",
   "execution_count": 35,
   "id": "f8ecc988",
   "metadata": {},
   "outputs": [
    {
     "name": "stdout",
     "output_type": "stream",
     "text": [
      "<class 'pandas.core.frame.DataFrame'>\n",
      "RangeIndex: 1450 entries, 0 to 1449\n",
      "Data columns (total 19 columns):\n",
      " #   Column                                   Non-Null Count  Dtype  \n",
      "---  ------                                   --------------  -----  \n",
      " 0   customerid                               1450 non-null   object \n",
      " 1   loannumber                               1450 non-null   int64  \n",
      " 2   loanamount                               1450 non-null   int64  \n",
      " 3   termdays                                 1450 non-null   int64  \n",
      " 4   age                                      385 non-null    float64\n",
      " 5   bank_account_type_Current                385 non-null    object \n",
      " 6   bank_account_type_Other                  385 non-null    object \n",
      " 7   bank_account_type_Savings                385 non-null    object \n",
      " 8   employment_status_clients_Contract       385 non-null    object \n",
      " 9   employment_status_clients_Permanent      385 non-null    object \n",
      " 10  employment_status_clients_Retired        385 non-null    object \n",
      " 11  employment_status_clients_Self-Employed  385 non-null    object \n",
      " 12  employment_status_clients_Student        385 non-null    object \n",
      " 13  employment_status_clients_Unemployed     385 non-null    object \n",
      " 14  employment_status_clients_Unknown        385 non-null    object \n",
      " 15  avg_loanamount                           1442 non-null   float64\n",
      " 16  total_missed_first_due_date              1442 non-null   float64\n",
      " 17  total_closed_loan_late                   1442 non-null   float64\n",
      " 18  average_termdays                         1442 non-null   float64\n",
      "dtypes: float64(5), int64(3), object(11)\n",
      "memory usage: 215.4+ KB\n"
     ]
    }
   ],
   "source": [
    "test.info()"
   ]
  },
  {
   "cell_type": "code",
   "execution_count": null,
   "id": "6c65095b",
   "metadata": {},
   "outputs": [],
   "source": []
  },
  {
   "cell_type": "code",
   "execution_count": null,
   "id": "b65855c9",
   "metadata": {},
   "outputs": [],
   "source": []
  },
  {
   "cell_type": "code",
   "execution_count": 37,
   "id": "7f682ff0",
   "metadata": {},
   "outputs": [],
   "source": [
    "from sklearn.model_selection import GridSearchCV\n",
    "from xgboost import XGBClassifier"
   ]
  },
  {
   "cell_type": "code",
   "execution_count": 39,
   "id": "d83a6c51",
   "metadata": {},
   "outputs": [
    {
     "name": "stdout",
     "output_type": "stream",
     "text": [
      "Fitting 3 folds for each of 81 candidates, totalling 243 fits\n",
      "Best parameters for XGBoost: {'learning_rate': 0.01, 'max_depth': 3, 'n_estimators': 200, 'subsample': 0.8}\n",
      "Best accuracy for XGBoost: 0.7921759068497605\n"
     ]
    }
   ],
   "source": [
    "features = train.drop(['customerid','good_bad_ind'] , axis=1)\n",
    "y = train['good_bad_ind']\n",
    "\n",
    "param_grid_xgb = {\n",
    "    'n_estimators': [50, 100, 200],\n",
    "    'max_depth': [3, 5, 7],\n",
    "    'learning_rate': [0.01, 0.1, 0.2],\n",
    "    'subsample': [0.6, 0.8, 1.0]}\n",
    "    \n",
    "xgb = XGBClassifier()\n",
    "grid_search_xgb = GridSearchCV(estimator=xgb, param_grid=param_grid_xgb, scoring='accuracy', cv=3, verbose=1, n_jobs=-1)\n",
    "grid_search_xgb.fit(features, y)\n",
    "\n",
    "print(\"Best parameters for XGBoost:\", grid_search_xgb.best_params_)\n",
    "print(\"Best accuracy for XGBoost:\", grid_search_xgb.best_score_)   \n",
    "    \n",
    "    \n",
    "    "
   ]
  },
  {
   "cell_type": "code",
   "execution_count": 41,
   "id": "104e3b75",
   "metadata": {},
   "outputs": [
    {
     "name": "stdout",
     "output_type": "stream",
     "text": [
      "Accuracy: 0.7930929095354523\n"
     ]
    }
   ],
   "source": [
    "# Assuming 'train' is your DataFrame and 'features' and 'y' are defined appropriately\n",
    "features = train.drop(['customerid', 'good_bad_ind'], axis=1)\n",
    "y = train['good_bad_ind']\n",
    "\n",
    "# Correctly instantiate the XGBClassifier with proper parameter names\n",
    "xgb = XGBClassifier(learning_rate=0.01, max_depth=3, n_estimators=200, subsample=0.8)\n",
    "xgb.fit(features, y)\n",
    "\n",
    "# Predict using the fitted model\n",
    "y_pred = xgb.predict(features)\n",
    "\n",
    "# Calculate and print accuracy\n",
    "accuracy = accuracy_score(y, y_pred)\n",
    "print(\"Accuracy:\", accuracy)"
   ]
  },
  {
   "cell_type": "code",
   "execution_count": null,
   "id": "4f047ca7",
   "metadata": {},
   "outputs": [],
   "source": []
  },
  {
   "cell_type": "code",
   "execution_count": null,
   "id": "34f30282",
   "metadata": {},
   "outputs": [],
   "source": []
  },
  {
   "cell_type": "code",
   "execution_count": 43,
   "id": "4fc717a5",
   "metadata": {},
   "outputs": [
    {
     "data": {
      "text/plain": [
       "0.7787286063569682"
      ]
     },
     "execution_count": 43,
     "metadata": {},
     "output_type": "execute_result"
    }
   ],
   "source": [
    "X_train, X_test, y_train, y_test = train_test_split(features, y, test_size=0.25, random_state=42)\n",
    "xgb = XGBClassifier(learning_rate=0.01, max_depth=3, n_estimators=200, subsample=0.8)\n",
    "xgb.fit(X_train, y_train)\n",
    "y_pred = xgb.predict(X_test)\n",
    "accuracy_score(y_test, y_pred)"
   ]
  },
  {
   "cell_type": "code",
   "execution_count": null,
   "id": "7e20dd57",
   "metadata": {},
   "outputs": [],
   "source": []
  },
  {
   "cell_type": "code",
   "execution_count": 45,
   "id": "b0fdc97d",
   "metadata": {},
   "outputs": [
    {
     "name": "stdout",
     "output_type": "stream",
     "text": [
      "employment_status_clients_Unknown 0.16762568\n",
      "employment_status_clients_Unemployed 0.110315435\n",
      "customerid 0.1071556\n",
      "avg_loanamount 0.09222079\n",
      "age 0.084692545\n",
      "bank_account_type_Current 0.08167649\n",
      "loannumber 0.0636803\n",
      "employment_status_clients_Student 0.05967713\n",
      "termdays 0.04194051\n",
      "bank_account_type_Savings 0.040871266\n",
      "total_missed_first_due_date 0.033348702\n",
      "employment_status_clients_Self-Employed 0.03270405\n",
      "employment_status_clients_Retired 0.02908635\n",
      "loanamount 0.028408447\n",
      "employment_status_clients_Permanent 0.026596662\n",
      "bank_account_type_Other 0.0\n",
      "employment_status_clients_Contract 0.0\n",
      "good_bad_ind 0.0\n"
     ]
    }
   ],
   "source": [
    "ind = xgb.feature_importances_.argsort()[::-1]\n",
    "features = xgb.feature_importances_[ind]\n",
    "cols = train.columns[ind]\n",
    "for i in range(len(X_test.columns)):\n",
    "    print(cols[i], features[i])"
   ]
  },
  {
   "cell_type": "code",
   "execution_count": 52,
   "id": "39ede5d5",
   "metadata": {},
   "outputs": [
    {
     "data": {
      "text/plain": [
       "customerid                                  object\n",
       "loannumber                                   int64\n",
       "loanamount                                   int64\n",
       "termdays                                     int64\n",
       "age                                        float64\n",
       "bank_account_type_Current                   object\n",
       "bank_account_type_Other                       bool\n",
       "bank_account_type_Savings                     bool\n",
       "employment_status_clients_Contract            bool\n",
       "employment_status_clients_Permanent           bool\n",
       "employment_status_clients_Retired             bool\n",
       "employment_status_clients_Self-Employed       bool\n",
       "employment_status_clients_Student             bool\n",
       "employment_status_clients_Unemployed          bool\n",
       "employment_status_clients_Unknown             bool\n",
       "avg_loanamount                                bool\n",
       "total_missed_first_due_date                float64\n",
       "total_closed_loan_late                     float64\n",
       "average_termdays                           float64\n",
       "dtype: object"
      ]
     },
     "execution_count": 52,
     "metadata": {},
     "output_type": "execute_result"
    }
   ],
   "source": [
    "test.dtypes"
   ]
  },
  {
   "cell_type": "code",
   "execution_count": 53,
   "id": "e752ab83",
   "metadata": {},
   "outputs": [
    {
     "name": "stdout",
     "output_type": "stream",
     "text": [
      "customerid                                  object\n",
      "loannumber                                   int64\n",
      "loanamount                                   int64\n",
      "termdays                                     int64\n",
      "age                                        float64\n",
      "bank_account_type_Current                     bool\n",
      "bank_account_type_Other                       bool\n",
      "bank_account_type_Savings                     bool\n",
      "employment_status_clients_Contract            bool\n",
      "employment_status_clients_Permanent           bool\n",
      "employment_status_clients_Retired             bool\n",
      "employment_status_clients_Self-Employed       bool\n",
      "employment_status_clients_Student             bool\n",
      "employment_status_clients_Unemployed          bool\n",
      "employment_status_clients_Unknown             bool\n",
      "avg_loanamount                                bool\n",
      "total_missed_first_due_date                float64\n",
      "total_closed_loan_late                     float64\n",
      "average_termdays                           float64\n",
      "dtype: object\n"
     ]
    }
   ],
   "source": [
    "columns_to_convert = test.columns[5:16]  # Adjusted to Python's 0-based index (includes 6 to 15)\n",
    "\n",
    "# Convert these columns to 'bool'\n",
    "for column in columns_to_convert:\n",
    "    test[column] = test[column].astype(bool)\n",
    "\n",
    "# Verify the changes\n",
    "print(test.dtypes)"
   ]
  },
  {
   "cell_type": "code",
   "execution_count": 54,
   "id": "14792b1f",
   "metadata": {},
   "outputs": [],
   "source": [
    "test_pred = xgb.predict(test.drop('customerid', axis =1))"
   ]
  },
  {
   "cell_type": "code",
   "execution_count": null,
   "id": "d43eeec8",
   "metadata": {},
   "outputs": [],
   "source": []
  },
  {
   "cell_type": "code",
   "execution_count": 55,
   "id": "12123bde",
   "metadata": {},
   "outputs": [
    {
     "name": "stderr",
     "output_type": "stream",
     "text": [
      "C:\\Users\\Rui\\AppData\\Local\\Temp\\ipykernel_17032\\242522784.py:2: SettingWithCopyWarning: \n",
      "A value is trying to be set on a copy of a slice from a DataFrame.\n",
      "Try using .loc[row_indexer,col_indexer] = value instead\n",
      "\n",
      "See the caveats in the documentation: https://pandas.pydata.org/pandas-docs/stable/user_guide/indexing.html#returning-a-view-versus-a-copy\n",
      "  test_output['Good_Bad_flag'] = test_pred\n",
      "C:\\Users\\Rui\\AppData\\Local\\Temp\\ipykernel_17032\\242522784.py:3: SettingWithCopyWarning: \n",
      "A value is trying to be set on a copy of a slice from a DataFrame\n",
      "\n",
      "See the caveats in the documentation: https://pandas.pydata.org/pandas-docs/stable/user_guide/indexing.html#returning-a-view-versus-a-copy\n",
      "  test_output.rename({'customerid': 'customerID'}, inplace=True, axis =1)\n"
     ]
    }
   ],
   "source": [
    "test_output = test[['customerid']]\n",
    "test_output['Good_Bad_flag'] = test_pred\n",
    "test_output.rename({'customerid': 'customerID'}, inplace=True, axis =1)\n",
    "test_output.to_csv('Outcome_predictions.csv')"
