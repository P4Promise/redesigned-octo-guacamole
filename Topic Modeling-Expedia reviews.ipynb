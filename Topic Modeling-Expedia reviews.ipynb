{
 "cells": [
  {
   "cell_type": "code",
   "execution_count": 51,
   "id": "9dd8703d",
   "metadata": {},
   "outputs": [],
   "source": [
    "import pandas as pd\n",
    "import nltk\n",
    "from nltk.tokenize import word_tokenize\n",
    "from nltk.corpus import stopwords\n",
    "from sklearn.datasets import fetch_20newsgroups\n",
    "import gensim\n",
    "from gensim import corpora\n",
    "import pyLDAvis\n",
    "import pyLDAvis.gensim_models as gensimvis\n",
    "import math"
   ]
  },
  {
   "cell_type": "code",
   "execution_count": 52,
   "id": "1fc29813",
   "metadata": {},
   "outputs": [
    {
     "name": "stderr",
     "output_type": "stream",
     "text": [
      "[nltk_data] Downloading package stopwords to\n",
      "[nltk_data]     C:\\Users\\T901068\\AppData\\Roaming\\nltk_data...\n",
      "[nltk_data]   Package stopwords is already up-to-date!\n",
      "[nltk_data] Downloading package punkt to\n",
      "[nltk_data]     C:\\Users\\T901068\\AppData\\Roaming\\nltk_data...\n",
      "[nltk_data]   Package punkt is already up-to-date!\n"
     ]
    },
    {
     "data": {
      "text/plain": [
       "True"
      ]
     },
     "execution_count": 52,
     "metadata": {},
     "output_type": "execute_result"
    }
   ],
   "source": [
    "# Download necessary NLTK resources\n",
    "nltk.download('stopwords')\n",
    "nltk.download('punkt')"
   ]
  },
  {
   "cell_type": "code",
   "execution_count": 53,
   "id": "f5c69dad",
   "metadata": {},
   "outputs": [],
   "source": [
    "# Load the dataset\n",
    "file_path = 'dataset_expedia-hotels-com-reviews-scraper_2024.csv'\n",
    "df = pd.read_csv(file_path)"
   ]
  },
  {
   "cell_type": "code",
   "execution_count": 54,
   "id": "3187d8ba",
   "metadata": {},
   "outputs": [
    {
     "data": {
      "text/plain": [
       "<bound method NDFrame.head of           __typename brandType  contentDirectFeedbackPromptId  \\\n",
       "0     PropertyReview   Expedia                            NaN   \n",
       "1     PropertyReview   Expedia                            NaN   \n",
       "2     PropertyReview   Expedia                            NaN   \n",
       "3     PropertyReview   Expedia                            NaN   \n",
       "4     PropertyReview   Expedia                            NaN   \n",
       "...              ...       ...                            ...   \n",
       "2407  PropertyReview    Hotels                            NaN   \n",
       "2408  PropertyReview   Expedia                            NaN   \n",
       "2409  PropertyReview    Hotels                            NaN   \n",
       "2410  PropertyReview    Hotels                            NaN   \n",
       "2411  PropertyReview   Expedia                            NaN   \n",
       "\n",
       "     customData/doWeEndorseIt      customData/hotel  hotelId  \\\n",
       "0                  no opinion  Prague Hotel Krystal   428588   \n",
       "1                  no opinion  Prague Hotel Krystal   428588   \n",
       "2                  no opinion  Prague Hotel Krystal   428588   \n",
       "3                  no opinion  Prague Hotel Krystal   428588   \n",
       "4                  no opinion  Prague Hotel Krystal   428588   \n",
       "...                       ...                   ...      ...   \n",
       "2407               no opinion  Prague Hotel Krystal   428588   \n",
       "2408               no opinion  Prague Hotel Krystal   428588   \n",
       "2409               no opinion  Prague Hotel Krystal   428588   \n",
       "2410               no opinion  Prague Hotel Krystal   428588   \n",
       "2411               no opinion  Prague Hotel Krystal   428588   \n",
       "\n",
       "                            id  impressionAnalytics  \\\n",
       "0     66b63b958397934320ad7f75                  NaN   \n",
       "1     66b503566a7cfe1353bdb91e                  NaN   \n",
       "2     66b4d8d6e6073643fd1b9cdc                  NaN   \n",
       "3     66b3c0f33677b72a4489b05f                  NaN   \n",
       "4     66b36f292fa7b179c05b6637                  NaN   \n",
       "...                        ...                  ...   \n",
       "2407  630ed94cf250b25846f9b814                  NaN   \n",
       "2408  62fe39f401baad0b1a1fb60c                  NaN   \n",
       "2409  62fbbc438e8cb2148411829b                  NaN   \n",
       "2410  62f79755cbae444d7cc0efdf                  NaN   \n",
       "2411  62ed772d75502b13dc8cc619                  NaN   \n",
       "\n",
       "          impressionAnalytics/__typename impressionAnalytics/event  ...  \\\n",
       "0                                    NaN                       NaN  ...   \n",
       "1                                    NaN                       NaN  ...   \n",
       "2                                    NaN                       NaN  ...   \n",
       "3                                    NaN                       NaN  ...   \n",
       "4     ClientSideImpressionEventAnalytics            Scroll reviews  ...   \n",
       "...                                  ...                       ...  ...   \n",
       "2407                                 NaN                       NaN  ...   \n",
       "2408                                 NaN                       NaN  ...   \n",
       "2409                                 NaN                       NaN  ...   \n",
       "2410                                 NaN                       NaN  ...   \n",
       "2411  ClientSideImpressionEventAnalytics            Scroll reviews  ...   \n",
       "\n",
       "     translationInfo/loadingTranslationText translationInfo/seeOriginalText  \\\n",
       "0                                       NaN                             NaN   \n",
       "1                                       NaN                             NaN   \n",
       "2                                       NaN                             NaN   \n",
       "3                                       NaN                             NaN   \n",
       "4                                       NaN                             NaN   \n",
       "...                                     ...                             ...   \n",
       "2407                 Loading translation...                    See original   \n",
       "2408                 Loading translation...                    See original   \n",
       "2409                 Loading translation...                    See original   \n",
       "2410                                    NaN                             NaN   \n",
       "2411                                    NaN                             NaN   \n",
       "\n",
       "     translationInfo/targetLocale translationInfo/translatedBy/__typename  \\\n",
       "0                             NaN                                     NaN   \n",
       "1                             NaN                                     NaN   \n",
       "2                             NaN                                     NaN   \n",
       "3                             NaN                                     NaN   \n",
       "4                             NaN                                     NaN   \n",
       "...                           ...                                     ...   \n",
       "2407                          NaN                                    Mark   \n",
       "2408                          NaN                                    Mark   \n",
       "2409                          NaN                                    Mark   \n",
       "2410                          NaN                                     NaN   \n",
       "2411                          NaN                                     NaN   \n",
       "\n",
       "     translationInfo/translatedBy/description  \\\n",
       "0                                         NaN   \n",
       "1                                         NaN   \n",
       "2                                         NaN   \n",
       "3                                         NaN   \n",
       "4                                         NaN   \n",
       "...                                       ...   \n",
       "2407                     Translated by Google   \n",
       "2408                     Translated by Google   \n",
       "2409                     Translated by Google   \n",
       "2410                                      NaN   \n",
       "2411                                      NaN   \n",
       "\n",
       "     translationInfo/translationCallToActionLabel  \\\n",
       "0                                             NaN   \n",
       "1                                             NaN   \n",
       "2                                             NaN   \n",
       "3                                             NaN   \n",
       "4                                             NaN   \n",
       "...                                           ...   \n",
       "2407                        Translate with Google   \n",
       "2408                        Translate with Google   \n",
       "2409                        Translate with Google   \n",
       "2410                                          NaN   \n",
       "2411                                          NaN   \n",
       "\n",
       "                                  travelers/0           travelers/1  \\\n",
       "0     Traveled with family and small children  Traveled with family   \n",
       "1                        Traveled with family                   NaN   \n",
       "2     Traveled with family and small children                   NaN   \n",
       "3     Traveled with family and small children                   NaN   \n",
       "4                                         NaN                   NaN   \n",
       "...                                       ...                   ...   \n",
       "2407                     Traveled with family                   NaN   \n",
       "2408                     Traveled with family                   NaN   \n",
       "2409                     Traveled with family                   NaN   \n",
       "2410                     Traveled with family                   NaN   \n",
       "2411                                      NaN                   NaN   \n",
       "\n",
       "     travelers/2 travelers/3  \n",
       "0            NaN         NaN  \n",
       "1            NaN         NaN  \n",
       "2            NaN         NaN  \n",
       "3            NaN         NaN  \n",
       "4            NaN         NaN  \n",
       "...          ...         ...  \n",
       "2407         NaN         NaN  \n",
       "2408         NaN         NaN  \n",
       "2409         NaN         NaN  \n",
       "2410         NaN         NaN  \n",
       "2411         NaN         NaN  \n",
       "\n",
       "[2412 rows x 120 columns]>"
      ]
     },
     "execution_count": 54,
     "metadata": {},
     "output_type": "execute_result"
    }
   ],
   "source": [
    "df.head"
   ]
  },
  {
   "cell_type": "code",
   "execution_count": 55,
   "id": "084b28cb",
   "metadata": {},
   "outputs": [],
   "source": [
    "# Extract the 'text' column (assuming this is the review text)\n",
    "reviews = df['text'].dropna().tolist()  # Drop any missing values"
   ]
  },
  {
   "cell_type": "code",
   "execution_count": 56,
   "id": "e7562262",
   "metadata": {},
   "outputs": [],
   "source": [
    "# Preprocess the text: tokenization, lowercasing, removing stopwords, filtering non-alphabetic words\n",
    "stop_words = set(stopwords.words('english'))"
   ]
  },
  {
   "cell_type": "code",
   "execution_count": 57,
   "id": "82395fcc",
   "metadata": {},
   "outputs": [],
   "source": [
    "def preprocess(doc):\n",
    "    tokens = word_tokenize(doc.lower())  # Tokenize and lowercase\n",
    "    tokens = [word for word in tokens if word.isalpha() and word not in stop_words]  # Remove stopwords and non-alphabetic words\n",
    "    return tokens"
   ]
  },
  {
   "cell_type": "code",
   "execution_count": 58,
   "id": "dd248df6",
   "metadata": {},
   "outputs": [],
   "source": [
    "# Apply preprocessing to each review\n",
    "processed_reviews = [preprocess(review) for review in reviews]"
   ]
  },
  {
   "cell_type": "code",
   "execution_count": 59,
   "id": "04be15b4",
   "metadata": {},
   "outputs": [],
   "source": [
    "# Create a dictionary representation of the documents\n",
    "dictionary = corpora.Dictionary(processed_reviews)"
   ]
  },
  {
   "cell_type": "code",
   "execution_count": 60,
   "id": "923d95e7",
   "metadata": {},
   "outputs": [],
   "source": [
    "# Convert documents into the bag-of-words format\n",
    "corpus = [dictionary.doc2bow(review) for review in processed_reviews]"
   ]
  },
  {
   "cell_type": "code",
   "execution_count": 61,
   "id": "6b3e8e2e",
   "metadata": {},
   "outputs": [],
   "source": [
    "# Set the number of topics\n",
    "num_topics = 5"
   ]
  },
  {
   "cell_type": "code",
   "execution_count": 62,
   "id": "dc056255",
   "metadata": {},
   "outputs": [],
   "source": [
    "# Train the LDA model\n",
    "lda_model = gensim.models.ldamodel.LdaModel(corpus, num_topics=num_topics, id2word=dictionary, passes=15)\n"
   ]
  },
  {
   "cell_type": "code",
   "execution_count": 63,
   "id": "ebb6a2ba",
   "metadata": {},
   "outputs": [],
   "source": [
    "# Create the DataFrame with Topic Distribution and Dominant Topic\n",
    "topic_distributions = []\n",
    "for bow in corpus:\n",
    "    topic_distribution = lda_model.get_document_topics(bow, minimum_probability=0)\n",
    "    topic_distributions.append([weight for _, weight in topic_distribution])"
   ]
  },
  {
   "cell_type": "code",
   "execution_count": 64,
   "id": "1a3d776e",
   "metadata": {},
   "outputs": [],
   "source": [
    "# Create a DataFrame\n",
    "topic_df = pd.DataFrame(topic_distributions, columns=[f'Topic_{i+1}' for i in range(lda_model.num_topics)])"
   ]
  },
  {
   "cell_type": "code",
   "execution_count": 65,
   "id": "c39ef061",
   "metadata": {},
   "outputs": [],
   "source": [
    "# Add the processed text to the DataFrame\n",
    "topic_df['Processed_Text'] = [' '.join(review) for review in processed_reviews]"
   ]
  },
  {
   "cell_type": "code",
   "execution_count": 66,
   "id": "07fbc81e",
   "metadata": {},
   "outputs": [],
   "source": [
    "# Reorder columns to have 'Processed_Text' at the beginning\n",
    "topic_df = topic_df[['Processed_Text'] + [f'Topic_{i+1}' for i in range(lda_model.num_topics)]]"
   ]
  },
  {
   "cell_type": "code",
   "execution_count": 67,
   "id": "19936524",
   "metadata": {},
   "outputs": [],
   "source": [
    "# Add a \"Dominant_Topic\" column with the name of the topic with the highest weight\n",
    "topic_df['Dominant_Topic'] = topic_df.iloc[:, 1:].idxmax(axis=1)"
   ]
  },
  {
   "cell_type": "code",
   "execution_count": 68,
   "id": "bf6c3a0f",
   "metadata": {},
   "outputs": [
    {
     "name": "stdout",
     "output_type": "stream",
     "text": [
      "                                      Processed_Text   Topic_1   Topic_2  \\\n",
      "0  property large liking food okay days great day...  0.004181  0.004097   \n",
      "1  stuff friendly food excellent variety food poo...  0.010145  0.010001   \n",
      "2  big organized transportation short staffed get...  0.020389  0.020008   \n",
      "3                                               good  0.100527  0.100002   \n",
      "4  really pushy comes selling resorts example day...  0.945881  0.013341   \n",
      "\n",
      "    Topic_3   Topic_4   Topic_5 Dominant_Topic  \n",
      "0  0.174878  0.812664  0.004180        Topic_4  \n",
      "1  0.010102  0.959453  0.010299        Topic_4  \n",
      "2  0.480722  0.020666  0.458216        Topic_3  \n",
      "3  0.101449  0.596597  0.101424        Topic_4  \n",
      "4  0.013569  0.013745  0.013464        Topic_1  \n"
     ]
    }
   ],
   "source": [
    "# Display the DataFrame\n",
    "print(topic_df.head())"
   ]
  },
  {
   "cell_type": "code",
   "execution_count": 69,
   "id": "5ce24d7e",
   "metadata": {},
   "outputs": [
    {
     "name": "stdout",
     "output_type": "stream",
     "text": [
      "\n",
      "Topic 1:\n",
      "==============================\n",
      "\"us\" (0.0130)\n",
      "\"hotel\" (0.0110)\n",
      "\"would\" (0.0110)\n",
      "\"room\" (0.0100)\n",
      "\"resort\" (0.0100)\n",
      "\"property\" (0.0080)\n",
      "\"back\" (0.0080)\n",
      "\"great\" (0.0080)\n",
      "\"one\" (0.0070)\n",
      "\"staff\" (0.0070)\n",
      "\n",
      "Topic 2:\n",
      "==============================\n",
      "\"de\" (0.0350)\n",
      "\"la\" (0.0310)\n",
      "\"el\" (0.0280)\n",
      "\"muy\" (0.0210)\n",
      "\"que\" (0.0210)\n",
      "\"en\" (0.0190)\n",
      "\"los\" (0.0140)\n",
      "\"es\" (0.0130)\n",
      "\"hotel\" (0.0130)\n",
      "\"todo\" (0.0120)\n",
      "\n",
      "Topic 3:\n",
      "==============================\n",
      "\"room\" (0.0250)\n",
      "\"service\" (0.0100)\n",
      "\"time\" (0.0090)\n",
      "\"hotel\" (0.0080)\n",
      "\"food\" (0.0070)\n",
      "\"resort\" (0.0070)\n",
      "\"back\" (0.0070)\n",
      "\"experience\" (0.0060)\n",
      "\"palace\" (0.0060)\n",
      "\"would\" (0.0060)\n",
      "\n",
      "Topic 4:\n",
      "==============================\n",
      "\"food\" (0.0190)\n",
      "\"resort\" (0.0180)\n",
      "\"staff\" (0.0160)\n",
      "\"good\" (0.0140)\n",
      "\"beach\" (0.0120)\n",
      "\"great\" (0.0120)\n",
      "\"pool\" (0.0100)\n",
      "\"service\" (0.0090)\n",
      "\"nice\" (0.0090)\n",
      "\"get\" (0.0090)\n",
      "\n",
      "Topic 5:\n",
      "==============================\n",
      "\"great\" (0.0340)\n",
      "\"staff\" (0.0290)\n",
      "\"service\" (0.0210)\n",
      "\"excellent\" (0.0190)\n",
      "\"amazing\" (0.0180)\n",
      "\"food\" (0.0170)\n",
      "\"place\" (0.0160)\n",
      "\"property\" (0.0130)\n",
      "\"everything\" (0.0110)\n",
      "\"friendly\" (0.0100)\n"
     ]
    }
   ],
   "source": [
    "# Print the topics in a more human-readable format\n",
    "for idx, topic in lda_model.print_topics(-1):\n",
    "    print(f\"\\nTopic {idx + 1}:\")\n",
    "    print(\"=\"*30)\n",
    "    words = topic.split(\" + \")\n",
    "    for word in words:\n",
    "        weight, term = word.split(\"*\")\n",
    "        print(f\"{term.strip()} ({float(weight):.4f})\")"
   ]
  },
  {
   "cell_type": "code",
   "execution_count": 70,
   "id": "7e3448aa",
   "metadata": {},
   "outputs": [
    {
     "data": {
      "text/html": [
       "\n",
       "<link rel=\"stylesheet\" type=\"text/css\" href=\"https://cdn.jsdelivr.net/gh/bmabey/pyLDAvis@3.4.0/pyLDAvis/js/ldavis.v1.0.0.css\">\n",
       "\n",
       "\n",
       "<div id=\"ldavis_el1528826282731775364057858734\" style=\"background-color:white;\"></div>\n",
       "<script type=\"text/javascript\">\n",
       "\n",
       "var ldavis_el1528826282731775364057858734_data = {\"mdsDat\": {\"x\": [0.138873181554977, 0.09796756582605129, 0.07713799501297958, -0.3502662800770157, 0.03628753768300762], \"y\": [0.0030650506712355955, 0.06613881666303119, 0.05899415176563205, 0.017601203342340305, -0.14579922244223906], \"topics\": [1, 2, 3, 4, 5], \"cluster\": [1, 1, 1, 1, 1], \"Freq\": [44.17811941373297, 19.749328745269217, 15.134754876410234, 12.799679802781725, 8.138117161805855]}, \"tinfo\": {\"Term\": [\"great\", \"de\", \"staff\", \"la\", \"el\", \"muy\", \"que\", \"service\", \"room\", \"amazing\", \"food\", \"en\", \"excellent\", \"place\", \"property\", \"los\", \"friendly\", \"es\", \"todo\", \"clean\", \"excelente\", \"everything\", \"servicio\", \"lo\", \"para\", \"las\", \"experience\", \"un\", \"hotel\", \"us\", \"sand\", \"options\", \"system\", \"kid\", \"explore\", \"number\", \"vegetarian\", \"liked\", \"likely\", \"amount\", \"using\", \"willing\", \"alcohol\", \"space\", \"seats\", \"simply\", \"lacking\", \"lots\", \"variety\", \"maintained\", \"average\", \"entertaining\", \"reserved\", \"nightly\", \"barely\", \"staffs\", \"follow\", \"unable\", \"specially\", \"mind\", \"activities\", \"beach\", \"enjoyed\", \"areas\", \"pool\", \"helpful\", \"access\", \"nice\", \"good\", \"much\", \"drinks\", \"food\", \"water\", \"resort\", \"restaurants\", \"golf\", \"entertainment\", \"many\", \"sales\", \"friendly\", \"staff\", \"get\", \"things\", \"seaweed\", \"clean\", \"really\", \"pools\", \"sunrise\", \"time\", \"great\", \"stay\", \"palace\", \"like\", \"service\", \"amazing\", \"property\", \"moon\", \"go\", \"room\", \"us\", \"hotel\", \"would\", \"calling\", \"mins\", \"police\", \"\\u00e9\", \"com\", \"cockroaches\", \"woke\", \"jacuzzi\", \"sounds\", \"four\", \"lie\", \"explained\", \"prices\", \"certificate\", \"voucher\", \"tested\", \"observed\", \"actual\", \"rez\", \"hundred\", \"shown\", \"friday\", \"pillows\", \"guess\", \"helping\", \"program\", \"cancel\", \"wallet\", \"write\", \"tastes\", \"pictures\", \"sat\", \"desk\", \"sit\", \"taking\", \"tired\", \"construction\", \"front\", \"orbitz\", \"anyone\", \"charged\", \"contact\", \"report\", \"manager\", \"us\", \"taxi\", \"told\", \"three\", \"would\", \"recommend\", \"never\", \"back\", \"even\", \"said\", \"ocean\", \"home\", \"airport\", \"package\", \"hours\", \"hotel\", \"one\", \"day\", \"took\", \"show\", \"view\", \"finally\", \"vacation\", \"property\", \"grand\", \"room\", \"rooms\", \"like\", \"resort\", \"come\", \"palace\", \"time\", \"nizuc\", \"great\", \"go\", \"get\", \"experience\", \"staff\", \"kids\", \"stay\", \"moon\", \"sunrise\", \"service\", \"email\", \"terminal\", \"king\", \"bedroom\", \"restocked\", \"tout\", \"excelent\", \"nous\", \"usually\", \"luggage\", \"honor\", \"wrist\", \"esp\", \"pour\", \"expectation\", \"du\", \"bringing\", \"updating\", \"isabel\", \"teenager\", \"status\", \"feedback\", \"arm\", \"air\", \"spiders\", \"turning\", \"hallway\", \"ticked\", \"straw\", \"awake\", \"sleep\", \"availability\", \"slippery\", \"bed\", \"slipped\", \"agra\", \"daughter\", \"room\", \"ok\", \"late\", \"long\", \"arrived\", \"expedia\", \"came\", \"check\", \"fridge\", \"first\", \"experience\", \"bottle\", \"could\", \"wait\", \"said\", \"back\", \"horrible\", \"time\", \"service\", \"got\", \"one\", \"moon\", \"would\", \"hotel\", \"night\", \"palace\", \"two\", \"vip\", \"get\", \"place\", \"like\", \"food\", \"resort\", \"go\", \"good\", \"restaurants\", \"also\", \"us\", \"amazing\", \"stayed\", \"staff\", \"de\", \"muy\", \"el\", \"que\", \"en\", \"es\", \"todo\", \"excelente\", \"servicio\", \"lo\", \"para\", \"nos\", \"los\", \"por\", \"se\", \"comida\", \"fue\", \"una\", \"bien\", \"pero\", \"restaurantes\", \"la\", \"un\", \"atenci\\u00f3n\", \"las\", \"todos\", \"habitaci\\u00f3n\", \"te\", \"instalaciones\", \"gusto\", \"al\", \"del\", \"con\", \"playa\", \"personal\", \"hotel\", \"unique\", \"girlfriend\", \"falling\", \"remember\", \"ernesto\", \"n\", \"gorgeous\", \"\\uc218\\uc601\\uc7a5\\ub3c4\", \"\\uc74c\\uc2dd\\ub3c4\", \"executive\", \"talking\", \"ignored\", \"burgers\", \"bacon\", \"nesty\", \"nearby\", \"nonsense\", \"garbige\", \"target\", \"attempted\", \"suitable\", \"dishonest\", \"owner\", \"b\", \"wearing\", \"thinking\", \"opinion\", \"confimation\", \"feed\", \"register\", \"difference\", \"excellent\", \"workers\", \"great\", \"place\", \"perfect\", \"amazing\", \"ever\", \"staff\", \"everything\", \"love\", \"wonderful\", \"conditions\", \"service\", \"guest\", \"definitely\", \"host\", \"low\", \"friendly\", \"beautiful\", \"property\", \"white\", \"experience\", \"delicious\", \"clean\", \"services\", \"food\", \"customer\", \"best\", \"attentive\", \"vacation\", \"stay\", \"bar\", \"pools\", \"family\", \"hotel\", \"good\", \"back\", \"loved\", \"overall\", \"time\"], \"Freq\": [367.0, 170.0, 420.0, 150.0, 133.0, 102.0, 100.0, 300.0, 349.0, 193.0, 438.0, 92.0, 104.0, 144.0, 245.0, 68.0, 156.0, 65.0, 57.0, 148.0, 52.0, 122.0, 50.0, 49.0, 46.0, 46.0, 131.0, 46.0, 282.0, 211.0, 13.23403606372612, 113.24365862261084, 12.260580178790729, 12.178165685159353, 11.244344551180067, 10.383690696374302, 8.630544136693235, 23.286467071851355, 8.599269526685406, 19.778597145797246, 8.572317244620583, 11.916222265815438, 7.665423006693157, 6.741590071361423, 6.7399366276491826, 6.71628261134406, 6.710068306963236, 43.82336645800077, 20.90787621015137, 15.812707026085738, 17.33038921488757, 5.813140234540035, 5.812391107666934, 5.810519248446935, 5.804539644940675, 13.308857744574635, 5.795731656405221, 5.782142954749293, 5.775635992747327, 6.59388754220263, 69.16888825147824, 204.87583080423101, 41.43484343847431, 25.843553217453035, 158.86624390095113, 64.3183856285003, 28.555426984737107, 151.62183833962405, 223.52800936245558, 75.16309111009889, 60.72004761594759, 320.6468710633884, 119.91360840742755, 299.94944969051517, 133.89365700734342, 61.10911844043437, 42.30749002898896, 67.58337559400167, 39.39855182779272, 111.50546202965818, 261.8901566148291, 148.55591303426377, 33.882127144616824, 37.54487090900112, 100.24713122227955, 73.12936683959622, 68.2416032973649, 94.6332778952394, 147.8249184801579, 194.70784553898585, 105.95725597417794, 116.59956308525385, 103.71706390737644, 153.23213540945466, 108.331263942066, 127.37233705963072, 91.78263364350855, 86.3837165035066, 132.54791093147125, 86.79487411723406, 78.77032668070447, 73.02144658765754, 6.899120007520493, 6.039969904846948, 4.416357123492737, 3.5906875398100566, 3.589855885268576, 3.589659748409668, 3.588420831525783, 3.587683819442421, 3.580542810441805, 3.5788411733045367, 3.577849996972787, 3.5754132748610323, 3.5751785958246103, 3.5734332775528257, 3.5379661234342925, 2.7359306030035473, 2.7359293182642968, 2.7356541699414847, 2.7351306386969116, 2.7351291398344526, 2.734837075778176, 2.734463430779493, 2.734099635448397, 2.73267871383736, 2.7323551736694456, 2.7315768358068597, 2.731540648984638, 2.731088849014884, 5.467239998923098, 2.7302963790205426, 10.212096812083104, 4.036314551588815, 29.029426800503686, 8.763704049899218, 5.285086242017902, 5.274016500389301, 5.302613511365863, 29.47655031938605, 3.965425637471932, 9.319328080949267, 8.645732439976953, 6.287100634084706, 5.574025384191384, 9.225356256718909, 92.325658707955, 12.075408962603849, 29.838397985778176, 15.22273491418017, 78.82946260368887, 34.49710575200403, 33.603629557789596, 59.76918756650861, 37.82520393754486, 23.733275955814182, 24.07321282253569, 7.449656471138619, 20.598200421237657, 10.832469988371965, 23.028562217209437, 79.84871648351152, 50.197469033830096, 45.33542644292271, 25.262360620842575, 12.436001010501835, 15.066551732977127, 11.642403015098655, 27.57923369038345, 60.48798376028435, 37.575649333587855, 74.67264250812941, 37.39020493121574, 44.899060474031074, 74.65721193323824, 21.770350262767778, 43.731324996565625, 48.03793198484637, 24.533438968787344, 56.074842767381995, 34.05880753527967, 40.93314920512246, 31.47759165651586, 50.03732542976422, 27.71637360992296, 31.188319766876504, 28.94144443065909, 27.62854883475976, 29.199447479927294, 5.874798385257106, 5.09509928356171, 4.268812887983588, 4.264967233306276, 4.2635173184432995, 3.450867933345321, 3.4497760667203496, 3.4502732647777083, 3.444627523404283, 5.424103278612491, 3.355161737781542, 2.629689550416543, 2.629387949746766, 2.6290390906477743, 2.6289124118027973, 2.6286414962936555, 2.625406591177231, 2.620545700730653, 2.619824025134527, 2.6142353876964024, 2.603984903126411, 2.6037612460464836, 2.4849496167993577, 7.554767938016184, 1.808400241452526, 1.8081481964967165, 1.8081188240702257, 1.8079187962049055, 1.8076943186661376, 1.8077126969441655, 3.4472129533025475, 4.11291159639166, 4.554242970381124, 14.800985591692355, 3.4286935563542027, 10.004023985233777, 7.46006926590857, 138.99753169047332, 9.663792175042172, 8.162404349878978, 22.997138367333978, 13.522817049619144, 23.137178220437328, 11.153975157912075, 31.424597524764877, 4.754572108187515, 21.448918095186507, 36.29592814599699, 7.610681223447397, 26.08430313216147, 21.64925051482826, 17.032288388841994, 37.553285913672035, 15.458446171655517, 50.61199762098994, 54.27930948832018, 19.02295520263497, 33.89253246612942, 33.717405854802756, 35.567069268630064, 44.2440660596538, 19.354286675324555, 35.76943511346218, 15.465512619557195, 15.782855597199353, 31.30360806957146, 25.181178797066906, 27.347087742791288, 40.48510171979904, 39.05599894395444, 24.7097497109716, 30.182249559301944, 24.956000258265746, 20.094189585052025, 25.58048626924465, 23.58625932045086, 18.568552278398254, 21.323828971258752, 169.21030780187058, 102.12273055649176, 132.23491004938987, 99.56318206603359, 92.16912922677774, 64.30115310372834, 56.90320124860319, 51.98107118097511, 49.4948357349205, 48.676561975096476, 46.17682651965385, 33.027932836327324, 66.76333721726797, 30.578647004783583, 30.562491401443577, 28.938162722529448, 27.290786330219326, 26.46489883154801, 26.461876872209668, 24.81280187674464, 23.984565198808102, 145.67722466044802, 44.70743931361893, 22.360365302878268, 45.4057450623846, 17.42827786812838, 16.609286920305614, 15.775357146304787, 14.959667927751756, 14.134883966032058, 28.957076058050365, 37.79048302324535, 33.89065004811034, 22.0999261415035, 28.107938789921487, 62.52275334727713, 5.302918567881921, 2.3563303915254643, 2.356140512231554, 2.950706227660078, 2.3459424412323986, 12.905107387727222, 4.931715136351493, 1.6232006143012, 1.6230721457826436, 1.6227935032128622, 1.6222402768314406, 1.6223083933811149, 1.6218437538078188, 1.6213665850246086, 1.6212187050540723, 1.6210018261951356, 1.620989120517476, 1.62106358990598, 1.620937415468112, 1.6209153569999533, 1.620787770820123, 1.6207274188512406, 1.620049253306168, 1.6192463250651892, 1.6180715792849265, 1.6179088760237876, 1.6147095158020417, 1.613860705947293, 1.6109867522478252, 1.6087794936899875, 3.687839528621284, 57.98853778169293, 4.261921574049843, 103.87790483875868, 47.5059640718712, 15.253535906554983, 55.897047711720305, 12.760828770936401, 86.50576494610581, 33.690024769771505, 14.851278387082916, 17.098417243609603, 3.4915039857822747, 62.85855061797527, 7.7517734688008995, 18.457451819612643, 3.049991569310378, 2.3468410149913135, 31.818868091317164, 22.667524699553713, 40.68898966073436, 3.0270405272960472, 26.072869367514365, 6.945724572214877, 27.94760622358475, 9.317503303096771, 51.60789892925275, 11.147473821547052, 16.561939768827106, 6.607613784019449, 14.857569109266302, 22.76665722013661, 8.85603097289287, 13.031877580703329, 12.770758963898237, 16.98648587039776, 16.06230452403111, 12.821591556729743, 11.004191894581517, 11.411998971706838, 12.212029612308172], \"Total\": [367.0, 170.0, 420.0, 150.0, 133.0, 102.0, 100.0, 300.0, 349.0, 193.0, 438.0, 92.0, 104.0, 144.0, 245.0, 68.0, 156.0, 65.0, 57.0, 148.0, 52.0, 122.0, 50.0, 49.0, 46.0, 46.0, 131.0, 46.0, 282.0, 211.0, 13.957416421799167, 120.175289697587, 13.02091131259292, 13.011529671656774, 12.055718751419475, 11.136189916247742, 9.282049781242284, 25.110133091066015, 9.278827549605841, 21.388456347072644, 9.273827098132156, 12.939566061870664, 8.34001032457135, 7.402172885359895, 7.402874372059321, 7.400605313907821, 7.39881042682052, 48.32689985173781, 23.199825904745573, 17.5746254003809, 19.261600894249025, 6.4653990725812385, 6.465460789540488, 6.465242939309866, 6.464166055271034, 14.827412589577731, 6.463409401339318, 6.461989662366994, 6.457851458988633, 7.388716013472585, 77.95045647313647, 237.3681686500801, 47.48541376160593, 29.510112502301904, 189.4678205805822, 75.27832851658836, 33.12311117307829, 185.30978780031353, 285.54191831654566, 91.6827773116505, 74.43009688809911, 438.6709801223046, 157.66199166873756, 424.2526213605948, 180.0902240686985, 76.83929984819889, 51.71136324693448, 88.32799570654329, 48.72788007696296, 156.13150042021144, 420.1433700988056, 221.4550716662159, 41.383172746886174, 46.86764310533349, 148.44562911561283, 103.29167001080673, 95.28876312643258, 143.45435682645132, 258.95242429152864, 367.3072780586281, 176.238462189002, 204.5113765398909, 176.5817377288376, 300.8218949871202, 193.12738271840624, 245.4331327423071, 160.75760601286044, 149.70387592811767, 349.6904920129911, 211.13381825156145, 282.3723484415447, 192.5039075002743, 7.677328562527317, 6.834401512492655, 5.1156208265837435, 4.257447000534903, 4.257317525760477, 4.257625330323636, 4.257577426250313, 4.2574618445908285, 4.257457919150014, 4.2583943749817985, 4.2574209795450715, 4.255964599639298, 4.2566055526282085, 4.258860033752416, 4.261688439616891, 3.4020381948470604, 3.402056544887736, 3.401925149385338, 3.402015568941686, 3.4020665462172985, 3.4018334967226593, 3.4018208448495173, 3.4023243465593747, 3.4014332779310683, 3.401252193903379, 3.401556450964023, 3.4017924885093587, 3.401685984067964, 6.810101390732425, 3.40131061401919, 12.878129572896063, 5.056939828688409, 38.48144002533477, 11.244860524523087, 6.789785611251126, 6.789021717854442, 6.905481409336481, 44.21662794181605, 5.093708482717078, 12.97069472863113, 12.096881991912948, 8.6454017422178, 7.567217293427027, 13.438014024580259, 211.13381825156145, 18.976783607050017, 55.899981380504414, 25.024206593143898, 192.5039075002743, 72.93647963933793, 74.31522196546062, 159.9980385448081, 89.15626707823785, 48.83733165687117, 50.718457407423614, 11.033195446457167, 43.13623763154062, 18.492860177403607, 50.75563977017638, 282.3723484415447, 154.42779360022303, 135.48530054135028, 60.3814072727054, 22.48696191980912, 29.63943756461134, 20.54988414629957, 73.10943635832257, 245.4331327423071, 121.18550226668486, 349.6904920129911, 124.53700219404556, 176.5817377288376, 424.2526213605948, 58.18107198944919, 204.5113765398909, 258.95242429152864, 73.98830299748191, 367.3072780586281, 149.70387592811767, 221.4550716662159, 131.14799384843306, 420.1433700988056, 107.69160763699527, 176.238462189002, 160.75760601286044, 143.45435682645132, 300.8218949871202, 6.597443765684184, 5.770050600669155, 4.94742040696347, 4.947685657922404, 4.9472385044116045, 4.124998013070222, 4.124398415684891, 4.125043279429114, 4.124992006349707, 6.647247100824955, 4.137282273871388, 3.302427364455627, 3.3022375328917772, 3.3024090656377116, 3.302346315568681, 3.302462469514216, 3.302230953231353, 3.302409694435166, 3.303572192249514, 3.303488069832844, 3.299535559183068, 3.3054934663272952, 3.2874571897779976, 10.030448368004924, 2.4798267523440884, 2.479827293969286, 2.4798788401699086, 2.479844070828499, 2.479786623099668, 2.479956414034347, 4.863043154774061, 5.9064742698065045, 6.763716727808235, 24.409021794089178, 4.978332544937041, 16.254992073633957, 11.916764995490913, 349.6904920129911, 16.384605955205913, 13.695282518937278, 60.75511568340186, 29.92425404216891, 63.47705324630745, 24.462007295541557, 103.17451460440911, 7.495088907478657, 62.22239570238858, 131.14799384843306, 14.595894679024836, 90.10921487142572, 69.34828733150499, 48.83733165687117, 159.9980385448081, 42.54905213962911, 258.95242429152864, 300.8218949871202, 59.48313246087761, 154.42779360022303, 160.75760601286044, 192.5039075002743, 282.3723484415447, 67.75850744751911, 204.5113765398909, 46.18048900784329, 49.532411799706466, 221.4550716662159, 144.18545092354245, 176.5817377288376, 438.6709801223046, 424.2526213605948, 149.70387592811767, 285.54191831654566, 180.0902240686985, 99.2505831930909, 211.13381825156145, 193.12738271840624, 79.60593344953634, 420.1433700988056, 170.34103218029708, 102.86376246676511, 133.30912051867006, 100.40063778919559, 92.99103424944984, 65.01514864828785, 57.6106335489661, 52.67274609895715, 50.203901757138176, 49.38238728229212, 46.914805084116885, 33.7481159445063, 68.22848411564155, 31.27943209177955, 31.279666548826388, 29.633582051573352, 27.987907556013393, 27.165691666498777, 27.166022524859525, 25.51964940521225, 24.697543061171057, 150.09411682656892, 46.08999452525938, 23.051990331820047, 46.944516116118685, 18.11467368966379, 17.29144049745018, 16.46946759819186, 15.646574688616644, 14.822288888453084, 30.455250494087412, 40.3367491246436, 36.443389176501, 23.882987281426345, 33.153960373814414, 282.3723484415447, 6.0050663787314225, 3.0505520117302387, 3.0505778948529993, 3.8281108835309943, 3.0524375771981367, 17.688207871652544, 6.917120185204521, 2.31202059424535, 2.3120360790155194, 2.311879368694501, 2.311885589512302, 2.3120080340725946, 2.3119828645837526, 2.3122052588793056, 2.312215546576142, 2.31210558317711, 2.312108334919252, 2.3122399058253835, 2.3120641646167157, 2.3121046839402677, 2.3120622450768065, 2.3121231534378386, 2.312039819978537, 2.3121246919101623, 2.3124037340006973, 2.312499433829481, 2.3128881245686093, 2.312294071579654, 2.3136496274545095, 2.312766755169432, 5.503192755865389, 104.4803193823659, 7.026793741699375, 367.3072780586281, 144.18545092354245, 37.58783488026293, 193.12738271840624, 33.41366162071283, 420.1433700988056, 122.54093952518892, 41.79189003018957, 50.425518903682764, 6.288043449814319, 300.8218949871202, 19.86335842361352, 67.6570666652151, 5.589011277696165, 3.873386357993022, 156.13150042021144, 102.87147453384878, 245.4331327423071, 5.682392633569101, 131.14799384843306, 19.04286307517183, 148.44562911561283, 29.761084879730696, 438.6709801223046, 41.37226163107559, 84.41071335147603, 17.997277635503817, 73.10943635832257, 176.238462189002, 34.359539340316076, 95.28876312643258, 113.76811152553213, 282.3723484415447, 285.54191831654566, 159.9980385448081, 84.93372597189477, 103.76637512122166, 258.95242429152864], \"Category\": [\"Default\", \"Default\", \"Default\", \"Default\", \"Default\", \"Default\", \"Default\", \"Default\", \"Default\", \"Default\", \"Default\", \"Default\", \"Default\", \"Default\", \"Default\", \"Default\", \"Default\", \"Default\", \"Default\", \"Default\", \"Default\", \"Default\", \"Default\", \"Default\", \"Default\", \"Default\", \"Default\", \"Default\", \"Default\", \"Default\", \"Topic1\", \"Topic1\", \"Topic1\", \"Topic1\", \"Topic1\", \"Topic1\", \"Topic1\", \"Topic1\", \"Topic1\", \"Topic1\", \"Topic1\", \"Topic1\", \"Topic1\", \"Topic1\", \"Topic1\", \"Topic1\", \"Topic1\", \"Topic1\", \"Topic1\", \"Topic1\", \"Topic1\", \"Topic1\", \"Topic1\", \"Topic1\", \"Topic1\", \"Topic1\", \"Topic1\", \"Topic1\", \"Topic1\", \"Topic1\", \"Topic1\", \"Topic1\", \"Topic1\", \"Topic1\", \"Topic1\", \"Topic1\", \"Topic1\", \"Topic1\", \"Topic1\", \"Topic1\", \"Topic1\", \"Topic1\", \"Topic1\", \"Topic1\", \"Topic1\", \"Topic1\", \"Topic1\", \"Topic1\", \"Topic1\", \"Topic1\", \"Topic1\", \"Topic1\", \"Topic1\", \"Topic1\", \"Topic1\", \"Topic1\", \"Topic1\", \"Topic1\", \"Topic1\", \"Topic1\", \"Topic1\", \"Topic1\", \"Topic1\", \"Topic1\", \"Topic1\", \"Topic1\", \"Topic1\", \"Topic1\", \"Topic1\", \"Topic1\", \"Topic1\", \"Topic1\", \"Topic2\", \"Topic2\", \"Topic2\", \"Topic2\", \"Topic2\", \"Topic2\", \"Topic2\", \"Topic2\", \"Topic2\", \"Topic2\", \"Topic2\", \"Topic2\", \"Topic2\", \"Topic2\", \"Topic2\", \"Topic2\", \"Topic2\", \"Topic2\", \"Topic2\", \"Topic2\", \"Topic2\", \"Topic2\", \"Topic2\", \"Topic2\", \"Topic2\", \"Topic2\", \"Topic2\", \"Topic2\", \"Topic2\", \"Topic2\", \"Topic2\", \"Topic2\", \"Topic2\", \"Topic2\", \"Topic2\", \"Topic2\", \"Topic2\", \"Topic2\", \"Topic2\", \"Topic2\", \"Topic2\", \"Topic2\", \"Topic2\", \"Topic2\", \"Topic2\", \"Topic2\", \"Topic2\", \"Topic2\", \"Topic2\", \"Topic2\", \"Topic2\", \"Topic2\", \"Topic2\", \"Topic2\", \"Topic2\", \"Topic2\", \"Topic2\", \"Topic2\", \"Topic2\", \"Topic2\", \"Topic2\", \"Topic2\", \"Topic2\", \"Topic2\", \"Topic2\", \"Topic2\", \"Topic2\", \"Topic2\", \"Topic2\", \"Topic2\", \"Topic2\", \"Topic2\", \"Topic2\", \"Topic2\", \"Topic2\", \"Topic2\", \"Topic2\", \"Topic2\", \"Topic2\", \"Topic2\", \"Topic2\", \"Topic2\", \"Topic2\", \"Topic2\", \"Topic2\", \"Topic2\", \"Topic2\", \"Topic3\", \"Topic3\", \"Topic3\", \"Topic3\", \"Topic3\", \"Topic3\", \"Topic3\", \"Topic3\", \"Topic3\", \"Topic3\", \"Topic3\", \"Topic3\", \"Topic3\", \"Topic3\", \"Topic3\", \"Topic3\", \"Topic3\", \"Topic3\", \"Topic3\", \"Topic3\", \"Topic3\", \"Topic3\", \"Topic3\", \"Topic3\", \"Topic3\", \"Topic3\", \"Topic3\", \"Topic3\", \"Topic3\", \"Topic3\", \"Topic3\", \"Topic3\", \"Topic3\", \"Topic3\", \"Topic3\", \"Topic3\", \"Topic3\", \"Topic3\", \"Topic3\", \"Topic3\", \"Topic3\", \"Topic3\", \"Topic3\", \"Topic3\", \"Topic3\", \"Topic3\", \"Topic3\", \"Topic3\", \"Topic3\", \"Topic3\", \"Topic3\", \"Topic3\", \"Topic3\", \"Topic3\", \"Topic3\", \"Topic3\", \"Topic3\", \"Topic3\", \"Topic3\", \"Topic3\", \"Topic3\", \"Topic3\", \"Topic3\", \"Topic3\", \"Topic3\", \"Topic3\", \"Topic3\", \"Topic3\", \"Topic3\", \"Topic3\", \"Topic3\", \"Topic3\", \"Topic3\", \"Topic3\", \"Topic3\", \"Topic3\", \"Topic3\", \"Topic3\", \"Topic4\", \"Topic4\", \"Topic4\", \"Topic4\", \"Topic4\", \"Topic4\", \"Topic4\", \"Topic4\", \"Topic4\", \"Topic4\", \"Topic4\", \"Topic4\", \"Topic4\", \"Topic4\", \"Topic4\", \"Topic4\", \"Topic4\", \"Topic4\", \"Topic4\", \"Topic4\", \"Topic4\", \"Topic4\", \"Topic4\", \"Topic4\", \"Topic4\", \"Topic4\", \"Topic4\", \"Topic4\", \"Topic4\", \"Topic4\", \"Topic4\", \"Topic4\", \"Topic4\", \"Topic4\", \"Topic4\", \"Topic4\", \"Topic5\", \"Topic5\", \"Topic5\", \"Topic5\", \"Topic5\", \"Topic5\", \"Topic5\", \"Topic5\", \"Topic5\", \"Topic5\", \"Topic5\", \"Topic5\", \"Topic5\", \"Topic5\", \"Topic5\", \"Topic5\", \"Topic5\", \"Topic5\", \"Topic5\", \"Topic5\", \"Topic5\", \"Topic5\", \"Topic5\", \"Topic5\", \"Topic5\", \"Topic5\", \"Topic5\", \"Topic5\", \"Topic5\", \"Topic5\", \"Topic5\", \"Topic5\", \"Topic5\", \"Topic5\", \"Topic5\", \"Topic5\", \"Topic5\", \"Topic5\", \"Topic5\", \"Topic5\", \"Topic5\", \"Topic5\", \"Topic5\", \"Topic5\", \"Topic5\", \"Topic5\", \"Topic5\", \"Topic5\", \"Topic5\", \"Topic5\", \"Topic5\", \"Topic5\", \"Topic5\", \"Topic5\", \"Topic5\", \"Topic5\", \"Topic5\", \"Topic5\", \"Topic5\", \"Topic5\", \"Topic5\", \"Topic5\", \"Topic5\", \"Topic5\", \"Topic5\", \"Topic5\", \"Topic5\", \"Topic5\", \"Topic5\", \"Topic5\", \"Topic5\"], \"logprob\": [30.0, 29.0, 28.0, 27.0, 26.0, 25.0, 24.0, 23.0, 22.0, 21.0, 20.0, 19.0, 18.0, 17.0, 16.0, 15.0, 14.0, 13.0, 12.0, 11.0, 10.0, 9.0, 8.0, 7.0, 6.0, 5.0, 4.0, 3.0, 2.0, 1.0, -7.1258, -4.979, -7.2022, -7.2089, -7.2887, -7.3683, -7.5532, -6.5607, -7.5569, -6.7239, -7.56, -7.2306, -7.6718, -7.8003, -7.8005, -7.804, -7.8049, -5.9284, -6.6684, -6.9477, -6.8561, -7.9484, -7.9486, -7.9489, -7.9499, -7.1201, -7.9514, -7.9538, -7.9549, -7.8224, -5.472, -4.3861, -5.9844, -6.4565, -4.6405, -5.5447, -6.3567, -4.6872, -4.299, -5.3889, -5.6023, -3.9382, -4.9218, -4.0049, -4.8115, -5.5959, -5.9636, -5.4952, -6.0348, -4.9945, -4.1406, -4.7076, -6.1857, -6.083, -5.1009, -5.4163, -5.4855, -5.1585, -4.7125, -4.437, -5.0455, -4.9498, -5.0669, -4.6766, -5.0234, -4.8614, -5.1891, -5.2497, -4.8216, -5.245, -5.342, -5.4178, -6.972, -7.105, -7.4181, -7.6251, -7.6253, -7.6254, -7.6257, -7.6259, -7.6279, -7.6284, -7.6287, -7.6294, -7.6294, -7.6299, -7.6399, -7.897, -7.897, -7.8971, -7.8973, -7.8973, -7.8974, -7.8975, -7.8976, -7.8982, -7.8983, -7.8986, -7.8986, -7.8987, -7.2047, -7.899, -6.5799, -7.5081, -5.5351, -6.7328, -7.2385, -7.2406, -7.2352, -5.5198, -7.5258, -6.6713, -6.7464, -7.0649, -7.1853, -6.6815, -4.3781, -6.4123, -5.5076, -6.1806, -4.5362, -5.3626, -5.3888, -4.8129, -5.2705, -5.7366, -5.7223, -6.8953, -5.8782, -6.5209, -5.7667, -4.5233, -4.9875, -5.0893, -5.6741, -6.3828, -6.191, -6.4488, -5.5864, -4.801, -5.2771, -4.5903, -5.282, -5.099, -4.5905, -5.8229, -5.1254, -5.0314, -5.7034, -4.8767, -5.3753, -5.1915, -5.4542, -4.9907, -5.5814, -5.4634, -5.5382, -5.5846, -5.5293, -6.8666, -7.009, -7.186, -7.1869, -7.1872, -7.3987, -7.399, -7.3989, -7.4005, -6.9465, -7.4268, -7.6704, -7.6706, -7.6707, -7.6707, -7.6708, -7.6721, -7.6739, -7.6742, -7.6763, -7.6803, -7.6804, -7.7271, -6.6151, -8.0449, -8.045, -8.045, -8.0451, -8.0453, -8.0452, -7.3997, -7.2232, -7.1213, -5.9426, -7.4051, -6.3343, -6.6277, -3.7029, -6.3689, -6.5378, -5.5019, -6.0329, -5.4959, -6.2255, -5.1897, -7.0782, -5.5716, -5.0456, -6.6078, -5.376, -5.5623, -5.8022, -5.0116, -5.8992, -4.7131, -4.6432, -5.6917, -5.1141, -5.1193, -5.0659, -4.8476, -5.6744, -5.0602, -5.8987, -5.8784, -5.1936, -5.4112, -5.3287, -4.9364, -4.9723, -5.4301, -5.2301, -5.4202, -5.6369, -5.3955, -5.4766, -5.7158, -5.5775, -3.3386, -3.8436, -3.5852, -3.8689, -3.9461, -4.3062, -4.4284, -4.5189, -4.5679, -4.5845, -4.6373, -4.9724, -4.2686, -5.0494, -5.05, -5.1046, -5.1632, -5.1939, -5.194, -5.2584, -5.2923, -3.4883, -4.6696, -5.3624, -4.6541, -5.6116, -5.6598, -5.7113, -5.7644, -5.8211, -5.1039, -4.8377, -4.9466, -5.3742, -5.1337, -4.3342, -6.3486, -7.1598, -7.1599, -6.9348, -7.1642, -5.4593, -6.4212, -7.5325, -7.5326, -7.5327, -7.5331, -7.533, -7.5333, -7.5336, -7.5337, -7.5338, -7.5338, -7.5338, -7.5339, -7.5339, -7.534, -7.534, -7.5344, -7.5349, -7.5356, -7.5357, -7.5377, -7.5382, -7.54, -7.5414, -6.7118, -3.9566, -6.5672, -3.3737, -4.156, -5.2921, -3.9934, -5.4705, -3.5567, -4.4997, -5.3188, -5.1779, -6.7665, -3.876, -5.969, -5.1014, -6.9017, -7.1638, -4.5568, -4.8959, -4.3109, -6.9093, -4.756, -6.0788, -4.6865, -5.785, -4.0732, -5.6057, -5.2098, -6.1287, -5.3184, -4.8916, -5.8358, -5.4495, -5.4697, -5.1845, -5.2404, -5.4657, -5.6186, -5.5822, -5.5145], \"loglift\": [30.0, 29.0, 28.0, 27.0, 26.0, 25.0, 24.0, 23.0, 22.0, 21.0, 20.0, 19.0, 18.0, 17.0, 16.0, 15.0, 14.0, 13.0, 12.0, 11.0, 10.0, 9.0, 8.0, 7.0, 6.0, 5.0, 4.0, 3.0, 2.0, 1.0, 0.7637, 0.7575, 0.7568, 0.7507, 0.7473, 0.747, 0.7442, 0.7415, 0.7409, 0.7387, 0.7383, 0.7346, 0.7326, 0.7235, 0.7231, 0.7199, 0.7192, 0.7191, 0.7129, 0.7113, 0.7113, 0.7106, 0.7105, 0.7102, 0.7093, 0.7089, 0.7079, 0.7058, 0.7053, 0.7031, 0.6974, 0.6697, 0.6806, 0.6843, 0.6408, 0.6596, 0.6686, 0.6163, 0.5721, 0.6183, 0.6134, 0.5035, 0.5433, 0.4702, 0.5205, 0.5879, 0.6162, 0.5492, 0.6044, 0.4803, 0.3443, 0.4177, 0.617, 0.5951, 0.4244, 0.4716, 0.4831, 0.4009, 0.2563, 0.1822, 0.3081, 0.2551, 0.2848, 0.1424, 0.2388, 0.161, 0.2565, 0.2671, -0.1532, -0.072, -0.4597, -0.1524, 1.5152, 1.4985, 1.4751, 1.4517, 1.4515, 1.4514, 1.4511, 1.4509, 1.4489, 1.4482, 1.4481, 1.4478, 1.4476, 1.4466, 1.4359, 1.4041, 1.4041, 1.4041, 1.4039, 1.4038, 1.4038, 1.4037, 1.4034, 1.4031, 1.4031, 1.4027, 1.4026, 1.4025, 1.4024, 1.4023, 1.3901, 1.3966, 1.3402, 1.3728, 1.3715, 1.3695, 1.3579, 1.2165, 1.3717, 1.2914, 1.2862, 1.3035, 1.3163, 1.2459, 0.7949, 1.17, 0.9943, 1.125, 0.7292, 0.8733, 0.8284, 0.6374, 0.7646, 0.9004, 0.8769, 1.2293, 0.8829, 1.0872, 0.8318, 0.359, 0.4983, 0.5273, 0.7507, 1.0297, 0.9454, 1.0538, 0.6472, 0.2215, 0.4511, 0.0781, 0.4189, 0.2527, -0.1154, 0.639, 0.0795, -0.0626, 0.5182, -0.2575, 0.1415, -0.0662, 0.195, -0.5058, 0.2648, -0.1097, -0.0926, -0.0251, -0.7103, 1.7722, 1.7638, 1.7406, 1.7397, 1.7394, 1.7097, 1.7096, 1.7096, 1.7079, 1.6848, 1.6786, 1.6604, 1.6603, 1.6601, 1.6601, 1.66, 1.6588, 1.6569, 1.6563, 1.6542, 1.6514, 1.6495, 1.6083, 1.6047, 1.5724, 1.5723, 1.5723, 1.5722, 1.5721, 1.572, 1.5441, 1.5263, 1.4927, 1.3879, 1.5153, 1.4028, 1.4198, 0.9656, 1.3602, 1.3707, 0.9167, 1.0939, 0.8789, 1.1029, 0.6993, 1.433, 0.8231, 0.6036, 1.237, 0.6485, 0.724, 0.8348, 0.4388, 0.8757, 0.2557, 0.1758, 0.7481, 0.3716, 0.3263, 0.1995, 0.0347, 0.6351, 0.1446, 0.7942, 0.7445, -0.0683, 0.1432, 0.023, -0.4946, -0.4972, 0.0867, -0.359, -0.0882, 0.291, -0.2225, -0.2145, 0.4326, -1.0926, 2.0491, 2.0485, 2.0477, 2.0474, 2.0469, 2.0447, 2.0434, 2.0425, 2.0415, 2.0414, 2.0399, 2.0342, 2.034, 2.0331, 2.0326, 2.032, 2.0305, 2.0296, 2.0295, 2.0277, 2.0265, 2.0259, 2.0253, 2.0253, 2.0224, 2.0171, 2.0155, 2.0127, 2.0109, 2.0083, 2.0053, 1.9905, 1.9831, 1.9782, 1.8906, 0.5481, 2.3843, 2.2504, 2.2503, 2.2483, 2.2454, 2.1933, 2.1703, 2.1549, 2.1548, 2.1547, 2.1544, 2.1543, 2.1541, 2.1537, 2.1536, 2.1535, 2.1535, 2.1535, 2.1535, 2.1534, 2.1534, 2.1533, 2.1529, 2.1524, 2.1516, 2.1514, 2.1493, 2.149, 2.1466, 2.1456, 2.1083, 1.9199, 2.0086, 1.2456, 1.3984, 1.6067, 1.2688, 1.546, 0.9282, 1.2174, 1.474, 1.4271, 1.9203, 0.943, 1.5677, 1.2096, 1.9029, 2.0076, 0.918, 0.9961, 0.7115, 1.8788, 0.8932, 1.5, 0.8387, 1.3473, 0.3685, 1.1972, 0.88, 1.5066, 0.9152, 0.4621, 1.1528, 0.5191, 0.3216, -0.3022, -0.3693, -0.0154, 0.465, 0.3011, -0.5456]}, \"token.table\": {\"Topic\": [1, 2, 3, 5, 1, 2, 2, 1, 2, 3, 1, 2, 3, 1, 2, 3, 3, 4, 1, 1, 2, 3, 5, 1, 2, 3, 5, 1, 2, 1, 2, 3, 1, 3, 3, 1, 2, 3, 4, 5, 1, 2, 3, 5, 1, 3, 1, 5, 3, 5, 1, 2, 3, 5, 5, 1, 2, 3, 4, 5, 1, 1, 2, 3, 5, 1, 2, 3, 5, 1, 2, 3, 3, 1, 2, 3, 4, 5, 4, 1, 2, 3, 3, 5, 2, 1, 2, 3, 2, 2, 1, 2, 3, 1, 2, 3, 4, 5, 1, 2, 3, 5, 2, 2, 1, 2, 3, 5, 4, 1, 4, 2, 5, 5, 1, 2, 1, 2, 1, 2, 3, 5, 1, 2, 3, 5, 1, 2, 3, 1, 2, 3, 4, 5, 4, 1, 2, 3, 5, 3, 4, 1, 3, 5, 1, 2, 3, 5, 1, 5, 5, 1, 2, 3, 5, 3, 3, 4, 3, 4, 1, 2, 3, 5, 1, 1, 2, 5, 5, 4, 3, 1, 2, 3, 5, 1, 2, 3, 5, 1, 2, 3, 5, 3, 4, 1, 2, 3, 5, 5, 3, 1, 2, 3, 4, 5, 1, 2, 3, 5, 2, 1, 5, 1, 2, 3, 5, 5, 3, 1, 2, 3, 1, 2, 3, 1, 1, 2, 3, 5, 2, 2, 2, 3, 1, 2, 3, 5, 1, 2, 3, 5, 4, 5, 1, 2, 3, 5, 1, 2, 3, 5, 1, 2, 3, 5, 1, 2, 3, 5, 2, 5, 1, 2, 3, 5, 1, 2, 3, 4, 1, 2, 3, 5, 2, 1, 3, 5, 4, 4, 3, 1, 2, 5, 2, 1, 2, 3, 5, 3, 1, 2, 3, 4, 5, 1, 3, 5, 1, 2, 3, 4, 5, 1, 2, 3, 5, 2, 5, 4, 3, 2, 1, 1, 2, 3, 5, 3, 1, 3, 4, 1, 2, 4, 1, 2, 3, 2, 1, 2, 3, 1, 2, 3, 1, 4, 1, 2, 3, 5, 4, 5, 1, 2, 1, 2, 3, 5, 1, 2, 3, 5, 3, 5, 1, 3, 1, 3, 2, 3, 5, 1, 2, 3, 5, 1, 2, 1, 2, 3, 4, 5, 1, 2, 3, 5, 4, 1, 3, 4, 5, 5, 5, 1, 2, 3, 1, 2, 3, 5, 1, 2, 3, 1, 1, 2, 3, 4, 5, 4, 3, 1, 2, 1, 2, 5, 1, 3, 1, 2, 3, 5, 5, 1, 2, 3, 2, 3, 1, 2, 3, 5, 5, 1, 2, 3, 1, 2, 3, 4, 5, 4, 1, 2, 5, 4, 1, 2, 4, 5, 1, 2, 3, 2, 1, 2, 3, 5, 3, 4, 2, 1, 2, 3, 5, 1, 2, 3, 5, 4, 3, 2, 2, 1, 2, 3, 5, 4, 1, 2, 3, 5, 1, 2, 3, 5, 5, 5, 2, 3, 5, 1, 1, 2, 3, 4, 5, 4, 1, 2, 3, 5, 3, 2, 1, 2, 3, 4, 5, 1, 2, 3, 5, 1, 2, 3, 5, 1, 2, 5, 1, 2, 4, 1, 1, 2, 1, 2, 3, 4, 5, 1, 2, 3, 5, 4, 1, 2, 3, 2, 1, 1, 2, 3, 5, 2, 3, 1, 3, 2, 1, 1, 3, 1, 2, 3, 5, 1, 2, 3, 1, 2, 3, 5, 1, 2, 3, 3, 5, 1, 2, 3, 4, 5, 1, 2, 3, 5, 5, 2, 1, 2, 3, 4, 3, 3, 2, 1, 2, 3, 5, 1, 2, 3, 3, 1, 2, 3, 5, 2, 3, 4, 4, 1, 2, 3, 5, 1, 2, 3, 5, 3, 3, 1, 2, 3, 3, 4, 4, 1, 5, 3, 1, 2, 3, 4, 5, 1, 3, 1, 2, 3, 5, 1, 2, 1, 1, 2, 3, 1, 2, 3, 4, 5, 2, 1, 2, 3, 5, 2, 1, 2, 3, 5, 5, 1, 5, 1, 2, 1, 2, 3, 5, 2, 5, 1, 2, 3, 5, 3, 2, 2, 5, 5], \"Freq\": [0.8755216213980086, 0.06038080147572473, 0.030190400737862364, 0.030190400737862364, 0.8851776259165204, 0.1026292899613357, 0.8818536176617647, 0.30759781225056004, 0.06151956245011201, 0.6151956245011201, 0.09969644060875635, 0.09969644060875635, 0.7975715248700508, 0.3941002028320114, 0.48682966232189645, 0.13909418923482755, 0.032835060745737096, 0.9522167616263759, 0.9592314264204672, 0.5138508848938456, 0.2619631962203919, 0.20151015093876298, 0.020151015093876297, 0.5592164015264053, 0.025889648218815058, 0.12427031145031228, 0.28996406005072867, 0.9350838450170492, 0.046754192250852464, 0.1541937453500666, 0.6938718540752998, 0.0770968726750333, 0.8810539098409705, 0.10166006652011199, 0.6083729413173166, 0.20050625126844832, 0.33417708544741387, 0.4678479196263794, 0.954364446771092, 0.865012736616933, 0.22225583674439012, 0.22225583674439012, 0.1666918775582926, 0.3889477143026827, 0.1693057405010519, 0.6772229620042076, 0.8825849986890615, 0.05191676462876832, 0.8064657865282548, 0.8650052512296383, 0.3125038310141364, 0.3750045972169637, 0.23750291157074369, 0.08125099606367547, 0.864975110803689, 0.32014398944787514, 0.20372799328501145, 0.17462399424429553, 0.029103999040715922, 0.2619359913664433, 0.9281939771809324, 0.8636372819735736, 0.07583156622206988, 0.029490053530804954, 0.03370291832091995, 0.554089462198238, 0.13609214861009353, 0.0874878098207744, 0.22357995843086792, 0.12290537594286027, 0.2867792105333406, 0.6145268797143013, 0.8084587980230844, 0.6041887098814359, 0.05923418724327803, 0.11846837448655606, 0.011846837448655606, 0.2013962366271453, 0.9570779077506653, 0.2740496617688148, 0.1370248308844074, 0.5480993235376296, 0.9084767366329696, 0.8650583145044539, 0.9117754884383448, 0.08175943927400102, 0.44967691600700566, 0.44967691600700566, 0.8818880076117103, 0.9392184688623498, 0.16533186000632621, 0.7439933700284679, 0.08266593000316311, 0.3780003244942172, 0.23261558430413368, 0.3004617963928393, 0.03876926405068895, 0.04846158006336118, 0.6736473185217041, 0.04041883911130225, 0.09431062459303859, 0.18862124918607717, 0.9394908404718522, 0.9395587657712908, 0.3265666882769974, 0.3781298495838918, 0.13750176348505155, 0.154689483920683, 0.9786194578005897, 0.05487963784909491, 0.9329538434346134, 0.3180639599522898, 0.47709593992843474, 0.8649418880504638, 0.14481249614950245, 0.7240624807475123, 0.2313368493026145, 0.6940105479078436, 0.3995151888890318, 0.2885387475309674, 0.2885387475309674, 0.01109764413580644, 0.4109033282152247, 0.1933662721012822, 0.14502470407596166, 0.26587862413926305, 0.2517461744974534, 0.08391539149915113, 0.587407740494058, 0.5240420895573886, 0.33213935253637306, 0.12547486651374093, 0.007380874500808291, 0.007380874500808291, 0.9921273684729252, 0.3103888630571808, 0.2069259087047872, 0.2069259087047872, 0.266047596906155, 0.049582577758555825, 0.9420689774125607, 0.36759178346068305, 0.21005244769181888, 0.36759178346068305, 0.07795966050191755, 0.7536100515185363, 0.1299327675031959, 0.025986553500639182, 0.1817126974035544, 0.7268507896142176, 0.8650058267987367, 0.8195609377173, 0.013435425208480328, 0.09404797645936229, 0.06717712604240164, 0.9084130486549609, 0.007501362218198335, 0.9901798128021803, 0.9094431439049596, 0.9893426903201079, 0.8634230335621572, 0.02105909837956481, 0.02105909837956481, 0.08423639351825923, 0.9280169611563617, 0.8122005950498669, 0.07735243762379684, 0.09669054702974605, 0.6552140541513777, 0.9843859674338439, 0.9084749265062386, 0.4374341959132956, 0.42621793447962136, 0.10094635290306822, 0.02243252286734849, 0.20949514840542835, 0.20949514840542835, 0.17956727006179574, 0.3890624184672241, 0.39986636457873576, 0.21217398936830875, 0.10608699468415438, 0.27745829378932685, 0.7273788071955276, 0.9872278142154721, 0.2871354162903083, 0.10528298597311304, 0.04785590271505138, 0.555128471494596, 0.8650970405646136, 0.9084450004097722, 0.330828211550945, 0.20479841667439452, 0.3623356602700826, 0.03150744871913762, 0.06301489743827524, 0.28212402579913404, 0.23637418377765285, 0.27449905212888714, 0.19824931542641852, 0.9398574415630733, 0.9124300447623522, 0.655613483390948, 0.6064968388309306, 0.13184713887628927, 0.14942675739312783, 0.11426752035945069, 0.8644351228757188, 0.90758007255518, 0.14598622447904225, 0.583944897916169, 0.24331037413173706, 0.4339273616069323, 0.2089279889218563, 0.337499059027614, 0.9283026383500801, 0.7317557225018689, 0.0592699339098087, 0.091184513707398, 0.1185398678196174, 0.9393211731398403, 0.8818806565143227, 0.26684139770568766, 0.6671034942642191, 0.7173440317845139, 0.05764371683982701, 0.019214572279942336, 0.20495543765271826, 0.22615926327893748, 0.6558618635089187, 0.090463705311575, 0.02261592632789375, 0.9647023431803091, 0.8649621498881944, 0.6728227033995298, 0.1851391331502062, 0.13998324701600956, 0.6556190460970448, 0.5744674242188229, 0.22711502817953463, 0.1669963442496578, 0.02671941507994525, 0.7938645995019414, 0.07808504257396146, 0.11712756386094217, 0.013014173762326909, 0.7844732616514764, 0.056033804403676876, 0.10506338325689416, 0.056033804403676876, 0.14456883402705148, 0.7228441701352575, 0.43709870217578645, 0.20173786254267068, 0.3194182823592286, 0.033622977090445115, 0.5776268504953312, 0.3135688616974655, 0.06601449719946642, 0.04125906074966652, 0.5308906510937006, 0.15246090492947298, 0.032670193913458496, 0.28314168058330696, 0.881981139969548, 0.40275163088683014, 0.20137581544341507, 0.40275163088683014, 0.9445234879281251, 0.9831453893333436, 0.8064910138363737, 0.8501782818663002, 0.09298824957912658, 0.05313614261664376, 0.8820280969983323, 0.09063557378756548, 0.6344490165129584, 0.09063557378756548, 0.09063557378756548, 0.7251136860895894, 0.3055297203176032, 0.21152057560449455, 0.3525342926741576, 0.02350228617827717, 0.09400914471310869, 0.17892252320024088, 0.17892252320024088, 0.5367675696007227, 0.27977243677014707, 0.2833138600204021, 0.15582262301122113, 0.22310966476606664, 0.060204195254335444, 0.37434263632638226, 0.45315161239509427, 0.1379157081202461, 0.039404488034356026, 0.8818169660248564, 0.8650488971169389, 0.9586762788991097, 0.9081078981831477, 0.939526916743144, 0.9222589736039871, 0.6221469014172606, 0.2600016901445268, 0.09285774648018814, 0.02785732394405644, 0.8085021427267469, 0.019987458958610926, 0.0066624863195369755, 0.9727230026523984, 0.9460980341684602, 0.02130174262583663, 0.9585784181626483, 0.29207137526874405, 0.07301784381718601, 0.5841427505374881, 0.9395359348342907, 0.5889623770704107, 0.25483949007854306, 0.15290369404712584, 0.9159648782659466, 0.03982455992460637, 0.03982455992460637, 0.9699501312945852, 0.9922566059816788, 0.5431641373537128, 0.04937855794124662, 0.37856894421622406, 0.032919038627497746, 0.9819945565028328, 0.014656635171684073, 0.9104660165453958, 0.08276963786776326, 0.40677748691718807, 0.19142469972573556, 0.04785617493143389, 0.35892131198575417, 0.6357898394551655, 0.17660828873754597, 0.058869429579181995, 0.12951274507420038, 0.25817202509024834, 0.5163440501804967, 0.15043821672822955, 0.7521910836411477, 0.910403472932813, 0.05690021705830081, 0.6697418222318843, 0.22324727407729478, 0.07441575802576493, 0.7698578401565903, 0.07925007178082548, 0.13585726590998654, 0.011321438825832211, 0.9473905868402845, 0.8779115463193893, 0.5722901844696549, 0.1803958190176086, 0.21149854643443766, 0.006220545483365814, 0.03110272741682907, 0.818038045957727, 0.1308860873532363, 0.021814347892206053, 0.03272152183830908, 0.9916028497689438, 0.11306967978396713, 0.11306967978396713, 0.05653483989198357, 0.7349529185957864, 0.8650124001914136, 0.8649712622863119, 0.3364048352249989, 0.45751057590599853, 0.20184290113499934, 0.8202480926900226, 0.10792738061710824, 0.05396369030855412, 0.016189107092566237, 0.4575071259355939, 0.25089100454532565, 0.28040759331536397, 0.9280393724292859, 0.6082042454944738, 0.3378912474969299, 0.013515649899877196, 0.04054694969963159, 0.8650113707019909, 0.9778323641611144, 0.7272650968198291, 0.89797319147817, 0.8818195583809724, 0.49291719973211906, 0.47320051174283434, 0.019716687989284762, 0.3661973938466069, 0.6103289897443448, 0.453286279419451, 0.32377591387103644, 0.22016762143230476, 0.006475518277420728, 0.8647197323359651, 0.9402931358381317, 0.016642356386515605, 0.041605890966289014, 0.7852824741682756, 0.1963206185420689, 0.4914886921743284, 0.22165176313744223, 0.17346659723799826, 0.10600736497877672, 0.8650370044312499, 0.37852446473116624, 0.5948241588632612, 0.05407492353302375, 0.572095313128845, 0.21514695536469383, 0.17602932711656769, 0.004889703531015769, 0.03422792471711038, 0.9805007165120548, 0.45227398848999845, 0.1330217613205878, 0.39906528396176333, 0.9796372827478533, 0.0603246181587294, 0.0603246181587294, 0.8445446542222116, 0.0301623090793647, 0.0776510279959171, 0.776510279959171, 0.0776510279959171, 0.8817501491395939, 0.43693728872413873, 0.055484100155446185, 0.17338781298576933, 0.3329046009326771, 0.04187080904982493, 0.9211577990961485, 0.7819187808474138, 0.8391926371073446, 0.09500294004988806, 0.015833823341648012, 0.052779411138826705, 0.7136203448225593, 0.08395533468500699, 0.06296650101375524, 0.13642741886313633, 0.9910665867922523, 0.9084277387727814, 0.9397159193034061, 0.8819492027391699, 0.5174525484028428, 0.24446577089898083, 0.06926530175471124, 0.16705161011430358, 0.9960096091218387, 0.706736564452511, 0.17426381041294792, 0.019362645601438657, 0.08713190520647396, 0.2742112054063698, 0.4661590491908286, 0.1371056027031849, 0.09597392189222942, 0.8647651111075751, 0.7836763592471604, 0.7928938429205238, 0.13214897382008728, 0.13214897382008728, 0.9280081026408066, 0.707125860620232, 0.176781465155058, 0.09192636188063015, 0.00942834480826976, 0.01414251721240464, 0.9717565808289765, 0.744071482463609, 0.11105544514382223, 0.1388193064297778, 0.005552772257191111, 0.8085318701398926, 0.8818301795524273, 0.38033633466665434, 0.21447537669172237, 0.39749436480199213, 0.002859671689222965, 0.00571934337844593, 0.5058737474813907, 0.2971004548700231, 0.13650561439974035, 0.05620819416459896, 0.10238069588096599, 0.4914273402286367, 0.34809436599528437, 0.06142841752857959, 0.8003631583890307, 0.16417705813108321, 0.020522132266385402, 0.9314044667819869, 0.7909922078383634, 0.9910591582429487, 0.9455786560987864, 0.8107939184096851, 0.1706934565073021, 0.5086065959612107, 0.09640255740441249, 0.17950821033925085, 0.003324226117393534, 0.20942624539579266, 0.30240833075710916, 0.13440370255871517, 0.26880740511743034, 0.30240833075710916, 0.9760197571303908, 0.22235106804692106, 0.5336425633126105, 0.22235106804692106, 0.8818773766823722, 0.9458685746752403, 0.1778590313004192, 0.8003656408518863, 0.6168976717911484, 0.20563255726371615, 0.20087047037807848, 0.6026114111342354, 0.2956954113375613, 0.7392385283439032, 0.93952778300122, 0.9456682663876553, 0.9291015809365896, 0.8065079538760013, 0.6235966544905497, 0.11900699513178428, 0.0499829379553494, 0.20707217152930465, 0.8767544520301385, 0.06744265015616449, 0.9092188722290266, 0.6014578128032192, 0.1758980395933943, 0.09078608495142931, 0.13050499711767966, 0.6029701294869946, 0.15074253237174864, 0.2386756762552687, 0.8065210052226399, 0.8650286142852353, 0.6622315425033024, 0.1951840335799207, 0.0836503001056803, 0.055766866737120196, 0.0069708583421400246, 0.9215944807483969, 0.7364002762789251, 0.14728005525578503, 0.8650947127629725, 0.8650278961144453, 0.8820129474899743, 0.1580879068930036, 0.6323516275720144, 0.1580879068930036, 0.9714946706447632, 0.9081310229014387, 0.8665435272647606, 0.8818243147722408, 0.8215899783217634, 0.12082205563555344, 0.048328822254221374, 0.8648650766102094, 0.1998065345803968, 0.5994196037411904, 0.1998065345803968, 0.8065023214672581, 0.5715335564241777, 0.18536223451594955, 0.19694737417319638, 0.04634055862898739, 0.7364831352432567, 0.14729662704865135, 0.9894006798511061, 0.9384657041710985, 0.16100184253619135, 0.5366728084539711, 0.17889093615132373, 0.10733456169079424, 0.3643505673963449, 0.4140347356776647, 0.19873667312527904, 0.016561389427106585, 0.7272730775855841, 0.8065077777246091, 0.36812083122620726, 0.30315833159805305, 0.3248124981407711, 0.021696682985109822, 0.976350734329942, 0.9570895642632825, 0.9285065921634778, 0.8326302632904877, 0.90842756580301, 0.41206094182572567, 0.4357426051490432, 0.12314464928125135, 0.004736332664663514, 0.023681663323317566, 0.9704731288135287, 0.7272741366242703, 0.3282749969835858, 0.3829874964808501, 0.08206874924589645, 0.20517187311474114, 0.9051792063536307, 0.08620754346225054, 0.969613416444688, 0.30364948661325974, 0.5060824776887662, 0.16869415922958875, 0.4239648189334574, 0.04037760180318642, 0.32302081442549135, 0.06056640270477963, 0.16151040721274568, 0.9385951264798664, 0.6056386050203054, 0.07209983393098873, 0.31723926929635043, 0.014419966786197747, 0.8819156189168287, 0.7611219338908969, 0.1268536556484828, 0.10148292451878625, 0.012685365564848282, 0.8649008694255105, 0.3519644151628789, 0.5279466227443184, 0.9273881320765998, 0.9395014111400052, 0.2578059736942154, 0.317299659931342, 0.0793249149828355, 0.3371308886770509, 0.2846248336750405, 0.569249667350081, 0.37921308168716517, 0.41038128018200065, 0.18700919096901295, 0.025973498745696242, 0.9084227051560061, 0.7342034594087374, 0.9395301925067869, 0.8650441976935789, 0.865038404094288], \"Term\": [\"access\", \"access\", \"access\", \"access\", \"activities\", \"activities\", \"actual\", \"agra\", \"agra\", \"agra\", \"air\", \"air\", \"air\", \"airport\", \"airport\", \"airport\", \"al\", \"al\", \"alcohol\", \"also\", \"also\", \"also\", \"also\", \"amazing\", \"amazing\", \"amazing\", \"amazing\", \"amount\", \"amount\", \"anyone\", \"anyone\", \"anyone\", \"areas\", \"areas\", \"arm\", \"arrived\", \"arrived\", \"arrived\", \"atenci\\u00f3n\", \"attempted\", \"attentive\", \"attentive\", \"attentive\", \"attentive\", \"availability\", \"availability\", \"average\", \"average\", \"awake\", \"b\", \"back\", \"back\", \"back\", \"back\", \"bacon\", \"bar\", \"bar\", \"bar\", \"bar\", \"bar\", \"barely\", \"beach\", \"beach\", \"beach\", \"beach\", \"beautiful\", \"beautiful\", \"beautiful\", \"beautiful\", \"bed\", \"bed\", \"bed\", \"bedroom\", \"best\", \"best\", \"best\", \"best\", \"best\", \"bien\", \"bottle\", \"bottle\", \"bottle\", \"bringing\", \"burgers\", \"calling\", \"came\", \"came\", \"came\", \"cancel\", \"certificate\", \"charged\", \"charged\", \"charged\", \"check\", \"check\", \"check\", \"check\", \"check\", \"clean\", \"clean\", \"clean\", \"clean\", \"cockroaches\", \"com\", \"come\", \"come\", \"come\", \"come\", \"comida\", \"con\", \"con\", \"conditions\", \"conditions\", \"confimation\", \"construction\", \"construction\", \"contact\", \"contact\", \"could\", \"could\", \"could\", \"could\", \"customer\", \"customer\", \"customer\", \"customer\", \"daughter\", \"daughter\", \"daughter\", \"day\", \"day\", \"day\", \"day\", \"day\", \"de\", \"definitely\", \"definitely\", \"definitely\", \"definitely\", \"del\", \"del\", \"delicious\", \"delicious\", \"delicious\", \"desk\", \"desk\", \"desk\", \"desk\", \"difference\", \"difference\", \"dishonest\", \"drinks\", \"drinks\", \"drinks\", \"drinks\", \"du\", \"el\", \"el\", \"email\", \"en\", \"enjoyed\", \"enjoyed\", \"enjoyed\", \"enjoyed\", \"entertaining\", \"entertainment\", \"entertainment\", \"entertainment\", \"ernesto\", \"es\", \"esp\", \"even\", \"even\", \"even\", \"even\", \"ever\", \"ever\", \"ever\", \"ever\", \"everything\", \"everything\", \"everything\", \"everything\", \"excelent\", \"excelente\", \"excellent\", \"excellent\", \"excellent\", \"excellent\", \"executive\", \"expectation\", \"expedia\", \"expedia\", \"expedia\", \"expedia\", \"expedia\", \"experience\", \"experience\", \"experience\", \"experience\", \"explained\", \"explore\", \"falling\", \"family\", \"family\", \"family\", \"family\", \"feed\", \"feedback\", \"finally\", \"finally\", \"finally\", \"first\", \"first\", \"first\", \"follow\", \"food\", \"food\", \"food\", \"food\", \"four\", \"friday\", \"fridge\", \"fridge\", \"friendly\", \"friendly\", \"friendly\", \"friendly\", \"front\", \"front\", \"front\", \"front\", \"fue\", \"garbige\", \"get\", \"get\", \"get\", \"girlfriend\", \"go\", \"go\", \"go\", \"go\", \"golf\", \"golf\", \"golf\", \"golf\", \"good\", \"good\", \"good\", \"good\", \"gorgeous\", \"gorgeous\", \"got\", \"got\", \"got\", \"got\", \"grand\", \"grand\", \"grand\", \"grand\", \"great\", \"great\", \"great\", \"great\", \"guess\", \"guest\", \"guest\", \"guest\", \"gusto\", \"habitaci\\u00f3n\", \"hallway\", \"helpful\", \"helpful\", \"helpful\", \"helping\", \"home\", \"home\", \"home\", \"home\", \"honor\", \"horrible\", \"horrible\", \"horrible\", \"horrible\", \"horrible\", \"host\", \"host\", \"host\", \"hotel\", \"hotel\", \"hotel\", \"hotel\", \"hotel\", \"hours\", \"hours\", \"hours\", \"hours\", \"hundred\", \"ignored\", \"instalaciones\", \"isabel\", \"jacuzzi\", \"kid\", \"kids\", \"kids\", \"kids\", \"kids\", \"king\", \"la\", \"la\", \"la\", \"lacking\", \"las\", \"las\", \"late\", \"late\", \"late\", \"lie\", \"like\", \"like\", \"like\", \"liked\", \"liked\", \"liked\", \"likely\", \"lo\", \"long\", \"long\", \"long\", \"long\", \"los\", \"los\", \"lots\", \"lots\", \"love\", \"love\", \"love\", \"love\", \"loved\", \"loved\", \"loved\", \"loved\", \"low\", \"low\", \"luggage\", \"luggage\", \"maintained\", \"maintained\", \"manager\", \"manager\", \"manager\", \"many\", \"many\", \"many\", \"many\", \"mind\", \"mins\", \"moon\", \"moon\", \"moon\", \"moon\", \"moon\", \"much\", \"much\", \"much\", \"much\", \"muy\", \"n\", \"n\", \"n\", \"n\", \"nearby\", \"nesty\", \"never\", \"never\", \"never\", \"nice\", \"nice\", \"nice\", \"nice\", \"night\", \"night\", \"night\", \"nightly\", \"nizuc\", \"nizuc\", \"nizuc\", \"nizuc\", \"nonsense\", \"nos\", \"nous\", \"number\", \"observed\", \"ocean\", \"ocean\", \"ocean\", \"ok\", \"ok\", \"one\", \"one\", \"one\", \"one\", \"opinion\", \"options\", \"options\", \"options\", \"orbitz\", \"orbitz\", \"overall\", \"overall\", \"overall\", \"overall\", \"owner\", \"package\", \"package\", \"package\", \"palace\", \"palace\", \"palace\", \"palace\", \"palace\", \"para\", \"perfect\", \"perfect\", \"perfect\", \"pero\", \"personal\", \"personal\", \"personal\", \"personal\", \"pictures\", \"pictures\", \"pictures\", \"pillows\", \"place\", \"place\", \"place\", \"place\", \"playa\", \"playa\", \"police\", \"pool\", \"pool\", \"pool\", \"pool\", \"pools\", \"pools\", \"pools\", \"pools\", \"por\", \"pour\", \"prices\", \"program\", \"property\", \"property\", \"property\", \"property\", \"que\", \"really\", \"really\", \"really\", \"really\", \"recommend\", \"recommend\", \"recommend\", \"recommend\", \"register\", \"remember\", \"report\", \"report\", \"report\", \"reserved\", \"resort\", \"resort\", \"resort\", \"resort\", \"resort\", \"restaurantes\", \"restaurants\", \"restaurants\", \"restaurants\", \"restaurants\", \"restocked\", \"rez\", \"room\", \"room\", \"room\", \"room\", \"room\", \"rooms\", \"rooms\", \"rooms\", \"rooms\", \"said\", \"said\", \"said\", \"said\", \"sales\", \"sales\", \"sales\", \"sand\", \"sat\", \"se\", \"seats\", \"seaweed\", \"seaweed\", \"service\", \"service\", \"service\", \"service\", \"service\", \"services\", \"services\", \"services\", \"services\", \"servicio\", \"show\", \"show\", \"show\", \"shown\", \"simply\", \"sit\", \"sit\", \"sleep\", \"sleep\", \"slipped\", \"slipped\", \"slippery\", \"slippery\", \"sounds\", \"space\", \"specially\", \"spiders\", \"staff\", \"staff\", \"staff\", \"staff\", \"staffs\", \"staffs\", \"status\", \"stay\", \"stay\", \"stay\", \"stay\", \"stayed\", \"stayed\", \"stayed\", \"straw\", \"suitable\", \"sunrise\", \"sunrise\", \"sunrise\", \"sunrise\", \"sunrise\", \"system\", \"taking\", \"taking\", \"talking\", \"target\", \"tastes\", \"taxi\", \"taxi\", \"taxi\", \"te\", \"teenager\", \"terminal\", \"tested\", \"things\", \"things\", \"things\", \"thinking\", \"three\", \"three\", \"three\", \"ticked\", \"time\", \"time\", \"time\", \"time\", \"tired\", \"tired\", \"todo\", \"todos\", \"told\", \"told\", \"told\", \"told\", \"took\", \"took\", \"took\", \"took\", \"tout\", \"turning\", \"two\", \"two\", \"two\", \"un\", \"un\", \"una\", \"unable\", \"unique\", \"updating\", \"us\", \"us\", \"us\", \"us\", \"us\", \"using\", \"usually\", \"vacation\", \"vacation\", \"vacation\", \"vacation\", \"variety\", \"variety\", \"vegetarian\", \"view\", \"view\", \"view\", \"vip\", \"vip\", \"vip\", \"vip\", \"vip\", \"voucher\", \"wait\", \"wait\", \"wait\", \"wait\", \"wallet\", \"water\", \"water\", \"water\", \"water\", \"wearing\", \"white\", \"white\", \"willing\", \"woke\", \"wonderful\", \"wonderful\", \"wonderful\", \"wonderful\", \"workers\", \"workers\", \"would\", \"would\", \"would\", \"would\", \"wrist\", \"write\", \"\\u00e9\", \"\\uc218\\uc601\\uc7a5\\ub3c4\", \"\\uc74c\\uc2dd\\ub3c4\"]}, \"R\": 30, \"lambda.step\": 0.01, \"plot.opts\": {\"xlab\": \"PC1\", \"ylab\": \"PC2\"}, \"topic.order\": [4, 1, 3, 2, 5]};\n",
       "\n",
       "function LDAvis_load_lib(url, callback){\n",
       "  var s = document.createElement('script');\n",
       "  s.src = url;\n",
       "  s.async = true;\n",
       "  s.onreadystatechange = s.onload = callback;\n",
       "  s.onerror = function(){console.warn(\"failed to load library \" + url);};\n",
       "  document.getElementsByTagName(\"head\")[0].appendChild(s);\n",
       "}\n",
       "\n",
       "if(typeof(LDAvis) !== \"undefined\"){\n",
       "   // already loaded: just create the visualization\n",
       "   !function(LDAvis){\n",
       "       new LDAvis(\"#\" + \"ldavis_el1528826282731775364057858734\", ldavis_el1528826282731775364057858734_data);\n",
       "   }(LDAvis);\n",
       "}else if(typeof define === \"function\" && define.amd){\n",
       "   // require.js is available: use it to load d3/LDAvis\n",
       "   require.config({paths: {d3: \"https://d3js.org/d3.v5\"}});\n",
       "   require([\"d3\"], function(d3){\n",
       "      window.d3 = d3;\n",
       "      LDAvis_load_lib(\"https://cdn.jsdelivr.net/gh/bmabey/pyLDAvis@3.4.0/pyLDAvis/js/ldavis.v3.0.0.js\", function(){\n",
       "        new LDAvis(\"#\" + \"ldavis_el1528826282731775364057858734\", ldavis_el1528826282731775364057858734_data);\n",
       "      });\n",
       "    });\n",
       "}else{\n",
       "    // require.js not available: dynamically load d3 & LDAvis\n",
       "    LDAvis_load_lib(\"https://d3js.org/d3.v5.js\", function(){\n",
       "         LDAvis_load_lib(\"https://cdn.jsdelivr.net/gh/bmabey/pyLDAvis@3.4.0/pyLDAvis/js/ldavis.v3.0.0.js\", function(){\n",
       "                 new LDAvis(\"#\" + \"ldavis_el1528826282731775364057858734\", ldavis_el1528826282731775364057858734_data);\n",
       "            })\n",
       "         });\n",
       "}\n",
       "</script>"
      ],
      "text/plain": [
       "<IPython.core.display.HTML object>"
      ]
     },
     "execution_count": 70,
     "metadata": {},
     "output_type": "execute_result"
    }
   ],
   "source": [
    "import pyLDAvis\n",
    "import pyLDAvis.gensim_models as gensimvis  # For gensim 4.x and later\n",
    "\n",
    "# Visualize the topics using pyLDAvis\n",
    "vis = gensimvis.prepare(lda_model, corpus, dictionary)\n",
    "pyLDAvis.display(vis)\n"
   ]
  }
 ],
 "metadata": {
  "kernelspec": {
   "display_name": "Python 3 (ipykernel)",
   "language": "python",
   "name": "python3"
  },
  "language_info": {
   "codemirror_mode": {
    "name": "ipython",
    "version": 3
   },
   "file_extension": ".py",
   "mimetype": "text/x-python",
   "name": "python",
   "nbconvert_exporter": "python",
   "pygments_lexer": "ipython3",
   "version": "3.11.5"
  }
 },
 "nbformat": 4,
 "nbformat_minor": 5
}
